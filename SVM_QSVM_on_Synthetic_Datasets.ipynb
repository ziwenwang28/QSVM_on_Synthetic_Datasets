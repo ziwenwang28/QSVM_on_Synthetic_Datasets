{
  "nbformat": 4,
  "nbformat_minor": 0,
  "metadata": {
    "colab": {
      "provenance": [],
      "authorship_tag": "ABX9TyPjSMjwvhUcF2mUqQI3zTZI",
      "include_colab_link": true
    },
    "kernelspec": {
      "name": "python3",
      "display_name": "Python 3"
    },
    "language_info": {
      "name": "python"
    }
  },
  "cells": [
    {
      "cell_type": "markdown",
      "metadata": {
        "id": "view-in-github",
        "colab_type": "text"
      },
      "source": [
        "<a href=\"https://colab.research.google.com/github/ziwenwang28/QSVM_on_Synthetic_Datasets/blob/main/SVM_QSVM_on_Synthetic_Datasets.ipynb\" target=\"_parent\"><img src=\"https://colab.research.google.com/assets/colab-badge.svg\" alt=\"Open In Colab\"/></a>"
      ]
    },
    {
      "cell_type": "code",
      "source": [
        "!pip install qiskit_machine_learning\n",
        "!pip install qiskit_aer\n",
        "!pip install qiskit"
      ],
      "metadata": {
        "id": "GNgigOzhYwcn"
      },
      "execution_count": null,
      "outputs": []
    },
    {
      "cell_type": "code",
      "source": [
        "import numpy as np\n",
        "from sklearn.decomposition import PCA\n",
        "import matplotlib.pyplot as plt\n",
        "from sklearn.model_selection import train_test_split\n",
        "from sklearn.preprocessing import StandardScaler\n",
        "from sklearn.svm import SVC\n",
        "from sklearn.metrics import classification_report, accuracy_score\n",
        "from qiskit import Aer\n",
        "from qiskit.circuit.library import PauliFeatureMap\n",
        "from qiskit.circuit.library import ZZFeatureMap\n",
        "from qiskit_machine_learning.algorithms.classifiers import VQC\n",
        "from qiskit.utils import QuantumInstance\n",
        "from qiskit.algorithms.optimizers import SPSA, COBYLA, L_BFGS_B, SLSQP, ADAM\n",
        "from time import time\n",
        "from qiskit_aer import AerSimulator\n",
        "from qiskit_aer.primitives import Sampler\n",
        "\n",
        "\n",
        "np.random.seed(0)\n",
        "\n",
        "# Define the number of samples and features\n",
        "num_samples = 150\n",
        "num_features = 5  # You can increase this number to create a higher-dimensional dataset\n",
        "\n",
        "# Generate random data with strong correlations in the first few features\n",
        "mean = np.zeros(num_features)\n",
        "cov = np.eye(num_features)\n",
        "for i in range(5):\n",
        "    cov[i, i] = 2.0  # Increase the variance for the first 5 features to make them important\n",
        "\n",
        "data = np.random.multivariate_normal(mean, cov, num_samples)\n",
        "\n",
        "# Split the data into training and testing sets\n",
        "X_train, X_test, y_train, y_test = train_test_split(data, np.random.choice([0, 1], size=num_samples), test_size=0.3, random_state=42)\n",
        "\n",
        "# Data Preprocessing\n",
        "scaler = StandardScaler().fit(X_train)\n",
        "X_train = scaler.transform(X_train)\n",
        "X_test = scaler.transform(X_test)\n",
        "\n",
        "# Perform PCA to reduce dimensionality\n",
        "pca = PCA(n_components=2)  # You can adjust the number of components as needed\n",
        "X_train_pca = pca.fit_transform(X_train)\n",
        "X_test_pca = pca.transform(X_test)\n",
        "\n",
        "# Train Classical SVM on reduced dataset\n",
        "classical_svm_pca = SVC(kernel='rbf', C=1.0, gamma='scale')\n",
        "start = time()\n",
        "classical_svm_pca.fit(X_train_pca, y_train)\n",
        "end = time()\n",
        "classical_svm_predictions_pca = classical_svm_pca.predict(X_test_pca)\n",
        "print(\"Performance Metrics for Classical SVM with PCA:\")\n",
        "print(classification_report(y_test, classical_svm_predictions_pca))\n",
        "print(f\"Classical SVM training time with PCA: {end - start} seconds\")\n",
        "\n",
        "# Define a list of feature maps and their parameters to tune for QSVM\n",
        "feature_maps = [\n",
        "    {'name': 'ZZFeatureMap', 'feature_map': ZZFeatureMap(feature_dimension=2, reps=2, entanglement='full')},\n",
        "    {'name': 'PauliFeatureMap_XY', 'feature_map': PauliFeatureMap(feature_dimension=2, reps=2, paulis=['X', 'Y'], entanglement='full')},\n",
        "    {'name': 'PauliFeatureMap_ZZ', 'feature_map': PauliFeatureMap(feature_dimension=2, reps=2, paulis=['Z', 'ZZ'], entanglement='full')},\n",
        "    {'name': 'PauliFeatureMap_XYZ', 'feature_map': PauliFeatureMap(feature_dimension=2, reps=2, paulis=['X', 'Y', 'Z'], entanglement='full')},\n",
        "    {'name': 'PauliFeatureMap_YZ', 'feature_map': PauliFeatureMap(feature_dimension=2, reps=2, paulis=['Y', 'Z'], entanglement='full')},\n",
        "    {'name': 'PauliFeatureMap_Y', 'feature_map': PauliFeatureMap(feature_dimension=2, reps=2, paulis=['Y'], entanglement='full')},\n",
        "    {'name': 'PauliFeatureMap_XYZYY', 'feature_map': PauliFeatureMap(feature_dimension=2, reps=2, paulis=['X', 'Y', 'Z', 'YY'], entanglement='full')},\n",
        "    # Add more feature maps and their parameters to explore\n",
        "]\n",
        "\n",
        "# Define a list of optimizer parameters to tune for QSVM\n",
        "optimizers = [\n",
        "    {'name': 'SPSA', 'optimizer': SPSA(maxiter=50)},\n",
        "    {'name': 'COBYLA', 'optimizer': COBYLA(maxiter=100)},\n",
        "    {'name': 'L_BFGS_B', 'optimizer': L_BFGS_B(maxfun=100, maxiter=100)},\n",
        "    {'name': 'SLSQP', 'optimizer': SLSQP(maxiter=100)},\n",
        "    # Add more optimizers and their parameters to explore\n",
        "]\n",
        "\n",
        "\n",
        "best_score = 0\n",
        "best_params = {}\n",
        "\n",
        "for feature_map_params in feature_maps:\n",
        "    feature_map_name = feature_map_params['name']\n",
        "    feature_map = feature_map_params['feature_map']\n",
        "\n",
        "    for optimizer_params in optimizers:\n",
        "        optimizer_name = optimizer_params['name']\n",
        "        optimizer = optimizer_params['optimizer']\n",
        "\n",
        "        # Create a sampler for the AerSimulator\n",
        "        sampler = Sampler()\n",
        "\n",
        "        # Create an instance of the AerSimulator\n",
        "        simulator = AerSimulator()\n",
        "\n",
        "        # Train QSVM with the current feature map and optimizer using the sampler\n",
        "        vqc = VQC(feature_map=feature_map, ansatz=None, optimizer=optimizer, quantum_instance=simulator)\n",
        "\n",
        "        start = time()\n",
        "        vqc.fit(X_train_pca, y_train)\n",
        "        end = time()\n",
        "\n",
        "        result_quantum = vqc.predict(X_test_pca)\n",
        "        score = accuracy_score(y_test, result_quantum)\n",
        "\n",
        "        # Print performance metrics and runtime for the current configuration\n",
        "        print(f\"Performance Metrics for Quantum SVM ({feature_map_name}, {optimizer_name}) with PCA:\")\n",
        "        print(classification_report(y_test, result_quantum))\n",
        "        print(f\"Quantum SVM training time ({feature_map_name}, {optimizer_name}) with PCA: {end - start} seconds\")\n",
        "\n",
        "        # Check if the current configuration is the best\n",
        "        if score > best_score:\n",
        "            best_score = score\n",
        "            best_params = {'feature_map': feature_map_name, 'optimizer': optimizer_name}\n",
        "\n",
        "# Print the best configuration found\n",
        "print(f\"Best Configuration with PCA: Feature Map - {best_params['feature_map']}, Optimizer - {best_params['optimizer']}\")"
      ],
      "metadata": {
        "colab": {
          "base_uri": "https://localhost:8080/"
        },
        "id": "txFjTuCZboQ4",
        "outputId": "ffe6dbd4-9725-4e4e-8e56-34168096cf9e"
      },
      "execution_count": 17,
      "outputs": [
        {
          "output_type": "stream",
          "name": "stdout",
          "text": [
            "Performance Metrics for Classical SVM with PCA:\n",
            "              precision    recall  f1-score   support\n",
            "\n",
            "           0       0.48      0.70      0.57        20\n",
            "           1       0.62      0.40      0.49        25\n",
            "\n",
            "    accuracy                           0.53        45\n",
            "   macro avg       0.55      0.55      0.53        45\n",
            "weighted avg       0.56      0.53      0.52        45\n",
            "\n",
            "Classical SVM training time with PCA: 0.0016090869903564453 seconds\n"
          ]
        },
        {
          "output_type": "stream",
          "name": "stderr",
          "text": [
            "/usr/local/lib/python3.10/dist-packages/sklearn/preprocessing/_encoders.py:868: FutureWarning: `sparse` was renamed to `sparse_output` in version 1.2 and will be removed in 1.4. `sparse_output` is ignored unless you leave `sparse` to its default value.\n",
            "  warnings.warn(\n"
          ]
        },
        {
          "output_type": "stream",
          "name": "stdout",
          "text": [
            "Performance Metrics for Quantum SVM (ZZFeatureMap, SPSA) with PCA:\n",
            "              precision    recall  f1-score   support\n",
            "\n",
            "           0       0.36      0.25      0.29        20\n",
            "           1       0.52      0.64      0.57        25\n",
            "\n",
            "    accuracy                           0.47        45\n",
            "   macro avg       0.44      0.45      0.43        45\n",
            "weighted avg       0.45      0.47      0.45        45\n",
            "\n",
            "Quantum SVM training time (ZZFeatureMap, SPSA) with PCA: 52.478108406066895 seconds\n"
          ]
        },
        {
          "output_type": "stream",
          "name": "stderr",
          "text": [
            "/usr/local/lib/python3.10/dist-packages/sklearn/preprocessing/_encoders.py:868: FutureWarning: `sparse` was renamed to `sparse_output` in version 1.2 and will be removed in 1.4. `sparse_output` is ignored unless you leave `sparse` to its default value.\n",
            "  warnings.warn(\n"
          ]
        },
        {
          "output_type": "stream",
          "name": "stdout",
          "text": [
            "Performance Metrics for Quantum SVM (ZZFeatureMap, COBYLA) with PCA:\n",
            "              precision    recall  f1-score   support\n",
            "\n",
            "           0       0.40      0.40      0.40        20\n",
            "           1       0.52      0.52      0.52        25\n",
            "\n",
            "    accuracy                           0.47        45\n",
            "   macro avg       0.46      0.46      0.46        45\n",
            "weighted avg       0.47      0.47      0.47        45\n",
            "\n",
            "Quantum SVM training time (ZZFeatureMap, COBYLA) with PCA: 24.673976182937622 seconds\n"
          ]
        },
        {
          "output_type": "stream",
          "name": "stderr",
          "text": [
            "/usr/local/lib/python3.10/dist-packages/sklearn/preprocessing/_encoders.py:868: FutureWarning: `sparse` was renamed to `sparse_output` in version 1.2 and will be removed in 1.4. `sparse_output` is ignored unless you leave `sparse` to its default value.\n",
            "  warnings.warn(\n"
          ]
        },
        {
          "output_type": "stream",
          "name": "stdout",
          "text": [
            "Performance Metrics for Quantum SVM (ZZFeatureMap, L_BFGS_B) with PCA:\n",
            "              precision    recall  f1-score   support\n",
            "\n",
            "           0       0.33      0.30      0.32        20\n",
            "           1       0.48      0.52      0.50        25\n",
            "\n",
            "    accuracy                           0.42        45\n",
            "   macro avg       0.41      0.41      0.41        45\n",
            "weighted avg       0.42      0.42      0.42        45\n",
            "\n",
            "Quantum SVM training time (ZZFeatureMap, L_BFGS_B) with PCA: 104.60387349128723 seconds\n"
          ]
        },
        {
          "output_type": "stream",
          "name": "stderr",
          "text": [
            "/usr/local/lib/python3.10/dist-packages/sklearn/preprocessing/_encoders.py:868: FutureWarning: `sparse` was renamed to `sparse_output` in version 1.2 and will be removed in 1.4. `sparse_output` is ignored unless you leave `sparse` to its default value.\n",
            "  warnings.warn(\n"
          ]
        },
        {
          "output_type": "stream",
          "name": "stdout",
          "text": [
            "Performance Metrics for Quantum SVM (ZZFeatureMap, SLSQP) with PCA:\n",
            "              precision    recall  f1-score   support\n",
            "\n",
            "           0       0.33      0.35      0.34        20\n",
            "           1       0.46      0.44      0.45        25\n",
            "\n",
            "    accuracy                           0.40        45\n",
            "   macro avg       0.40      0.40      0.40        45\n",
            "weighted avg       0.40      0.40      0.40        45\n",
            "\n",
            "Quantum SVM training time (ZZFeatureMap, SLSQP) with PCA: 71.23482632637024 seconds\n"
          ]
        },
        {
          "output_type": "stream",
          "name": "stderr",
          "text": [
            "/usr/local/lib/python3.10/dist-packages/sklearn/preprocessing/_encoders.py:868: FutureWarning: `sparse` was renamed to `sparse_output` in version 1.2 and will be removed in 1.4. `sparse_output` is ignored unless you leave `sparse` to its default value.\n",
            "  warnings.warn(\n"
          ]
        },
        {
          "output_type": "stream",
          "name": "stdout",
          "text": [
            "Performance Metrics for Quantum SVM (PauliFeatureMap_XY, SPSA) with PCA:\n",
            "              precision    recall  f1-score   support\n",
            "\n",
            "           0       0.29      0.25      0.27        20\n",
            "           1       0.46      0.52      0.49        25\n",
            "\n",
            "    accuracy                           0.40        45\n",
            "   macro avg       0.38      0.39      0.38        45\n",
            "weighted avg       0.39      0.40      0.39        45\n",
            "\n",
            "Quantum SVM training time (PauliFeatureMap_XY, SPSA) with PCA: 51.835628271102905 seconds\n"
          ]
        },
        {
          "output_type": "stream",
          "name": "stderr",
          "text": [
            "/usr/local/lib/python3.10/dist-packages/sklearn/preprocessing/_encoders.py:868: FutureWarning: `sparse` was renamed to `sparse_output` in version 1.2 and will be removed in 1.4. `sparse_output` is ignored unless you leave `sparse` to its default value.\n",
            "  warnings.warn(\n"
          ]
        },
        {
          "output_type": "stream",
          "name": "stdout",
          "text": [
            "Performance Metrics for Quantum SVM (PauliFeatureMap_XY, COBYLA) with PCA:\n",
            "              precision    recall  f1-score   support\n",
            "\n",
            "           0       0.40      0.50      0.44        20\n",
            "           1       0.50      0.40      0.44        25\n",
            "\n",
            "    accuracy                           0.44        45\n",
            "   macro avg       0.45      0.45      0.44        45\n",
            "weighted avg       0.46      0.44      0.44        45\n",
            "\n",
            "Quantum SVM training time (PauliFeatureMap_XY, COBYLA) with PCA: 32.227086544036865 seconds\n"
          ]
        },
        {
          "output_type": "stream",
          "name": "stderr",
          "text": [
            "/usr/local/lib/python3.10/dist-packages/sklearn/preprocessing/_encoders.py:868: FutureWarning: `sparse` was renamed to `sparse_output` in version 1.2 and will be removed in 1.4. `sparse_output` is ignored unless you leave `sparse` to its default value.\n",
            "  warnings.warn(\n"
          ]
        },
        {
          "output_type": "stream",
          "name": "stdout",
          "text": [
            "Performance Metrics for Quantum SVM (PauliFeatureMap_XY, L_BFGS_B) with PCA:\n",
            "              precision    recall  f1-score   support\n",
            "\n",
            "           0       0.47      0.40      0.43        20\n",
            "           1       0.57      0.64      0.60        25\n",
            "\n",
            "    accuracy                           0.53        45\n",
            "   macro avg       0.52      0.52      0.52        45\n",
            "weighted avg       0.53      0.53      0.53        45\n",
            "\n",
            "Quantum SVM training time (PauliFeatureMap_XY, L_BFGS_B) with PCA: 59.89554309844971 seconds\n"
          ]
        },
        {
          "output_type": "stream",
          "name": "stderr",
          "text": [
            "/usr/local/lib/python3.10/dist-packages/sklearn/preprocessing/_encoders.py:868: FutureWarning: `sparse` was renamed to `sparse_output` in version 1.2 and will be removed in 1.4. `sparse_output` is ignored unless you leave `sparse` to its default value.\n",
            "  warnings.warn(\n"
          ]
        },
        {
          "output_type": "stream",
          "name": "stdout",
          "text": [
            "Performance Metrics for Quantum SVM (PauliFeatureMap_XY, SLSQP) with PCA:\n",
            "              precision    recall  f1-score   support\n",
            "\n",
            "           0       0.47      0.45      0.46        20\n",
            "           1       0.58      0.60      0.59        25\n",
            "\n",
            "    accuracy                           0.53        45\n",
            "   macro avg       0.53      0.53      0.52        45\n",
            "weighted avg       0.53      0.53      0.53        45\n",
            "\n",
            "Quantum SVM training time (PauliFeatureMap_XY, SLSQP) with PCA: 28.409820318222046 seconds\n"
          ]
        },
        {
          "output_type": "stream",
          "name": "stderr",
          "text": [
            "/usr/local/lib/python3.10/dist-packages/sklearn/preprocessing/_encoders.py:868: FutureWarning: `sparse` was renamed to `sparse_output` in version 1.2 and will be removed in 1.4. `sparse_output` is ignored unless you leave `sparse` to its default value.\n",
            "  warnings.warn(\n"
          ]
        },
        {
          "output_type": "stream",
          "name": "stdout",
          "text": [
            "Performance Metrics for Quantum SVM (PauliFeatureMap_ZZ, SPSA) with PCA:\n",
            "              precision    recall  f1-score   support\n",
            "\n",
            "           0       0.33      0.35      0.34        20\n",
            "           1       0.46      0.44      0.45        25\n",
            "\n",
            "    accuracy                           0.40        45\n",
            "   macro avg       0.40      0.40      0.40        45\n",
            "weighted avg       0.40      0.40      0.40        45\n",
            "\n",
            "Quantum SVM training time (PauliFeatureMap_ZZ, SPSA) with PCA: 52.32539653778076 seconds\n"
          ]
        },
        {
          "output_type": "stream",
          "name": "stderr",
          "text": [
            "/usr/local/lib/python3.10/dist-packages/sklearn/preprocessing/_encoders.py:868: FutureWarning: `sparse` was renamed to `sparse_output` in version 1.2 and will be removed in 1.4. `sparse_output` is ignored unless you leave `sparse` to its default value.\n",
            "  warnings.warn(\n"
          ]
        },
        {
          "output_type": "stream",
          "name": "stdout",
          "text": [
            "Performance Metrics for Quantum SVM (PauliFeatureMap_ZZ, COBYLA) with PCA:\n",
            "              precision    recall  f1-score   support\n",
            "\n",
            "           0       0.37      0.35      0.36        20\n",
            "           1       0.50      0.52      0.51        25\n",
            "\n",
            "    accuracy                           0.44        45\n",
            "   macro avg       0.43      0.43      0.43        45\n",
            "weighted avg       0.44      0.44      0.44        45\n",
            "\n",
            "Quantum SVM training time (PauliFeatureMap_ZZ, COBYLA) with PCA: 31.142996311187744 seconds\n"
          ]
        },
        {
          "output_type": "stream",
          "name": "stderr",
          "text": [
            "/usr/local/lib/python3.10/dist-packages/sklearn/preprocessing/_encoders.py:868: FutureWarning: `sparse` was renamed to `sparse_output` in version 1.2 and will be removed in 1.4. `sparse_output` is ignored unless you leave `sparse` to its default value.\n",
            "  warnings.warn(\n"
          ]
        },
        {
          "output_type": "stream",
          "name": "stdout",
          "text": [
            "Performance Metrics for Quantum SVM (PauliFeatureMap_ZZ, L_BFGS_B) with PCA:\n",
            "              precision    recall  f1-score   support\n",
            "\n",
            "           0       0.37      0.35      0.36        20\n",
            "           1       0.50      0.52      0.51        25\n",
            "\n",
            "    accuracy                           0.44        45\n",
            "   macro avg       0.43      0.43      0.43        45\n",
            "weighted avg       0.44      0.44      0.44        45\n",
            "\n",
            "Quantum SVM training time (PauliFeatureMap_ZZ, L_BFGS_B) with PCA: 80.95170164108276 seconds\n"
          ]
        },
        {
          "output_type": "stream",
          "name": "stderr",
          "text": [
            "/usr/local/lib/python3.10/dist-packages/sklearn/preprocessing/_encoders.py:868: FutureWarning: `sparse` was renamed to `sparse_output` in version 1.2 and will be removed in 1.4. `sparse_output` is ignored unless you leave `sparse` to its default value.\n",
            "  warnings.warn(\n"
          ]
        },
        {
          "output_type": "stream",
          "name": "stdout",
          "text": [
            "Performance Metrics for Quantum SVM (PauliFeatureMap_ZZ, SLSQP) with PCA:\n",
            "              precision    recall  f1-score   support\n",
            "\n",
            "           0       0.31      0.25      0.28        20\n",
            "           1       0.48      0.56      0.52        25\n",
            "\n",
            "    accuracy                           0.42        45\n",
            "   macro avg       0.40      0.41      0.40        45\n",
            "weighted avg       0.41      0.42      0.41        45\n",
            "\n",
            "Quantum SVM training time (PauliFeatureMap_ZZ, SLSQP) with PCA: 55.10095143318176 seconds\n"
          ]
        },
        {
          "output_type": "stream",
          "name": "stderr",
          "text": [
            "/usr/local/lib/python3.10/dist-packages/sklearn/preprocessing/_encoders.py:868: FutureWarning: `sparse` was renamed to `sparse_output` in version 1.2 and will be removed in 1.4. `sparse_output` is ignored unless you leave `sparse` to its default value.\n",
            "  warnings.warn(\n"
          ]
        },
        {
          "output_type": "stream",
          "name": "stdout",
          "text": [
            "Performance Metrics for Quantum SVM (PauliFeatureMap_XYZ, SPSA) with PCA:\n",
            "              precision    recall  f1-score   support\n",
            "\n",
            "           0       0.54      0.70      0.61        20\n",
            "           1       0.68      0.52      0.59        25\n",
            "\n",
            "    accuracy                           0.60        45\n",
            "   macro avg       0.61      0.61      0.60        45\n",
            "weighted avg       0.62      0.60      0.60        45\n",
            "\n",
            "Quantum SVM training time (PauliFeatureMap_XYZ, SPSA) with PCA: 55.501455783843994 seconds\n"
          ]
        },
        {
          "output_type": "stream",
          "name": "stderr",
          "text": [
            "/usr/local/lib/python3.10/dist-packages/sklearn/preprocessing/_encoders.py:868: FutureWarning: `sparse` was renamed to `sparse_output` in version 1.2 and will be removed in 1.4. `sparse_output` is ignored unless you leave `sparse` to its default value.\n",
            "  warnings.warn(\n"
          ]
        },
        {
          "output_type": "stream",
          "name": "stdout",
          "text": [
            "Performance Metrics for Quantum SVM (PauliFeatureMap_XYZ, COBYLA) with PCA:\n",
            "              precision    recall  f1-score   support\n",
            "\n",
            "           0       0.50      0.85      0.63        20\n",
            "           1       0.73      0.32      0.44        25\n",
            "\n",
            "    accuracy                           0.56        45\n",
            "   macro avg       0.61      0.58      0.54        45\n",
            "weighted avg       0.63      0.56      0.53        45\n",
            "\n",
            "Quantum SVM training time (PauliFeatureMap_XYZ, COBYLA) with PCA: 31.790457248687744 seconds\n"
          ]
        },
        {
          "output_type": "stream",
          "name": "stderr",
          "text": [
            "/usr/local/lib/python3.10/dist-packages/sklearn/preprocessing/_encoders.py:868: FutureWarning: `sparse` was renamed to `sparse_output` in version 1.2 and will be removed in 1.4. `sparse_output` is ignored unless you leave `sparse` to its default value.\n",
            "  warnings.warn(\n"
          ]
        },
        {
          "output_type": "stream",
          "name": "stdout",
          "text": [
            "Performance Metrics for Quantum SVM (PauliFeatureMap_XYZ, L_BFGS_B) with PCA:\n",
            "              precision    recall  f1-score   support\n",
            "\n",
            "           0       0.47      0.85      0.61        20\n",
            "           1       0.67      0.24      0.35        25\n",
            "\n",
            "    accuracy                           0.51        45\n",
            "   macro avg       0.57      0.54      0.48        45\n",
            "weighted avg       0.58      0.51      0.47        45\n",
            "\n",
            "Quantum SVM training time (PauliFeatureMap_XYZ, L_BFGS_B) with PCA: 49.24915170669556 seconds\n"
          ]
        },
        {
          "output_type": "stream",
          "name": "stderr",
          "text": [
            "/usr/local/lib/python3.10/dist-packages/sklearn/preprocessing/_encoders.py:868: FutureWarning: `sparse` was renamed to `sparse_output` in version 1.2 and will be removed in 1.4. `sparse_output` is ignored unless you leave `sparse` to its default value.\n",
            "  warnings.warn(\n"
          ]
        },
        {
          "output_type": "stream",
          "name": "stdout",
          "text": [
            "Performance Metrics for Quantum SVM (PauliFeatureMap_XYZ, SLSQP) with PCA:\n",
            "              precision    recall  f1-score   support\n",
            "\n",
            "           0       0.40      0.60      0.48        20\n",
            "           1       0.47      0.28      0.35        25\n",
            "\n",
            "    accuracy                           0.42        45\n",
            "   macro avg       0.43      0.44      0.42        45\n",
            "weighted avg       0.44      0.42      0.41        45\n",
            "\n",
            "Quantum SVM training time (PauliFeatureMap_XYZ, SLSQP) with PCA: 41.50660467147827 seconds\n"
          ]
        },
        {
          "output_type": "stream",
          "name": "stderr",
          "text": [
            "/usr/local/lib/python3.10/dist-packages/sklearn/preprocessing/_encoders.py:868: FutureWarning: `sparse` was renamed to `sparse_output` in version 1.2 and will be removed in 1.4. `sparse_output` is ignored unless you leave `sparse` to its default value.\n",
            "  warnings.warn(\n"
          ]
        },
        {
          "output_type": "stream",
          "name": "stdout",
          "text": [
            "Performance Metrics for Quantum SVM (PauliFeatureMap_YZ, SPSA) with PCA:\n",
            "              precision    recall  f1-score   support\n",
            "\n",
            "           0       0.41      0.45      0.43        20\n",
            "           1       0.52      0.48      0.50        25\n",
            "\n",
            "    accuracy                           0.47        45\n",
            "   macro avg       0.47      0.46      0.46        45\n",
            "weighted avg       0.47      0.47      0.47        45\n",
            "\n",
            "Quantum SVM training time (PauliFeatureMap_YZ, SPSA) with PCA: 50.53009009361267 seconds\n"
          ]
        },
        {
          "output_type": "stream",
          "name": "stderr",
          "text": [
            "/usr/local/lib/python3.10/dist-packages/sklearn/preprocessing/_encoders.py:868: FutureWarning: `sparse` was renamed to `sparse_output` in version 1.2 and will be removed in 1.4. `sparse_output` is ignored unless you leave `sparse` to its default value.\n",
            "  warnings.warn(\n"
          ]
        },
        {
          "output_type": "stream",
          "name": "stdout",
          "text": [
            "Performance Metrics for Quantum SVM (PauliFeatureMap_YZ, COBYLA) with PCA:\n",
            "              precision    recall  f1-score   support\n",
            "\n",
            "           0       0.30      0.30      0.30        20\n",
            "           1       0.44      0.44      0.44        25\n",
            "\n",
            "    accuracy                           0.38        45\n",
            "   macro avg       0.37      0.37      0.37        45\n",
            "weighted avg       0.38      0.38      0.38        45\n",
            "\n",
            "Quantum SVM training time (PauliFeatureMap_YZ, COBYLA) with PCA: 25.024567365646362 seconds\n"
          ]
        },
        {
          "output_type": "stream",
          "name": "stderr",
          "text": [
            "/usr/local/lib/python3.10/dist-packages/sklearn/preprocessing/_encoders.py:868: FutureWarning: `sparse` was renamed to `sparse_output` in version 1.2 and will be removed in 1.4. `sparse_output` is ignored unless you leave `sparse` to its default value.\n",
            "  warnings.warn(\n"
          ]
        },
        {
          "output_type": "stream",
          "name": "stdout",
          "text": [
            "Performance Metrics for Quantum SVM (PauliFeatureMap_YZ, L_BFGS_B) with PCA:\n",
            "              precision    recall  f1-score   support\n",
            "\n",
            "           0       0.33      0.30      0.32        20\n",
            "           1       0.48      0.52      0.50        25\n",
            "\n",
            "    accuracy                           0.42        45\n",
            "   macro avg       0.41      0.41      0.41        45\n",
            "weighted avg       0.42      0.42      0.42        45\n",
            "\n",
            "Quantum SVM training time (PauliFeatureMap_YZ, L_BFGS_B) with PCA: 166.25191044807434 seconds\n"
          ]
        },
        {
          "output_type": "stream",
          "name": "stderr",
          "text": [
            "/usr/local/lib/python3.10/dist-packages/sklearn/preprocessing/_encoders.py:868: FutureWarning: `sparse` was renamed to `sparse_output` in version 1.2 and will be removed in 1.4. `sparse_output` is ignored unless you leave `sparse` to its default value.\n",
            "  warnings.warn(\n"
          ]
        },
        {
          "output_type": "stream",
          "name": "stdout",
          "text": [
            "Performance Metrics for Quantum SVM (PauliFeatureMap_YZ, SLSQP) with PCA:\n",
            "              precision    recall  f1-score   support\n",
            "\n",
            "           0       0.33      0.35      0.34        20\n",
            "           1       0.46      0.44      0.45        25\n",
            "\n",
            "    accuracy                           0.40        45\n",
            "   macro avg       0.40      0.40      0.40        45\n",
            "weighted avg       0.40      0.40      0.40        45\n",
            "\n",
            "Quantum SVM training time (PauliFeatureMap_YZ, SLSQP) with PCA: 50.776875019073486 seconds\n"
          ]
        },
        {
          "output_type": "stream",
          "name": "stderr",
          "text": [
            "/usr/local/lib/python3.10/dist-packages/sklearn/preprocessing/_encoders.py:868: FutureWarning: `sparse` was renamed to `sparse_output` in version 1.2 and will be removed in 1.4. `sparse_output` is ignored unless you leave `sparse` to its default value.\n",
            "  warnings.warn(\n"
          ]
        },
        {
          "output_type": "stream",
          "name": "stdout",
          "text": [
            "Performance Metrics for Quantum SVM (PauliFeatureMap_Y, SPSA) with PCA:\n",
            "              precision    recall  f1-score   support\n",
            "\n",
            "           0       0.45      0.75      0.57        20\n",
            "           1       0.58      0.28      0.38        25\n",
            "\n",
            "    accuracy                           0.49        45\n",
            "   macro avg       0.52      0.52      0.47        45\n",
            "weighted avg       0.53      0.49      0.46        45\n",
            "\n",
            "Quantum SVM training time (PauliFeatureMap_Y, SPSA) with PCA: 47.55184507369995 seconds\n"
          ]
        },
        {
          "output_type": "stream",
          "name": "stderr",
          "text": [
            "/usr/local/lib/python3.10/dist-packages/sklearn/preprocessing/_encoders.py:868: FutureWarning: `sparse` was renamed to `sparse_output` in version 1.2 and will be removed in 1.4. `sparse_output` is ignored unless you leave `sparse` to its default value.\n",
            "  warnings.warn(\n"
          ]
        },
        {
          "output_type": "stream",
          "name": "stdout",
          "text": [
            "Performance Metrics for Quantum SVM (PauliFeatureMap_Y, COBYLA) with PCA:\n",
            "              precision    recall  f1-score   support\n",
            "\n",
            "           0       0.47      0.95      0.63        20\n",
            "           1       0.80      0.16      0.27        25\n",
            "\n",
            "    accuracy                           0.51        45\n",
            "   macro avg       0.64      0.55      0.45        45\n",
            "weighted avg       0.66      0.51      0.43        45\n",
            "\n",
            "Quantum SVM training time (PauliFeatureMap_Y, COBYLA) with PCA: 22.3082377910614 seconds\n"
          ]
        },
        {
          "output_type": "stream",
          "name": "stderr",
          "text": [
            "/usr/local/lib/python3.10/dist-packages/sklearn/preprocessing/_encoders.py:868: FutureWarning: `sparse` was renamed to `sparse_output` in version 1.2 and will be removed in 1.4. `sparse_output` is ignored unless you leave `sparse` to its default value.\n",
            "  warnings.warn(\n"
          ]
        },
        {
          "output_type": "stream",
          "name": "stdout",
          "text": [
            "Performance Metrics for Quantum SVM (PauliFeatureMap_Y, L_BFGS_B) with PCA:\n",
            "              precision    recall  f1-score   support\n",
            "\n",
            "           0       0.40      0.85      0.55        20\n",
            "           1       0.00      0.00      0.00        25\n",
            "\n",
            "    accuracy                           0.38        45\n",
            "   macro avg       0.20      0.42      0.27        45\n",
            "weighted avg       0.18      0.38      0.24        45\n",
            "\n",
            "Quantum SVM training time (PauliFeatureMap_Y, L_BFGS_B) with PCA: 115.1609263420105 seconds\n"
          ]
        },
        {
          "output_type": "stream",
          "name": "stderr",
          "text": [
            "/usr/local/lib/python3.10/dist-packages/sklearn/preprocessing/_encoders.py:868: FutureWarning: `sparse` was renamed to `sparse_output` in version 1.2 and will be removed in 1.4. `sparse_output` is ignored unless you leave `sparse` to its default value.\n",
            "  warnings.warn(\n"
          ]
        },
        {
          "output_type": "stream",
          "name": "stdout",
          "text": [
            "Performance Metrics for Quantum SVM (PauliFeatureMap_Y, SLSQP) with PCA:\n",
            "              precision    recall  f1-score   support\n",
            "\n",
            "           0       0.46      0.95      0.62        20\n",
            "           1       0.75      0.12      0.21        25\n",
            "\n",
            "    accuracy                           0.49        45\n",
            "   macro avg       0.61      0.53      0.41        45\n",
            "weighted avg       0.62      0.49      0.39        45\n",
            "\n",
            "Quantum SVM training time (PauliFeatureMap_Y, SLSQP) with PCA: 23.750344038009644 seconds\n"
          ]
        },
        {
          "output_type": "stream",
          "name": "stderr",
          "text": [
            "/usr/local/lib/python3.10/dist-packages/sklearn/preprocessing/_encoders.py:868: FutureWarning: `sparse` was renamed to `sparse_output` in version 1.2 and will be removed in 1.4. `sparse_output` is ignored unless you leave `sparse` to its default value.\n",
            "  warnings.warn(\n"
          ]
        },
        {
          "output_type": "stream",
          "name": "stdout",
          "text": [
            "Performance Metrics for Quantum SVM (PauliFeatureMap_XYZYY, SPSA) with PCA:\n",
            "              precision    recall  f1-score   support\n",
            "\n",
            "           0       0.42      0.55      0.48        20\n",
            "           1       0.53      0.40      0.45        25\n",
            "\n",
            "    accuracy                           0.47        45\n",
            "   macro avg       0.47      0.48      0.47        45\n",
            "weighted avg       0.48      0.47      0.47        45\n",
            "\n",
            "Quantum SVM training time (PauliFeatureMap_XYZYY, SPSA) with PCA: 64.72371935844421 seconds\n"
          ]
        },
        {
          "output_type": "stream",
          "name": "stderr",
          "text": [
            "/usr/local/lib/python3.10/dist-packages/sklearn/preprocessing/_encoders.py:868: FutureWarning: `sparse` was renamed to `sparse_output` in version 1.2 and will be removed in 1.4. `sparse_output` is ignored unless you leave `sparse` to its default value.\n",
            "  warnings.warn(\n"
          ]
        },
        {
          "output_type": "stream",
          "name": "stdout",
          "text": [
            "Performance Metrics for Quantum SVM (PauliFeatureMap_XYZYY, COBYLA) with PCA:\n",
            "              precision    recall  f1-score   support\n",
            "\n",
            "           0       0.41      0.45      0.43        20\n",
            "           1       0.52      0.48      0.50        25\n",
            "\n",
            "    accuracy                           0.47        45\n",
            "   macro avg       0.47      0.46      0.46        45\n",
            "weighted avg       0.47      0.47      0.47        45\n",
            "\n",
            "Quantum SVM training time (PauliFeatureMap_XYZYY, COBYLA) with PCA: 42.653478384017944 seconds\n"
          ]
        },
        {
          "output_type": "stream",
          "name": "stderr",
          "text": [
            "/usr/local/lib/python3.10/dist-packages/sklearn/preprocessing/_encoders.py:868: FutureWarning: `sparse` was renamed to `sparse_output` in version 1.2 and will be removed in 1.4. `sparse_output` is ignored unless you leave `sparse` to its default value.\n",
            "  warnings.warn(\n"
          ]
        },
        {
          "output_type": "stream",
          "name": "stdout",
          "text": [
            "Performance Metrics for Quantum SVM (PauliFeatureMap_XYZYY, L_BFGS_B) with PCA:\n",
            "              precision    recall  f1-score   support\n",
            "\n",
            "           0       0.43      0.60      0.50        20\n",
            "           1       0.53      0.36      0.43        25\n",
            "\n",
            "    accuracy                           0.47        45\n",
            "   macro avg       0.48      0.48      0.46        45\n",
            "weighted avg       0.48      0.47      0.46        45\n",
            "\n",
            "Quantum SVM training time (PauliFeatureMap_XYZYY, L_BFGS_B) with PCA: 107.62699055671692 seconds\n"
          ]
        },
        {
          "output_type": "stream",
          "name": "stderr",
          "text": [
            "/usr/local/lib/python3.10/dist-packages/sklearn/preprocessing/_encoders.py:868: FutureWarning: `sparse` was renamed to `sparse_output` in version 1.2 and will be removed in 1.4. `sparse_output` is ignored unless you leave `sparse` to its default value.\n",
            "  warnings.warn(\n"
          ]
        },
        {
          "output_type": "stream",
          "name": "stdout",
          "text": [
            "Performance Metrics for Quantum SVM (PauliFeatureMap_XYZYY, SLSQP) with PCA:\n",
            "              precision    recall  f1-score   support\n",
            "\n",
            "           0       0.36      0.40      0.38        20\n",
            "           1       0.48      0.44      0.46        25\n",
            "\n",
            "    accuracy                           0.42        45\n",
            "   macro avg       0.42      0.42      0.42        45\n",
            "weighted avg       0.43      0.42      0.42        45\n",
            "\n",
            "Quantum SVM training time (PauliFeatureMap_XYZYY, SLSQP) with PCA: 128.72853136062622 seconds\n",
            "Best Configuration with PCA: Feature Map - PauliFeatureMap_XYZ, Optimizer - SPSA\n"
          ]
        }
      ]
    },
    {
      "cell_type": "code",
      "source": [
        "import numpy as np\n",
        "from sklearn.decomposition import PCA\n",
        "import matplotlib.pyplot as plt\n",
        "from sklearn.model_selection import train_test_split\n",
        "from sklearn.preprocessing import StandardScaler\n",
        "from sklearn.svm import SVC\n",
        "from sklearn.metrics import classification_report, accuracy_score\n",
        "from qiskit import Aer\n",
        "from qiskit.circuit.library import PauliFeatureMap\n",
        "from qiskit.circuit.library import ZZFeatureMap\n",
        "from qiskit_machine_learning.algorithms.classifiers import VQC\n",
        "from qiskit.utils import QuantumInstance\n",
        "from qiskit.algorithms.optimizers import SPSA, COBYLA, L_BFGS_B, SLSQP, ADAM\n",
        "from time import time\n",
        "from qiskit_aer import AerSimulator\n",
        "from qiskit_aer.primitives import Sampler\n",
        "\n",
        "np.random.seed(0)\n",
        "\n",
        "# Define the number of samples and features\n",
        "num_samples = 150\n",
        "num_features = 5  # You can increase this number to create a higher-dimensional dataset\n",
        "\n",
        "# Generate random data with strong correlations in the first few features\n",
        "mean = np.zeros(num_features)\n",
        "cov = np.eye(num_features)\n",
        "for i in range(5):\n",
        "    cov[i, i] = 10.0  # Increase the variance for the first 5 features to make them important\n",
        "\n",
        "data = np.random.multivariate_normal(mean, cov, num_samples)\n",
        "\n",
        "# Split the data into training and testing sets\n",
        "X_train, X_test, y_train, y_test = train_test_split(data, np.random.choice([0, 1], size=num_samples), test_size=0.3, random_state=42)\n",
        "\n",
        "# Data Preprocessing\n",
        "scaler = StandardScaler().fit(X_train)\n",
        "X_train = scaler.transform(X_train)\n",
        "X_test = scaler.transform(X_test)\n",
        "\n",
        "# Perform PCA to reduce dimensionality\n",
        "pca = PCA(n_components=2)  # You can adjust the number of components as needed\n",
        "X_train_pca = pca.fit_transform(X_train)\n",
        "X_test_pca = pca.transform(X_test)\n",
        "\n",
        "# Train Classical SVM on reduced dataset\n",
        "classical_svm_pca = SVC(kernel='rbf', C=1.0, gamma='scale')\n",
        "start = time()\n",
        "classical_svm_pca.fit(X_train_pca, y_train)\n",
        "end = time()\n",
        "classical_svm_predictions_pca = classical_svm_pca.predict(X_test_pca)\n",
        "print(\"Performance Metrics for Classical SVM with PCA:\")\n",
        "print(classification_report(y_test, classical_svm_predictions_pca))\n",
        "print(f\"Classical SVM training time with PCA: {end - start} seconds\")\n",
        "\n",
        "# Define a list of feature maps and their parameters to tune for QSVM\n",
        "feature_maps = [\n",
        "    {'name': 'ZZFeatureMap', 'feature_map': ZZFeatureMap(feature_dimension=2, reps=2, entanglement='full')},\n",
        "    {'name': 'PauliFeatureMap_XY', 'feature_map': PauliFeatureMap(feature_dimension=2, reps=2, paulis=['X', 'Y'], entanglement='full')},\n",
        "    {'name': 'PauliFeatureMap_ZZ', 'feature_map': PauliFeatureMap(feature_dimension=2, reps=2, paulis=['Z', 'ZZ'], entanglement='full')},\n",
        "    {'name': 'PauliFeatureMap_XYZ', 'feature_map': PauliFeatureMap(feature_dimension=2, reps=2, paulis=['X', 'Y', 'Z'], entanglement='full')},\n",
        "    {'name': 'PauliFeatureMap_YZ', 'feature_map': PauliFeatureMap(feature_dimension=2, reps=2, paulis=['Y', 'Z'], entanglement='full')},\n",
        "    {'name': 'PauliFeatureMap_Y', 'feature_map': PauliFeatureMap(feature_dimension=2, reps=2, paulis=['Y'], entanglement='full')},\n",
        "    {'name': 'PauliFeatureMap_XYZYY', 'feature_map': PauliFeatureMap(feature_dimension=2, reps=2, paulis=['X', 'Y', 'Z', 'YY'], entanglement='full')},\n",
        "    # Add more feature maps and their parameters to explore\n",
        "]\n",
        "\n",
        "# Define a list of optimizer parameters to tune for QSVM\n",
        "optimizers = [\n",
        "    {'name': 'SPSA', 'optimizer': SPSA(maxiter=50)},\n",
        "    {'name': 'COBYLA', 'optimizer': COBYLA(maxiter=100)},\n",
        "    {'name': 'L_BFGS_B', 'optimizer': L_BFGS_B(maxfun=100, maxiter=100)},\n",
        "    {'name': 'SLSQP', 'optimizer': SLSQP(maxiter=100)},\n",
        "    # Add more optimizers and their parameters to explore\n",
        "]\n",
        "\n",
        "\n",
        "best_score = 0\n",
        "best_params = {}\n",
        "\n",
        "for feature_map_params in feature_maps:\n",
        "    feature_map_name = feature_map_params['name']\n",
        "    feature_map = feature_map_params['feature_map']\n",
        "\n",
        "    for optimizer_params in optimizers:\n",
        "        optimizer_name = optimizer_params['name']\n",
        "        optimizer = optimizer_params['optimizer']\n",
        "\n",
        "        # Create a sampler for the AerSimulator\n",
        "        sampler = Sampler()\n",
        "\n",
        "        # Create an instance of the AerSimulator\n",
        "        simulator = AerSimulator()\n",
        "\n",
        "        # Train QSVM with the current feature map and optimizer using the sampler\n",
        "        vqc = VQC(feature_map=feature_map, ansatz=None, optimizer=optimizer, quantum_instance=simulator)\n",
        "\n",
        "        start = time()\n",
        "        vqc.fit(X_train_pca, y_train)\n",
        "        end = time()\n",
        "\n",
        "        result_quantum = vqc.predict(X_test_pca)\n",
        "        score = accuracy_score(y_test, result_quantum)\n",
        "\n",
        "        # Print performance metrics and runtime for the current configuration\n",
        "        print(f\"Performance Metrics for Quantum SVM ({feature_map_name}, {optimizer_name}) with PCA:\")\n",
        "        print(classification_report(y_test, result_quantum))\n",
        "        print(f\"Quantum SVM training time ({feature_map_name}, {optimizer_name}) with PCA: {end - start} seconds\")\n",
        "\n",
        "        # Check if the current configuration is the best\n",
        "        if score > best_score:\n",
        "            best_score = score\n",
        "            best_params = {'feature_map': feature_map_name, 'optimizer': optimizer_name}\n",
        "\n",
        "# Print the best configuration found\n",
        "print(f\"Best Configuration with PCA: Feature Map - {best_params['feature_map']}, Optimizer - {best_params['optimizer']}\")"
      ],
      "metadata": {
        "colab": {
          "base_uri": "https://localhost:8080/"
        },
        "id": "hg5PgPn81p2o",
        "outputId": "029b842b-e50b-47da-9069-cc9419e9aaae"
      },
      "execution_count": null,
      "outputs": [
        {
          "output_type": "stream",
          "name": "stdout",
          "text": [
            "Performance Metrics for Classical SVM with PCA:\n",
            "              precision    recall  f1-score   support\n",
            "\n",
            "           0       0.48      0.70      0.57        20\n",
            "           1       0.62      0.40      0.49        25\n",
            "\n",
            "    accuracy                           0.53        45\n",
            "   macro avg       0.55      0.55      0.53        45\n",
            "weighted avg       0.56      0.53      0.52        45\n",
            "\n",
            "Classical SVM training time with PCA: 0.0016355514526367188 seconds\n"
          ]
        },
        {
          "output_type": "stream",
          "name": "stderr",
          "text": [
            "/usr/local/lib/python3.10/dist-packages/sklearn/preprocessing/_encoders.py:868: FutureWarning: `sparse` was renamed to `sparse_output` in version 1.2 and will be removed in 1.4. `sparse_output` is ignored unless you leave `sparse` to its default value.\n",
            "  warnings.warn(\n"
          ]
        },
        {
          "output_type": "stream",
          "name": "stdout",
          "text": [
            "Performance Metrics for Quantum SVM (ZZFeatureMap, SPSA) with PCA:\n",
            "              precision    recall  f1-score   support\n",
            "\n",
            "           0       0.35      0.35      0.35        20\n",
            "           1       0.48      0.48      0.48        25\n",
            "\n",
            "    accuracy                           0.42        45\n",
            "   macro avg       0.41      0.41      0.41        45\n",
            "weighted avg       0.42      0.42      0.42        45\n",
            "\n",
            "Quantum SVM training time (ZZFeatureMap, SPSA) with PCA: 55.339664697647095 seconds\n"
          ]
        },
        {
          "output_type": "stream",
          "name": "stderr",
          "text": [
            "/usr/local/lib/python3.10/dist-packages/sklearn/preprocessing/_encoders.py:868: FutureWarning: `sparse` was renamed to `sparse_output` in version 1.2 and will be removed in 1.4. `sparse_output` is ignored unless you leave `sparse` to its default value.\n",
            "  warnings.warn(\n"
          ]
        },
        {
          "output_type": "stream",
          "name": "stdout",
          "text": [
            "Performance Metrics for Quantum SVM (ZZFeatureMap, COBYLA) with PCA:\n",
            "              precision    recall  f1-score   support\n",
            "\n",
            "           0       0.32      0.30      0.31        20\n",
            "           1       0.46      0.48      0.47        25\n",
            "\n",
            "    accuracy                           0.40        45\n",
            "   macro avg       0.39      0.39      0.39        45\n",
            "weighted avg       0.40      0.40      0.40        45\n",
            "\n",
            "Quantum SVM training time (ZZFeatureMap, COBYLA) with PCA: 32.8879189491272 seconds\n"
          ]
        },
        {
          "output_type": "stream",
          "name": "stderr",
          "text": [
            "/usr/local/lib/python3.10/dist-packages/sklearn/preprocessing/_encoders.py:868: FutureWarning: `sparse` was renamed to `sparse_output` in version 1.2 and will be removed in 1.4. `sparse_output` is ignored unless you leave `sparse` to its default value.\n",
            "  warnings.warn(\n"
          ]
        },
        {
          "output_type": "stream",
          "name": "stdout",
          "text": [
            "Performance Metrics for Quantum SVM (ZZFeatureMap, L_BFGS_B) with PCA:\n",
            "              precision    recall  f1-score   support\n",
            "\n",
            "           0       0.44      0.40      0.42        20\n",
            "           1       0.56      0.60      0.58        25\n",
            "\n",
            "    accuracy                           0.51        45\n",
            "   macro avg       0.50      0.50      0.50        45\n",
            "weighted avg       0.51      0.51      0.51        45\n",
            "\n",
            "Quantum SVM training time (ZZFeatureMap, L_BFGS_B) with PCA: 115.32483625411987 seconds\n"
          ]
        },
        {
          "output_type": "stream",
          "name": "stderr",
          "text": [
            "/usr/local/lib/python3.10/dist-packages/sklearn/preprocessing/_encoders.py:868: FutureWarning: `sparse` was renamed to `sparse_output` in version 1.2 and will be removed in 1.4. `sparse_output` is ignored unless you leave `sparse` to its default value.\n",
            "  warnings.warn(\n"
          ]
        },
        {
          "output_type": "stream",
          "name": "stdout",
          "text": [
            "Performance Metrics for Quantum SVM (ZZFeatureMap, SLSQP) with PCA:\n",
            "              precision    recall  f1-score   support\n",
            "\n",
            "           0       0.35      0.30      0.32        20\n",
            "           1       0.50      0.56      0.53        25\n",
            "\n",
            "    accuracy                           0.44        45\n",
            "   macro avg       0.43      0.43      0.43        45\n",
            "weighted avg       0.43      0.44      0.44        45\n",
            "\n",
            "Quantum SVM training time (ZZFeatureMap, SLSQP) with PCA: 43.34830069541931 seconds\n"
          ]
        },
        {
          "output_type": "stream",
          "name": "stderr",
          "text": [
            "/usr/local/lib/python3.10/dist-packages/sklearn/preprocessing/_encoders.py:868: FutureWarning: `sparse` was renamed to `sparse_output` in version 1.2 and will be removed in 1.4. `sparse_output` is ignored unless you leave `sparse` to its default value.\n",
            "  warnings.warn(\n"
          ]
        },
        {
          "output_type": "stream",
          "name": "stdout",
          "text": [
            "Performance Metrics for Quantum SVM (PauliFeatureMap_XY, SPSA) with PCA:\n",
            "              precision    recall  f1-score   support\n",
            "\n",
            "           0       0.44      0.55      0.49        20\n",
            "           1       0.55      0.44      0.49        25\n",
            "\n",
            "    accuracy                           0.49        45\n",
            "   macro avg       0.49      0.49      0.49        45\n",
            "weighted avg       0.50      0.49      0.49        45\n",
            "\n",
            "Quantum SVM training time (PauliFeatureMap_XY, SPSA) with PCA: 54.56288433074951 seconds\n"
          ]
        },
        {
          "output_type": "stream",
          "name": "stderr",
          "text": [
            "/usr/local/lib/python3.10/dist-packages/sklearn/preprocessing/_encoders.py:868: FutureWarning: `sparse` was renamed to `sparse_output` in version 1.2 and will be removed in 1.4. `sparse_output` is ignored unless you leave `sparse` to its default value.\n",
            "  warnings.warn(\n"
          ]
        },
        {
          "output_type": "stream",
          "name": "stdout",
          "text": [
            "Performance Metrics for Quantum SVM (PauliFeatureMap_XY, COBYLA) with PCA:\n",
            "              precision    recall  f1-score   support\n",
            "\n",
            "           0       0.39      0.60      0.47        20\n",
            "           1       0.43      0.24      0.31        25\n",
            "\n",
            "    accuracy                           0.40        45\n",
            "   macro avg       0.41      0.42      0.39        45\n",
            "weighted avg       0.41      0.40      0.38        45\n",
            "\n",
            "Quantum SVM training time (PauliFeatureMap_XY, COBYLA) with PCA: 31.82034206390381 seconds\n"
          ]
        },
        {
          "output_type": "stream",
          "name": "stderr",
          "text": [
            "/usr/local/lib/python3.10/dist-packages/sklearn/preprocessing/_encoders.py:868: FutureWarning: `sparse` was renamed to `sparse_output` in version 1.2 and will be removed in 1.4. `sparse_output` is ignored unless you leave `sparse` to its default value.\n",
            "  warnings.warn(\n"
          ]
        },
        {
          "output_type": "stream",
          "name": "stdout",
          "text": [
            "Performance Metrics for Quantum SVM (PauliFeatureMap_XY, L_BFGS_B) with PCA:\n",
            "              precision    recall  f1-score   support\n",
            "\n",
            "           0       0.38      0.60      0.46        20\n",
            "           1       0.38      0.20      0.26        25\n",
            "\n",
            "    accuracy                           0.38        45\n",
            "   macro avg       0.38      0.40      0.36        45\n",
            "weighted avg       0.38      0.38      0.35        45\n",
            "\n",
            "Quantum SVM training time (PauliFeatureMap_XY, L_BFGS_B) with PCA: 225.81981444358826 seconds\n"
          ]
        },
        {
          "output_type": "stream",
          "name": "stderr",
          "text": [
            "/usr/local/lib/python3.10/dist-packages/sklearn/preprocessing/_encoders.py:868: FutureWarning: `sparse` was renamed to `sparse_output` in version 1.2 and will be removed in 1.4. `sparse_output` is ignored unless you leave `sparse` to its default value.\n",
            "  warnings.warn(\n"
          ]
        },
        {
          "output_type": "stream",
          "name": "stdout",
          "text": [
            "Performance Metrics for Quantum SVM (PauliFeatureMap_XY, SLSQP) with PCA:\n",
            "              precision    recall  f1-score   support\n",
            "\n",
            "           0       0.33      0.20      0.25        20\n",
            "           1       0.52      0.68      0.59        25\n",
            "\n",
            "    accuracy                           0.47        45\n",
            "   macro avg       0.42      0.44      0.42        45\n",
            "weighted avg       0.43      0.47      0.44        45\n",
            "\n",
            "Quantum SVM training time (PauliFeatureMap_XY, SLSQP) with PCA: 56.633251428604126 seconds\n"
          ]
        },
        {
          "output_type": "stream",
          "name": "stderr",
          "text": [
            "/usr/local/lib/python3.10/dist-packages/sklearn/preprocessing/_encoders.py:868: FutureWarning: `sparse` was renamed to `sparse_output` in version 1.2 and will be removed in 1.4. `sparse_output` is ignored unless you leave `sparse` to its default value.\n",
            "  warnings.warn(\n"
          ]
        },
        {
          "output_type": "stream",
          "name": "stdout",
          "text": [
            "Performance Metrics for Quantum SVM (PauliFeatureMap_ZZ, SPSA) with PCA:\n",
            "              precision    recall  f1-score   support\n",
            "\n",
            "           0       0.31      0.25      0.28        20\n",
            "           1       0.48      0.56      0.52        25\n",
            "\n",
            "    accuracy                           0.42        45\n",
            "   macro avg       0.40      0.41      0.40        45\n",
            "weighted avg       0.41      0.42      0.41        45\n",
            "\n",
            "Quantum SVM training time (PauliFeatureMap_ZZ, SPSA) with PCA: 52.66946792602539 seconds\n"
          ]
        },
        {
          "output_type": "stream",
          "name": "stderr",
          "text": [
            "/usr/local/lib/python3.10/dist-packages/sklearn/preprocessing/_encoders.py:868: FutureWarning: `sparse` was renamed to `sparse_output` in version 1.2 and will be removed in 1.4. `sparse_output` is ignored unless you leave `sparse` to its default value.\n",
            "  warnings.warn(\n"
          ]
        },
        {
          "output_type": "stream",
          "name": "stdout",
          "text": [
            "Performance Metrics for Quantum SVM (PauliFeatureMap_ZZ, COBYLA) with PCA:\n",
            "              precision    recall  f1-score   support\n",
            "\n",
            "           0       0.35      0.35      0.35        20\n",
            "           1       0.48      0.48      0.48        25\n",
            "\n",
            "    accuracy                           0.42        45\n",
            "   macro avg       0.41      0.41      0.41        45\n",
            "weighted avg       0.42      0.42      0.42        45\n",
            "\n",
            "Quantum SVM training time (PauliFeatureMap_ZZ, COBYLA) with PCA: 30.192680597305298 seconds\n"
          ]
        },
        {
          "output_type": "stream",
          "name": "stderr",
          "text": [
            "/usr/local/lib/python3.10/dist-packages/sklearn/preprocessing/_encoders.py:868: FutureWarning: `sparse` was renamed to `sparse_output` in version 1.2 and will be removed in 1.4. `sparse_output` is ignored unless you leave `sparse` to its default value.\n",
            "  warnings.warn(\n"
          ]
        },
        {
          "output_type": "stream",
          "name": "stdout",
          "text": [
            "Performance Metrics for Quantum SVM (PauliFeatureMap_ZZ, L_BFGS_B) with PCA:\n",
            "              precision    recall  f1-score   support\n",
            "\n",
            "           0       0.33      0.30      0.32        20\n",
            "           1       0.48      0.52      0.50        25\n",
            "\n",
            "    accuracy                           0.42        45\n",
            "   macro avg       0.41      0.41      0.41        45\n",
            "weighted avg       0.42      0.42      0.42        45\n",
            "\n",
            "Quantum SVM training time (PauliFeatureMap_ZZ, L_BFGS_B) with PCA: 121.5774598121643 seconds\n"
          ]
        },
        {
          "output_type": "stream",
          "name": "stderr",
          "text": [
            "/usr/local/lib/python3.10/dist-packages/sklearn/preprocessing/_encoders.py:868: FutureWarning: `sparse` was renamed to `sparse_output` in version 1.2 and will be removed in 1.4. `sparse_output` is ignored unless you leave `sparse` to its default value.\n",
            "  warnings.warn(\n"
          ]
        },
        {
          "output_type": "stream",
          "name": "stdout",
          "text": [
            "Performance Metrics for Quantum SVM (PauliFeatureMap_ZZ, SLSQP) with PCA:\n",
            "              precision    recall  f1-score   support\n",
            "\n",
            "           0       0.35      0.30      0.32        20\n",
            "           1       0.50      0.56      0.53        25\n",
            "\n",
            "    accuracy                           0.44        45\n",
            "   macro avg       0.43      0.43      0.43        45\n",
            "weighted avg       0.43      0.44      0.44        45\n",
            "\n",
            "Quantum SVM training time (PauliFeatureMap_ZZ, SLSQP) with PCA: 33.67714548110962 seconds\n"
          ]
        },
        {
          "output_type": "stream",
          "name": "stderr",
          "text": [
            "/usr/local/lib/python3.10/dist-packages/sklearn/preprocessing/_encoders.py:868: FutureWarning: `sparse` was renamed to `sparse_output` in version 1.2 and will be removed in 1.4. `sparse_output` is ignored unless you leave `sparse` to its default value.\n",
            "  warnings.warn(\n"
          ]
        },
        {
          "output_type": "stream",
          "name": "stdout",
          "text": [
            "Performance Metrics for Quantum SVM (PauliFeatureMap_XYZ, SPSA) with PCA:\n",
            "              precision    recall  f1-score   support\n",
            "\n",
            "           0       0.40      0.40      0.40        20\n",
            "           1       0.52      0.52      0.52        25\n",
            "\n",
            "    accuracy                           0.47        45\n",
            "   macro avg       0.46      0.46      0.46        45\n",
            "weighted avg       0.47      0.47      0.47        45\n",
            "\n",
            "Quantum SVM training time (PauliFeatureMap_XYZ, SPSA) with PCA: 56.88645005226135 seconds\n"
          ]
        },
        {
          "output_type": "stream",
          "name": "stderr",
          "text": [
            "/usr/local/lib/python3.10/dist-packages/sklearn/preprocessing/_encoders.py:868: FutureWarning: `sparse` was renamed to `sparse_output` in version 1.2 and will be removed in 1.4. `sparse_output` is ignored unless you leave `sparse` to its default value.\n",
            "  warnings.warn(\n"
          ]
        },
        {
          "output_type": "stream",
          "name": "stdout",
          "text": [
            "Performance Metrics for Quantum SVM (PauliFeatureMap_XYZ, COBYLA) with PCA:\n",
            "              precision    recall  f1-score   support\n",
            "\n",
            "           0       0.28      0.25      0.26        20\n",
            "           1       0.44      0.48      0.46        25\n",
            "\n",
            "    accuracy                           0.38        45\n",
            "   macro avg       0.36      0.36      0.36        45\n",
            "weighted avg       0.37      0.38      0.37        45\n",
            "\n",
            "Quantum SVM training time (PauliFeatureMap_XYZ, COBYLA) with PCA: 33.141775608062744 seconds\n"
          ]
        },
        {
          "output_type": "stream",
          "name": "stderr",
          "text": [
            "/usr/local/lib/python3.10/dist-packages/sklearn/preprocessing/_encoders.py:868: FutureWarning: `sparse` was renamed to `sparse_output` in version 1.2 and will be removed in 1.4. `sparse_output` is ignored unless you leave `sparse` to its default value.\n",
            "  warnings.warn(\n"
          ]
        },
        {
          "output_type": "stream",
          "name": "stdout",
          "text": [
            "Performance Metrics for Quantum SVM (PauliFeatureMap_XYZ, L_BFGS_B) with PCA:\n",
            "              precision    recall  f1-score   support\n",
            "\n",
            "           0       0.45      0.70      0.55        20\n",
            "           1       0.57      0.32      0.41        25\n",
            "\n",
            "    accuracy                           0.49        45\n",
            "   macro avg       0.51      0.51      0.48        45\n",
            "weighted avg       0.52      0.49      0.47        45\n",
            "\n",
            "Quantum SVM training time (PauliFeatureMap_XYZ, L_BFGS_B) with PCA: 199.65578866004944 seconds\n"
          ]
        },
        {
          "output_type": "stream",
          "name": "stderr",
          "text": [
            "/usr/local/lib/python3.10/dist-packages/sklearn/preprocessing/_encoders.py:868: FutureWarning: `sparse` was renamed to `sparse_output` in version 1.2 and will be removed in 1.4. `sparse_output` is ignored unless you leave `sparse` to its default value.\n",
            "  warnings.warn(\n"
          ]
        },
        {
          "output_type": "stream",
          "name": "stdout",
          "text": [
            "Performance Metrics for Quantum SVM (PauliFeatureMap_XYZ, SLSQP) with PCA:\n",
            "              precision    recall  f1-score   support\n",
            "\n",
            "           0       0.39      0.35      0.37        20\n",
            "           1       0.52      0.56      0.54        25\n",
            "\n",
            "    accuracy                           0.47        45\n",
            "   macro avg       0.45      0.46      0.45        45\n",
            "weighted avg       0.46      0.47      0.46        45\n",
            "\n",
            "Quantum SVM training time (PauliFeatureMap_XYZ, SLSQP) with PCA: 35.73626446723938 seconds\n"
          ]
        },
        {
          "output_type": "stream",
          "name": "stderr",
          "text": [
            "/usr/local/lib/python3.10/dist-packages/sklearn/preprocessing/_encoders.py:868: FutureWarning: `sparse` was renamed to `sparse_output` in version 1.2 and will be removed in 1.4. `sparse_output` is ignored unless you leave `sparse` to its default value.\n",
            "  warnings.warn(\n"
          ]
        },
        {
          "output_type": "stream",
          "name": "stdout",
          "text": [
            "Performance Metrics for Quantum SVM (PauliFeatureMap_YZ, SPSA) with PCA:\n",
            "              precision    recall  f1-score   support\n",
            "\n",
            "           0       0.38      0.40      0.39        20\n",
            "           1       0.50      0.48      0.49        25\n",
            "\n",
            "    accuracy                           0.44        45\n",
            "   macro avg       0.44      0.44      0.44        45\n",
            "weighted avg       0.45      0.44      0.45        45\n",
            "\n",
            "Quantum SVM training time (PauliFeatureMap_YZ, SPSA) with PCA: 53.93290853500366 seconds\n"
          ]
        },
        {
          "output_type": "stream",
          "name": "stderr",
          "text": [
            "/usr/local/lib/python3.10/dist-packages/sklearn/preprocessing/_encoders.py:868: FutureWarning: `sparse` was renamed to `sparse_output` in version 1.2 and will be removed in 1.4. `sparse_output` is ignored unless you leave `sparse` to its default value.\n",
            "  warnings.warn(\n"
          ]
        },
        {
          "output_type": "stream",
          "name": "stdout",
          "text": [
            "Performance Metrics for Quantum SVM (PauliFeatureMap_YZ, COBYLA) with PCA:\n",
            "              precision    recall  f1-score   support\n",
            "\n",
            "           0       0.47      0.40      0.43        20\n",
            "           1       0.57      0.64      0.60        25\n",
            "\n",
            "    accuracy                           0.53        45\n",
            "   macro avg       0.52      0.52      0.52        45\n",
            "weighted avg       0.53      0.53      0.53        45\n",
            "\n",
            "Quantum SVM training time (PauliFeatureMap_YZ, COBYLA) with PCA: 26.956116437911987 seconds\n"
          ]
        },
        {
          "output_type": "stream",
          "name": "stderr",
          "text": [
            "/usr/local/lib/python3.10/dist-packages/sklearn/preprocessing/_encoders.py:868: FutureWarning: `sparse` was renamed to `sparse_output` in version 1.2 and will be removed in 1.4. `sparse_output` is ignored unless you leave `sparse` to its default value.\n",
            "  warnings.warn(\n"
          ]
        },
        {
          "output_type": "stream",
          "name": "stdout",
          "text": [
            "Performance Metrics for Quantum SVM (PauliFeatureMap_YZ, L_BFGS_B) with PCA:\n",
            "              precision    recall  f1-score   support\n",
            "\n",
            "           0       0.36      0.40      0.38        20\n",
            "           1       0.48      0.44      0.46        25\n",
            "\n",
            "    accuracy                           0.42        45\n",
            "   macro avg       0.42      0.42      0.42        45\n",
            "weighted avg       0.43      0.42      0.42        45\n",
            "\n",
            "Quantum SVM training time (PauliFeatureMap_YZ, L_BFGS_B) with PCA: 141.2313117980957 seconds\n"
          ]
        },
        {
          "output_type": "stream",
          "name": "stderr",
          "text": [
            "/usr/local/lib/python3.10/dist-packages/sklearn/preprocessing/_encoders.py:868: FutureWarning: `sparse` was renamed to `sparse_output` in version 1.2 and will be removed in 1.4. `sparse_output` is ignored unless you leave `sparse` to its default value.\n",
            "  warnings.warn(\n"
          ]
        },
        {
          "output_type": "stream",
          "name": "stdout",
          "text": [
            "Performance Metrics for Quantum SVM (PauliFeatureMap_YZ, SLSQP) with PCA:\n",
            "              precision    recall  f1-score   support\n",
            "\n",
            "           0       0.36      0.40      0.38        20\n",
            "           1       0.48      0.44      0.46        25\n",
            "\n",
            "    accuracy                           0.42        45\n",
            "   macro avg       0.42      0.42      0.42        45\n",
            "weighted avg       0.43      0.42      0.42        45\n",
            "\n",
            "Quantum SVM training time (PauliFeatureMap_YZ, SLSQP) with PCA: 82.96415948867798 seconds\n"
          ]
        },
        {
          "output_type": "stream",
          "name": "stderr",
          "text": [
            "/usr/local/lib/python3.10/dist-packages/sklearn/preprocessing/_encoders.py:868: FutureWarning: `sparse` was renamed to `sparse_output` in version 1.2 and will be removed in 1.4. `sparse_output` is ignored unless you leave `sparse` to its default value.\n",
            "  warnings.warn(\n"
          ]
        },
        {
          "output_type": "stream",
          "name": "stdout",
          "text": [
            "Performance Metrics for Quantum SVM (PauliFeatureMap_Y, SPSA) with PCA:\n",
            "              precision    recall  f1-score   support\n",
            "\n",
            "           0       0.44      1.00      0.62        20\n",
            "           1       0.00      0.00      0.00        25\n",
            "\n",
            "    accuracy                           0.44        45\n",
            "   macro avg       0.22      0.50      0.31        45\n",
            "weighted avg       0.20      0.44      0.27        45\n",
            "\n",
            "Quantum SVM training time (PauliFeatureMap_Y, SPSA) with PCA: 50.738166093826294 seconds\n"
          ]
        },
        {
          "output_type": "stream",
          "name": "stderr",
          "text": [
            "/usr/local/lib/python3.10/dist-packages/sklearn/metrics/_classification.py:1344: UndefinedMetricWarning: Precision and F-score are ill-defined and being set to 0.0 in labels with no predicted samples. Use `zero_division` parameter to control this behavior.\n",
            "  _warn_prf(average, modifier, msg_start, len(result))\n",
            "/usr/local/lib/python3.10/dist-packages/sklearn/metrics/_classification.py:1344: UndefinedMetricWarning: Precision and F-score are ill-defined and being set to 0.0 in labels with no predicted samples. Use `zero_division` parameter to control this behavior.\n",
            "  _warn_prf(average, modifier, msg_start, len(result))\n",
            "/usr/local/lib/python3.10/dist-packages/sklearn/metrics/_classification.py:1344: UndefinedMetricWarning: Precision and F-score are ill-defined and being set to 0.0 in labels with no predicted samples. Use `zero_division` parameter to control this behavior.\n",
            "  _warn_prf(average, modifier, msg_start, len(result))\n",
            "/usr/local/lib/python3.10/dist-packages/sklearn/preprocessing/_encoders.py:868: FutureWarning: `sparse` was renamed to `sparse_output` in version 1.2 and will be removed in 1.4. `sparse_output` is ignored unless you leave `sparse` to its default value.\n",
            "  warnings.warn(\n"
          ]
        },
        {
          "output_type": "stream",
          "name": "stdout",
          "text": [
            "Performance Metrics for Quantum SVM (PauliFeatureMap_Y, COBYLA) with PCA:\n",
            "              precision    recall  f1-score   support\n",
            "\n",
            "           0       0.42      0.75      0.54        20\n",
            "           1       0.44      0.16      0.24        25\n",
            "\n",
            "    accuracy                           0.42        45\n",
            "   macro avg       0.43      0.46      0.39        45\n",
            "weighted avg       0.43      0.42      0.37        45\n",
            "\n",
            "Quantum SVM training time (PauliFeatureMap_Y, COBYLA) with PCA: 24.741669178009033 seconds\n"
          ]
        },
        {
          "output_type": "stream",
          "name": "stderr",
          "text": [
            "/usr/local/lib/python3.10/dist-packages/sklearn/preprocessing/_encoders.py:868: FutureWarning: `sparse` was renamed to `sparse_output` in version 1.2 and will be removed in 1.4. `sparse_output` is ignored unless you leave `sparse` to its default value.\n",
            "  warnings.warn(\n"
          ]
        },
        {
          "output_type": "stream",
          "name": "stdout",
          "text": [
            "Performance Metrics for Quantum SVM (PauliFeatureMap_Y, L_BFGS_B) with PCA:\n",
            "              precision    recall  f1-score   support\n",
            "\n",
            "           0       0.44      0.95      0.60        20\n",
            "           1       0.50      0.04      0.07        25\n",
            "\n",
            "    accuracy                           0.44        45\n",
            "   macro avg       0.47      0.49      0.34        45\n",
            "weighted avg       0.47      0.44      0.31        45\n",
            "\n",
            "Quantum SVM training time (PauliFeatureMap_Y, L_BFGS_B) with PCA: 63.910465717315674 seconds\n"
          ]
        },
        {
          "output_type": "stream",
          "name": "stderr",
          "text": [
            "/usr/local/lib/python3.10/dist-packages/sklearn/preprocessing/_encoders.py:868: FutureWarning: `sparse` was renamed to `sparse_output` in version 1.2 and will be removed in 1.4. `sparse_output` is ignored unless you leave `sparse` to its default value.\n",
            "  warnings.warn(\n"
          ]
        },
        {
          "output_type": "stream",
          "name": "stdout",
          "text": [
            "Performance Metrics for Quantum SVM (PauliFeatureMap_Y, SLSQP) with PCA:\n",
            "              precision    recall  f1-score   support\n",
            "\n",
            "           0       0.44      0.95      0.60        20\n",
            "           1       0.50      0.04      0.07        25\n",
            "\n",
            "    accuracy                           0.44        45\n",
            "   macro avg       0.47      0.49      0.34        45\n",
            "weighted avg       0.47      0.44      0.31        45\n",
            "\n",
            "Quantum SVM training time (PauliFeatureMap_Y, SLSQP) with PCA: 23.811384439468384 seconds\n"
          ]
        },
        {
          "output_type": "stream",
          "name": "stderr",
          "text": [
            "/usr/local/lib/python3.10/dist-packages/sklearn/preprocessing/_encoders.py:868: FutureWarning: `sparse` was renamed to `sparse_output` in version 1.2 and will be removed in 1.4. `sparse_output` is ignored unless you leave `sparse` to its default value.\n",
            "  warnings.warn(\n"
          ]
        },
        {
          "output_type": "stream",
          "name": "stdout",
          "text": [
            "Performance Metrics for Quantum SVM (PauliFeatureMap_XYZYY, SPSA) with PCA:\n",
            "              precision    recall  f1-score   support\n",
            "\n",
            "           0       0.43      0.65      0.52        20\n",
            "           1       0.53      0.32      0.40        25\n",
            "\n",
            "    accuracy                           0.47        45\n",
            "   macro avg       0.48      0.48      0.46        45\n",
            "weighted avg       0.49      0.47      0.45        45\n",
            "\n",
            "Quantum SVM training time (PauliFeatureMap_XYZYY, SPSA) with PCA: 65.75439143180847 seconds\n"
          ]
        },
        {
          "output_type": "stream",
          "name": "stderr",
          "text": [
            "/usr/local/lib/python3.10/dist-packages/sklearn/preprocessing/_encoders.py:868: FutureWarning: `sparse` was renamed to `sparse_output` in version 1.2 and will be removed in 1.4. `sparse_output` is ignored unless you leave `sparse` to its default value.\n",
            "  warnings.warn(\n"
          ]
        },
        {
          "output_type": "stream",
          "name": "stdout",
          "text": [
            "Performance Metrics for Quantum SVM (PauliFeatureMap_XYZYY, COBYLA) with PCA:\n",
            "              precision    recall  f1-score   support\n",
            "\n",
            "           0       0.41      0.45      0.43        20\n",
            "           1       0.52      0.48      0.50        25\n",
            "\n",
            "    accuracy                           0.47        45\n",
            "   macro avg       0.47      0.46      0.46        45\n",
            "weighted avg       0.47      0.47      0.47        45\n",
            "\n",
            "Quantum SVM training time (PauliFeatureMap_XYZYY, COBYLA) with PCA: 44.29058337211609 seconds\n"
          ]
        },
        {
          "output_type": "stream",
          "name": "stderr",
          "text": [
            "/usr/local/lib/python3.10/dist-packages/sklearn/preprocessing/_encoders.py:868: FutureWarning: `sparse` was renamed to `sparse_output` in version 1.2 and will be removed in 1.4. `sparse_output` is ignored unless you leave `sparse` to its default value.\n",
            "  warnings.warn(\n"
          ]
        },
        {
          "output_type": "stream",
          "name": "stdout",
          "text": [
            "Performance Metrics for Quantum SVM (PauliFeatureMap_XYZYY, L_BFGS_B) with PCA:\n",
            "              precision    recall  f1-score   support\n",
            "\n",
            "           0       0.44      0.55      0.49        20\n",
            "           1       0.55      0.44      0.49        25\n",
            "\n",
            "    accuracy                           0.49        45\n",
            "   macro avg       0.49      0.49      0.49        45\n",
            "weighted avg       0.50      0.49      0.49        45\n",
            "\n",
            "Quantum SVM training time (PauliFeatureMap_XYZYY, L_BFGS_B) with PCA: 128.3110659122467 seconds\n"
          ]
        },
        {
          "output_type": "stream",
          "name": "stderr",
          "text": [
            "/usr/local/lib/python3.10/dist-packages/sklearn/preprocessing/_encoders.py:868: FutureWarning: `sparse` was renamed to `sparse_output` in version 1.2 and will be removed in 1.4. `sparse_output` is ignored unless you leave `sparse` to its default value.\n",
            "  warnings.warn(\n"
          ]
        },
        {
          "output_type": "stream",
          "name": "stdout",
          "text": [
            "Performance Metrics for Quantum SVM (PauliFeatureMap_XYZYY, SLSQP) with PCA:\n",
            "              precision    recall  f1-score   support\n",
            "\n",
            "           0       0.40      0.50      0.44        20\n",
            "           1       0.50      0.40      0.44        25\n",
            "\n",
            "    accuracy                           0.44        45\n",
            "   macro avg       0.45      0.45      0.44        45\n",
            "weighted avg       0.46      0.44      0.44        45\n",
            "\n",
            "Quantum SVM training time (PauliFeatureMap_XYZYY, SLSQP) with PCA: 95.9661693572998 seconds\n",
            "Best Configuration with PCA: Feature Map - PauliFeatureMap_YZ, Optimizer - COBYLA\n"
          ]
        }
      ]
    },
    {
      "cell_type": "code",
      "source": [
        "import numpy as np\n",
        "from sklearn.decomposition import PCA\n",
        "import matplotlib.pyplot as plt\n",
        "from sklearn.model_selection import train_test_split\n",
        "from sklearn.preprocessing import StandardScaler\n",
        "from sklearn.svm import SVC\n",
        "from sklearn.metrics import classification_report, accuracy_score\n",
        "from qiskit import Aer\n",
        "from qiskit.circuit.library import PauliFeatureMap\n",
        "from qiskit.circuit.library import ZZFeatureMap\n",
        "from qiskit_machine_learning.algorithms.classifiers import VQC\n",
        "from qiskit.utils import QuantumInstance\n",
        "from qiskit.algorithms.optimizers import SPSA, COBYLA, L_BFGS_B, SLSQP, ADAM\n",
        "from time import time\n",
        "\n",
        "np.random.seed(0)\n",
        "\n",
        "# Define the number of samples and features\n",
        "num_samples = 150\n",
        "num_features = 7  # You can increase this number to create a higher-dimensional dataset\n",
        "\n",
        "# Generate random data with strong correlations in the first few features\n",
        "mean = np.zeros(num_features)\n",
        "cov = np.eye(num_features)\n",
        "for i in range(5):\n",
        "    cov[i, i] = 0.0  # Increase the variance for the first 5 features to make them important\n",
        "\n",
        "data = np.random.multivariate_normal(mean, cov, num_samples)\n",
        "\n",
        "# Split the data into training and testing sets\n",
        "X_train, X_test, y_train, y_test = train_test_split(data, np.random.choice([0, 1], size=num_samples), test_size=0.3, random_state=42)\n",
        "\n",
        "# Data Preprocessing\n",
        "scaler = StandardScaler().fit(X_train)\n",
        "X_train = scaler.transform(X_train)\n",
        "X_test = scaler.transform(X_test)\n",
        "\n",
        "# Perform PCA to reduce dimensionality\n",
        "pca = PCA(n_components=2)  # You can adjust the number of components as needed\n",
        "X_train_pca = pca.fit_transform(X_train)\n",
        "X_test_pca = pca.transform(X_test)\n",
        "\n",
        "# Train Classical SVM on reduced dataset\n",
        "classical_svm_pca = SVC(kernel='rbf', C=1.0, gamma='scale')\n",
        "start = time()\n",
        "classical_svm_pca.fit(X_train_pca, y_train)\n",
        "end = time()\n",
        "classical_svm_predictions_pca = classical_svm_pca.predict(X_test_pca)\n",
        "print(\"Performance Metrics for Classical SVM with PCA:\")\n",
        "print(classification_report(y_test, classical_svm_predictions_pca))\n",
        "print(f\"Classical SVM training time with PCA: {end - start} seconds\")\n",
        "\n",
        "# Define a list of feature maps and their parameters to tune for QSVM\n",
        "feature_maps = [\n",
        "    {'name': 'ZZFeatureMap', 'feature_map': ZZFeatureMap(feature_dimension=2, reps=2, entanglement='full')},\n",
        "    {'name': 'PauliFeatureMap_XY', 'feature_map': PauliFeatureMap(feature_dimension=2, reps=2, paulis=['X', 'Y'], entanglement='full')},\n",
        "    {'name': 'PauliFeatureMap_ZZ', 'feature_map': PauliFeatureMap(feature_dimension=2, reps=2, paulis=['Z', 'ZZ'], entanglement='full')},\n",
        "    {'name': 'PauliFeatureMap_XYZ', 'feature_map': PauliFeatureMap(feature_dimension=2, reps=2, paulis=['X', 'Y', 'Z'], entanglement='full')},\n",
        "    {'name': 'PauliFeatureMap_YZ', 'feature_map': PauliFeatureMap(feature_dimension=2, reps=2, paulis=['Y', 'Z'], entanglement='full')},\n",
        "    {'name': 'PauliFeatureMap_Y', 'feature_map': PauliFeatureMap(feature_dimension=2, reps=2, paulis=['Y'], entanglement='full')},\n",
        "    {'name': 'PauliFeatureMap_XYZYY', 'feature_map': PauliFeatureMap(feature_dimension=2, reps=2, paulis=['X', 'Y', 'Z', 'YY'], entanglement='full')},\n",
        "    # Add more feature maps and their parameters to explore\n",
        "]\n",
        "\n",
        "# Define a list of optimizer parameters to tune for QSVM\n",
        "optimizers = [\n",
        "    {'name': 'SPSA', 'optimizer': SPSA(maxiter=50)},\n",
        "    {'name': 'COBYLA', 'optimizer': COBYLA(maxiter=100)},\n",
        "    {'name': 'L_BFGS_B', 'optimizer': L_BFGS_B(maxfun=100, maxiter=100)},\n",
        "    {'name': 'SLSQP', 'optimizer': SLSQP(maxiter=100)},\n",
        "    # Add more optimizers and their parameters to explore\n",
        "]\n",
        "\n",
        "\n",
        "best_score = 0\n",
        "best_params = {}\n",
        "\n",
        "for feature_map_params in feature_maps:\n",
        "    feature_map_name = feature_map_params['name']\n",
        "    feature_map = feature_map_params['feature_map']\n",
        "\n",
        "    for optimizer_params in optimizers:\n",
        "        optimizer_name = optimizer_params['name']\n",
        "        optimizer = optimizer_params['optimizer']\n",
        "\n",
        "        # Create a sampler for the AerSimulator\n",
        "        sampler = Sampler()\n",
        "\n",
        "        # Create an instance of the AerSimulator\n",
        "        simulator = AerSimulator()\n",
        "\n",
        "        # Train QSVM with the current feature map and optimizer using the sampler\n",
        "        vqc = VQC(feature_map=feature_map, ansatz=None, optimizer=optimizer, quantum_instance=simulator)\n",
        "\n",
        "        start = time()\n",
        "        vqc.fit(X_train_pca, y_train)\n",
        "        end = time()\n",
        "\n",
        "        result_quantum = vqc.predict(X_test_pca)\n",
        "        score = accuracy_score(y_test, result_quantum)\n",
        "\n",
        "        # Print performance metrics and runtime for the current configuration\n",
        "        print(f\"Performance Metrics for Quantum SVM ({feature_map_name}, {optimizer_name}) with PCA:\")\n",
        "        print(classification_report(y_test, result_quantum))\n",
        "        print(f\"Quantum SVM training time ({feature_map_name}, {optimizer_name}) with PCA: {end - start} seconds\")\n",
        "\n",
        "        # Check if the current configuration is the best\n",
        "        if score > best_score:\n",
        "            best_score = score\n",
        "            best_params = {'feature_map': feature_map_name, 'optimizer': optimizer_name}\n",
        "\n",
        "# Print the best configuration found\n",
        "print(f\"Best Configuration with PCA: Feature Map - {best_params['feature_map']}, Optimizer - {best_params['optimizer']}\")"
      ],
      "metadata": {
        "colab": {
          "base_uri": "https://localhost:8080/"
        },
        "id": "8gSijjm91sXJ",
        "outputId": "5d5d05ee-8bad-48ab-a217-a8a06ef5854b"
      },
      "execution_count": null,
      "outputs": [
        {
          "output_type": "stream",
          "name": "stdout",
          "text": [
            "Performance Metrics for Classical SVM with PCA:\n",
            "              precision    recall  f1-score   support\n",
            "\n",
            "           0       0.50      0.76      0.60        21\n",
            "           1       0.62      0.33      0.43        24\n",
            "\n",
            "    accuracy                           0.53        45\n",
            "   macro avg       0.56      0.55      0.52        45\n",
            "weighted avg       0.56      0.53      0.51        45\n",
            "\n",
            "Classical SVM training time with PCA: 0.0016491413116455078 seconds\n"
          ]
        },
        {
          "output_type": "stream",
          "name": "stderr",
          "text": [
            "/usr/local/lib/python3.10/dist-packages/sklearn/preprocessing/_encoders.py:868: FutureWarning: `sparse` was renamed to `sparse_output` in version 1.2 and will be removed in 1.4. `sparse_output` is ignored unless you leave `sparse` to its default value.\n",
            "  warnings.warn(\n"
          ]
        },
        {
          "output_type": "stream",
          "name": "stdout",
          "text": [
            "Performance Metrics for Quantum SVM (ZZFeatureMap, SPSA) with PCA:\n",
            "              precision    recall  f1-score   support\n",
            "\n",
            "           0       0.44      0.33      0.38        21\n",
            "           1       0.52      0.62      0.57        24\n",
            "\n",
            "    accuracy                           0.49        45\n",
            "   macro avg       0.48      0.48      0.47        45\n",
            "weighted avg       0.48      0.49      0.48        45\n",
            "\n",
            "Quantum SVM training time (ZZFeatureMap, SPSA) with PCA: 53.73020792007446 seconds\n"
          ]
        },
        {
          "output_type": "stream",
          "name": "stderr",
          "text": [
            "/usr/local/lib/python3.10/dist-packages/sklearn/preprocessing/_encoders.py:868: FutureWarning: `sparse` was renamed to `sparse_output` in version 1.2 and will be removed in 1.4. `sparse_output` is ignored unless you leave `sparse` to its default value.\n",
            "  warnings.warn(\n"
          ]
        },
        {
          "output_type": "stream",
          "name": "stdout",
          "text": [
            "Performance Metrics for Quantum SVM (ZZFeatureMap, COBYLA) with PCA:\n",
            "              precision    recall  f1-score   support\n",
            "\n",
            "           0       0.56      0.71      0.63        21\n",
            "           1       0.67      0.50      0.57        24\n",
            "\n",
            "    accuracy                           0.60        45\n",
            "   macro avg       0.61      0.61      0.60        45\n",
            "weighted avg       0.61      0.60      0.60        45\n",
            "\n",
            "Quantum SVM training time (ZZFeatureMap, COBYLA) with PCA: 31.521284341812134 seconds\n"
          ]
        },
        {
          "output_type": "stream",
          "name": "stderr",
          "text": [
            "/usr/local/lib/python3.10/dist-packages/sklearn/preprocessing/_encoders.py:868: FutureWarning: `sparse` was renamed to `sparse_output` in version 1.2 and will be removed in 1.4. `sparse_output` is ignored unless you leave `sparse` to its default value.\n",
            "  warnings.warn(\n"
          ]
        },
        {
          "output_type": "stream",
          "name": "stdout",
          "text": [
            "Performance Metrics for Quantum SVM (ZZFeatureMap, L_BFGS_B) with PCA:\n",
            "              precision    recall  f1-score   support\n",
            "\n",
            "           0       0.65      0.52      0.58        21\n",
            "           1       0.64      0.75      0.69        24\n",
            "\n",
            "    accuracy                           0.64        45\n",
            "   macro avg       0.64      0.64      0.64        45\n",
            "weighted avg       0.64      0.64      0.64        45\n",
            "\n",
            "Quantum SVM training time (ZZFeatureMap, L_BFGS_B) with PCA: 84.83719086647034 seconds\n"
          ]
        },
        {
          "output_type": "stream",
          "name": "stderr",
          "text": [
            "/usr/local/lib/python3.10/dist-packages/sklearn/preprocessing/_encoders.py:868: FutureWarning: `sparse` was renamed to `sparse_output` in version 1.2 and will be removed in 1.4. `sparse_output` is ignored unless you leave `sparse` to its default value.\n",
            "  warnings.warn(\n"
          ]
        },
        {
          "output_type": "stream",
          "name": "stdout",
          "text": [
            "Performance Metrics for Quantum SVM (ZZFeatureMap, SLSQP) with PCA:\n",
            "              precision    recall  f1-score   support\n",
            "\n",
            "           0       0.58      0.52      0.55        21\n",
            "           1       0.62      0.67      0.64        24\n",
            "\n",
            "    accuracy                           0.60        45\n",
            "   macro avg       0.60      0.60      0.60        45\n",
            "weighted avg       0.60      0.60      0.60        45\n",
            "\n",
            "Quantum SVM training time (ZZFeatureMap, SLSQP) with PCA: 48.084152936935425 seconds\n"
          ]
        },
        {
          "output_type": "stream",
          "name": "stderr",
          "text": [
            "/usr/local/lib/python3.10/dist-packages/sklearn/preprocessing/_encoders.py:868: FutureWarning: `sparse` was renamed to `sparse_output` in version 1.2 and will be removed in 1.4. `sparse_output` is ignored unless you leave `sparse` to its default value.\n",
            "  warnings.warn(\n"
          ]
        },
        {
          "output_type": "stream",
          "name": "stdout",
          "text": [
            "Performance Metrics for Quantum SVM (PauliFeatureMap_XY, SPSA) with PCA:\n",
            "              precision    recall  f1-score   support\n",
            "\n",
            "           0       0.53      0.43      0.47        21\n",
            "           1       0.57      0.67      0.62        24\n",
            "\n",
            "    accuracy                           0.56        45\n",
            "   macro avg       0.55      0.55      0.54        45\n",
            "weighted avg       0.55      0.56      0.55        45\n",
            "\n",
            "Quantum SVM training time (PauliFeatureMap_XY, SPSA) with PCA: 54.07714772224426 seconds\n"
          ]
        },
        {
          "output_type": "stream",
          "name": "stderr",
          "text": [
            "/usr/local/lib/python3.10/dist-packages/sklearn/preprocessing/_encoders.py:868: FutureWarning: `sparse` was renamed to `sparse_output` in version 1.2 and will be removed in 1.4. `sparse_output` is ignored unless you leave `sparse` to its default value.\n",
            "  warnings.warn(\n"
          ]
        },
        {
          "output_type": "stream",
          "name": "stdout",
          "text": [
            "Performance Metrics for Quantum SVM (PauliFeatureMap_XY, COBYLA) with PCA:\n",
            "              precision    recall  f1-score   support\n",
            "\n",
            "           0       0.43      0.57      0.49        21\n",
            "           1       0.47      0.33      0.39        24\n",
            "\n",
            "    accuracy                           0.44        45\n",
            "   macro avg       0.45      0.45      0.44        45\n",
            "weighted avg       0.45      0.44      0.44        45\n",
            "\n",
            "Quantum SVM training time (PauliFeatureMap_XY, COBYLA) with PCA: 30.04603672027588 seconds\n"
          ]
        },
        {
          "output_type": "stream",
          "name": "stderr",
          "text": [
            "/usr/local/lib/python3.10/dist-packages/sklearn/preprocessing/_encoders.py:868: FutureWarning: `sparse` was renamed to `sparse_output` in version 1.2 and will be removed in 1.4. `sparse_output` is ignored unless you leave `sparse` to its default value.\n",
            "  warnings.warn(\n"
          ]
        },
        {
          "output_type": "stream",
          "name": "stdout",
          "text": [
            "Performance Metrics for Quantum SVM (PauliFeatureMap_XY, L_BFGS_B) with PCA:\n",
            "              precision    recall  f1-score   support\n",
            "\n",
            "           0       0.53      0.38      0.44        21\n",
            "           1       0.57      0.71      0.63        24\n",
            "\n",
            "    accuracy                           0.56        45\n",
            "   macro avg       0.55      0.54      0.54        45\n",
            "weighted avg       0.55      0.56      0.54        45\n",
            "\n",
            "Quantum SVM training time (PauliFeatureMap_XY, L_BFGS_B) with PCA: 171.14868831634521 seconds\n"
          ]
        },
        {
          "output_type": "stream",
          "name": "stderr",
          "text": [
            "/usr/local/lib/python3.10/dist-packages/sklearn/preprocessing/_encoders.py:868: FutureWarning: `sparse` was renamed to `sparse_output` in version 1.2 and will be removed in 1.4. `sparse_output` is ignored unless you leave `sparse` to its default value.\n",
            "  warnings.warn(\n"
          ]
        },
        {
          "output_type": "stream",
          "name": "stdout",
          "text": [
            "Performance Metrics for Quantum SVM (PauliFeatureMap_XY, SLSQP) with PCA:\n",
            "              precision    recall  f1-score   support\n",
            "\n",
            "           0       0.35      0.33      0.34        21\n",
            "           1       0.44      0.46      0.45        24\n",
            "\n",
            "    accuracy                           0.40        45\n",
            "   macro avg       0.40      0.40      0.40        45\n",
            "weighted avg       0.40      0.40      0.40        45\n",
            "\n",
            "Quantum SVM training time (PauliFeatureMap_XY, SLSQP) with PCA: 74.05100584030151 seconds\n"
          ]
        },
        {
          "output_type": "stream",
          "name": "stderr",
          "text": [
            "/usr/local/lib/python3.10/dist-packages/sklearn/preprocessing/_encoders.py:868: FutureWarning: `sparse` was renamed to `sparse_output` in version 1.2 and will be removed in 1.4. `sparse_output` is ignored unless you leave `sparse` to its default value.\n",
            "  warnings.warn(\n"
          ]
        },
        {
          "output_type": "stream",
          "name": "stdout",
          "text": [
            "Performance Metrics for Quantum SVM (PauliFeatureMap_ZZ, SPSA) with PCA:\n",
            "              precision    recall  f1-score   support\n",
            "\n",
            "           0       0.62      0.48      0.54        21\n",
            "           1       0.62      0.75      0.68        24\n",
            "\n",
            "    accuracy                           0.62        45\n",
            "   macro avg       0.62      0.61      0.61        45\n",
            "weighted avg       0.62      0.62      0.61        45\n",
            "\n",
            "Quantum SVM training time (PauliFeatureMap_ZZ, SPSA) with PCA: 53.986634492874146 seconds\n"
          ]
        },
        {
          "output_type": "stream",
          "name": "stderr",
          "text": [
            "/usr/local/lib/python3.10/dist-packages/sklearn/preprocessing/_encoders.py:868: FutureWarning: `sparse` was renamed to `sparse_output` in version 1.2 and will be removed in 1.4. `sparse_output` is ignored unless you leave `sparse` to its default value.\n",
            "  warnings.warn(\n"
          ]
        },
        {
          "output_type": "stream",
          "name": "stdout",
          "text": [
            "Performance Metrics for Quantum SVM (PauliFeatureMap_ZZ, COBYLA) with PCA:\n",
            "              precision    recall  f1-score   support\n",
            "\n",
            "           0       0.61      0.52      0.56        21\n",
            "           1       0.63      0.71      0.67        24\n",
            "\n",
            "    accuracy                           0.62        45\n",
            "   macro avg       0.62      0.62      0.62        45\n",
            "weighted avg       0.62      0.62      0.62        45\n",
            "\n",
            "Quantum SVM training time (PauliFeatureMap_ZZ, COBYLA) with PCA: 28.33833909034729 seconds\n"
          ]
        },
        {
          "output_type": "stream",
          "name": "stderr",
          "text": [
            "/usr/local/lib/python3.10/dist-packages/sklearn/preprocessing/_encoders.py:868: FutureWarning: `sparse` was renamed to `sparse_output` in version 1.2 and will be removed in 1.4. `sparse_output` is ignored unless you leave `sparse` to its default value.\n",
            "  warnings.warn(\n"
          ]
        },
        {
          "output_type": "stream",
          "name": "stdout",
          "text": [
            "Performance Metrics for Quantum SVM (PauliFeatureMap_ZZ, L_BFGS_B) with PCA:\n",
            "              precision    recall  f1-score   support\n",
            "\n",
            "           0       0.44      0.38      0.41        21\n",
            "           1       0.52      0.58      0.55        24\n",
            "\n",
            "    accuracy                           0.49        45\n",
            "   macro avg       0.48      0.48      0.48        45\n",
            "weighted avg       0.48      0.49      0.48        45\n",
            "\n",
            "Quantum SVM training time (PauliFeatureMap_ZZ, L_BFGS_B) with PCA: 121.94323086738586 seconds\n"
          ]
        },
        {
          "output_type": "stream",
          "name": "stderr",
          "text": [
            "/usr/local/lib/python3.10/dist-packages/sklearn/preprocessing/_encoders.py:868: FutureWarning: `sparse` was renamed to `sparse_output` in version 1.2 and will be removed in 1.4. `sparse_output` is ignored unless you leave `sparse` to its default value.\n",
            "  warnings.warn(\n"
          ]
        },
        {
          "output_type": "stream",
          "name": "stdout",
          "text": [
            "Performance Metrics for Quantum SVM (PauliFeatureMap_ZZ, SLSQP) with PCA:\n",
            "              precision    recall  f1-score   support\n",
            "\n",
            "           0       0.56      0.43      0.49        21\n",
            "           1       0.59      0.71      0.64        24\n",
            "\n",
            "    accuracy                           0.58        45\n",
            "   macro avg       0.57      0.57      0.56        45\n",
            "weighted avg       0.58      0.58      0.57        45\n",
            "\n",
            "Quantum SVM training time (PauliFeatureMap_ZZ, SLSQP) with PCA: 49.603206157684326 seconds\n"
          ]
        },
        {
          "output_type": "stream",
          "name": "stderr",
          "text": [
            "/usr/local/lib/python3.10/dist-packages/sklearn/preprocessing/_encoders.py:868: FutureWarning: `sparse` was renamed to `sparse_output` in version 1.2 and will be removed in 1.4. `sparse_output` is ignored unless you leave `sparse` to its default value.\n",
            "  warnings.warn(\n"
          ]
        },
        {
          "output_type": "stream",
          "name": "stdout",
          "text": [
            "Performance Metrics for Quantum SVM (PauliFeatureMap_XYZ, SPSA) with PCA:\n",
            "              precision    recall  f1-score   support\n",
            "\n",
            "           0       0.47      0.71      0.57        21\n",
            "           1       0.54      0.29      0.38        24\n",
            "\n",
            "    accuracy                           0.49        45\n",
            "   macro avg       0.50      0.50      0.47        45\n",
            "weighted avg       0.51      0.49      0.47        45\n",
            "\n",
            "Quantum SVM training time (PauliFeatureMap_XYZ, SPSA) with PCA: 56.9419162273407 seconds\n"
          ]
        },
        {
          "output_type": "stream",
          "name": "stderr",
          "text": [
            "/usr/local/lib/python3.10/dist-packages/sklearn/preprocessing/_encoders.py:868: FutureWarning: `sparse` was renamed to `sparse_output` in version 1.2 and will be removed in 1.4. `sparse_output` is ignored unless you leave `sparse` to its default value.\n",
            "  warnings.warn(\n"
          ]
        },
        {
          "output_type": "stream",
          "name": "stdout",
          "text": [
            "Performance Metrics for Quantum SVM (PauliFeatureMap_XYZ, COBYLA) with PCA:\n",
            "              precision    recall  f1-score   support\n",
            "\n",
            "           0       0.48      0.67      0.56        21\n",
            "           1       0.56      0.38      0.45        24\n",
            "\n",
            "    accuracy                           0.51        45\n",
            "   macro avg       0.52      0.52      0.51        45\n",
            "weighted avg       0.53      0.51      0.50        45\n",
            "\n",
            "Quantum SVM training time (PauliFeatureMap_XYZ, COBYLA) with PCA: 29.504915952682495 seconds\n"
          ]
        },
        {
          "output_type": "stream",
          "name": "stderr",
          "text": [
            "/usr/local/lib/python3.10/dist-packages/sklearn/preprocessing/_encoders.py:868: FutureWarning: `sparse` was renamed to `sparse_output` in version 1.2 and will be removed in 1.4. `sparse_output` is ignored unless you leave `sparse` to its default value.\n",
            "  warnings.warn(\n"
          ]
        },
        {
          "output_type": "stream",
          "name": "stdout",
          "text": [
            "Performance Metrics for Quantum SVM (PauliFeatureMap_XYZ, L_BFGS_B) with PCA:\n",
            "              precision    recall  f1-score   support\n",
            "\n",
            "           0       0.46      0.52      0.49        21\n",
            "           1       0.52      0.46      0.49        24\n",
            "\n",
            "    accuracy                           0.49        45\n",
            "   macro avg       0.49      0.49      0.49        45\n",
            "weighted avg       0.49      0.49      0.49        45\n",
            "\n",
            "Quantum SVM training time (PauliFeatureMap_XYZ, L_BFGS_B) with PCA: 64.30039310455322 seconds\n"
          ]
        },
        {
          "output_type": "stream",
          "name": "stderr",
          "text": [
            "/usr/local/lib/python3.10/dist-packages/sklearn/preprocessing/_encoders.py:868: FutureWarning: `sparse` was renamed to `sparse_output` in version 1.2 and will be removed in 1.4. `sparse_output` is ignored unless you leave `sparse` to its default value.\n",
            "  warnings.warn(\n"
          ]
        },
        {
          "output_type": "stream",
          "name": "stdout",
          "text": [
            "Performance Metrics for Quantum SVM (PauliFeatureMap_XYZ, SLSQP) with PCA:\n",
            "              precision    recall  f1-score   support\n",
            "\n",
            "           0       0.50      0.62      0.55        21\n",
            "           1       0.58      0.46      0.51        24\n",
            "\n",
            "    accuracy                           0.53        45\n",
            "   macro avg       0.54      0.54      0.53        45\n",
            "weighted avg       0.54      0.53      0.53        45\n",
            "\n",
            "Quantum SVM training time (PauliFeatureMap_XYZ, SLSQP) with PCA: 38.05572438240051 seconds\n"
          ]
        },
        {
          "output_type": "stream",
          "name": "stderr",
          "text": [
            "/usr/local/lib/python3.10/dist-packages/sklearn/preprocessing/_encoders.py:868: FutureWarning: `sparse` was renamed to `sparse_output` in version 1.2 and will be removed in 1.4. `sparse_output` is ignored unless you leave `sparse` to its default value.\n",
            "  warnings.warn(\n"
          ]
        },
        {
          "output_type": "stream",
          "name": "stdout",
          "text": [
            "Performance Metrics for Quantum SVM (PauliFeatureMap_YZ, SPSA) with PCA:\n",
            "              precision    recall  f1-score   support\n",
            "\n",
            "           0       0.31      0.43      0.36        21\n",
            "           1       0.25      0.17      0.20        24\n",
            "\n",
            "    accuracy                           0.29        45\n",
            "   macro avg       0.28      0.30      0.28        45\n",
            "weighted avg       0.28      0.29      0.27        45\n",
            "\n",
            "Quantum SVM training time (PauliFeatureMap_YZ, SPSA) with PCA: 55.77851939201355 seconds\n"
          ]
        },
        {
          "output_type": "stream",
          "name": "stderr",
          "text": [
            "/usr/local/lib/python3.10/dist-packages/sklearn/preprocessing/_encoders.py:868: FutureWarning: `sparse` was renamed to `sparse_output` in version 1.2 and will be removed in 1.4. `sparse_output` is ignored unless you leave `sparse` to its default value.\n",
            "  warnings.warn(\n"
          ]
        },
        {
          "output_type": "stream",
          "name": "stdout",
          "text": [
            "Performance Metrics for Quantum SVM (PauliFeatureMap_YZ, COBYLA) with PCA:\n",
            "              precision    recall  f1-score   support\n",
            "\n",
            "           0       0.62      0.48      0.54        21\n",
            "           1       0.62      0.75      0.68        24\n",
            "\n",
            "    accuracy                           0.62        45\n",
            "   macro avg       0.62      0.61      0.61        45\n",
            "weighted avg       0.62      0.62      0.61        45\n",
            "\n",
            "Quantum SVM training time (PauliFeatureMap_YZ, COBYLA) with PCA: 33.773435831069946 seconds\n"
          ]
        },
        {
          "output_type": "stream",
          "name": "stderr",
          "text": [
            "/usr/local/lib/python3.10/dist-packages/sklearn/preprocessing/_encoders.py:868: FutureWarning: `sparse` was renamed to `sparse_output` in version 1.2 and will be removed in 1.4. `sparse_output` is ignored unless you leave `sparse` to its default value.\n",
            "  warnings.warn(\n"
          ]
        },
        {
          "output_type": "stream",
          "name": "stdout",
          "text": [
            "Performance Metrics for Quantum SVM (PauliFeatureMap_YZ, L_BFGS_B) with PCA:\n",
            "              precision    recall  f1-score   support\n",
            "\n",
            "           0       0.64      0.76      0.70        21\n",
            "           1       0.75      0.62      0.68        24\n",
            "\n",
            "    accuracy                           0.69        45\n",
            "   macro avg       0.70      0.69      0.69        45\n",
            "weighted avg       0.70      0.69      0.69        45\n",
            "\n",
            "Quantum SVM training time (PauliFeatureMap_YZ, L_BFGS_B) with PCA: 93.88220405578613 seconds\n"
          ]
        },
        {
          "output_type": "stream",
          "name": "stderr",
          "text": [
            "/usr/local/lib/python3.10/dist-packages/sklearn/preprocessing/_encoders.py:868: FutureWarning: `sparse` was renamed to `sparse_output` in version 1.2 and will be removed in 1.4. `sparse_output` is ignored unless you leave `sparse` to its default value.\n",
            "  warnings.warn(\n"
          ]
        },
        {
          "output_type": "stream",
          "name": "stdout",
          "text": [
            "Performance Metrics for Quantum SVM (PauliFeatureMap_YZ, SLSQP) with PCA:\n",
            "              precision    recall  f1-score   support\n",
            "\n",
            "           0       0.38      0.48      0.43        21\n",
            "           1       0.42      0.33      0.37        24\n",
            "\n",
            "    accuracy                           0.40        45\n",
            "   macro avg       0.40      0.40      0.40        45\n",
            "weighted avg       0.40      0.40      0.40        45\n",
            "\n",
            "Quantum SVM training time (PauliFeatureMap_YZ, SLSQP) with PCA: 121.71155118942261 seconds\n"
          ]
        },
        {
          "output_type": "stream",
          "name": "stderr",
          "text": [
            "/usr/local/lib/python3.10/dist-packages/sklearn/preprocessing/_encoders.py:868: FutureWarning: `sparse` was renamed to `sparse_output` in version 1.2 and will be removed in 1.4. `sparse_output` is ignored unless you leave `sparse` to its default value.\n",
            "  warnings.warn(\n"
          ]
        },
        {
          "output_type": "stream",
          "name": "stdout",
          "text": [
            "Performance Metrics for Quantum SVM (PauliFeatureMap_Y, SPSA) with PCA:\n",
            "              precision    recall  f1-score   support\n",
            "\n",
            "           0       0.47      0.81      0.60        21\n",
            "           1       0.56      0.21      0.30        24\n",
            "\n",
            "    accuracy                           0.49        45\n",
            "   macro avg       0.51      0.51      0.45        45\n",
            "weighted avg       0.52      0.49      0.44        45\n",
            "\n",
            "Quantum SVM training time (PauliFeatureMap_Y, SPSA) with PCA: 48.8102912902832 seconds\n"
          ]
        },
        {
          "output_type": "stream",
          "name": "stderr",
          "text": [
            "/usr/local/lib/python3.10/dist-packages/sklearn/preprocessing/_encoders.py:868: FutureWarning: `sparse` was renamed to `sparse_output` in version 1.2 and will be removed in 1.4. `sparse_output` is ignored unless you leave `sparse` to its default value.\n",
            "  warnings.warn(\n"
          ]
        },
        {
          "output_type": "stream",
          "name": "stdout",
          "text": [
            "Performance Metrics for Quantum SVM (PauliFeatureMap_Y, COBYLA) with PCA:\n",
            "              precision    recall  f1-score   support\n",
            "\n",
            "           0       0.00      0.00      0.00        21\n",
            "           1       0.53      1.00      0.70        24\n",
            "\n",
            "    accuracy                           0.53        45\n",
            "   macro avg       0.27      0.50      0.35        45\n",
            "weighted avg       0.28      0.53      0.37        45\n",
            "\n",
            "Quantum SVM training time (PauliFeatureMap_Y, COBYLA) with PCA: 28.447214603424072 seconds\n"
          ]
        },
        {
          "output_type": "stream",
          "name": "stderr",
          "text": [
            "/usr/local/lib/python3.10/dist-packages/sklearn/metrics/_classification.py:1344: UndefinedMetricWarning: Precision and F-score are ill-defined and being set to 0.0 in labels with no predicted samples. Use `zero_division` parameter to control this behavior.\n",
            "  _warn_prf(average, modifier, msg_start, len(result))\n",
            "/usr/local/lib/python3.10/dist-packages/sklearn/metrics/_classification.py:1344: UndefinedMetricWarning: Precision and F-score are ill-defined and being set to 0.0 in labels with no predicted samples. Use `zero_division` parameter to control this behavior.\n",
            "  _warn_prf(average, modifier, msg_start, len(result))\n",
            "/usr/local/lib/python3.10/dist-packages/sklearn/metrics/_classification.py:1344: UndefinedMetricWarning: Precision and F-score are ill-defined and being set to 0.0 in labels with no predicted samples. Use `zero_division` parameter to control this behavior.\n",
            "  _warn_prf(average, modifier, msg_start, len(result))\n",
            "/usr/local/lib/python3.10/dist-packages/sklearn/preprocessing/_encoders.py:868: FutureWarning: `sparse` was renamed to `sparse_output` in version 1.2 and will be removed in 1.4. `sparse_output` is ignored unless you leave `sparse` to its default value.\n",
            "  warnings.warn(\n"
          ]
        },
        {
          "output_type": "stream",
          "name": "stdout",
          "text": [
            "Performance Metrics for Quantum SVM (PauliFeatureMap_Y, L_BFGS_B) with PCA:\n",
            "              precision    recall  f1-score   support\n",
            "\n",
            "           0       0.47      1.00      0.64        21\n",
            "           1       0.00      0.00      0.00        24\n",
            "\n",
            "    accuracy                           0.47        45\n",
            "   macro avg       0.23      0.50      0.32        45\n",
            "weighted avg       0.22      0.47      0.30        45\n",
            "\n",
            "Quantum SVM training time (PauliFeatureMap_Y, L_BFGS_B) with PCA: 65.51400303840637 seconds\n"
          ]
        },
        {
          "output_type": "stream",
          "name": "stderr",
          "text": [
            "/usr/local/lib/python3.10/dist-packages/sklearn/metrics/_classification.py:1344: UndefinedMetricWarning: Precision and F-score are ill-defined and being set to 0.0 in labels with no predicted samples. Use `zero_division` parameter to control this behavior.\n",
            "  _warn_prf(average, modifier, msg_start, len(result))\n",
            "/usr/local/lib/python3.10/dist-packages/sklearn/metrics/_classification.py:1344: UndefinedMetricWarning: Precision and F-score are ill-defined and being set to 0.0 in labels with no predicted samples. Use `zero_division` parameter to control this behavior.\n",
            "  _warn_prf(average, modifier, msg_start, len(result))\n",
            "/usr/local/lib/python3.10/dist-packages/sklearn/metrics/_classification.py:1344: UndefinedMetricWarning: Precision and F-score are ill-defined and being set to 0.0 in labels with no predicted samples. Use `zero_division` parameter to control this behavior.\n",
            "  _warn_prf(average, modifier, msg_start, len(result))\n",
            "/usr/local/lib/python3.10/dist-packages/sklearn/preprocessing/_encoders.py:868: FutureWarning: `sparse` was renamed to `sparse_output` in version 1.2 and will be removed in 1.4. `sparse_output` is ignored unless you leave `sparse` to its default value.\n",
            "  warnings.warn(\n"
          ]
        },
        {
          "output_type": "stream",
          "name": "stdout",
          "text": [
            "Performance Metrics for Quantum SVM (PauliFeatureMap_Y, SLSQP) with PCA:\n",
            "              precision    recall  f1-score   support\n",
            "\n",
            "           0       0.47      0.71      0.57        21\n",
            "           1       0.54      0.29      0.38        24\n",
            "\n",
            "    accuracy                           0.49        45\n",
            "   macro avg       0.50      0.50      0.47        45\n",
            "weighted avg       0.51      0.49      0.47        45\n",
            "\n",
            "Quantum SVM training time (PauliFeatureMap_Y, SLSQP) with PCA: 30.88654065132141 seconds\n"
          ]
        },
        {
          "output_type": "stream",
          "name": "stderr",
          "text": [
            "/usr/local/lib/python3.10/dist-packages/sklearn/preprocessing/_encoders.py:868: FutureWarning: `sparse` was renamed to `sparse_output` in version 1.2 and will be removed in 1.4. `sparse_output` is ignored unless you leave `sparse` to its default value.\n",
            "  warnings.warn(\n"
          ]
        },
        {
          "output_type": "stream",
          "name": "stdout",
          "text": [
            "Performance Metrics for Quantum SVM (PauliFeatureMap_XYZYY, SPSA) with PCA:\n",
            "              precision    recall  f1-score   support\n",
            "\n",
            "           0       0.56      0.71      0.63        21\n",
            "           1       0.67      0.50      0.57        24\n",
            "\n",
            "    accuracy                           0.60        45\n",
            "   macro avg       0.61      0.61      0.60        45\n",
            "weighted avg       0.61      0.60      0.60        45\n",
            "\n",
            "Quantum SVM training time (PauliFeatureMap_XYZYY, SPSA) with PCA: 67.62096953392029 seconds\n"
          ]
        },
        {
          "output_type": "stream",
          "name": "stderr",
          "text": [
            "/usr/local/lib/python3.10/dist-packages/sklearn/preprocessing/_encoders.py:868: FutureWarning: `sparse` was renamed to `sparse_output` in version 1.2 and will be removed in 1.4. `sparse_output` is ignored unless you leave `sparse` to its default value.\n",
            "  warnings.warn(\n"
          ]
        },
        {
          "output_type": "stream",
          "name": "stdout",
          "text": [
            "Performance Metrics for Quantum SVM (PauliFeatureMap_XYZYY, COBYLA) with PCA:\n",
            "              precision    recall  f1-score   support\n",
            "\n",
            "           0       0.41      0.33      0.37        21\n",
            "           1       0.50      0.58      0.54        24\n",
            "\n",
            "    accuracy                           0.47        45\n",
            "   macro avg       0.46      0.46      0.45        45\n",
            "weighted avg       0.46      0.47      0.46        45\n",
            "\n",
            "Quantum SVM training time (PauliFeatureMap_XYZYY, COBYLA) with PCA: 33.41157031059265 seconds\n"
          ]
        },
        {
          "output_type": "stream",
          "name": "stderr",
          "text": [
            "/usr/local/lib/python3.10/dist-packages/sklearn/preprocessing/_encoders.py:868: FutureWarning: `sparse` was renamed to `sparse_output` in version 1.2 and will be removed in 1.4. `sparse_output` is ignored unless you leave `sparse` to its default value.\n",
            "  warnings.warn(\n"
          ]
        },
        {
          "output_type": "stream",
          "name": "stdout",
          "text": [
            "Performance Metrics for Quantum SVM (PauliFeatureMap_XYZYY, L_BFGS_B) with PCA:\n",
            "              precision    recall  f1-score   support\n",
            "\n",
            "           0       0.44      0.57      0.50        21\n",
            "           1       0.50      0.38      0.43        24\n",
            "\n",
            "    accuracy                           0.47        45\n",
            "   macro avg       0.47      0.47      0.46        45\n",
            "weighted avg       0.47      0.47      0.46        45\n",
            "\n",
            "Quantum SVM training time (PauliFeatureMap_XYZYY, L_BFGS_B) with PCA: 194.65059661865234 seconds\n"
          ]
        },
        {
          "output_type": "stream",
          "name": "stderr",
          "text": [
            "/usr/local/lib/python3.10/dist-packages/sklearn/preprocessing/_encoders.py:868: FutureWarning: `sparse` was renamed to `sparse_output` in version 1.2 and will be removed in 1.4. `sparse_output` is ignored unless you leave `sparse` to its default value.\n",
            "  warnings.warn(\n"
          ]
        },
        {
          "output_type": "stream",
          "name": "stdout",
          "text": [
            "Performance Metrics for Quantum SVM (PauliFeatureMap_XYZYY, SLSQP) with PCA:\n",
            "              precision    recall  f1-score   support\n",
            "\n",
            "           0       0.46      0.29      0.35        21\n",
            "           1       0.53      0.71      0.61        24\n",
            "\n",
            "    accuracy                           0.51        45\n",
            "   macro avg       0.50      0.50      0.48        45\n",
            "weighted avg       0.50      0.51      0.49        45\n",
            "\n",
            "Quantum SVM training time (PauliFeatureMap_XYZYY, SLSQP) with PCA: 94.72017788887024 seconds\n",
            "Best Configuration with PCA: Feature Map - PauliFeatureMap_YZ, Optimizer - L_BFGS_B\n"
          ]
        }
      ]
    },
    {
      "cell_type": "code",
      "source": [
        "import numpy as np\n",
        "from sklearn.decomposition import PCA\n",
        "import matplotlib.pyplot as plt\n",
        "from sklearn.model_selection import train_test_split\n",
        "from sklearn.preprocessing import StandardScaler\n",
        "from sklearn.svm import SVC\n",
        "from sklearn.metrics import classification_report, accuracy_score\n",
        "from qiskit import Aer\n",
        "from qiskit.circuit.library import PauliFeatureMap\n",
        "from qiskit.circuit.library import ZZFeatureMap\n",
        "from qiskit_machine_learning.algorithms.classifiers import VQC\n",
        "from qiskit.utils import QuantumInstance\n",
        "from qiskit.algorithms.optimizers import SPSA, COBYLA, L_BFGS_B, SLSQP, ADAM\n",
        "from time import time\n",
        "\n",
        "np.random.seed(0)\n",
        "\n",
        "# Define the number of samples and features\n",
        "num_samples = 150\n",
        "num_features = 7  # You can increase this number to create a higher-dimensional dataset\n",
        "\n",
        "# Generate random data with strong correlations in the first few features\n",
        "mean = np.zeros(num_features)\n",
        "cov = np.eye(num_features)\n",
        "for i in range(5):\n",
        "    cov[i, i] = 2.0  # Increase the variance for the first 5 features to make them important\n",
        "\n",
        "data = np.random.multivariate_normal(mean, cov, num_samples)\n",
        "\n",
        "# Split the data into training and testing sets\n",
        "X_train, X_test, y_train, y_test = train_test_split(data, np.random.choice([0, 1], size=num_samples), test_size=0.3, random_state=42)\n",
        "\n",
        "# Data Preprocessing\n",
        "scaler = StandardScaler().fit(X_train)\n",
        "X_train = scaler.transform(X_train)\n",
        "X_test = scaler.transform(X_test)\n",
        "\n",
        "# Perform PCA to reduce dimensionality\n",
        "pca = PCA(n_components=2)  # You can adjust the number of components as needed\n",
        "X_train_pca = pca.fit_transform(X_train)\n",
        "X_test_pca = pca.transform(X_test)\n",
        "\n",
        "# Train Classical SVM on reduced dataset\n",
        "classical_svm_pca = SVC(kernel='rbf', C=1.0, gamma='scale')\n",
        "start = time()\n",
        "classical_svm_pca.fit(X_train_pca, y_train)\n",
        "end = time()\n",
        "classical_svm_predictions_pca = classical_svm_pca.predict(X_test_pca)\n",
        "print(\"Performance Metrics for Classical SVM with PCA:\")\n",
        "print(classification_report(y_test, classical_svm_predictions_pca))\n",
        "print(f\"Classical SVM training time with PCA: {end - start} seconds\")\n",
        "\n",
        "# Define a list of feature maps and their parameters to tune for QSVM\n",
        "feature_maps = [\n",
        "    {'name': 'ZZFeatureMap', 'feature_map': ZZFeatureMap(feature_dimension=2, reps=2, entanglement='full')},\n",
        "    {'name': 'PauliFeatureMap_XY', 'feature_map': PauliFeatureMap(feature_dimension=2, reps=2, paulis=['X', 'Y'], entanglement='full')},\n",
        "    {'name': 'PauliFeatureMap_ZZ', 'feature_map': PauliFeatureMap(feature_dimension=2, reps=2, paulis=['Z', 'ZZ'], entanglement='full')},\n",
        "    {'name': 'PauliFeatureMap_XYZ', 'feature_map': PauliFeatureMap(feature_dimension=2, reps=2, paulis=['X', 'Y', 'Z'], entanglement='full')},\n",
        "    {'name': 'PauliFeatureMap_YZ', 'feature_map': PauliFeatureMap(feature_dimension=2, reps=2, paulis=['Y', 'Z'], entanglement='full')},\n",
        "    {'name': 'PauliFeatureMap_Y', 'feature_map': PauliFeatureMap(feature_dimension=2, reps=2, paulis=['Y'], entanglement='full')},\n",
        "    {'name': 'PauliFeatureMap_XYZYY', 'feature_map': PauliFeatureMap(feature_dimension=2, reps=2, paulis=['X', 'Y', 'Z', 'YY'], entanglement='full')},\n",
        "    # Add more feature maps and their parameters to explore\n",
        "]\n",
        "\n",
        "# Define a list of optimizer parameters to tune for QSVM\n",
        "optimizers = [\n",
        "    {'name': 'SPSA', 'optimizer': SPSA(maxiter=50)},\n",
        "    {'name': 'COBYLA', 'optimizer': COBYLA(maxiter=100)},\n",
        "    {'name': 'L_BFGS_B', 'optimizer': L_BFGS_B(maxfun=100, maxiter=100)},\n",
        "    {'name': 'SLSQP', 'optimizer': SLSQP(maxiter=100)},\n",
        "    # Add more optimizers and their parameters to explore\n",
        "]\n",
        "\n",
        "\n",
        "best_score = 0\n",
        "best_params = {}\n",
        "\n",
        "for feature_map_params in feature_maps:\n",
        "    feature_map_name = feature_map_params['name']\n",
        "    feature_map = feature_map_params['feature_map']\n",
        "\n",
        "    for optimizer_params in optimizers:\n",
        "        optimizer_name = optimizer_params['name']\n",
        "        optimizer = optimizer_params['optimizer']\n",
        "\n",
        "        # Create a sampler for the AerSimulator\n",
        "        sampler = Sampler()\n",
        "\n",
        "        # Create an instance of the AerSimulator\n",
        "        simulator = AerSimulator()\n",
        "\n",
        "        # Train QSVM with the current feature map and optimizer using the sampler\n",
        "        vqc = VQC(feature_map=feature_map, ansatz=None, optimizer=optimizer, quantum_instance=simulator)\n",
        "\n",
        "        start = time()\n",
        "        vqc.fit(X_train_pca, y_train)\n",
        "        end = time()\n",
        "\n",
        "        result_quantum = vqc.predict(X_test_pca)\n",
        "        score = accuracy_score(y_test, result_quantum)\n",
        "\n",
        "        # Print performance metrics and runtime for the current configuration\n",
        "        print(f\"Performance Metrics for Quantum SVM ({feature_map_name}, {optimizer_name}) with PCA:\")\n",
        "        print(classification_report(y_test, result_quantum))\n",
        "        print(f\"Quantum SVM training time ({feature_map_name}, {optimizer_name}) with PCA: {end - start} seconds\")\n",
        "\n",
        "        # Check if the current configuration is the best\n",
        "        if score > best_score:\n",
        "            best_score = score\n",
        "            best_params = {'feature_map': feature_map_name, 'optimizer': optimizer_name}\n",
        "\n",
        "# Print the best configuration found\n",
        "print(f\"Best Configuration with PCA: Feature Map - {best_params['feature_map']}, Optimizer - {best_params['optimizer']}\")"
      ],
      "metadata": {
        "colab": {
          "base_uri": "https://localhost:8080/"
        },
        "id": "mbjN7TTm1wDT",
        "outputId": "c5158a8e-839e-4109-91e4-6e4fddc95405"
      },
      "execution_count": null,
      "outputs": [
        {
          "output_type": "stream",
          "name": "stdout",
          "text": [
            "Performance Metrics for Classical SVM with PCA:\n",
            "              precision    recall  f1-score   support\n",
            "\n",
            "           0       0.40      0.29      0.33        21\n",
            "           1       0.50      0.62      0.56        24\n",
            "\n",
            "    accuracy                           0.47        45\n",
            "   macro avg       0.45      0.46      0.44        45\n",
            "weighted avg       0.45      0.47      0.45        45\n",
            "\n",
            "Classical SVM training time with PCA: 0.0015735626220703125 seconds\n"
          ]
        },
        {
          "output_type": "stream",
          "name": "stderr",
          "text": [
            "/usr/local/lib/python3.10/dist-packages/sklearn/preprocessing/_encoders.py:868: FutureWarning: `sparse` was renamed to `sparse_output` in version 1.2 and will be removed in 1.4. `sparse_output` is ignored unless you leave `sparse` to its default value.\n",
            "  warnings.warn(\n"
          ]
        },
        {
          "output_type": "stream",
          "name": "stdout",
          "text": [
            "Performance Metrics for Quantum SVM (ZZFeatureMap, SPSA) with PCA:\n",
            "              precision    recall  f1-score   support\n",
            "\n",
            "           0       0.40      0.48      0.43        21\n",
            "           1       0.45      0.38      0.41        24\n",
            "\n",
            "    accuracy                           0.42        45\n",
            "   macro avg       0.43      0.43      0.42        45\n",
            "weighted avg       0.43      0.42      0.42        45\n",
            "\n",
            "Quantum SVM training time (ZZFeatureMap, SPSA) with PCA: 53.33926749229431 seconds\n"
          ]
        },
        {
          "output_type": "stream",
          "name": "stderr",
          "text": [
            "/usr/local/lib/python3.10/dist-packages/sklearn/preprocessing/_encoders.py:868: FutureWarning: `sparse` was renamed to `sparse_output` in version 1.2 and will be removed in 1.4. `sparse_output` is ignored unless you leave `sparse` to its default value.\n",
            "  warnings.warn(\n"
          ]
        },
        {
          "output_type": "stream",
          "name": "stdout",
          "text": [
            "Performance Metrics for Quantum SVM (ZZFeatureMap, COBYLA) with PCA:\n",
            "              precision    recall  f1-score   support\n",
            "\n",
            "           0       0.50      0.57      0.53        21\n",
            "           1       0.57      0.50      0.53        24\n",
            "\n",
            "    accuracy                           0.53        45\n",
            "   macro avg       0.54      0.54      0.53        45\n",
            "weighted avg       0.54      0.53      0.53        45\n",
            "\n",
            "Quantum SVM training time (ZZFeatureMap, COBYLA) with PCA: 30.402641773223877 seconds\n"
          ]
        },
        {
          "output_type": "stream",
          "name": "stderr",
          "text": [
            "/usr/local/lib/python3.10/dist-packages/sklearn/preprocessing/_encoders.py:868: FutureWarning: `sparse` was renamed to `sparse_output` in version 1.2 and will be removed in 1.4. `sparse_output` is ignored unless you leave `sparse` to its default value.\n",
            "  warnings.warn(\n"
          ]
        },
        {
          "output_type": "stream",
          "name": "stdout",
          "text": [
            "Performance Metrics for Quantum SVM (ZZFeatureMap, L_BFGS_B) with PCA:\n",
            "              precision    recall  f1-score   support\n",
            "\n",
            "           0       0.48      0.48      0.48        21\n",
            "           1       0.54      0.54      0.54        24\n",
            "\n",
            "    accuracy                           0.51        45\n",
            "   macro avg       0.51      0.51      0.51        45\n",
            "weighted avg       0.51      0.51      0.51        45\n",
            "\n",
            "Quantum SVM training time (ZZFeatureMap, L_BFGS_B) with PCA: 129.57476592063904 seconds\n"
          ]
        },
        {
          "output_type": "stream",
          "name": "stderr",
          "text": [
            "/usr/local/lib/python3.10/dist-packages/sklearn/preprocessing/_encoders.py:868: FutureWarning: `sparse` was renamed to `sparse_output` in version 1.2 and will be removed in 1.4. `sparse_output` is ignored unless you leave `sparse` to its default value.\n",
            "  warnings.warn(\n"
          ]
        },
        {
          "output_type": "stream",
          "name": "stdout",
          "text": [
            "Performance Metrics for Quantum SVM (ZZFeatureMap, SLSQP) with PCA:\n",
            "              precision    recall  f1-score   support\n",
            "\n",
            "           0       0.48      0.48      0.48        21\n",
            "           1       0.54      0.54      0.54        24\n",
            "\n",
            "    accuracy                           0.51        45\n",
            "   macro avg       0.51      0.51      0.51        45\n",
            "weighted avg       0.51      0.51      0.51        45\n",
            "\n",
            "Quantum SVM training time (ZZFeatureMap, SLSQP) with PCA: 54.10663175582886 seconds\n"
          ]
        },
        {
          "output_type": "stream",
          "name": "stderr",
          "text": [
            "/usr/local/lib/python3.10/dist-packages/sklearn/preprocessing/_encoders.py:868: FutureWarning: `sparse` was renamed to `sparse_output` in version 1.2 and will be removed in 1.4. `sparse_output` is ignored unless you leave `sparse` to its default value.\n",
            "  warnings.warn(\n"
          ]
        },
        {
          "output_type": "stream",
          "name": "stdout",
          "text": [
            "Performance Metrics for Quantum SVM (PauliFeatureMap_XY, SPSA) with PCA:\n",
            "              precision    recall  f1-score   support\n",
            "\n",
            "           0       0.50      0.24      0.32        21\n",
            "           1       0.54      0.79      0.64        24\n",
            "\n",
            "    accuracy                           0.53        45\n",
            "   macro avg       0.52      0.51      0.48        45\n",
            "weighted avg       0.52      0.53      0.49        45\n",
            "\n",
            "Quantum SVM training time (PauliFeatureMap_XY, SPSA) with PCA: 53.277665853500366 seconds\n"
          ]
        },
        {
          "output_type": "stream",
          "name": "stderr",
          "text": [
            "/usr/local/lib/python3.10/dist-packages/sklearn/preprocessing/_encoders.py:868: FutureWarning: `sparse` was renamed to `sparse_output` in version 1.2 and will be removed in 1.4. `sparse_output` is ignored unless you leave `sparse` to its default value.\n",
            "  warnings.warn(\n"
          ]
        },
        {
          "output_type": "stream",
          "name": "stdout",
          "text": [
            "Performance Metrics for Quantum SVM (PauliFeatureMap_XY, COBYLA) with PCA:\n",
            "              precision    recall  f1-score   support\n",
            "\n",
            "           0       0.47      0.33      0.39        21\n",
            "           1       0.53      0.67      0.59        24\n",
            "\n",
            "    accuracy                           0.51        45\n",
            "   macro avg       0.50      0.50      0.49        45\n",
            "weighted avg       0.50      0.51      0.50        45\n",
            "\n",
            "Quantum SVM training time (PauliFeatureMap_XY, COBYLA) with PCA: 33.947853803634644 seconds\n"
          ]
        },
        {
          "output_type": "stream",
          "name": "stderr",
          "text": [
            "/usr/local/lib/python3.10/dist-packages/sklearn/preprocessing/_encoders.py:868: FutureWarning: `sparse` was renamed to `sparse_output` in version 1.2 and will be removed in 1.4. `sparse_output` is ignored unless you leave `sparse` to its default value.\n",
            "  warnings.warn(\n"
          ]
        },
        {
          "output_type": "stream",
          "name": "stdout",
          "text": [
            "Performance Metrics for Quantum SVM (PauliFeatureMap_XY, L_BFGS_B) with PCA:\n",
            "              precision    recall  f1-score   support\n",
            "\n",
            "           0       0.62      0.48      0.54        21\n",
            "           1       0.62      0.75      0.68        24\n",
            "\n",
            "    accuracy                           0.62        45\n",
            "   macro avg       0.62      0.61      0.61        45\n",
            "weighted avg       0.62      0.62      0.61        45\n",
            "\n",
            "Quantum SVM training time (PauliFeatureMap_XY, L_BFGS_B) with PCA: 186.40422654151917 seconds\n"
          ]
        },
        {
          "output_type": "stream",
          "name": "stderr",
          "text": [
            "/usr/local/lib/python3.10/dist-packages/sklearn/preprocessing/_encoders.py:868: FutureWarning: `sparse` was renamed to `sparse_output` in version 1.2 and will be removed in 1.4. `sparse_output` is ignored unless you leave `sparse` to its default value.\n",
            "  warnings.warn(\n"
          ]
        },
        {
          "output_type": "stream",
          "name": "stdout",
          "text": [
            "Performance Metrics for Quantum SVM (PauliFeatureMap_XY, SLSQP) with PCA:\n",
            "              precision    recall  f1-score   support\n",
            "\n",
            "           0       0.44      0.33      0.38        21\n",
            "           1       0.52      0.62      0.57        24\n",
            "\n",
            "    accuracy                           0.49        45\n",
            "   macro avg       0.48      0.48      0.47        45\n",
            "weighted avg       0.48      0.49      0.48        45\n",
            "\n",
            "Quantum SVM training time (PauliFeatureMap_XY, SLSQP) with PCA: 89.51269769668579 seconds\n"
          ]
        },
        {
          "output_type": "stream",
          "name": "stderr",
          "text": [
            "/usr/local/lib/python3.10/dist-packages/sklearn/preprocessing/_encoders.py:868: FutureWarning: `sparse` was renamed to `sparse_output` in version 1.2 and will be removed in 1.4. `sparse_output` is ignored unless you leave `sparse` to its default value.\n",
            "  warnings.warn(\n"
          ]
        },
        {
          "output_type": "stream",
          "name": "stdout",
          "text": [
            "Performance Metrics for Quantum SVM (PauliFeatureMap_ZZ, SPSA) with PCA:\n",
            "              precision    recall  f1-score   support\n",
            "\n",
            "           0       0.52      0.62      0.57        21\n",
            "           1       0.60      0.50      0.55        24\n",
            "\n",
            "    accuracy                           0.56        45\n",
            "   macro avg       0.56      0.56      0.56        45\n",
            "weighted avg       0.56      0.56      0.55        45\n",
            "\n",
            "Quantum SVM training time (PauliFeatureMap_ZZ, SPSA) with PCA: 53.61807036399841 seconds\n"
          ]
        },
        {
          "output_type": "stream",
          "name": "stderr",
          "text": [
            "/usr/local/lib/python3.10/dist-packages/sklearn/preprocessing/_encoders.py:868: FutureWarning: `sparse` was renamed to `sparse_output` in version 1.2 and will be removed in 1.4. `sparse_output` is ignored unless you leave `sparse` to its default value.\n",
            "  warnings.warn(\n"
          ]
        },
        {
          "output_type": "stream",
          "name": "stdout",
          "text": [
            "Performance Metrics for Quantum SVM (PauliFeatureMap_ZZ, COBYLA) with PCA:\n",
            "              precision    recall  f1-score   support\n",
            "\n",
            "           0       0.50      0.57      0.53        21\n",
            "           1       0.57      0.50      0.53        24\n",
            "\n",
            "    accuracy                           0.53        45\n",
            "   macro avg       0.54      0.54      0.53        45\n",
            "weighted avg       0.54      0.53      0.53        45\n",
            "\n",
            "Quantum SVM training time (PauliFeatureMap_ZZ, COBYLA) with PCA: 25.921238899230957 seconds\n"
          ]
        },
        {
          "output_type": "stream",
          "name": "stderr",
          "text": [
            "/usr/local/lib/python3.10/dist-packages/sklearn/preprocessing/_encoders.py:868: FutureWarning: `sparse` was renamed to `sparse_output` in version 1.2 and will be removed in 1.4. `sparse_output` is ignored unless you leave `sparse` to its default value.\n",
            "  warnings.warn(\n"
          ]
        },
        {
          "output_type": "stream",
          "name": "stdout",
          "text": [
            "Performance Metrics for Quantum SVM (PauliFeatureMap_ZZ, L_BFGS_B) with PCA:\n",
            "              precision    recall  f1-score   support\n",
            "\n",
            "           0       0.44      0.52      0.48        21\n",
            "           1       0.50      0.42      0.45        24\n",
            "\n",
            "    accuracy                           0.47        45\n",
            "   macro avg       0.47      0.47      0.47        45\n",
            "weighted avg       0.47      0.47      0.47        45\n",
            "\n",
            "Quantum SVM training time (PauliFeatureMap_ZZ, L_BFGS_B) with PCA: 135.8202633857727 seconds\n"
          ]
        },
        {
          "output_type": "stream",
          "name": "stderr",
          "text": [
            "/usr/local/lib/python3.10/dist-packages/sklearn/preprocessing/_encoders.py:868: FutureWarning: `sparse` was renamed to `sparse_output` in version 1.2 and will be removed in 1.4. `sparse_output` is ignored unless you leave `sparse` to its default value.\n",
            "  warnings.warn(\n"
          ]
        },
        {
          "output_type": "stream",
          "name": "stdout",
          "text": [
            "Performance Metrics for Quantum SVM (PauliFeatureMap_ZZ, SLSQP) with PCA:\n",
            "              precision    recall  f1-score   support\n",
            "\n",
            "           0       0.37      0.48      0.42        21\n",
            "           1       0.39      0.29      0.33        24\n",
            "\n",
            "    accuracy                           0.38        45\n",
            "   macro avg       0.38      0.38      0.38        45\n",
            "weighted avg       0.38      0.38      0.37        45\n",
            "\n",
            "Quantum SVM training time (PauliFeatureMap_ZZ, SLSQP) with PCA: 74.35725975036621 seconds\n"
          ]
        },
        {
          "output_type": "stream",
          "name": "stderr",
          "text": [
            "/usr/local/lib/python3.10/dist-packages/sklearn/preprocessing/_encoders.py:868: FutureWarning: `sparse` was renamed to `sparse_output` in version 1.2 and will be removed in 1.4. `sparse_output` is ignored unless you leave `sparse` to its default value.\n",
            "  warnings.warn(\n"
          ]
        },
        {
          "output_type": "stream",
          "name": "stdout",
          "text": [
            "Performance Metrics for Quantum SVM (PauliFeatureMap_XYZ, SPSA) with PCA:\n",
            "              precision    recall  f1-score   support\n",
            "\n",
            "           0       0.50      0.52      0.51        21\n",
            "           1       0.57      0.54      0.55        24\n",
            "\n",
            "    accuracy                           0.53        45\n",
            "   macro avg       0.53      0.53      0.53        45\n",
            "weighted avg       0.53      0.53      0.53        45\n",
            "\n",
            "Quantum SVM training time (PauliFeatureMap_XYZ, SPSA) with PCA: 57.59948992729187 seconds\n"
          ]
        },
        {
          "output_type": "stream",
          "name": "stderr",
          "text": [
            "/usr/local/lib/python3.10/dist-packages/sklearn/preprocessing/_encoders.py:868: FutureWarning: `sparse` was renamed to `sparse_output` in version 1.2 and will be removed in 1.4. `sparse_output` is ignored unless you leave `sparse` to its default value.\n",
            "  warnings.warn(\n"
          ]
        },
        {
          "output_type": "stream",
          "name": "stdout",
          "text": [
            "Performance Metrics for Quantum SVM (PauliFeatureMap_XYZ, COBYLA) with PCA:\n",
            "              precision    recall  f1-score   support\n",
            "\n",
            "           0       0.40      0.57      0.47        21\n",
            "           1       0.40      0.25      0.31        24\n",
            "\n",
            "    accuracy                           0.40        45\n",
            "   macro avg       0.40      0.41      0.39        45\n",
            "weighted avg       0.40      0.40      0.38        45\n",
            "\n",
            "Quantum SVM training time (PauliFeatureMap_XYZ, COBYLA) with PCA: 31.779385089874268 seconds\n"
          ]
        },
        {
          "output_type": "stream",
          "name": "stderr",
          "text": [
            "/usr/local/lib/python3.10/dist-packages/sklearn/preprocessing/_encoders.py:868: FutureWarning: `sparse` was renamed to `sparse_output` in version 1.2 and will be removed in 1.4. `sparse_output` is ignored unless you leave `sparse` to its default value.\n",
            "  warnings.warn(\n"
          ]
        },
        {
          "output_type": "stream",
          "name": "stdout",
          "text": [
            "Performance Metrics for Quantum SVM (PauliFeatureMap_XYZ, L_BFGS_B) with PCA:\n",
            "              precision    recall  f1-score   support\n",
            "\n",
            "           0       0.50      0.48      0.49        21\n",
            "           1       0.56      0.58      0.57        24\n",
            "\n",
            "    accuracy                           0.53        45\n",
            "   macro avg       0.53      0.53      0.53        45\n",
            "weighted avg       0.53      0.53      0.53        45\n",
            "\n",
            "Quantum SVM training time (PauliFeatureMap_XYZ, L_BFGS_B) with PCA: 187.46940398216248 seconds\n"
          ]
        },
        {
          "output_type": "stream",
          "name": "stderr",
          "text": [
            "/usr/local/lib/python3.10/dist-packages/sklearn/preprocessing/_encoders.py:868: FutureWarning: `sparse` was renamed to `sparse_output` in version 1.2 and will be removed in 1.4. `sparse_output` is ignored unless you leave `sparse` to its default value.\n",
            "  warnings.warn(\n"
          ]
        },
        {
          "output_type": "stream",
          "name": "stdout",
          "text": [
            "Performance Metrics for Quantum SVM (PauliFeatureMap_XYZ, SLSQP) with PCA:\n",
            "              precision    recall  f1-score   support\n",
            "\n",
            "           0       0.57      0.62      0.59        21\n",
            "           1       0.64      0.58      0.61        24\n",
            "\n",
            "    accuracy                           0.60        45\n",
            "   macro avg       0.60      0.60      0.60        45\n",
            "weighted avg       0.60      0.60      0.60        45\n",
            "\n",
            "Quantum SVM training time (PauliFeatureMap_XYZ, SLSQP) with PCA: 96.0146074295044 seconds\n"
          ]
        },
        {
          "output_type": "stream",
          "name": "stderr",
          "text": [
            "/usr/local/lib/python3.10/dist-packages/sklearn/preprocessing/_encoders.py:868: FutureWarning: `sparse` was renamed to `sparse_output` in version 1.2 and will be removed in 1.4. `sparse_output` is ignored unless you leave `sparse` to its default value.\n",
            "  warnings.warn(\n"
          ]
        },
        {
          "output_type": "stream",
          "name": "stdout",
          "text": [
            "Performance Metrics for Quantum SVM (PauliFeatureMap_YZ, SPSA) with PCA:\n",
            "              precision    recall  f1-score   support\n",
            "\n",
            "           0       0.38      0.38      0.38        21\n",
            "           1       0.46      0.46      0.46        24\n",
            "\n",
            "    accuracy                           0.42        45\n",
            "   macro avg       0.42      0.42      0.42        45\n",
            "weighted avg       0.42      0.42      0.42        45\n",
            "\n",
            "Quantum SVM training time (PauliFeatureMap_YZ, SPSA) with PCA: 54.21325445175171 seconds\n"
          ]
        },
        {
          "output_type": "stream",
          "name": "stderr",
          "text": [
            "/usr/local/lib/python3.10/dist-packages/sklearn/preprocessing/_encoders.py:868: FutureWarning: `sparse` was renamed to `sparse_output` in version 1.2 and will be removed in 1.4. `sparse_output` is ignored unless you leave `sparse` to its default value.\n",
            "  warnings.warn(\n"
          ]
        },
        {
          "output_type": "stream",
          "name": "stdout",
          "text": [
            "Performance Metrics for Quantum SVM (PauliFeatureMap_YZ, COBYLA) with PCA:\n",
            "              precision    recall  f1-score   support\n",
            "\n",
            "           0       0.58      0.33      0.42        21\n",
            "           1       0.58      0.79      0.67        24\n",
            "\n",
            "    accuracy                           0.58        45\n",
            "   macro avg       0.58      0.56      0.55        45\n",
            "weighted avg       0.58      0.58      0.55        45\n",
            "\n",
            "Quantum SVM training time (PauliFeatureMap_YZ, COBYLA) with PCA: 29.41203236579895 seconds\n"
          ]
        },
        {
          "output_type": "stream",
          "name": "stderr",
          "text": [
            "/usr/local/lib/python3.10/dist-packages/sklearn/preprocessing/_encoders.py:868: FutureWarning: `sparse` was renamed to `sparse_output` in version 1.2 and will be removed in 1.4. `sparse_output` is ignored unless you leave `sparse` to its default value.\n",
            "  warnings.warn(\n"
          ]
        },
        {
          "output_type": "stream",
          "name": "stdout",
          "text": [
            "Performance Metrics for Quantum SVM (PauliFeatureMap_YZ, L_BFGS_B) with PCA:\n",
            "              precision    recall  f1-score   support\n",
            "\n",
            "           0       0.38      0.29      0.32        21\n",
            "           1       0.48      0.58      0.53        24\n",
            "\n",
            "    accuracy                           0.44        45\n",
            "   macro avg       0.43      0.43      0.43        45\n",
            "weighted avg       0.43      0.44      0.43        45\n",
            "\n",
            "Quantum SVM training time (PauliFeatureMap_YZ, L_BFGS_B) with PCA: 139.70818257331848 seconds\n"
          ]
        },
        {
          "output_type": "stream",
          "name": "stderr",
          "text": [
            "/usr/local/lib/python3.10/dist-packages/sklearn/preprocessing/_encoders.py:868: FutureWarning: `sparse` was renamed to `sparse_output` in version 1.2 and will be removed in 1.4. `sparse_output` is ignored unless you leave `sparse` to its default value.\n",
            "  warnings.warn(\n"
          ]
        },
        {
          "output_type": "stream",
          "name": "stdout",
          "text": [
            "Performance Metrics for Quantum SVM (PauliFeatureMap_YZ, SLSQP) with PCA:\n",
            "              precision    recall  f1-score   support\n",
            "\n",
            "           0       0.40      0.67      0.50        21\n",
            "           1       0.30      0.12      0.18        24\n",
            "\n",
            "    accuracy                           0.38        45\n",
            "   macro avg       0.35      0.40      0.34        45\n",
            "weighted avg       0.35      0.38      0.33        45\n",
            "\n",
            "Quantum SVM training time (PauliFeatureMap_YZ, SLSQP) with PCA: 81.63064885139465 seconds\n"
          ]
        },
        {
          "output_type": "stream",
          "name": "stderr",
          "text": [
            "/usr/local/lib/python3.10/dist-packages/sklearn/preprocessing/_encoders.py:868: FutureWarning: `sparse` was renamed to `sparse_output` in version 1.2 and will be removed in 1.4. `sparse_output` is ignored unless you leave `sparse` to its default value.\n",
            "  warnings.warn(\n"
          ]
        },
        {
          "output_type": "stream",
          "name": "stdout",
          "text": [
            "Performance Metrics for Quantum SVM (PauliFeatureMap_Y, SPSA) with PCA:\n",
            "              precision    recall  f1-score   support\n",
            "\n",
            "           0       0.46      0.76      0.57        21\n",
            "           1       0.50      0.21      0.29        24\n",
            "\n",
            "    accuracy                           0.47        45\n",
            "   macro avg       0.48      0.49      0.43        45\n",
            "weighted avg       0.48      0.47      0.42        45\n",
            "\n",
            "Quantum SVM training time (PauliFeatureMap_Y, SPSA) with PCA: 49.75340294837952 seconds\n"
          ]
        },
        {
          "output_type": "stream",
          "name": "stderr",
          "text": [
            "/usr/local/lib/python3.10/dist-packages/sklearn/preprocessing/_encoders.py:868: FutureWarning: `sparse` was renamed to `sparse_output` in version 1.2 and will be removed in 1.4. `sparse_output` is ignored unless you leave `sparse` to its default value.\n",
            "  warnings.warn(\n"
          ]
        },
        {
          "output_type": "stream",
          "name": "stdout",
          "text": [
            "Performance Metrics for Quantum SVM (PauliFeatureMap_Y, COBYLA) with PCA:\n",
            "              precision    recall  f1-score   support\n",
            "\n",
            "           0       0.45      0.90      0.60        21\n",
            "           1       0.33      0.04      0.07        24\n",
            "\n",
            "    accuracy                           0.44        45\n",
            "   macro avg       0.39      0.47      0.34        45\n",
            "weighted avg       0.39      0.44      0.32        45\n",
            "\n",
            "Quantum SVM training time (PauliFeatureMap_Y, COBYLA) with PCA: 25.422003269195557 seconds\n"
          ]
        },
        {
          "output_type": "stream",
          "name": "stderr",
          "text": [
            "/usr/local/lib/python3.10/dist-packages/sklearn/preprocessing/_encoders.py:868: FutureWarning: `sparse` was renamed to `sparse_output` in version 1.2 and will be removed in 1.4. `sparse_output` is ignored unless you leave `sparse` to its default value.\n",
            "  warnings.warn(\n"
          ]
        },
        {
          "output_type": "stream",
          "name": "stdout",
          "text": [
            "Performance Metrics for Quantum SVM (PauliFeatureMap_Y, L_BFGS_B) with PCA:\n",
            "              precision    recall  f1-score   support\n",
            "\n",
            "           0       0.54      0.71      0.61        21\n",
            "           1       0.65      0.46      0.54        24\n",
            "\n",
            "    accuracy                           0.58        45\n",
            "   macro avg       0.59      0.59      0.57        45\n",
            "weighted avg       0.60      0.58      0.57        45\n",
            "\n",
            "Quantum SVM training time (PauliFeatureMap_Y, L_BFGS_B) with PCA: 70.78944611549377 seconds\n"
          ]
        },
        {
          "output_type": "stream",
          "name": "stderr",
          "text": [
            "/usr/local/lib/python3.10/dist-packages/sklearn/preprocessing/_encoders.py:868: FutureWarning: `sparse` was renamed to `sparse_output` in version 1.2 and will be removed in 1.4. `sparse_output` is ignored unless you leave `sparse` to its default value.\n",
            "  warnings.warn(\n"
          ]
        },
        {
          "output_type": "stream",
          "name": "stdout",
          "text": [
            "Performance Metrics for Quantum SVM (PauliFeatureMap_Y, SLSQP) with PCA:\n",
            "              precision    recall  f1-score   support\n",
            "\n",
            "           0       0.75      0.14      0.24        21\n",
            "           1       0.56      0.96      0.71        24\n",
            "\n",
            "    accuracy                           0.58        45\n",
            "   macro avg       0.66      0.55      0.47        45\n",
            "weighted avg       0.65      0.58      0.49        45\n",
            "\n",
            "Quantum SVM training time (PauliFeatureMap_Y, SLSQP) with PCA: 33.29446887969971 seconds\n"
          ]
        },
        {
          "output_type": "stream",
          "name": "stderr",
          "text": [
            "/usr/local/lib/python3.10/dist-packages/sklearn/preprocessing/_encoders.py:868: FutureWarning: `sparse` was renamed to `sparse_output` in version 1.2 and will be removed in 1.4. `sparse_output` is ignored unless you leave `sparse` to its default value.\n",
            "  warnings.warn(\n"
          ]
        },
        {
          "output_type": "stream",
          "name": "stdout",
          "text": [
            "Performance Metrics for Quantum SVM (PauliFeatureMap_XYZYY, SPSA) with PCA:\n",
            "              precision    recall  f1-score   support\n",
            "\n",
            "           0       0.44      0.57      0.50        21\n",
            "           1       0.50      0.38      0.43        24\n",
            "\n",
            "    accuracy                           0.47        45\n",
            "   macro avg       0.47      0.47      0.46        45\n",
            "weighted avg       0.47      0.47      0.46        45\n",
            "\n",
            "Quantum SVM training time (PauliFeatureMap_XYZYY, SPSA) with PCA: 67.2765531539917 seconds\n"
          ]
        },
        {
          "output_type": "stream",
          "name": "stderr",
          "text": [
            "/usr/local/lib/python3.10/dist-packages/sklearn/preprocessing/_encoders.py:868: FutureWarning: `sparse` was renamed to `sparse_output` in version 1.2 and will be removed in 1.4. `sparse_output` is ignored unless you leave `sparse` to its default value.\n",
            "  warnings.warn(\n"
          ]
        },
        {
          "output_type": "stream",
          "name": "stdout",
          "text": [
            "Performance Metrics for Quantum SVM (PauliFeatureMap_XYZYY, COBYLA) with PCA:\n",
            "              precision    recall  f1-score   support\n",
            "\n",
            "           0       0.33      0.38      0.36        21\n",
            "           1       0.38      0.33      0.36        24\n",
            "\n",
            "    accuracy                           0.36        45\n",
            "   macro avg       0.36      0.36      0.36        45\n",
            "weighted avg       0.36      0.36      0.36        45\n",
            "\n",
            "Quantum SVM training time (PauliFeatureMap_XYZYY, COBYLA) with PCA: 33.19159150123596 seconds\n"
          ]
        },
        {
          "output_type": "stream",
          "name": "stderr",
          "text": [
            "/usr/local/lib/python3.10/dist-packages/sklearn/preprocessing/_encoders.py:868: FutureWarning: `sparse` was renamed to `sparse_output` in version 1.2 and will be removed in 1.4. `sparse_output` is ignored unless you leave `sparse` to its default value.\n",
            "  warnings.warn(\n"
          ]
        },
        {
          "output_type": "stream",
          "name": "stdout",
          "text": [
            "Performance Metrics for Quantum SVM (PauliFeatureMap_XYZYY, L_BFGS_B) with PCA:\n",
            "              precision    recall  f1-score   support\n",
            "\n",
            "           0       0.53      0.38      0.44        21\n",
            "           1       0.57      0.71      0.63        24\n",
            "\n",
            "    accuracy                           0.56        45\n",
            "   macro avg       0.55      0.54      0.54        45\n",
            "weighted avg       0.55      0.56      0.54        45\n",
            "\n",
            "Quantum SVM training time (PauliFeatureMap_XYZYY, L_BFGS_B) with PCA: 74.4995129108429 seconds\n"
          ]
        },
        {
          "output_type": "stream",
          "name": "stderr",
          "text": [
            "/usr/local/lib/python3.10/dist-packages/sklearn/preprocessing/_encoders.py:868: FutureWarning: `sparse` was renamed to `sparse_output` in version 1.2 and will be removed in 1.4. `sparse_output` is ignored unless you leave `sparse` to its default value.\n",
            "  warnings.warn(\n"
          ]
        },
        {
          "output_type": "stream",
          "name": "stdout",
          "text": [
            "Performance Metrics for Quantum SVM (PauliFeatureMap_XYZYY, SLSQP) with PCA:\n",
            "              precision    recall  f1-score   support\n",
            "\n",
            "           0       0.47      0.33      0.39        21\n",
            "           1       0.53      0.67      0.59        24\n",
            "\n",
            "    accuracy                           0.51        45\n",
            "   macro avg       0.50      0.50      0.49        45\n",
            "weighted avg       0.50      0.51      0.50        45\n",
            "\n",
            "Quantum SVM training time (PauliFeatureMap_XYZYY, SLSQP) with PCA: 58.61647701263428 seconds\n",
            "Best Configuration with PCA: Feature Map - PauliFeatureMap_XY, Optimizer - L_BFGS_B\n"
          ]
        }
      ]
    },
    {
      "cell_type": "code",
      "source": [
        "import numpy as np\n",
        "from sklearn.decomposition import PCA\n",
        "import matplotlib.pyplot as plt\n",
        "from sklearn.model_selection import train_test_split\n",
        "from sklearn.preprocessing import StandardScaler\n",
        "from sklearn.svm import SVC\n",
        "from sklearn.metrics import classification_report, accuracy_score\n",
        "from qiskit import Aer\n",
        "from qiskit.circuit.library import PauliFeatureMap\n",
        "from qiskit.circuit.library import ZZFeatureMap\n",
        "from qiskit_machine_learning.algorithms.classifiers import VQC\n",
        "from qiskit.utils import QuantumInstance\n",
        "from qiskit.algorithms.optimizers import SPSA, COBYLA, L_BFGS_B, SLSQP, ADAM\n",
        "from time import time\n",
        "\n",
        "np.random.seed(0)\n",
        "\n",
        "# Define the number of samples and features\n",
        "num_samples = 150\n",
        "num_features = 7  # You can increase this number to create a higher-dimensional dataset\n",
        "\n",
        "# Generate random data with strong correlations in the first few features\n",
        "mean = np.zeros(num_features)\n",
        "cov = np.eye(num_features)\n",
        "for i in range(5):\n",
        "    cov[i, i] = 10.0  # Increase the variance for the first 5 features to make them important\n",
        "\n",
        "data = np.random.multivariate_normal(mean, cov, num_samples)\n",
        "\n",
        "# Split the data into training and testing sets\n",
        "X_train, X_test, y_train, y_test = train_test_split(data, np.random.choice([0, 1], size=num_samples), test_size=0.3, random_state=42)\n",
        "\n",
        "# Data Preprocessing\n",
        "scaler = StandardScaler().fit(X_train)\n",
        "X_train = scaler.transform(X_train)\n",
        "X_test = scaler.transform(X_test)\n",
        "\n",
        "# Perform PCA to reduce dimensionality\n",
        "pca = PCA(n_components=2)  # You can adjust the number of components as needed\n",
        "X_train_pca = pca.fit_transform(X_train)\n",
        "X_test_pca = pca.transform(X_test)\n",
        "\n",
        "# Train Classical SVM on reduced dataset\n",
        "classical_svm_pca = SVC(kernel='rbf', C=1.0, gamma='scale')\n",
        "start = time()\n",
        "classical_svm_pca.fit(X_train_pca, y_train)\n",
        "end = time()\n",
        "classical_svm_predictions_pca = classical_svm_pca.predict(X_test_pca)\n",
        "print(\"Performance Metrics for Classical SVM with PCA:\")\n",
        "print(classification_report(y_test, classical_svm_predictions_pca))\n",
        "print(f\"Classical SVM training time with PCA: {end - start} seconds\")\n",
        "\n",
        "# Define a list of feature maps and their parameters to tune for QSVM\n",
        "feature_maps = [\n",
        "    {'name': 'ZZFeatureMap', 'feature_map': ZZFeatureMap(feature_dimension=2, reps=2, entanglement='full')},\n",
        "    {'name': 'PauliFeatureMap_XY', 'feature_map': PauliFeatureMap(feature_dimension=2, reps=2, paulis=['X', 'Y'], entanglement='full')},\n",
        "    {'name': 'PauliFeatureMap_ZZ', 'feature_map': PauliFeatureMap(feature_dimension=2, reps=2, paulis=['Z', 'ZZ'], entanglement='full')},\n",
        "    {'name': 'PauliFeatureMap_XYZ', 'feature_map': PauliFeatureMap(feature_dimension=2, reps=2, paulis=['X', 'Y', 'Z'], entanglement='full')},\n",
        "    {'name': 'PauliFeatureMap_YZ', 'feature_map': PauliFeatureMap(feature_dimension=2, reps=2, paulis=['Y', 'Z'], entanglement='full')},\n",
        "    {'name': 'PauliFeatureMap_Y', 'feature_map': PauliFeatureMap(feature_dimension=2, reps=2, paulis=['Y'], entanglement='full')},\n",
        "    {'name': 'PauliFeatureMap_XYZYY', 'feature_map': PauliFeatureMap(feature_dimension=2, reps=2, paulis=['X', 'Y', 'Z', 'YY'], entanglement='full')},\n",
        "    # Add more feature maps and their parameters to explore\n",
        "]\n",
        "\n",
        "# Define a list of optimizer parameters to tune for QSVM\n",
        "optimizers = [\n",
        "    {'name': 'SPSA', 'optimizer': SPSA(maxiter=50)},\n",
        "    {'name': 'COBYLA', 'optimizer': COBYLA(maxiter=100)},\n",
        "    {'name': 'L_BFGS_B', 'optimizer': L_BFGS_B(maxfun=100, maxiter=100)},\n",
        "    {'name': 'SLSQP', 'optimizer': SLSQP(maxiter=100)},\n",
        "    # Add more optimizers and their parameters to explore\n",
        "]\n",
        "\n",
        "\n",
        "best_score = 0\n",
        "best_params = {}\n",
        "\n",
        "for feature_map_params in feature_maps:\n",
        "    feature_map_name = feature_map_params['name']\n",
        "    feature_map = feature_map_params['feature_map']\n",
        "\n",
        "    for optimizer_params in optimizers:\n",
        "        optimizer_name = optimizer_params['name']\n",
        "        optimizer = optimizer_params['optimizer']\n",
        "\n",
        "        # Create a sampler for the AerSimulator\n",
        "        sampler = Sampler()\n",
        "\n",
        "        # Create an instance of the AerSimulator\n",
        "        simulator = AerSimulator()\n",
        "\n",
        "        # Train QSVM with the current feature map and optimizer using the sampler\n",
        "        vqc = VQC(feature_map=feature_map, ansatz=None, optimizer=optimizer, quantum_instance=simulator)\n",
        "\n",
        "        start = time()\n",
        "        vqc.fit(X_train_pca, y_train)\n",
        "        end = time()\n",
        "\n",
        "        result_quantum = vqc.predict(X_test_pca)\n",
        "        score = accuracy_score(y_test, result_quantum)\n",
        "\n",
        "        # Print performance metrics and runtime for the current configuration\n",
        "        print(f\"Performance Metrics for Quantum SVM ({feature_map_name}, {optimizer_name}) with PCA:\")\n",
        "        print(classification_report(y_test, result_quantum))\n",
        "        print(f\"Quantum SVM training time ({feature_map_name}, {optimizer_name}) with PCA: {end - start} seconds\")\n",
        "\n",
        "        # Check if the current configuration is the best\n",
        "        if score > best_score:\n",
        "            best_score = score\n",
        "            best_params = {'feature_map': feature_map_name, 'optimizer': optimizer_name}\n",
        "\n",
        "# Print the best configuration found\n",
        "print(f\"Best Configuration with PCA: Feature Map - {best_params['feature_map']}, Optimizer - {best_params['optimizer']}\")"
      ],
      "metadata": {
        "colab": {
          "base_uri": "https://localhost:8080/"
        },
        "id": "hR3dh8Yf1x5z",
        "outputId": "b415599e-6614-4b28-ee0c-e23243259f18"
      },
      "execution_count": null,
      "outputs": [
        {
          "output_type": "stream",
          "name": "stdout",
          "text": [
            "Performance Metrics for Classical SVM with PCA:\n",
            "              precision    recall  f1-score   support\n",
            "\n",
            "           0       0.40      0.29      0.33        21\n",
            "           1       0.50      0.62      0.56        24\n",
            "\n",
            "    accuracy                           0.47        45\n",
            "   macro avg       0.45      0.46      0.44        45\n",
            "weighted avg       0.45      0.47      0.45        45\n",
            "\n",
            "Classical SVM training time with PCA: 0.0015692710876464844 seconds\n"
          ]
        },
        {
          "output_type": "stream",
          "name": "stderr",
          "text": [
            "/usr/local/lib/python3.10/dist-packages/sklearn/preprocessing/_encoders.py:868: FutureWarning: `sparse` was renamed to `sparse_output` in version 1.2 and will be removed in 1.4. `sparse_output` is ignored unless you leave `sparse` to its default value.\n",
            "  warnings.warn(\n"
          ]
        },
        {
          "output_type": "stream",
          "name": "stdout",
          "text": [
            "Performance Metrics for Quantum SVM (ZZFeatureMap, SPSA) with PCA:\n",
            "              precision    recall  f1-score   support\n",
            "\n",
            "           0       0.41      0.43      0.42        21\n",
            "           1       0.48      0.46      0.47        24\n",
            "\n",
            "    accuracy                           0.44        45\n",
            "   macro avg       0.44      0.44      0.44        45\n",
            "weighted avg       0.45      0.44      0.44        45\n",
            "\n",
            "Quantum SVM training time (ZZFeatureMap, SPSA) with PCA: 54.41015124320984 seconds\n"
          ]
        },
        {
          "output_type": "stream",
          "name": "stderr",
          "text": [
            "/usr/local/lib/python3.10/dist-packages/sklearn/preprocessing/_encoders.py:868: FutureWarning: `sparse` was renamed to `sparse_output` in version 1.2 and will be removed in 1.4. `sparse_output` is ignored unless you leave `sparse` to its default value.\n",
            "  warnings.warn(\n"
          ]
        },
        {
          "output_type": "stream",
          "name": "stdout",
          "text": [
            "Performance Metrics for Quantum SVM (ZZFeatureMap, COBYLA) with PCA:\n",
            "              precision    recall  f1-score   support\n",
            "\n",
            "           0       0.59      0.62      0.60        21\n",
            "           1       0.65      0.62      0.64        24\n",
            "\n",
            "    accuracy                           0.62        45\n",
            "   macro avg       0.62      0.62      0.62        45\n",
            "weighted avg       0.62      0.62      0.62        45\n",
            "\n",
            "Quantum SVM training time (ZZFeatureMap, COBYLA) with PCA: 29.24331545829773 seconds\n"
          ]
        },
        {
          "output_type": "stream",
          "name": "stderr",
          "text": [
            "/usr/local/lib/python3.10/dist-packages/sklearn/preprocessing/_encoders.py:868: FutureWarning: `sparse` was renamed to `sparse_output` in version 1.2 and will be removed in 1.4. `sparse_output` is ignored unless you leave `sparse` to its default value.\n",
            "  warnings.warn(\n"
          ]
        },
        {
          "output_type": "stream",
          "name": "stdout",
          "text": [
            "Performance Metrics for Quantum SVM (ZZFeatureMap, L_BFGS_B) with PCA:\n",
            "              precision    recall  f1-score   support\n",
            "\n",
            "           0       0.50      0.52      0.51        21\n",
            "           1       0.57      0.54      0.55        24\n",
            "\n",
            "    accuracy                           0.53        45\n",
            "   macro avg       0.53      0.53      0.53        45\n",
            "weighted avg       0.53      0.53      0.53        45\n",
            "\n",
            "Quantum SVM training time (ZZFeatureMap, L_BFGS_B) with PCA: 91.56800413131714 seconds\n"
          ]
        },
        {
          "output_type": "stream",
          "name": "stderr",
          "text": [
            "/usr/local/lib/python3.10/dist-packages/sklearn/preprocessing/_encoders.py:868: FutureWarning: `sparse` was renamed to `sparse_output` in version 1.2 and will be removed in 1.4. `sparse_output` is ignored unless you leave `sparse` to its default value.\n",
            "  warnings.warn(\n"
          ]
        },
        {
          "output_type": "stream",
          "name": "stdout",
          "text": [
            "Performance Metrics for Quantum SVM (ZZFeatureMap, SLSQP) with PCA:\n",
            "              precision    recall  f1-score   support\n",
            "\n",
            "           0       0.50      0.62      0.55        21\n",
            "           1       0.58      0.46      0.51        24\n",
            "\n",
            "    accuracy                           0.53        45\n",
            "   macro avg       0.54      0.54      0.53        45\n",
            "weighted avg       0.54      0.53      0.53        45\n",
            "\n",
            "Quantum SVM training time (ZZFeatureMap, SLSQP) with PCA: 63.446677923202515 seconds\n"
          ]
        },
        {
          "output_type": "stream",
          "name": "stderr",
          "text": [
            "/usr/local/lib/python3.10/dist-packages/sklearn/preprocessing/_encoders.py:868: FutureWarning: `sparse` was renamed to `sparse_output` in version 1.2 and will be removed in 1.4. `sparse_output` is ignored unless you leave `sparse` to its default value.\n",
            "  warnings.warn(\n"
          ]
        },
        {
          "output_type": "stream",
          "name": "stdout",
          "text": [
            "Performance Metrics for Quantum SVM (PauliFeatureMap_XY, SPSA) with PCA:\n",
            "              precision    recall  f1-score   support\n",
            "\n",
            "           0       0.41      0.62      0.49        21\n",
            "           1       0.38      0.21      0.27        24\n",
            "\n",
            "    accuracy                           0.40        45\n",
            "   macro avg       0.40      0.41      0.38        45\n",
            "weighted avg       0.39      0.40      0.37        45\n",
            "\n",
            "Quantum SVM training time (PauliFeatureMap_XY, SPSA) with PCA: 51.81282591819763 seconds\n"
          ]
        },
        {
          "output_type": "stream",
          "name": "stderr",
          "text": [
            "/usr/local/lib/python3.10/dist-packages/sklearn/preprocessing/_encoders.py:868: FutureWarning: `sparse` was renamed to `sparse_output` in version 1.2 and will be removed in 1.4. `sparse_output` is ignored unless you leave `sparse` to its default value.\n",
            "  warnings.warn(\n"
          ]
        },
        {
          "output_type": "stream",
          "name": "stdout",
          "text": [
            "Performance Metrics for Quantum SVM (PauliFeatureMap_XY, COBYLA) with PCA:\n",
            "              precision    recall  f1-score   support\n",
            "\n",
            "           0       0.50      0.29      0.36        21\n",
            "           1       0.55      0.75      0.63        24\n",
            "\n",
            "    accuracy                           0.53        45\n",
            "   macro avg       0.52      0.52      0.50        45\n",
            "weighted avg       0.52      0.53      0.51        45\n",
            "\n",
            "Quantum SVM training time (PauliFeatureMap_XY, COBYLA) with PCA: 31.019347190856934 seconds\n"
          ]
        },
        {
          "output_type": "stream",
          "name": "stderr",
          "text": [
            "/usr/local/lib/python3.10/dist-packages/sklearn/preprocessing/_encoders.py:868: FutureWarning: `sparse` was renamed to `sparse_output` in version 1.2 and will be removed in 1.4. `sparse_output` is ignored unless you leave `sparse` to its default value.\n",
            "  warnings.warn(\n"
          ]
        },
        {
          "output_type": "stream",
          "name": "stdout",
          "text": [
            "Performance Metrics for Quantum SVM (PauliFeatureMap_XY, L_BFGS_B) with PCA:\n",
            "              precision    recall  f1-score   support\n",
            "\n",
            "           0       0.54      0.33      0.41        21\n",
            "           1       0.56      0.75      0.64        24\n",
            "\n",
            "    accuracy                           0.56        45\n",
            "   macro avg       0.55      0.54      0.53        45\n",
            "weighted avg       0.55      0.56      0.54        45\n",
            "\n",
            "Quantum SVM training time (PauliFeatureMap_XY, L_BFGS_B) with PCA: 149.9267554283142 seconds\n"
          ]
        },
        {
          "output_type": "stream",
          "name": "stderr",
          "text": [
            "/usr/local/lib/python3.10/dist-packages/sklearn/preprocessing/_encoders.py:868: FutureWarning: `sparse` was renamed to `sparse_output` in version 1.2 and will be removed in 1.4. `sparse_output` is ignored unless you leave `sparse` to its default value.\n",
            "  warnings.warn(\n"
          ]
        },
        {
          "output_type": "stream",
          "name": "stdout",
          "text": [
            "Performance Metrics for Quantum SVM (PauliFeatureMap_XY, SLSQP) with PCA:\n",
            "              precision    recall  f1-score   support\n",
            "\n",
            "           0       0.50      0.24      0.32        21\n",
            "           1       0.54      0.79      0.64        24\n",
            "\n",
            "    accuracy                           0.53        45\n",
            "   macro avg       0.52      0.51      0.48        45\n",
            "weighted avg       0.52      0.53      0.49        45\n",
            "\n",
            "Quantum SVM training time (PauliFeatureMap_XY, SLSQP) with PCA: 68.87946915626526 seconds\n"
          ]
        },
        {
          "output_type": "stream",
          "name": "stderr",
          "text": [
            "/usr/local/lib/python3.10/dist-packages/sklearn/preprocessing/_encoders.py:868: FutureWarning: `sparse` was renamed to `sparse_output` in version 1.2 and will be removed in 1.4. `sparse_output` is ignored unless you leave `sparse` to its default value.\n",
            "  warnings.warn(\n"
          ]
        },
        {
          "output_type": "stream",
          "name": "stdout",
          "text": [
            "Performance Metrics for Quantum SVM (PauliFeatureMap_ZZ, SPSA) with PCA:\n",
            "              precision    recall  f1-score   support\n",
            "\n",
            "           0       0.43      0.43      0.43        21\n",
            "           1       0.50      0.50      0.50        24\n",
            "\n",
            "    accuracy                           0.47        45\n",
            "   macro avg       0.46      0.46      0.46        45\n",
            "weighted avg       0.47      0.47      0.47        45\n",
            "\n",
            "Quantum SVM training time (PauliFeatureMap_ZZ, SPSA) with PCA: 52.62623381614685 seconds\n"
          ]
        },
        {
          "output_type": "stream",
          "name": "stderr",
          "text": [
            "/usr/local/lib/python3.10/dist-packages/sklearn/preprocessing/_encoders.py:868: FutureWarning: `sparse` was renamed to `sparse_output` in version 1.2 and will be removed in 1.4. `sparse_output` is ignored unless you leave `sparse` to its default value.\n",
            "  warnings.warn(\n"
          ]
        },
        {
          "output_type": "stream",
          "name": "stdout",
          "text": [
            "Performance Metrics for Quantum SVM (PauliFeatureMap_ZZ, COBYLA) with PCA:\n",
            "              precision    recall  f1-score   support\n",
            "\n",
            "           0       0.48      0.67      0.56        21\n",
            "           1       0.56      0.38      0.45        24\n",
            "\n",
            "    accuracy                           0.51        45\n",
            "   macro avg       0.52      0.52      0.51        45\n",
            "weighted avg       0.53      0.51      0.50        45\n",
            "\n",
            "Quantum SVM training time (PauliFeatureMap_ZZ, COBYLA) with PCA: 28.288488626480103 seconds\n"
          ]
        },
        {
          "output_type": "stream",
          "name": "stderr",
          "text": [
            "/usr/local/lib/python3.10/dist-packages/sklearn/preprocessing/_encoders.py:868: FutureWarning: `sparse` was renamed to `sparse_output` in version 1.2 and will be removed in 1.4. `sparse_output` is ignored unless you leave `sparse` to its default value.\n",
            "  warnings.warn(\n"
          ]
        },
        {
          "output_type": "stream",
          "name": "stdout",
          "text": [
            "Performance Metrics for Quantum SVM (PauliFeatureMap_ZZ, L_BFGS_B) with PCA:\n",
            "              precision    recall  f1-score   support\n",
            "\n",
            "           0       0.44      0.57      0.50        21\n",
            "           1       0.50      0.38      0.43        24\n",
            "\n",
            "    accuracy                           0.47        45\n",
            "   macro avg       0.47      0.47      0.46        45\n",
            "weighted avg       0.47      0.47      0.46        45\n",
            "\n",
            "Quantum SVM training time (PauliFeatureMap_ZZ, L_BFGS_B) with PCA: 77.04775738716125 seconds\n"
          ]
        },
        {
          "output_type": "stream",
          "name": "stderr",
          "text": [
            "/usr/local/lib/python3.10/dist-packages/sklearn/preprocessing/_encoders.py:868: FutureWarning: `sparse` was renamed to `sparse_output` in version 1.2 and will be removed in 1.4. `sparse_output` is ignored unless you leave `sparse` to its default value.\n",
            "  warnings.warn(\n"
          ]
        },
        {
          "output_type": "stream",
          "name": "stdout",
          "text": [
            "Performance Metrics for Quantum SVM (PauliFeatureMap_ZZ, SLSQP) with PCA:\n",
            "              precision    recall  f1-score   support\n",
            "\n",
            "           0       0.52      0.52      0.52        21\n",
            "           1       0.58      0.58      0.58        24\n",
            "\n",
            "    accuracy                           0.56        45\n",
            "   macro avg       0.55      0.55      0.55        45\n",
            "weighted avg       0.56      0.56      0.56        45\n",
            "\n",
            "Quantum SVM training time (PauliFeatureMap_ZZ, SLSQP) with PCA: 43.137187242507935 seconds\n"
          ]
        },
        {
          "output_type": "stream",
          "name": "stderr",
          "text": [
            "/usr/local/lib/python3.10/dist-packages/sklearn/preprocessing/_encoders.py:868: FutureWarning: `sparse` was renamed to `sparse_output` in version 1.2 and will be removed in 1.4. `sparse_output` is ignored unless you leave `sparse` to its default value.\n",
            "  warnings.warn(\n"
          ]
        },
        {
          "output_type": "stream",
          "name": "stdout",
          "text": [
            "Performance Metrics for Quantum SVM (PauliFeatureMap_XYZ, SPSA) with PCA:\n",
            "              precision    recall  f1-score   support\n",
            "\n",
            "           0       0.56      0.86      0.68        21\n",
            "           1       0.77      0.42      0.54        24\n",
            "\n",
            "    accuracy                           0.62        45\n",
            "   macro avg       0.67      0.64      0.61        45\n",
            "weighted avg       0.67      0.62      0.61        45\n",
            "\n",
            "Quantum SVM training time (PauliFeatureMap_XYZ, SPSA) with PCA: 56.947250843048096 seconds\n"
          ]
        },
        {
          "output_type": "stream",
          "name": "stderr",
          "text": [
            "/usr/local/lib/python3.10/dist-packages/sklearn/preprocessing/_encoders.py:868: FutureWarning: `sparse` was renamed to `sparse_output` in version 1.2 and will be removed in 1.4. `sparse_output` is ignored unless you leave `sparse` to its default value.\n",
            "  warnings.warn(\n"
          ]
        },
        {
          "output_type": "stream",
          "name": "stdout",
          "text": [
            "Performance Metrics for Quantum SVM (PauliFeatureMap_XYZ, COBYLA) with PCA:\n",
            "              precision    recall  f1-score   support\n",
            "\n",
            "           0       0.50      0.57      0.53        21\n",
            "           1       0.57      0.50      0.53        24\n",
            "\n",
            "    accuracy                           0.53        45\n",
            "   macro avg       0.54      0.54      0.53        45\n",
            "weighted avg       0.54      0.53      0.53        45\n",
            "\n",
            "Quantum SVM training time (PauliFeatureMap_XYZ, COBYLA) with PCA: 32.93049120903015 seconds\n"
          ]
        },
        {
          "output_type": "stream",
          "name": "stderr",
          "text": [
            "/usr/local/lib/python3.10/dist-packages/sklearn/preprocessing/_encoders.py:868: FutureWarning: `sparse` was renamed to `sparse_output` in version 1.2 and will be removed in 1.4. `sparse_output` is ignored unless you leave `sparse` to its default value.\n",
            "  warnings.warn(\n"
          ]
        },
        {
          "output_type": "stream",
          "name": "stdout",
          "text": [
            "Performance Metrics for Quantum SVM (PauliFeatureMap_XYZ, L_BFGS_B) with PCA:\n",
            "              precision    recall  f1-score   support\n",
            "\n",
            "           0       0.55      0.86      0.67        21\n",
            "           1       0.75      0.38      0.50        24\n",
            "\n",
            "    accuracy                           0.60        45\n",
            "   macro avg       0.65      0.62      0.58        45\n",
            "weighted avg       0.65      0.60      0.58        45\n",
            "\n",
            "Quantum SVM training time (PauliFeatureMap_XYZ, L_BFGS_B) with PCA: 80.55268263816833 seconds\n"
          ]
        },
        {
          "output_type": "stream",
          "name": "stderr",
          "text": [
            "/usr/local/lib/python3.10/dist-packages/sklearn/preprocessing/_encoders.py:868: FutureWarning: `sparse` was renamed to `sparse_output` in version 1.2 and will be removed in 1.4. `sparse_output` is ignored unless you leave `sparse` to its default value.\n",
            "  warnings.warn(\n"
          ]
        },
        {
          "output_type": "stream",
          "name": "stdout",
          "text": [
            "Performance Metrics for Quantum SVM (PauliFeatureMap_XYZ, SLSQP) with PCA:\n",
            "              precision    recall  f1-score   support\n",
            "\n",
            "           0       0.41      0.52      0.46        21\n",
            "           1       0.44      0.33      0.38        24\n",
            "\n",
            "    accuracy                           0.42        45\n",
            "   macro avg       0.43      0.43      0.42        45\n",
            "weighted avg       0.43      0.42      0.42        45\n",
            "\n",
            "Quantum SVM training time (PauliFeatureMap_XYZ, SLSQP) with PCA: 27.711520195007324 seconds\n"
          ]
        },
        {
          "output_type": "stream",
          "name": "stderr",
          "text": [
            "/usr/local/lib/python3.10/dist-packages/sklearn/preprocessing/_encoders.py:868: FutureWarning: `sparse` was renamed to `sparse_output` in version 1.2 and will be removed in 1.4. `sparse_output` is ignored unless you leave `sparse` to its default value.\n",
            "  warnings.warn(\n"
          ]
        },
        {
          "output_type": "stream",
          "name": "stdout",
          "text": [
            "Performance Metrics for Quantum SVM (PauliFeatureMap_YZ, SPSA) with PCA:\n",
            "              precision    recall  f1-score   support\n",
            "\n",
            "           0       0.40      0.29      0.33        21\n",
            "           1       0.50      0.62      0.56        24\n",
            "\n",
            "    accuracy                           0.47        45\n",
            "   macro avg       0.45      0.46      0.44        45\n",
            "weighted avg       0.45      0.47      0.45        45\n",
            "\n",
            "Quantum SVM training time (PauliFeatureMap_YZ, SPSA) with PCA: 54.19465446472168 seconds\n"
          ]
        },
        {
          "output_type": "stream",
          "name": "stderr",
          "text": [
            "/usr/local/lib/python3.10/dist-packages/sklearn/preprocessing/_encoders.py:868: FutureWarning: `sparse` was renamed to `sparse_output` in version 1.2 and will be removed in 1.4. `sparse_output` is ignored unless you leave `sparse` to its default value.\n",
            "  warnings.warn(\n"
          ]
        },
        {
          "output_type": "stream",
          "name": "stdout",
          "text": [
            "Performance Metrics for Quantum SVM (PauliFeatureMap_YZ, COBYLA) with PCA:\n",
            "              precision    recall  f1-score   support\n",
            "\n",
            "           0       0.35      0.33      0.34        21\n",
            "           1       0.44      0.46      0.45        24\n",
            "\n",
            "    accuracy                           0.40        45\n",
            "   macro avg       0.40      0.40      0.40        45\n",
            "weighted avg       0.40      0.40      0.40        45\n",
            "\n",
            "Quantum SVM training time (PauliFeatureMap_YZ, COBYLA) with PCA: 27.4987154006958 seconds\n"
          ]
        },
        {
          "output_type": "stream",
          "name": "stderr",
          "text": [
            "/usr/local/lib/python3.10/dist-packages/sklearn/preprocessing/_encoders.py:868: FutureWarning: `sparse` was renamed to `sparse_output` in version 1.2 and will be removed in 1.4. `sparse_output` is ignored unless you leave `sparse` to its default value.\n",
            "  warnings.warn(\n"
          ]
        },
        {
          "output_type": "stream",
          "name": "stdout",
          "text": [
            "Performance Metrics for Quantum SVM (PauliFeatureMap_YZ, L_BFGS_B) with PCA:\n",
            "              precision    recall  f1-score   support\n",
            "\n",
            "           0       0.47      0.71      0.57        21\n",
            "           1       0.54      0.29      0.38        24\n",
            "\n",
            "    accuracy                           0.49        45\n",
            "   macro avg       0.50      0.50      0.47        45\n",
            "weighted avg       0.51      0.49      0.47        45\n",
            "\n",
            "Quantum SVM training time (PauliFeatureMap_YZ, L_BFGS_B) with PCA: 140.95114541053772 seconds\n"
          ]
        },
        {
          "output_type": "stream",
          "name": "stderr",
          "text": [
            "/usr/local/lib/python3.10/dist-packages/sklearn/preprocessing/_encoders.py:868: FutureWarning: `sparse` was renamed to `sparse_output` in version 1.2 and will be removed in 1.4. `sparse_output` is ignored unless you leave `sparse` to its default value.\n",
            "  warnings.warn(\n"
          ]
        },
        {
          "output_type": "stream",
          "name": "stdout",
          "text": [
            "Performance Metrics for Quantum SVM (PauliFeatureMap_YZ, SLSQP) with PCA:\n",
            "              precision    recall  f1-score   support\n",
            "\n",
            "           0       0.53      0.43      0.47        21\n",
            "           1       0.57      0.67      0.62        24\n",
            "\n",
            "    accuracy                           0.56        45\n",
            "   macro avg       0.55      0.55      0.54        45\n",
            "weighted avg       0.55      0.56      0.55        45\n",
            "\n",
            "Quantum SVM training time (PauliFeatureMap_YZ, SLSQP) with PCA: 50.59594678878784 seconds\n"
          ]
        },
        {
          "output_type": "stream",
          "name": "stderr",
          "text": [
            "/usr/local/lib/python3.10/dist-packages/sklearn/preprocessing/_encoders.py:868: FutureWarning: `sparse` was renamed to `sparse_output` in version 1.2 and will be removed in 1.4. `sparse_output` is ignored unless you leave `sparse` to its default value.\n",
            "  warnings.warn(\n"
          ]
        },
        {
          "output_type": "stream",
          "name": "stdout",
          "text": [
            "Performance Metrics for Quantum SVM (PauliFeatureMap_Y, SPSA) with PCA:\n",
            "              precision    recall  f1-score   support\n",
            "\n",
            "           0       0.50      0.62      0.55        21\n",
            "           1       0.58      0.46      0.51        24\n",
            "\n",
            "    accuracy                           0.53        45\n",
            "   macro avg       0.54      0.54      0.53        45\n",
            "weighted avg       0.54      0.53      0.53        45\n",
            "\n",
            "Quantum SVM training time (PauliFeatureMap_Y, SPSA) with PCA: 50.3077073097229 seconds\n"
          ]
        },
        {
          "output_type": "stream",
          "name": "stderr",
          "text": [
            "/usr/local/lib/python3.10/dist-packages/sklearn/preprocessing/_encoders.py:868: FutureWarning: `sparse` was renamed to `sparse_output` in version 1.2 and will be removed in 1.4. `sparse_output` is ignored unless you leave `sparse` to its default value.\n",
            "  warnings.warn(\n"
          ]
        },
        {
          "output_type": "stream",
          "name": "stdout",
          "text": [
            "Performance Metrics for Quantum SVM (PauliFeatureMap_Y, COBYLA) with PCA:\n",
            "              precision    recall  f1-score   support\n",
            "\n",
            "           0       0.48      0.71      0.58        21\n",
            "           1       0.57      0.33      0.42        24\n",
            "\n",
            "    accuracy                           0.51        45\n",
            "   macro avg       0.53      0.52      0.50        45\n",
            "weighted avg       0.53      0.51      0.49        45\n",
            "\n",
            "Quantum SVM training time (PauliFeatureMap_Y, COBYLA) with PCA: 22.040719270706177 seconds\n"
          ]
        },
        {
          "output_type": "stream",
          "name": "stderr",
          "text": [
            "/usr/local/lib/python3.10/dist-packages/sklearn/preprocessing/_encoders.py:868: FutureWarning: `sparse` was renamed to `sparse_output` in version 1.2 and will be removed in 1.4. `sparse_output` is ignored unless you leave `sparse` to its default value.\n",
            "  warnings.warn(\n"
          ]
        },
        {
          "output_type": "stream",
          "name": "stdout",
          "text": [
            "Performance Metrics for Quantum SVM (PauliFeatureMap_Y, L_BFGS_B) with PCA:\n",
            "              precision    recall  f1-score   support\n",
            "\n",
            "           0       0.44      0.67      0.53        21\n",
            "           1       0.46      0.25      0.32        24\n",
            "\n",
            "    accuracy                           0.44        45\n",
            "   macro avg       0.45      0.46      0.43        45\n",
            "weighted avg       0.45      0.44      0.42        45\n",
            "\n",
            "Quantum SVM training time (PauliFeatureMap_Y, L_BFGS_B) with PCA: 70.93299269676208 seconds\n"
          ]
        },
        {
          "output_type": "stream",
          "name": "stderr",
          "text": [
            "/usr/local/lib/python3.10/dist-packages/sklearn/preprocessing/_encoders.py:868: FutureWarning: `sparse` was renamed to `sparse_output` in version 1.2 and will be removed in 1.4. `sparse_output` is ignored unless you leave `sparse` to its default value.\n",
            "  warnings.warn(\n"
          ]
        },
        {
          "output_type": "stream",
          "name": "stdout",
          "text": [
            "Performance Metrics for Quantum SVM (PauliFeatureMap_Y, SLSQP) with PCA:\n",
            "              precision    recall  f1-score   support\n",
            "\n",
            "           0       0.41      0.62      0.49        21\n",
            "           1       0.38      0.21      0.27        24\n",
            "\n",
            "    accuracy                           0.40        45\n",
            "   macro avg       0.40      0.41      0.38        45\n",
            "weighted avg       0.39      0.40      0.37        45\n",
            "\n",
            "Quantum SVM training time (PauliFeatureMap_Y, SLSQP) with PCA: 47.300641775131226 seconds\n"
          ]
        },
        {
          "output_type": "stream",
          "name": "stderr",
          "text": [
            "/usr/local/lib/python3.10/dist-packages/sklearn/preprocessing/_encoders.py:868: FutureWarning: `sparse` was renamed to `sparse_output` in version 1.2 and will be removed in 1.4. `sparse_output` is ignored unless you leave `sparse` to its default value.\n",
            "  warnings.warn(\n"
          ]
        },
        {
          "output_type": "stream",
          "name": "stdout",
          "text": [
            "Performance Metrics for Quantum SVM (PauliFeatureMap_XYZYY, SPSA) with PCA:\n",
            "              precision    recall  f1-score   support\n",
            "\n",
            "           0       0.50      0.48      0.49        21\n",
            "           1       0.56      0.58      0.57        24\n",
            "\n",
            "    accuracy                           0.53        45\n",
            "   macro avg       0.53      0.53      0.53        45\n",
            "weighted avg       0.53      0.53      0.53        45\n",
            "\n",
            "Quantum SVM training time (PauliFeatureMap_XYZYY, SPSA) with PCA: 66.22655391693115 seconds\n"
          ]
        },
        {
          "output_type": "stream",
          "name": "stderr",
          "text": [
            "/usr/local/lib/python3.10/dist-packages/sklearn/preprocessing/_encoders.py:868: FutureWarning: `sparse` was renamed to `sparse_output` in version 1.2 and will be removed in 1.4. `sparse_output` is ignored unless you leave `sparse` to its default value.\n",
            "  warnings.warn(\n"
          ]
        },
        {
          "output_type": "stream",
          "name": "stdout",
          "text": [
            "Performance Metrics for Quantum SVM (PauliFeatureMap_XYZYY, COBYLA) with PCA:\n",
            "              precision    recall  f1-score   support\n",
            "\n",
            "           0       0.55      0.57      0.56        21\n",
            "           1       0.61      0.58      0.60        24\n",
            "\n",
            "    accuracy                           0.58        45\n",
            "   macro avg       0.58      0.58      0.58        45\n",
            "weighted avg       0.58      0.58      0.58        45\n",
            "\n",
            "Quantum SVM training time (PauliFeatureMap_XYZYY, COBYLA) with PCA: 37.28031253814697 seconds\n"
          ]
        },
        {
          "output_type": "stream",
          "name": "stderr",
          "text": [
            "/usr/local/lib/python3.10/dist-packages/sklearn/preprocessing/_encoders.py:868: FutureWarning: `sparse` was renamed to `sparse_output` in version 1.2 and will be removed in 1.4. `sparse_output` is ignored unless you leave `sparse` to its default value.\n",
            "  warnings.warn(\n"
          ]
        },
        {
          "output_type": "stream",
          "name": "stdout",
          "text": [
            "Performance Metrics for Quantum SVM (PauliFeatureMap_XYZYY, L_BFGS_B) with PCA:\n",
            "              precision    recall  f1-score   support\n",
            "\n",
            "           0       0.44      0.38      0.41        21\n",
            "           1       0.52      0.58      0.55        24\n",
            "\n",
            "    accuracy                           0.49        45\n",
            "   macro avg       0.48      0.48      0.48        45\n",
            "weighted avg       0.48      0.49      0.48        45\n",
            "\n",
            "Quantum SVM training time (PauliFeatureMap_XYZYY, L_BFGS_B) with PCA: 119.43451356887817 seconds\n"
          ]
        },
        {
          "output_type": "stream",
          "name": "stderr",
          "text": [
            "/usr/local/lib/python3.10/dist-packages/sklearn/preprocessing/_encoders.py:868: FutureWarning: `sparse` was renamed to `sparse_output` in version 1.2 and will be removed in 1.4. `sparse_output` is ignored unless you leave `sparse` to its default value.\n",
            "  warnings.warn(\n"
          ]
        },
        {
          "output_type": "stream",
          "name": "stdout",
          "text": [
            "Performance Metrics for Quantum SVM (PauliFeatureMap_XYZYY, SLSQP) with PCA:\n",
            "              precision    recall  f1-score   support\n",
            "\n",
            "           0       0.50      0.33      0.40        21\n",
            "           1       0.55      0.71      0.62        24\n",
            "\n",
            "    accuracy                           0.53        45\n",
            "   macro avg       0.52      0.52      0.51        45\n",
            "weighted avg       0.53      0.53      0.52        45\n",
            "\n",
            "Quantum SVM training time (PauliFeatureMap_XYZYY, SLSQP) with PCA: 79.02760481834412 seconds\n",
            "Best Configuration with PCA: Feature Map - ZZFeatureMap, Optimizer - COBYLA\n"
          ]
        }
      ]
    },
    {
      "cell_type": "code",
      "source": [
        "import numpy as np\n",
        "from sklearn.decomposition import PCA\n",
        "import matplotlib.pyplot as plt\n",
        "from sklearn.model_selection import train_test_split\n",
        "from sklearn.preprocessing import StandardScaler\n",
        "from sklearn.svm import SVC\n",
        "from sklearn.metrics import classification_report, accuracy_score\n",
        "from qiskit import Aer\n",
        "from qiskit.circuit.library import PauliFeatureMap\n",
        "from qiskit.circuit.library import ZZFeatureMap\n",
        "from qiskit_machine_learning.algorithms.classifiers import VQC\n",
        "from qiskit.utils import QuantumInstance\n",
        "from qiskit.algorithms.optimizers import SPSA, COBYLA, L_BFGS_B, SLSQP, ADAM\n",
        "from time import time\n",
        "\n",
        "np.random.seed(0)\n",
        "\n",
        "# Define the number of samples and features\n",
        "num_samples = 150\n",
        "num_features = 10  # You can increase this number to create a higher-dimensional dataset\n",
        "\n",
        "# Generate random data with strong correlations in the first few features\n",
        "mean = np.zeros(num_features)\n",
        "cov = np.eye(num_features)\n",
        "for i in range(5):\n",
        "    cov[i, i] = 0.0  # Increase the variance for the first 5 features to make them important\n",
        "\n",
        "data = np.random.multivariate_normal(mean, cov, num_samples)\n",
        "\n",
        "# Split the data into training and testing sets\n",
        "X_train, X_test, y_train, y_test = train_test_split(data, np.random.choice([0, 1], size=num_samples), test_size=0.3, random_state=42)\n",
        "\n",
        "# Data Preprocessing\n",
        "scaler = StandardScaler().fit(X_train)\n",
        "X_train = scaler.transform(X_train)\n",
        "X_test = scaler.transform(X_test)\n",
        "\n",
        "# Perform PCA to reduce dimensionality\n",
        "pca = PCA(n_components=2)  # You can adjust the number of components as needed\n",
        "X_train_pca = pca.fit_transform(X_train)\n",
        "X_test_pca = pca.transform(X_test)\n",
        "\n",
        "# Train Classical SVM on reduced dataset\n",
        "classical_svm_pca = SVC(kernel='rbf', C=1.0, gamma='scale')\n",
        "start = time()\n",
        "classical_svm_pca.fit(X_train_pca, y_train)\n",
        "end = time()\n",
        "classical_svm_predictions_pca = classical_svm_pca.predict(X_test_pca)\n",
        "print(\"Performance Metrics for Classical SVM with PCA:\")\n",
        "print(classification_report(y_test, classical_svm_predictions_pca))\n",
        "print(f\"Classical SVM training time with PCA: {end - start} seconds\")\n",
        "\n",
        "# Define a list of feature maps and their parameters to tune for QSVM\n",
        "feature_maps = [\n",
        "    {'name': 'ZZFeatureMap', 'feature_map': ZZFeatureMap(feature_dimension=2, reps=2, entanglement='full')},\n",
        "    {'name': 'PauliFeatureMap_XY', 'feature_map': PauliFeatureMap(feature_dimension=2, reps=2, paulis=['X', 'Y'], entanglement='full')},\n",
        "    {'name': 'PauliFeatureMap_ZZ', 'feature_map': PauliFeatureMap(feature_dimension=2, reps=2, paulis=['Z', 'ZZ'], entanglement='full')},\n",
        "    {'name': 'PauliFeatureMap_XYZ', 'feature_map': PauliFeatureMap(feature_dimension=2, reps=2, paulis=['X', 'Y', 'Z'], entanglement='full')},\n",
        "    {'name': 'PauliFeatureMap_YZ', 'feature_map': PauliFeatureMap(feature_dimension=2, reps=2, paulis=['Y', 'Z'], entanglement='full')},\n",
        "    {'name': 'PauliFeatureMap_Y', 'feature_map': PauliFeatureMap(feature_dimension=2, reps=2, paulis=['Y'], entanglement='full')},\n",
        "    {'name': 'PauliFeatureMap_XYZYY', 'feature_map': PauliFeatureMap(feature_dimension=2, reps=2, paulis=['X', 'Y', 'Z', 'YY'], entanglement='full')},\n",
        "    # Add more feature maps and their parameters to explore\n",
        "]\n",
        "\n",
        "# Define a list of optimizer parameters to tune for QSVM\n",
        "optimizers = [\n",
        "    {'name': 'SPSA', 'optimizer': SPSA(maxiter=50)},\n",
        "    {'name': 'COBYLA', 'optimizer': COBYLA(maxiter=100)},\n",
        "    {'name': 'L_BFGS_B', 'optimizer': L_BFGS_B(maxfun=100, maxiter=100)},\n",
        "    {'name': 'SLSQP', 'optimizer': SLSQP(maxiter=100)},\n",
        "    # Add more optimizers and their parameters to explore\n",
        "]\n",
        "\n",
        "\n",
        "best_score = 0\n",
        "best_params = {}\n",
        "\n",
        "for feature_map_params in feature_maps:\n",
        "    feature_map_name = feature_map_params['name']\n",
        "    feature_map = feature_map_params['feature_map']\n",
        "\n",
        "    for optimizer_params in optimizers:\n",
        "        optimizer_name = optimizer_params['name']\n",
        "        optimizer = optimizer_params['optimizer']\n",
        "\n",
        "        # Create a sampler for the AerSimulator\n",
        "        sampler = Sampler()\n",
        "\n",
        "        # Create an instance of the AerSimulator\n",
        "        simulator = AerSimulator()\n",
        "\n",
        "        # Train QSVM with the current feature map and optimizer using the sampler\n",
        "        vqc = VQC(feature_map=feature_map, ansatz=None, optimizer=optimizer, quantum_instance=simulator)\n",
        "\n",
        "        start = time()\n",
        "        vqc.fit(X_train_pca, y_train)\n",
        "        end = time()\n",
        "\n",
        "        result_quantum = vqc.predict(X_test_pca)\n",
        "        score = accuracy_score(y_test, result_quantum)\n",
        "\n",
        "        # Print performance metrics and runtime for the current configuration\n",
        "        print(f\"Performance Metrics for Quantum SVM ({feature_map_name}, {optimizer_name}) with PCA:\")\n",
        "        print(classification_report(y_test, result_quantum))\n",
        "        print(f\"Quantum SVM training time ({feature_map_name}, {optimizer_name}) with PCA: {end - start} seconds\")\n",
        "\n",
        "        # Check if the current configuration is the best\n",
        "        if score > best_score:\n",
        "            best_score = score\n",
        "            best_params = {'feature_map': feature_map_name, 'optimizer': optimizer_name}\n",
        "\n",
        "# Print the best configuration found\n",
        "print(f\"Best Configuration with PCA: Feature Map - {best_params['feature_map']}, Optimizer - {best_params['optimizer']}\")"
      ],
      "metadata": {
        "colab": {
          "base_uri": "https://localhost:8080/"
        },
        "id": "wDBrrU2j11EB",
        "outputId": "418092c5-a036-443e-a34e-fbf8c945d7f3"
      },
      "execution_count": null,
      "outputs": [
        {
          "output_type": "stream",
          "name": "stdout",
          "text": [
            "Performance Metrics for Classical SVM with PCA:\n",
            "              precision    recall  f1-score   support\n",
            "\n",
            "           0       0.50      0.20      0.29        25\n",
            "           1       0.43      0.75      0.55        20\n",
            "\n",
            "    accuracy                           0.44        45\n",
            "   macro avg       0.46      0.47      0.42        45\n",
            "weighted avg       0.47      0.44      0.40        45\n",
            "\n",
            "Classical SVM training time with PCA: 0.0017189979553222656 seconds\n"
          ]
        },
        {
          "output_type": "stream",
          "name": "stderr",
          "text": [
            "/usr/local/lib/python3.10/dist-packages/sklearn/preprocessing/_encoders.py:868: FutureWarning: `sparse` was renamed to `sparse_output` in version 1.2 and will be removed in 1.4. `sparse_output` is ignored unless you leave `sparse` to its default value.\n",
            "  warnings.warn(\n"
          ]
        },
        {
          "output_type": "stream",
          "name": "stdout",
          "text": [
            "Performance Metrics for Quantum SVM (ZZFeatureMap, SPSA) with PCA:\n",
            "              precision    recall  f1-score   support\n",
            "\n",
            "           0       0.46      0.44      0.45        25\n",
            "           1       0.33      0.35      0.34        20\n",
            "\n",
            "    accuracy                           0.40        45\n",
            "   macro avg       0.40      0.40      0.40        45\n",
            "weighted avg       0.40      0.40      0.40        45\n",
            "\n",
            "Quantum SVM training time (ZZFeatureMap, SPSA) with PCA: 52.05704402923584 seconds\n"
          ]
        },
        {
          "output_type": "stream",
          "name": "stderr",
          "text": [
            "/usr/local/lib/python3.10/dist-packages/sklearn/preprocessing/_encoders.py:868: FutureWarning: `sparse` was renamed to `sparse_output` in version 1.2 and will be removed in 1.4. `sparse_output` is ignored unless you leave `sparse` to its default value.\n",
            "  warnings.warn(\n"
          ]
        },
        {
          "output_type": "stream",
          "name": "stdout",
          "text": [
            "Performance Metrics for Quantum SVM (ZZFeatureMap, COBYLA) with PCA:\n",
            "              precision    recall  f1-score   support\n",
            "\n",
            "           0       0.44      0.32      0.37        25\n",
            "           1       0.37      0.50      0.43        20\n",
            "\n",
            "    accuracy                           0.40        45\n",
            "   macro avg       0.41      0.41      0.40        45\n",
            "weighted avg       0.41      0.40      0.40        45\n",
            "\n",
            "Quantum SVM training time (ZZFeatureMap, COBYLA) with PCA: 27.919809818267822 seconds\n"
          ]
        },
        {
          "output_type": "stream",
          "name": "stderr",
          "text": [
            "/usr/local/lib/python3.10/dist-packages/sklearn/preprocessing/_encoders.py:868: FutureWarning: `sparse` was renamed to `sparse_output` in version 1.2 and will be removed in 1.4. `sparse_output` is ignored unless you leave `sparse` to its default value.\n",
            "  warnings.warn(\n"
          ]
        },
        {
          "output_type": "stream",
          "name": "stdout",
          "text": [
            "Performance Metrics for Quantum SVM (ZZFeatureMap, L_BFGS_B) with PCA:\n",
            "              precision    recall  f1-score   support\n",
            "\n",
            "           0       0.42      0.32      0.36        25\n",
            "           1       0.35      0.45      0.39        20\n",
            "\n",
            "    accuracy                           0.38        45\n",
            "   macro avg       0.38      0.39      0.38        45\n",
            "weighted avg       0.39      0.38      0.38        45\n",
            "\n",
            "Quantum SVM training time (ZZFeatureMap, L_BFGS_B) with PCA: 123.31949591636658 seconds\n"
          ]
        },
        {
          "output_type": "stream",
          "name": "stderr",
          "text": [
            "/usr/local/lib/python3.10/dist-packages/sklearn/preprocessing/_encoders.py:868: FutureWarning: `sparse` was renamed to `sparse_output` in version 1.2 and will be removed in 1.4. `sparse_output` is ignored unless you leave `sparse` to its default value.\n",
            "  warnings.warn(\n"
          ]
        },
        {
          "output_type": "stream",
          "name": "stdout",
          "text": [
            "Performance Metrics for Quantum SVM (ZZFeatureMap, SLSQP) with PCA:\n",
            "              precision    recall  f1-score   support\n",
            "\n",
            "           0       0.42      0.32      0.36        25\n",
            "           1       0.35      0.45      0.39        20\n",
            "\n",
            "    accuracy                           0.38        45\n",
            "   macro avg       0.38      0.39      0.38        45\n",
            "weighted avg       0.39      0.38      0.38        45\n",
            "\n",
            "Quantum SVM training time (ZZFeatureMap, SLSQP) with PCA: 27.048259973526 seconds\n"
          ]
        },
        {
          "output_type": "stream",
          "name": "stderr",
          "text": [
            "/usr/local/lib/python3.10/dist-packages/sklearn/preprocessing/_encoders.py:868: FutureWarning: `sparse` was renamed to `sparse_output` in version 1.2 and will be removed in 1.4. `sparse_output` is ignored unless you leave `sparse` to its default value.\n",
            "  warnings.warn(\n"
          ]
        },
        {
          "output_type": "stream",
          "name": "stdout",
          "text": [
            "Performance Metrics for Quantum SVM (PauliFeatureMap_XY, SPSA) with PCA:\n",
            "              precision    recall  f1-score   support\n",
            "\n",
            "           0       0.41      0.28      0.33        25\n",
            "           1       0.36      0.50      0.42        20\n",
            "\n",
            "    accuracy                           0.38        45\n",
            "   macro avg       0.38      0.39      0.38        45\n",
            "weighted avg       0.39      0.38      0.37        45\n",
            "\n",
            "Quantum SVM training time (PauliFeatureMap_XY, SPSA) with PCA: 51.790749073028564 seconds\n"
          ]
        },
        {
          "output_type": "stream",
          "name": "stderr",
          "text": [
            "/usr/local/lib/python3.10/dist-packages/sklearn/preprocessing/_encoders.py:868: FutureWarning: `sparse` was renamed to `sparse_output` in version 1.2 and will be removed in 1.4. `sparse_output` is ignored unless you leave `sparse` to its default value.\n",
            "  warnings.warn(\n"
          ]
        },
        {
          "output_type": "stream",
          "name": "stdout",
          "text": [
            "Performance Metrics for Quantum SVM (PauliFeatureMap_XY, COBYLA) with PCA:\n",
            "              precision    recall  f1-score   support\n",
            "\n",
            "           0       0.55      0.68      0.61        25\n",
            "           1       0.43      0.30      0.35        20\n",
            "\n",
            "    accuracy                           0.51        45\n",
            "   macro avg       0.49      0.49      0.48        45\n",
            "weighted avg       0.50      0.51      0.49        45\n",
            "\n",
            "Quantum SVM training time (PauliFeatureMap_XY, COBYLA) with PCA: 31.61073923110962 seconds\n"
          ]
        },
        {
          "output_type": "stream",
          "name": "stderr",
          "text": [
            "/usr/local/lib/python3.10/dist-packages/sklearn/preprocessing/_encoders.py:868: FutureWarning: `sparse` was renamed to `sparse_output` in version 1.2 and will be removed in 1.4. `sparse_output` is ignored unless you leave `sparse` to its default value.\n",
            "  warnings.warn(\n"
          ]
        },
        {
          "output_type": "stream",
          "name": "stdout",
          "text": [
            "Performance Metrics for Quantum SVM (PauliFeatureMap_XY, L_BFGS_B) with PCA:\n",
            "              precision    recall  f1-score   support\n",
            "\n",
            "           0       0.58      0.56      0.57        25\n",
            "           1       0.48      0.50      0.49        20\n",
            "\n",
            "    accuracy                           0.53        45\n",
            "   macro avg       0.53      0.53      0.53        45\n",
            "weighted avg       0.54      0.53      0.53        45\n",
            "\n",
            "Quantum SVM training time (PauliFeatureMap_XY, L_BFGS_B) with PCA: 85.66958403587341 seconds\n"
          ]
        },
        {
          "output_type": "stream",
          "name": "stderr",
          "text": [
            "/usr/local/lib/python3.10/dist-packages/sklearn/preprocessing/_encoders.py:868: FutureWarning: `sparse` was renamed to `sparse_output` in version 1.2 and will be removed in 1.4. `sparse_output` is ignored unless you leave `sparse` to its default value.\n",
            "  warnings.warn(\n"
          ]
        },
        {
          "output_type": "stream",
          "name": "stdout",
          "text": [
            "Performance Metrics for Quantum SVM (PauliFeatureMap_XY, SLSQP) with PCA:\n",
            "              precision    recall  f1-score   support\n",
            "\n",
            "           0       0.57      0.64      0.60        25\n",
            "           1       0.47      0.40      0.43        20\n",
            "\n",
            "    accuracy                           0.53        45\n",
            "   macro avg       0.52      0.52      0.52        45\n",
            "weighted avg       0.53      0.53      0.53        45\n",
            "\n",
            "Quantum SVM training time (PauliFeatureMap_XY, SLSQP) with PCA: 25.742425680160522 seconds\n"
          ]
        },
        {
          "output_type": "stream",
          "name": "stderr",
          "text": [
            "/usr/local/lib/python3.10/dist-packages/sklearn/preprocessing/_encoders.py:868: FutureWarning: `sparse` was renamed to `sparse_output` in version 1.2 and will be removed in 1.4. `sparse_output` is ignored unless you leave `sparse` to its default value.\n",
            "  warnings.warn(\n"
          ]
        },
        {
          "output_type": "stream",
          "name": "stdout",
          "text": [
            "Performance Metrics for Quantum SVM (PauliFeatureMap_ZZ, SPSA) with PCA:\n",
            "              precision    recall  f1-score   support\n",
            "\n",
            "           0       0.44      0.32      0.37        25\n",
            "           1       0.37      0.50      0.43        20\n",
            "\n",
            "    accuracy                           0.40        45\n",
            "   macro avg       0.41      0.41      0.40        45\n",
            "weighted avg       0.41      0.40      0.40        45\n",
            "\n",
            "Quantum SVM training time (PauliFeatureMap_ZZ, SPSA) with PCA: 53.97287392616272 seconds\n"
          ]
        },
        {
          "output_type": "stream",
          "name": "stderr",
          "text": [
            "/usr/local/lib/python3.10/dist-packages/sklearn/preprocessing/_encoders.py:868: FutureWarning: `sparse` was renamed to `sparse_output` in version 1.2 and will be removed in 1.4. `sparse_output` is ignored unless you leave `sparse` to its default value.\n",
            "  warnings.warn(\n"
          ]
        },
        {
          "output_type": "stream",
          "name": "stdout",
          "text": [
            "Performance Metrics for Quantum SVM (PauliFeatureMap_ZZ, COBYLA) with PCA:\n",
            "              precision    recall  f1-score   support\n",
            "\n",
            "           0       0.43      0.36      0.39        25\n",
            "           1       0.33      0.40      0.36        20\n",
            "\n",
            "    accuracy                           0.38        45\n",
            "   macro avg       0.38      0.38      0.38        45\n",
            "weighted avg       0.39      0.38      0.38        45\n",
            "\n",
            "Quantum SVM training time (PauliFeatureMap_ZZ, COBYLA) with PCA: 27.455472707748413 seconds\n"
          ]
        },
        {
          "output_type": "stream",
          "name": "stderr",
          "text": [
            "/usr/local/lib/python3.10/dist-packages/sklearn/preprocessing/_encoders.py:868: FutureWarning: `sparse` was renamed to `sparse_output` in version 1.2 and will be removed in 1.4. `sparse_output` is ignored unless you leave `sparse` to its default value.\n",
            "  warnings.warn(\n"
          ]
        },
        {
          "output_type": "stream",
          "name": "stdout",
          "text": [
            "Performance Metrics for Quantum SVM (PauliFeatureMap_ZZ, L_BFGS_B) with PCA:\n",
            "              precision    recall  f1-score   support\n",
            "\n",
            "           0       0.43      0.36      0.39        25\n",
            "           1       0.33      0.40      0.36        20\n",
            "\n",
            "    accuracy                           0.38        45\n",
            "   macro avg       0.38      0.38      0.38        45\n",
            "weighted avg       0.39      0.38      0.38        45\n",
            "\n",
            "Quantum SVM training time (PauliFeatureMap_ZZ, L_BFGS_B) with PCA: 91.513258934021 seconds\n"
          ]
        },
        {
          "output_type": "stream",
          "name": "stderr",
          "text": [
            "/usr/local/lib/python3.10/dist-packages/sklearn/preprocessing/_encoders.py:868: FutureWarning: `sparse` was renamed to `sparse_output` in version 1.2 and will be removed in 1.4. `sparse_output` is ignored unless you leave `sparse` to its default value.\n",
            "  warnings.warn(\n"
          ]
        },
        {
          "output_type": "stream",
          "name": "stdout",
          "text": [
            "Performance Metrics for Quantum SVM (PauliFeatureMap_ZZ, SLSQP) with PCA:\n",
            "              precision    recall  f1-score   support\n",
            "\n",
            "           0       0.38      0.32      0.35        25\n",
            "           1       0.29      0.35      0.32        20\n",
            "\n",
            "    accuracy                           0.33        45\n",
            "   macro avg       0.34      0.33      0.33        45\n",
            "weighted avg       0.34      0.33      0.33        45\n",
            "\n",
            "Quantum SVM training time (PauliFeatureMap_ZZ, SLSQP) with PCA: 86.41244292259216 seconds\n"
          ]
        },
        {
          "output_type": "stream",
          "name": "stderr",
          "text": [
            "/usr/local/lib/python3.10/dist-packages/sklearn/preprocessing/_encoders.py:868: FutureWarning: `sparse` was renamed to `sparse_output` in version 1.2 and will be removed in 1.4. `sparse_output` is ignored unless you leave `sparse` to its default value.\n",
            "  warnings.warn(\n"
          ]
        },
        {
          "output_type": "stream",
          "name": "stdout",
          "text": [
            "Performance Metrics for Quantum SVM (PauliFeatureMap_XYZ, SPSA) with PCA:\n",
            "              precision    recall  f1-score   support\n",
            "\n",
            "           0       0.57      0.48      0.52        25\n",
            "           1       0.46      0.55      0.50        20\n",
            "\n",
            "    accuracy                           0.51        45\n",
            "   macro avg       0.51      0.52      0.51        45\n",
            "weighted avg       0.52      0.51      0.51        45\n",
            "\n",
            "Quantum SVM training time (PauliFeatureMap_XYZ, SPSA) with PCA: 57.206488847732544 seconds\n"
          ]
        },
        {
          "output_type": "stream",
          "name": "stderr",
          "text": [
            "/usr/local/lib/python3.10/dist-packages/sklearn/preprocessing/_encoders.py:868: FutureWarning: `sparse` was renamed to `sparse_output` in version 1.2 and will be removed in 1.4. `sparse_output` is ignored unless you leave `sparse` to its default value.\n",
            "  warnings.warn(\n"
          ]
        },
        {
          "output_type": "stream",
          "name": "stdout",
          "text": [
            "Performance Metrics for Quantum SVM (PauliFeatureMap_XYZ, COBYLA) with PCA:\n",
            "              precision    recall  f1-score   support\n",
            "\n",
            "           0       0.69      0.72      0.71        25\n",
            "           1       0.63      0.60      0.62        20\n",
            "\n",
            "    accuracy                           0.67        45\n",
            "   macro avg       0.66      0.66      0.66        45\n",
            "weighted avg       0.67      0.67      0.67        45\n",
            "\n",
            "Quantum SVM training time (PauliFeatureMap_XYZ, COBYLA) with PCA: 31.464377641677856 seconds\n"
          ]
        },
        {
          "output_type": "stream",
          "name": "stderr",
          "text": [
            "/usr/local/lib/python3.10/dist-packages/sklearn/preprocessing/_encoders.py:868: FutureWarning: `sparse` was renamed to `sparse_output` in version 1.2 and will be removed in 1.4. `sparse_output` is ignored unless you leave `sparse` to its default value.\n",
            "  warnings.warn(\n"
          ]
        },
        {
          "output_type": "stream",
          "name": "stdout",
          "text": [
            "Performance Metrics for Quantum SVM (PauliFeatureMap_XYZ, L_BFGS_B) with PCA:\n",
            "              precision    recall  f1-score   support\n",
            "\n",
            "           0       0.65      0.80      0.71        25\n",
            "           1       0.64      0.45      0.53        20\n",
            "\n",
            "    accuracy                           0.64        45\n",
            "   macro avg       0.64      0.62      0.62        45\n",
            "weighted avg       0.64      0.64      0.63        45\n",
            "\n",
            "Quantum SVM training time (PauliFeatureMap_XYZ, L_BFGS_B) with PCA: 64.98488450050354 seconds\n"
          ]
        },
        {
          "output_type": "stream",
          "name": "stderr",
          "text": [
            "/usr/local/lib/python3.10/dist-packages/sklearn/preprocessing/_encoders.py:868: FutureWarning: `sparse` was renamed to `sparse_output` in version 1.2 and will be removed in 1.4. `sparse_output` is ignored unless you leave `sparse` to its default value.\n",
            "  warnings.warn(\n"
          ]
        },
        {
          "output_type": "stream",
          "name": "stdout",
          "text": [
            "Performance Metrics for Quantum SVM (PauliFeatureMap_XYZ, SLSQP) with PCA:\n",
            "              precision    recall  f1-score   support\n",
            "\n",
            "           0       0.55      0.44      0.49        25\n",
            "           1       0.44      0.55      0.49        20\n",
            "\n",
            "    accuracy                           0.49        45\n",
            "   macro avg       0.49      0.49      0.49        45\n",
            "weighted avg       0.50      0.49      0.49        45\n",
            "\n",
            "Quantum SVM training time (PauliFeatureMap_XYZ, SLSQP) with PCA: 44.060720682144165 seconds\n"
          ]
        },
        {
          "output_type": "stream",
          "name": "stderr",
          "text": [
            "/usr/local/lib/python3.10/dist-packages/sklearn/preprocessing/_encoders.py:868: FutureWarning: `sparse` was renamed to `sparse_output` in version 1.2 and will be removed in 1.4. `sparse_output` is ignored unless you leave `sparse` to its default value.\n",
            "  warnings.warn(\n"
          ]
        },
        {
          "output_type": "stream",
          "name": "stdout",
          "text": [
            "Performance Metrics for Quantum SVM (PauliFeatureMap_YZ, SPSA) with PCA:\n",
            "              precision    recall  f1-score   support\n",
            "\n",
            "           0       0.33      0.16      0.22        25\n",
            "           1       0.36      0.60      0.45        20\n",
            "\n",
            "    accuracy                           0.36        45\n",
            "   macro avg       0.35      0.38      0.33        45\n",
            "weighted avg       0.35      0.36      0.32        45\n",
            "\n",
            "Quantum SVM training time (PauliFeatureMap_YZ, SPSA) with PCA: 54.15235757827759 seconds\n"
          ]
        },
        {
          "output_type": "stream",
          "name": "stderr",
          "text": [
            "/usr/local/lib/python3.10/dist-packages/sklearn/preprocessing/_encoders.py:868: FutureWarning: `sparse` was renamed to `sparse_output` in version 1.2 and will be removed in 1.4. `sparse_output` is ignored unless you leave `sparse` to its default value.\n",
            "  warnings.warn(\n"
          ]
        },
        {
          "output_type": "stream",
          "name": "stdout",
          "text": [
            "Performance Metrics for Quantum SVM (PauliFeatureMap_YZ, COBYLA) with PCA:\n",
            "              precision    recall  f1-score   support\n",
            "\n",
            "           0       0.40      0.08      0.13        25\n",
            "           1       0.42      0.85      0.57        20\n",
            "\n",
            "    accuracy                           0.42        45\n",
            "   macro avg       0.41      0.46      0.35        45\n",
            "weighted avg       0.41      0.42      0.33        45\n",
            "\n",
            "Quantum SVM training time (PauliFeatureMap_YZ, COBYLA) with PCA: 33.619481325149536 seconds\n"
          ]
        },
        {
          "output_type": "stream",
          "name": "stderr",
          "text": [
            "/usr/local/lib/python3.10/dist-packages/sklearn/preprocessing/_encoders.py:868: FutureWarning: `sparse` was renamed to `sparse_output` in version 1.2 and will be removed in 1.4. `sparse_output` is ignored unless you leave `sparse` to its default value.\n",
            "  warnings.warn(\n"
          ]
        },
        {
          "output_type": "stream",
          "name": "stdout",
          "text": [
            "Performance Metrics for Quantum SVM (PauliFeatureMap_YZ, L_BFGS_B) with PCA:\n",
            "              precision    recall  f1-score   support\n",
            "\n",
            "           0       0.54      0.28      0.37        25\n",
            "           1       0.44      0.70      0.54        20\n",
            "\n",
            "    accuracy                           0.47        45\n",
            "   macro avg       0.49      0.49      0.45        45\n",
            "weighted avg       0.49      0.47      0.44        45\n",
            "\n",
            "Quantum SVM training time (PauliFeatureMap_YZ, L_BFGS_B) with PCA: 199.9652817249298 seconds\n"
          ]
        },
        {
          "output_type": "stream",
          "name": "stderr",
          "text": [
            "/usr/local/lib/python3.10/dist-packages/sklearn/preprocessing/_encoders.py:868: FutureWarning: `sparse` was renamed to `sparse_output` in version 1.2 and will be removed in 1.4. `sparse_output` is ignored unless you leave `sparse` to its default value.\n",
            "  warnings.warn(\n"
          ]
        },
        {
          "output_type": "stream",
          "name": "stdout",
          "text": [
            "Performance Metrics for Quantum SVM (PauliFeatureMap_YZ, SLSQP) with PCA:\n",
            "              precision    recall  f1-score   support\n",
            "\n",
            "           0       0.50      0.40      0.44        25\n",
            "           1       0.40      0.50      0.44        20\n",
            "\n",
            "    accuracy                           0.44        45\n",
            "   macro avg       0.45      0.45      0.44        45\n",
            "weighted avg       0.46      0.44      0.44        45\n",
            "\n",
            "Quantum SVM training time (PauliFeatureMap_YZ, SLSQP) with PCA: 102.4616014957428 seconds\n"
          ]
        },
        {
          "output_type": "stream",
          "name": "stderr",
          "text": [
            "/usr/local/lib/python3.10/dist-packages/sklearn/preprocessing/_encoders.py:868: FutureWarning: `sparse` was renamed to `sparse_output` in version 1.2 and will be removed in 1.4. `sparse_output` is ignored unless you leave `sparse` to its default value.\n",
            "  warnings.warn(\n"
          ]
        },
        {
          "output_type": "stream",
          "name": "stdout",
          "text": [
            "Performance Metrics for Quantum SVM (PauliFeatureMap_Y, SPSA) with PCA:\n",
            "              precision    recall  f1-score   support\n",
            "\n",
            "           0       0.00      0.00      0.00        25\n",
            "           1       0.44      1.00      0.62        20\n",
            "\n",
            "    accuracy                           0.44        45\n",
            "   macro avg       0.22      0.50      0.31        45\n",
            "weighted avg       0.20      0.44      0.27        45\n",
            "\n",
            "Quantum SVM training time (PauliFeatureMap_Y, SPSA) with PCA: 50.15627074241638 seconds\n"
          ]
        },
        {
          "output_type": "stream",
          "name": "stderr",
          "text": [
            "/usr/local/lib/python3.10/dist-packages/sklearn/metrics/_classification.py:1344: UndefinedMetricWarning: Precision and F-score are ill-defined and being set to 0.0 in labels with no predicted samples. Use `zero_division` parameter to control this behavior.\n",
            "  _warn_prf(average, modifier, msg_start, len(result))\n",
            "/usr/local/lib/python3.10/dist-packages/sklearn/metrics/_classification.py:1344: UndefinedMetricWarning: Precision and F-score are ill-defined and being set to 0.0 in labels with no predicted samples. Use `zero_division` parameter to control this behavior.\n",
            "  _warn_prf(average, modifier, msg_start, len(result))\n",
            "/usr/local/lib/python3.10/dist-packages/sklearn/metrics/_classification.py:1344: UndefinedMetricWarning: Precision and F-score are ill-defined and being set to 0.0 in labels with no predicted samples. Use `zero_division` parameter to control this behavior.\n",
            "  _warn_prf(average, modifier, msg_start, len(result))\n",
            "/usr/local/lib/python3.10/dist-packages/sklearn/preprocessing/_encoders.py:868: FutureWarning: `sparse` was renamed to `sparse_output` in version 1.2 and will be removed in 1.4. `sparse_output` is ignored unless you leave `sparse` to its default value.\n",
            "  warnings.warn(\n"
          ]
        },
        {
          "output_type": "stream",
          "name": "stdout",
          "text": [
            "Performance Metrics for Quantum SVM (PauliFeatureMap_Y, COBYLA) with PCA:\n",
            "              precision    recall  f1-score   support\n",
            "\n",
            "           0       0.67      0.16      0.26        25\n",
            "           1       0.46      0.90      0.61        20\n",
            "\n",
            "    accuracy                           0.49        45\n",
            "   macro avg       0.56      0.53      0.43        45\n",
            "weighted avg       0.58      0.49      0.41        45\n",
            "\n",
            "Quantum SVM training time (PauliFeatureMap_Y, COBYLA) with PCA: 22.609838724136353 seconds\n"
          ]
        },
        {
          "output_type": "stream",
          "name": "stderr",
          "text": [
            "/usr/local/lib/python3.10/dist-packages/sklearn/preprocessing/_encoders.py:868: FutureWarning: `sparse` was renamed to `sparse_output` in version 1.2 and will be removed in 1.4. `sparse_output` is ignored unless you leave `sparse` to its default value.\n",
            "  warnings.warn(\n"
          ]
        },
        {
          "output_type": "stream",
          "name": "stdout",
          "text": [
            "Performance Metrics for Quantum SVM (PauliFeatureMap_Y, L_BFGS_B) with PCA:\n",
            "              precision    recall  f1-score   support\n",
            "\n",
            "           0       0.59      0.88      0.71        25\n",
            "           1       0.62      0.25      0.36        20\n",
            "\n",
            "    accuracy                           0.60        45\n",
            "   macro avg       0.61      0.56      0.53        45\n",
            "weighted avg       0.61      0.60      0.55        45\n",
            "\n",
            "Quantum SVM training time (PauliFeatureMap_Y, L_BFGS_B) with PCA: 37.45833373069763 seconds\n"
          ]
        },
        {
          "output_type": "stream",
          "name": "stderr",
          "text": [
            "/usr/local/lib/python3.10/dist-packages/sklearn/preprocessing/_encoders.py:868: FutureWarning: `sparse` was renamed to `sparse_output` in version 1.2 and will be removed in 1.4. `sparse_output` is ignored unless you leave `sparse` to its default value.\n",
            "  warnings.warn(\n"
          ]
        },
        {
          "output_type": "stream",
          "name": "stdout",
          "text": [
            "Performance Metrics for Quantum SVM (PauliFeatureMap_Y, SLSQP) with PCA:\n",
            "              precision    recall  f1-score   support\n",
            "\n",
            "           0       0.00      0.00      0.00        25\n",
            "           1       0.44      1.00      0.62        20\n",
            "\n",
            "    accuracy                           0.44        45\n",
            "   macro avg       0.22      0.50      0.31        45\n",
            "weighted avg       0.20      0.44      0.27        45\n",
            "\n",
            "Quantum SVM training time (PauliFeatureMap_Y, SLSQP) with PCA: 30.84810209274292 seconds\n"
          ]
        },
        {
          "output_type": "stream",
          "name": "stderr",
          "text": [
            "/usr/local/lib/python3.10/dist-packages/sklearn/metrics/_classification.py:1344: UndefinedMetricWarning: Precision and F-score are ill-defined and being set to 0.0 in labels with no predicted samples. Use `zero_division` parameter to control this behavior.\n",
            "  _warn_prf(average, modifier, msg_start, len(result))\n",
            "/usr/local/lib/python3.10/dist-packages/sklearn/metrics/_classification.py:1344: UndefinedMetricWarning: Precision and F-score are ill-defined and being set to 0.0 in labels with no predicted samples. Use `zero_division` parameter to control this behavior.\n",
            "  _warn_prf(average, modifier, msg_start, len(result))\n",
            "/usr/local/lib/python3.10/dist-packages/sklearn/metrics/_classification.py:1344: UndefinedMetricWarning: Precision and F-score are ill-defined and being set to 0.0 in labels with no predicted samples. Use `zero_division` parameter to control this behavior.\n",
            "  _warn_prf(average, modifier, msg_start, len(result))\n",
            "/usr/local/lib/python3.10/dist-packages/sklearn/preprocessing/_encoders.py:868: FutureWarning: `sparse` was renamed to `sparse_output` in version 1.2 and will be removed in 1.4. `sparse_output` is ignored unless you leave `sparse` to its default value.\n",
            "  warnings.warn(\n"
          ]
        },
        {
          "output_type": "stream",
          "name": "stdout",
          "text": [
            "Performance Metrics for Quantum SVM (PauliFeatureMap_XYZYY, SPSA) with PCA:\n",
            "              precision    recall  f1-score   support\n",
            "\n",
            "           0       0.56      0.36      0.44        25\n",
            "           1       0.45      0.65      0.53        20\n",
            "\n",
            "    accuracy                           0.49        45\n",
            "   macro avg       0.51      0.51      0.48        45\n",
            "weighted avg       0.51      0.49      0.48        45\n",
            "\n",
            "Quantum SVM training time (PauliFeatureMap_XYZYY, SPSA) with PCA: 67.83103966712952 seconds\n"
          ]
        },
        {
          "output_type": "stream",
          "name": "stderr",
          "text": [
            "/usr/local/lib/python3.10/dist-packages/sklearn/preprocessing/_encoders.py:868: FutureWarning: `sparse` was renamed to `sparse_output` in version 1.2 and will be removed in 1.4. `sparse_output` is ignored unless you leave `sparse` to its default value.\n",
            "  warnings.warn(\n"
          ]
        },
        {
          "output_type": "stream",
          "name": "stdout",
          "text": [
            "Performance Metrics for Quantum SVM (PauliFeatureMap_XYZYY, COBYLA) with PCA:\n",
            "              precision    recall  f1-score   support\n",
            "\n",
            "           0       0.41      0.28      0.33        25\n",
            "           1       0.36      0.50      0.42        20\n",
            "\n",
            "    accuracy                           0.38        45\n",
            "   macro avg       0.38      0.39      0.38        45\n",
            "weighted avg       0.39      0.38      0.37        45\n",
            "\n",
            "Quantum SVM training time (PauliFeatureMap_XYZYY, COBYLA) with PCA: 34.551055908203125 seconds\n"
          ]
        },
        {
          "output_type": "stream",
          "name": "stderr",
          "text": [
            "/usr/local/lib/python3.10/dist-packages/sklearn/preprocessing/_encoders.py:868: FutureWarning: `sparse` was renamed to `sparse_output` in version 1.2 and will be removed in 1.4. `sparse_output` is ignored unless you leave `sparse` to its default value.\n",
            "  warnings.warn(\n"
          ]
        },
        {
          "output_type": "stream",
          "name": "stdout",
          "text": [
            "Performance Metrics for Quantum SVM (PauliFeatureMap_XYZYY, L_BFGS_B) with PCA:\n",
            "              precision    recall  f1-score   support\n",
            "\n",
            "           0       0.47      0.32      0.38        25\n",
            "           1       0.39      0.55      0.46        20\n",
            "\n",
            "    accuracy                           0.42        45\n",
            "   macro avg       0.43      0.44      0.42        45\n",
            "weighted avg       0.44      0.42      0.42        45\n",
            "\n",
            "Quantum SVM training time (PauliFeatureMap_XYZYY, L_BFGS_B) with PCA: 155.34376740455627 seconds\n"
          ]
        },
        {
          "output_type": "stream",
          "name": "stderr",
          "text": [
            "/usr/local/lib/python3.10/dist-packages/sklearn/preprocessing/_encoders.py:868: FutureWarning: `sparse` was renamed to `sparse_output` in version 1.2 and will be removed in 1.4. `sparse_output` is ignored unless you leave `sparse` to its default value.\n",
            "  warnings.warn(\n"
          ]
        },
        {
          "output_type": "stream",
          "name": "stdout",
          "text": [
            "Performance Metrics for Quantum SVM (PauliFeatureMap_XYZYY, SLSQP) with PCA:\n",
            "              precision    recall  f1-score   support\n",
            "\n",
            "           0       0.56      0.36      0.44        25\n",
            "           1       0.45      0.65      0.53        20\n",
            "\n",
            "    accuracy                           0.49        45\n",
            "   macro avg       0.51      0.51      0.48        45\n",
            "weighted avg       0.51      0.49      0.48        45\n",
            "\n",
            "Quantum SVM training time (PauliFeatureMap_XYZYY, SLSQP) with PCA: 171.5480556488037 seconds\n",
            "Best Configuration with PCA: Feature Map - PauliFeatureMap_XYZ, Optimizer - COBYLA\n"
          ]
        }
      ]
    },
    {
      "cell_type": "code",
      "source": [
        "import numpy as np\n",
        "from sklearn.decomposition import PCA\n",
        "import matplotlib.pyplot as plt\n",
        "from sklearn.model_selection import train_test_split\n",
        "from sklearn.preprocessing import StandardScaler\n",
        "from sklearn.svm import SVC\n",
        "from sklearn.metrics import classification_report, accuracy_score\n",
        "from qiskit import Aer\n",
        "from qiskit.circuit.library import PauliFeatureMap\n",
        "from qiskit.circuit.library import ZZFeatureMap\n",
        "from qiskit_machine_learning.algorithms.classifiers import VQC\n",
        "from qiskit.utils import QuantumInstance\n",
        "from qiskit.algorithms.optimizers import SPSA, COBYLA, L_BFGS_B, SLSQP, ADAM\n",
        "from time import time\n",
        "\n",
        "np.random.seed(0)\n",
        "\n",
        "# Define the number of samples and features\n",
        "num_samples = 150\n",
        "num_features = 10  # You can increase this number to create a higher-dimensional dataset\n",
        "\n",
        "# Generate random data with strong correlations in the first few features\n",
        "mean = np.zeros(num_features)\n",
        "cov = np.eye(num_features)\n",
        "for i in range(5):\n",
        "    cov[i, i] = 0.5  # Increase the variance for the first 5 features to make them important\n",
        "\n",
        "data = np.random.multivariate_normal(mean, cov, num_samples)\n",
        "\n",
        "# Split the data into training and testing sets\n",
        "X_train, X_test, y_train, y_test = train_test_split(data, np.random.choice([0, 1], size=num_samples), test_size=0.3, random_state=42)\n",
        "\n",
        "# Data Preprocessing\n",
        "scaler = StandardScaler().fit(X_train)\n",
        "X_train = scaler.transform(X_train)\n",
        "X_test = scaler.transform(X_test)\n",
        "\n",
        "# Perform PCA to reduce dimensionality\n",
        "pca = PCA(n_components=2)  # You can adjust the number of components as needed\n",
        "X_train_pca = pca.fit_transform(X_train)\n",
        "X_test_pca = pca.transform(X_test)\n",
        "\n",
        "# Train Classical SVM on reduced dataset\n",
        "classical_svm_pca = SVC(kernel='rbf', C=1.0, gamma='scale')\n",
        "start = time()\n",
        "classical_svm_pca.fit(X_train_pca, y_train)\n",
        "end = time()\n",
        "classical_svm_predictions_pca = classical_svm_pca.predict(X_test_pca)\n",
        "print(\"Performance Metrics for Classical SVM with PCA:\")\n",
        "print(classification_report(y_test, classical_svm_predictions_pca))\n",
        "print(f\"Classical SVM training time with PCA: {end - start} seconds\")\n",
        "\n",
        "# Define a list of feature maps and their parameters to tune for QSVM\n",
        "feature_maps = [\n",
        "    {'name': 'ZZFeatureMap', 'feature_map': ZZFeatureMap(feature_dimension=2, reps=2, entanglement='full')},\n",
        "    {'name': 'PauliFeatureMap_XY', 'feature_map': PauliFeatureMap(feature_dimension=2, reps=2, paulis=['X', 'Y'], entanglement='full')},\n",
        "    {'name': 'PauliFeatureMap_ZZ', 'feature_map': PauliFeatureMap(feature_dimension=2, reps=2, paulis=['Z', 'ZZ'], entanglement='full')},\n",
        "    {'name': 'PauliFeatureMap_XYZ', 'feature_map': PauliFeatureMap(feature_dimension=2, reps=2, paulis=['X', 'Y', 'Z'], entanglement='full')},\n",
        "    {'name': 'PauliFeatureMap_YZ', 'feature_map': PauliFeatureMap(feature_dimension=2, reps=2, paulis=['Y', 'Z'], entanglement='full')},\n",
        "    {'name': 'PauliFeatureMap_Y', 'feature_map': PauliFeatureMap(feature_dimension=2, reps=2, paulis=['Y'], entanglement='full')},\n",
        "    {'name': 'PauliFeatureMap_XYZYY', 'feature_map': PauliFeatureMap(feature_dimension=2, reps=2, paulis=['X', 'Y', 'Z', 'YY'], entanglement='full')},\n",
        "    # Add more feature maps and their parameters to explore\n",
        "]\n",
        "\n",
        "# Define a list of optimizer parameters to tune for QSVM\n",
        "optimizers = [\n",
        "    {'name': 'SPSA', 'optimizer': SPSA(maxiter=50)},\n",
        "    {'name': 'COBYLA', 'optimizer': COBYLA(maxiter=100)},\n",
        "    {'name': 'L_BFGS_B', 'optimizer': L_BFGS_B(maxfun=100, maxiter=100)},\n",
        "    {'name': 'SLSQP', 'optimizer': SLSQP(maxiter=100)},\n",
        "    # Add more optimizers and their parameters to explore\n",
        "]\n",
        "\n",
        "\n",
        "best_score = 0\n",
        "best_params = {}\n",
        "\n",
        "for feature_map_params in feature_maps:\n",
        "    feature_map_name = feature_map_params['name']\n",
        "    feature_map = feature_map_params['feature_map']\n",
        "\n",
        "    for optimizer_params in optimizers:\n",
        "        optimizer_name = optimizer_params['name']\n",
        "        optimizer = optimizer_params['optimizer']\n",
        "\n",
        "        # Create a sampler for the AerSimulator\n",
        "        sampler = Sampler()\n",
        "\n",
        "        # Create an instance of the AerSimulator\n",
        "        simulator = AerSimulator()\n",
        "\n",
        "        # Train QSVM with the current feature map and optimizer using the sampler\n",
        "        vqc = VQC(feature_map=feature_map, ansatz=None, optimizer=optimizer, quantum_instance=simulator)\n",
        "\n",
        "        start = time()\n",
        "        vqc.fit(X_train_pca, y_train)\n",
        "        end = time()\n",
        "\n",
        "        result_quantum = vqc.predict(X_test_pca)\n",
        "        score = accuracy_score(y_test, result_quantum)\n",
        "\n",
        "        # Print performance metrics and runtime for the current configuration\n",
        "        print(f\"Performance Metrics for Quantum SVM ({feature_map_name}, {optimizer_name}) with PCA:\")\n",
        "        print(classification_report(y_test, result_quantum))\n",
        "        print(f\"Quantum SVM training time ({feature_map_name}, {optimizer_name}) with PCA: {end - start} seconds\")\n",
        "\n",
        "        # Check if the current configuration is the best\n",
        "        if score > best_score:\n",
        "            best_score = score\n",
        "            best_params = {'feature_map': feature_map_name, 'optimizer': optimizer_name}\n",
        "\n",
        "# Print the best configuration found\n",
        "print(f\"Best Configuration with PCA: Feature Map - {best_params['feature_map']}, Optimizer - {best_params['optimizer']}\")"
      ],
      "metadata": {
        "colab": {
          "base_uri": "https://localhost:8080/"
        },
        "id": "61VGKJL914Bs",
        "outputId": "8237b353-3548-45e2-951a-b55a1614250d"
      },
      "execution_count": null,
      "outputs": [
        {
          "output_type": "stream",
          "name": "stdout",
          "text": [
            "Performance Metrics for Classical SVM with PCA:\n",
            "              precision    recall  f1-score   support\n",
            "\n",
            "           0       0.42      0.20      0.27        25\n",
            "           1       0.39      0.65      0.49        20\n",
            "\n",
            "    accuracy                           0.40        45\n",
            "   macro avg       0.41      0.43      0.38        45\n",
            "weighted avg       0.41      0.40      0.37        45\n",
            "\n",
            "Classical SVM training time with PCA: 0.0016932487487792969 seconds\n"
          ]
        },
        {
          "output_type": "stream",
          "name": "stderr",
          "text": [
            "/usr/local/lib/python3.10/dist-packages/sklearn/preprocessing/_encoders.py:868: FutureWarning: `sparse` was renamed to `sparse_output` in version 1.2 and will be removed in 1.4. `sparse_output` is ignored unless you leave `sparse` to its default value.\n",
            "  warnings.warn(\n"
          ]
        },
        {
          "output_type": "stream",
          "name": "stdout",
          "text": [
            "Performance Metrics for Quantum SVM (ZZFeatureMap, SPSA) with PCA:\n",
            "              precision    recall  f1-score   support\n",
            "\n",
            "           0       0.40      0.40      0.40        25\n",
            "           1       0.25      0.25      0.25        20\n",
            "\n",
            "    accuracy                           0.33        45\n",
            "   macro avg       0.33      0.33      0.33        45\n",
            "weighted avg       0.33      0.33      0.33        45\n",
            "\n",
            "Quantum SVM training time (ZZFeatureMap, SPSA) with PCA: 54.31480431556702 seconds\n"
          ]
        },
        {
          "output_type": "stream",
          "name": "stderr",
          "text": [
            "/usr/local/lib/python3.10/dist-packages/sklearn/preprocessing/_encoders.py:868: FutureWarning: `sparse` was renamed to `sparse_output` in version 1.2 and will be removed in 1.4. `sparse_output` is ignored unless you leave `sparse` to its default value.\n",
            "  warnings.warn(\n"
          ]
        },
        {
          "output_type": "stream",
          "name": "stdout",
          "text": [
            "Performance Metrics for Quantum SVM (ZZFeatureMap, COBYLA) with PCA:\n",
            "              precision    recall  f1-score   support\n",
            "\n",
            "           0       0.52      0.56      0.54        25\n",
            "           1       0.39      0.35      0.37        20\n",
            "\n",
            "    accuracy                           0.47        45\n",
            "   macro avg       0.45      0.46      0.45        45\n",
            "weighted avg       0.46      0.47      0.46        45\n",
            "\n",
            "Quantum SVM training time (ZZFeatureMap, COBYLA) with PCA: 26.093300342559814 seconds\n"
          ]
        },
        {
          "output_type": "stream",
          "name": "stderr",
          "text": [
            "/usr/local/lib/python3.10/dist-packages/sklearn/preprocessing/_encoders.py:868: FutureWarning: `sparse` was renamed to `sparse_output` in version 1.2 and will be removed in 1.4. `sparse_output` is ignored unless you leave `sparse` to its default value.\n",
            "  warnings.warn(\n"
          ]
        },
        {
          "output_type": "stream",
          "name": "stdout",
          "text": [
            "Performance Metrics for Quantum SVM (ZZFeatureMap, L_BFGS_B) with PCA:\n",
            "              precision    recall  f1-score   support\n",
            "\n",
            "           0       0.58      0.60      0.59        25\n",
            "           1       0.47      0.45      0.46        20\n",
            "\n",
            "    accuracy                           0.53        45\n",
            "   macro avg       0.53      0.53      0.52        45\n",
            "weighted avg       0.53      0.53      0.53        45\n",
            "\n",
            "Quantum SVM training time (ZZFeatureMap, L_BFGS_B) with PCA: 167.64847993850708 seconds\n"
          ]
        },
        {
          "output_type": "stream",
          "name": "stderr",
          "text": [
            "/usr/local/lib/python3.10/dist-packages/sklearn/preprocessing/_encoders.py:868: FutureWarning: `sparse` was renamed to `sparse_output` in version 1.2 and will be removed in 1.4. `sparse_output` is ignored unless you leave `sparse` to its default value.\n",
            "  warnings.warn(\n"
          ]
        },
        {
          "output_type": "stream",
          "name": "stdout",
          "text": [
            "Performance Metrics for Quantum SVM (ZZFeatureMap, SLSQP) with PCA:\n",
            "              precision    recall  f1-score   support\n",
            "\n",
            "           0       0.59      0.64      0.62        25\n",
            "           1       0.50      0.45      0.47        20\n",
            "\n",
            "    accuracy                           0.56        45\n",
            "   macro avg       0.55      0.55      0.54        45\n",
            "weighted avg       0.55      0.56      0.55        45\n",
            "\n",
            "Quantum SVM training time (ZZFeatureMap, SLSQP) with PCA: 50.93040585517883 seconds\n"
          ]
        },
        {
          "output_type": "stream",
          "name": "stderr",
          "text": [
            "/usr/local/lib/python3.10/dist-packages/sklearn/preprocessing/_encoders.py:868: FutureWarning: `sparse` was renamed to `sparse_output` in version 1.2 and will be removed in 1.4. `sparse_output` is ignored unless you leave `sparse` to its default value.\n",
            "  warnings.warn(\n"
          ]
        },
        {
          "output_type": "stream",
          "name": "stdout",
          "text": [
            "Performance Metrics for Quantum SVM (PauliFeatureMap_XY, SPSA) with PCA:\n",
            "              precision    recall  f1-score   support\n",
            "\n",
            "           0       0.62      0.32      0.42        25\n",
            "           1       0.47      0.75      0.58        20\n",
            "\n",
            "    accuracy                           0.51        45\n",
            "   macro avg       0.54      0.54      0.50        45\n",
            "weighted avg       0.55      0.51      0.49        45\n",
            "\n",
            "Quantum SVM training time (PauliFeatureMap_XY, SPSA) with PCA: 51.68692493438721 seconds\n"
          ]
        },
        {
          "output_type": "stream",
          "name": "stderr",
          "text": [
            "/usr/local/lib/python3.10/dist-packages/sklearn/preprocessing/_encoders.py:868: FutureWarning: `sparse` was renamed to `sparse_output` in version 1.2 and will be removed in 1.4. `sparse_output` is ignored unless you leave `sparse` to its default value.\n",
            "  warnings.warn(\n"
          ]
        },
        {
          "output_type": "stream",
          "name": "stdout",
          "text": [
            "Performance Metrics for Quantum SVM (PauliFeatureMap_XY, COBYLA) with PCA:\n",
            "              precision    recall  f1-score   support\n",
            "\n",
            "           0       0.56      0.36      0.44        25\n",
            "           1       0.45      0.65      0.53        20\n",
            "\n",
            "    accuracy                           0.49        45\n",
            "   macro avg       0.51      0.51      0.48        45\n",
            "weighted avg       0.51      0.49      0.48        45\n",
            "\n",
            "Quantum SVM training time (PauliFeatureMap_XY, COBYLA) with PCA: 31.282227993011475 seconds\n"
          ]
        },
        {
          "output_type": "stream",
          "name": "stderr",
          "text": [
            "/usr/local/lib/python3.10/dist-packages/sklearn/preprocessing/_encoders.py:868: FutureWarning: `sparse` was renamed to `sparse_output` in version 1.2 and will be removed in 1.4. `sparse_output` is ignored unless you leave `sparse` to its default value.\n",
            "  warnings.warn(\n"
          ]
        },
        {
          "output_type": "stream",
          "name": "stdout",
          "text": [
            "Performance Metrics for Quantum SVM (PauliFeatureMap_XY, L_BFGS_B) with PCA:\n",
            "              precision    recall  f1-score   support\n",
            "\n",
            "           0       0.44      0.28      0.34        25\n",
            "           1       0.38      0.55      0.45        20\n",
            "\n",
            "    accuracy                           0.40        45\n",
            "   macro avg       0.41      0.42      0.40        45\n",
            "weighted avg       0.41      0.40      0.39        45\n",
            "\n",
            "Quantum SVM training time (PauliFeatureMap_XY, L_BFGS_B) with PCA: 153.6271653175354 seconds\n"
          ]
        },
        {
          "output_type": "stream",
          "name": "stderr",
          "text": [
            "/usr/local/lib/python3.10/dist-packages/sklearn/preprocessing/_encoders.py:868: FutureWarning: `sparse` was renamed to `sparse_output` in version 1.2 and will be removed in 1.4. `sparse_output` is ignored unless you leave `sparse` to its default value.\n",
            "  warnings.warn(\n"
          ]
        },
        {
          "output_type": "stream",
          "name": "stdout",
          "text": [
            "Performance Metrics for Quantum SVM (PauliFeatureMap_XY, SLSQP) with PCA:\n",
            "              precision    recall  f1-score   support\n",
            "\n",
            "           0       0.67      0.32      0.43        25\n",
            "           1       0.48      0.80      0.60        20\n",
            "\n",
            "    accuracy                           0.53        45\n",
            "   macro avg       0.58      0.56      0.52        45\n",
            "weighted avg       0.59      0.53      0.51        45\n",
            "\n",
            "Quantum SVM training time (PauliFeatureMap_XY, SLSQP) with PCA: 113.49985122680664 seconds\n"
          ]
        },
        {
          "output_type": "stream",
          "name": "stderr",
          "text": [
            "/usr/local/lib/python3.10/dist-packages/sklearn/preprocessing/_encoders.py:868: FutureWarning: `sparse` was renamed to `sparse_output` in version 1.2 and will be removed in 1.4. `sparse_output` is ignored unless you leave `sparse` to its default value.\n",
            "  warnings.warn(\n"
          ]
        },
        {
          "output_type": "stream",
          "name": "stdout",
          "text": [
            "Performance Metrics for Quantum SVM (PauliFeatureMap_ZZ, SPSA) with PCA:\n",
            "              precision    recall  f1-score   support\n",
            "\n",
            "           0       0.60      0.60      0.60        25\n",
            "           1       0.50      0.50      0.50        20\n",
            "\n",
            "    accuracy                           0.56        45\n",
            "   macro avg       0.55      0.55      0.55        45\n",
            "weighted avg       0.56      0.56      0.56        45\n",
            "\n",
            "Quantum SVM training time (PauliFeatureMap_ZZ, SPSA) with PCA: 53.40000247955322 seconds\n"
          ]
        },
        {
          "output_type": "stream",
          "name": "stderr",
          "text": [
            "/usr/local/lib/python3.10/dist-packages/sklearn/preprocessing/_encoders.py:868: FutureWarning: `sparse` was renamed to `sparse_output` in version 1.2 and will be removed in 1.4. `sparse_output` is ignored unless you leave `sparse` to its default value.\n",
            "  warnings.warn(\n"
          ]
        },
        {
          "output_type": "stream",
          "name": "stdout",
          "text": [
            "Performance Metrics for Quantum SVM (PauliFeatureMap_ZZ, COBYLA) with PCA:\n",
            "              precision    recall  f1-score   support\n",
            "\n",
            "           0       0.54      0.52      0.53        25\n",
            "           1       0.43      0.45      0.44        20\n",
            "\n",
            "    accuracy                           0.49        45\n",
            "   macro avg       0.49      0.48      0.48        45\n",
            "weighted avg       0.49      0.49      0.49        45\n",
            "\n",
            "Quantum SVM training time (PauliFeatureMap_ZZ, COBYLA) with PCA: 25.958224534988403 seconds\n"
          ]
        },
        {
          "output_type": "stream",
          "name": "stderr",
          "text": [
            "/usr/local/lib/python3.10/dist-packages/sklearn/preprocessing/_encoders.py:868: FutureWarning: `sparse` was renamed to `sparse_output` in version 1.2 and will be removed in 1.4. `sparse_output` is ignored unless you leave `sparse` to its default value.\n",
            "  warnings.warn(\n"
          ]
        },
        {
          "output_type": "stream",
          "name": "stdout",
          "text": [
            "Performance Metrics for Quantum SVM (PauliFeatureMap_ZZ, L_BFGS_B) with PCA:\n",
            "              precision    recall  f1-score   support\n",
            "\n",
            "           0       0.59      0.64      0.62        25\n",
            "           1       0.50      0.45      0.47        20\n",
            "\n",
            "    accuracy                           0.56        45\n",
            "   macro avg       0.55      0.55      0.54        45\n",
            "weighted avg       0.55      0.56      0.55        45\n",
            "\n",
            "Quantum SVM training time (PauliFeatureMap_ZZ, L_BFGS_B) with PCA: 113.26128077507019 seconds\n"
          ]
        },
        {
          "output_type": "stream",
          "name": "stderr",
          "text": [
            "/usr/local/lib/python3.10/dist-packages/sklearn/preprocessing/_encoders.py:868: FutureWarning: `sparse` was renamed to `sparse_output` in version 1.2 and will be removed in 1.4. `sparse_output` is ignored unless you leave `sparse` to its default value.\n",
            "  warnings.warn(\n"
          ]
        },
        {
          "output_type": "stream",
          "name": "stdout",
          "text": [
            "Performance Metrics for Quantum SVM (PauliFeatureMap_ZZ, SLSQP) with PCA:\n",
            "              precision    recall  f1-score   support\n",
            "\n",
            "           0       0.52      0.56      0.54        25\n",
            "           1       0.39      0.35      0.37        20\n",
            "\n",
            "    accuracy                           0.47        45\n",
            "   macro avg       0.45      0.46      0.45        45\n",
            "weighted avg       0.46      0.47      0.46        45\n",
            "\n",
            "Quantum SVM training time (PauliFeatureMap_ZZ, SLSQP) with PCA: 48.99058508872986 seconds\n"
          ]
        },
        {
          "output_type": "stream",
          "name": "stderr",
          "text": [
            "/usr/local/lib/python3.10/dist-packages/sklearn/preprocessing/_encoders.py:868: FutureWarning: `sparse` was renamed to `sparse_output` in version 1.2 and will be removed in 1.4. `sparse_output` is ignored unless you leave `sparse` to its default value.\n",
            "  warnings.warn(\n"
          ]
        },
        {
          "output_type": "stream",
          "name": "stdout",
          "text": [
            "Performance Metrics for Quantum SVM (PauliFeatureMap_XYZ, SPSA) with PCA:\n",
            "              precision    recall  f1-score   support\n",
            "\n",
            "           0       0.64      0.72      0.68        25\n",
            "           1       0.59      0.50      0.54        20\n",
            "\n",
            "    accuracy                           0.62        45\n",
            "   macro avg       0.62      0.61      0.61        45\n",
            "weighted avg       0.62      0.62      0.62        45\n",
            "\n",
            "Quantum SVM training time (PauliFeatureMap_XYZ, SPSA) with PCA: 56.89950609207153 seconds\n"
          ]
        },
        {
          "output_type": "stream",
          "name": "stderr",
          "text": [
            "/usr/local/lib/python3.10/dist-packages/sklearn/preprocessing/_encoders.py:868: FutureWarning: `sparse` was renamed to `sparse_output` in version 1.2 and will be removed in 1.4. `sparse_output` is ignored unless you leave `sparse` to its default value.\n",
            "  warnings.warn(\n"
          ]
        },
        {
          "output_type": "stream",
          "name": "stdout",
          "text": [
            "Performance Metrics for Quantum SVM (PauliFeatureMap_XYZ, COBYLA) with PCA:\n",
            "              precision    recall  f1-score   support\n",
            "\n",
            "           0       0.86      0.24      0.38        25\n",
            "           1       0.50      0.95      0.66        20\n",
            "\n",
            "    accuracy                           0.56        45\n",
            "   macro avg       0.68      0.59      0.52        45\n",
            "weighted avg       0.70      0.56      0.50        45\n",
            "\n",
            "Quantum SVM training time (PauliFeatureMap_XYZ, COBYLA) with PCA: 29.203438997268677 seconds\n"
          ]
        },
        {
          "output_type": "stream",
          "name": "stderr",
          "text": [
            "/usr/local/lib/python3.10/dist-packages/sklearn/preprocessing/_encoders.py:868: FutureWarning: `sparse` was renamed to `sparse_output` in version 1.2 and will be removed in 1.4. `sparse_output` is ignored unless you leave `sparse` to its default value.\n",
            "  warnings.warn(\n"
          ]
        },
        {
          "output_type": "stream",
          "name": "stdout",
          "text": [
            "Performance Metrics for Quantum SVM (PauliFeatureMap_XYZ, L_BFGS_B) with PCA:\n",
            "              precision    recall  f1-score   support\n",
            "\n",
            "           0       0.62      0.60      0.61        25\n",
            "           1       0.52      0.55      0.54        20\n",
            "\n",
            "    accuracy                           0.58        45\n",
            "   macro avg       0.57      0.57      0.57        45\n",
            "weighted avg       0.58      0.58      0.58        45\n",
            "\n",
            "Quantum SVM training time (PauliFeatureMap_XYZ, L_BFGS_B) with PCA: 73.53897833824158 seconds\n"
          ]
        },
        {
          "output_type": "stream",
          "name": "stderr",
          "text": [
            "/usr/local/lib/python3.10/dist-packages/sklearn/preprocessing/_encoders.py:868: FutureWarning: `sparse` was renamed to `sparse_output` in version 1.2 and will be removed in 1.4. `sparse_output` is ignored unless you leave `sparse` to its default value.\n",
            "  warnings.warn(\n"
          ]
        },
        {
          "output_type": "stream",
          "name": "stdout",
          "text": [
            "Performance Metrics for Quantum SVM (PauliFeatureMap_XYZ, SLSQP) with PCA:\n",
            "              precision    recall  f1-score   support\n",
            "\n",
            "           0       0.67      0.40      0.50        25\n",
            "           1       0.50      0.75      0.60        20\n",
            "\n",
            "    accuracy                           0.56        45\n",
            "   macro avg       0.58      0.57      0.55        45\n",
            "weighted avg       0.59      0.56      0.54        45\n",
            "\n",
            "Quantum SVM training time (PauliFeatureMap_XYZ, SLSQP) with PCA: 94.74219918251038 seconds\n"
          ]
        },
        {
          "output_type": "stream",
          "name": "stderr",
          "text": [
            "/usr/local/lib/python3.10/dist-packages/sklearn/preprocessing/_encoders.py:868: FutureWarning: `sparse` was renamed to `sparse_output` in version 1.2 and will be removed in 1.4. `sparse_output` is ignored unless you leave `sparse` to its default value.\n",
            "  warnings.warn(\n"
          ]
        },
        {
          "output_type": "stream",
          "name": "stdout",
          "text": [
            "Performance Metrics for Quantum SVM (PauliFeatureMap_YZ, SPSA) with PCA:\n",
            "              precision    recall  f1-score   support\n",
            "\n",
            "           0       0.57      0.32      0.41        25\n",
            "           1       0.45      0.70      0.55        20\n",
            "\n",
            "    accuracy                           0.49        45\n",
            "   macro avg       0.51      0.51      0.48        45\n",
            "weighted avg       0.52      0.49      0.47        45\n",
            "\n",
            "Quantum SVM training time (PauliFeatureMap_YZ, SPSA) with PCA: 51.979692220687866 seconds\n"
          ]
        },
        {
          "output_type": "stream",
          "name": "stderr",
          "text": [
            "/usr/local/lib/python3.10/dist-packages/sklearn/preprocessing/_encoders.py:868: FutureWarning: `sparse` was renamed to `sparse_output` in version 1.2 and will be removed in 1.4. `sparse_output` is ignored unless you leave `sparse` to its default value.\n",
            "  warnings.warn(\n"
          ]
        },
        {
          "output_type": "stream",
          "name": "stdout",
          "text": [
            "Performance Metrics for Quantum SVM (PauliFeatureMap_YZ, COBYLA) with PCA:\n",
            "              precision    recall  f1-score   support\n",
            "\n",
            "           0       0.62      0.32      0.42        25\n",
            "           1       0.47      0.75      0.58        20\n",
            "\n",
            "    accuracy                           0.51        45\n",
            "   macro avg       0.54      0.54      0.50        45\n",
            "weighted avg       0.55      0.51      0.49        45\n",
            "\n",
            "Quantum SVM training time (PauliFeatureMap_YZ, COBYLA) with PCA: 31.458552598953247 seconds\n"
          ]
        },
        {
          "output_type": "stream",
          "name": "stderr",
          "text": [
            "/usr/local/lib/python3.10/dist-packages/sklearn/preprocessing/_encoders.py:868: FutureWarning: `sparse` was renamed to `sparse_output` in version 1.2 and will be removed in 1.4. `sparse_output` is ignored unless you leave `sparse` to its default value.\n",
            "  warnings.warn(\n"
          ]
        },
        {
          "output_type": "stream",
          "name": "stdout",
          "text": [
            "Performance Metrics for Quantum SVM (PauliFeatureMap_YZ, L_BFGS_B) with PCA:\n",
            "              precision    recall  f1-score   support\n",
            "\n",
            "           0       0.58      0.28      0.38        25\n",
            "           1       0.45      0.75      0.57        20\n",
            "\n",
            "    accuracy                           0.49        45\n",
            "   macro avg       0.52      0.52      0.47        45\n",
            "weighted avg       0.53      0.49      0.46        45\n",
            "\n",
            "Quantum SVM training time (PauliFeatureMap_YZ, L_BFGS_B) with PCA: 123.62877225875854 seconds\n"
          ]
        },
        {
          "output_type": "stream",
          "name": "stderr",
          "text": [
            "/usr/local/lib/python3.10/dist-packages/sklearn/preprocessing/_encoders.py:868: FutureWarning: `sparse` was renamed to `sparse_output` in version 1.2 and will be removed in 1.4. `sparse_output` is ignored unless you leave `sparse` to its default value.\n",
            "  warnings.warn(\n"
          ]
        },
        {
          "output_type": "stream",
          "name": "stdout",
          "text": [
            "Performance Metrics for Quantum SVM (PauliFeatureMap_YZ, SLSQP) with PCA:\n",
            "              precision    recall  f1-score   support\n",
            "\n",
            "           0       0.57      0.32      0.41        25\n",
            "           1       0.45      0.70      0.55        20\n",
            "\n",
            "    accuracy                           0.49        45\n",
            "   macro avg       0.51      0.51      0.48        45\n",
            "weighted avg       0.52      0.49      0.47        45\n",
            "\n",
            "Quantum SVM training time (PauliFeatureMap_YZ, SLSQP) with PCA: 66.16198682785034 seconds\n"
          ]
        },
        {
          "output_type": "stream",
          "name": "stderr",
          "text": [
            "/usr/local/lib/python3.10/dist-packages/sklearn/preprocessing/_encoders.py:868: FutureWarning: `sparse` was renamed to `sparse_output` in version 1.2 and will be removed in 1.4. `sparse_output` is ignored unless you leave `sparse` to its default value.\n",
            "  warnings.warn(\n"
          ]
        },
        {
          "output_type": "stream",
          "name": "stdout",
          "text": [
            "Performance Metrics for Quantum SVM (PauliFeatureMap_Y, SPSA) with PCA:\n",
            "              precision    recall  f1-score   support\n",
            "\n",
            "           0       0.00      0.00      0.00        25\n",
            "           1       0.44      1.00      0.62        20\n",
            "\n",
            "    accuracy                           0.44        45\n",
            "   macro avg       0.22      0.50      0.31        45\n",
            "weighted avg       0.20      0.44      0.27        45\n",
            "\n",
            "Quantum SVM training time (PauliFeatureMap_Y, SPSA) with PCA: 48.06271958351135 seconds\n"
          ]
        },
        {
          "output_type": "stream",
          "name": "stderr",
          "text": [
            "/usr/local/lib/python3.10/dist-packages/sklearn/metrics/_classification.py:1344: UndefinedMetricWarning: Precision and F-score are ill-defined and being set to 0.0 in labels with no predicted samples. Use `zero_division` parameter to control this behavior.\n",
            "  _warn_prf(average, modifier, msg_start, len(result))\n",
            "/usr/local/lib/python3.10/dist-packages/sklearn/metrics/_classification.py:1344: UndefinedMetricWarning: Precision and F-score are ill-defined and being set to 0.0 in labels with no predicted samples. Use `zero_division` parameter to control this behavior.\n",
            "  _warn_prf(average, modifier, msg_start, len(result))\n",
            "/usr/local/lib/python3.10/dist-packages/sklearn/metrics/_classification.py:1344: UndefinedMetricWarning: Precision and F-score are ill-defined and being set to 0.0 in labels with no predicted samples. Use `zero_division` parameter to control this behavior.\n",
            "  _warn_prf(average, modifier, msg_start, len(result))\n",
            "/usr/local/lib/python3.10/dist-packages/sklearn/preprocessing/_encoders.py:868: FutureWarning: `sparse` was renamed to `sparse_output` in version 1.2 and will be removed in 1.4. `sparse_output` is ignored unless you leave `sparse` to its default value.\n",
            "  warnings.warn(\n"
          ]
        },
        {
          "output_type": "stream",
          "name": "stdout",
          "text": [
            "Performance Metrics for Quantum SVM (PauliFeatureMap_Y, COBYLA) with PCA:\n",
            "              precision    recall  f1-score   support\n",
            "\n",
            "           0       0.55      0.68      0.61        25\n",
            "           1       0.43      0.30      0.35        20\n",
            "\n",
            "    accuracy                           0.51        45\n",
            "   macro avg       0.49      0.49      0.48        45\n",
            "weighted avg       0.50      0.51      0.49        45\n",
            "\n",
            "Quantum SVM training time (PauliFeatureMap_Y, COBYLA) with PCA: 26.89259910583496 seconds\n"
          ]
        },
        {
          "output_type": "stream",
          "name": "stderr",
          "text": [
            "/usr/local/lib/python3.10/dist-packages/sklearn/preprocessing/_encoders.py:868: FutureWarning: `sparse` was renamed to `sparse_output` in version 1.2 and will be removed in 1.4. `sparse_output` is ignored unless you leave `sparse` to its default value.\n",
            "  warnings.warn(\n"
          ]
        },
        {
          "output_type": "stream",
          "name": "stdout",
          "text": [
            "Performance Metrics for Quantum SVM (PauliFeatureMap_Y, L_BFGS_B) with PCA:\n",
            "              precision    recall  f1-score   support\n",
            "\n",
            "           0       0.00      0.00      0.00        25\n",
            "           1       0.43      0.95      0.59        20\n",
            "\n",
            "    accuracy                           0.42        45\n",
            "   macro avg       0.22      0.47      0.30        45\n",
            "weighted avg       0.19      0.42      0.26        45\n",
            "\n",
            "Quantum SVM training time (PauliFeatureMap_Y, L_BFGS_B) with PCA: 64.14005637168884 seconds\n"
          ]
        },
        {
          "output_type": "stream",
          "name": "stderr",
          "text": [
            "/usr/local/lib/python3.10/dist-packages/sklearn/preprocessing/_encoders.py:868: FutureWarning: `sparse` was renamed to `sparse_output` in version 1.2 and will be removed in 1.4. `sparse_output` is ignored unless you leave `sparse` to its default value.\n",
            "  warnings.warn(\n"
          ]
        },
        {
          "output_type": "stream",
          "name": "stdout",
          "text": [
            "Performance Metrics for Quantum SVM (PauliFeatureMap_Y, SLSQP) with PCA:\n",
            "              precision    recall  f1-score   support\n",
            "\n",
            "           0       0.00      0.00      0.00        25\n",
            "           1       0.44      1.00      0.62        20\n",
            "\n",
            "    accuracy                           0.44        45\n",
            "   macro avg       0.22      0.50      0.31        45\n",
            "weighted avg       0.20      0.44      0.27        45\n",
            "\n",
            "Quantum SVM training time (PauliFeatureMap_Y, SLSQP) with PCA: 10.153313875198364 seconds\n"
          ]
        },
        {
          "output_type": "stream",
          "name": "stderr",
          "text": [
            "/usr/local/lib/python3.10/dist-packages/sklearn/metrics/_classification.py:1344: UndefinedMetricWarning: Precision and F-score are ill-defined and being set to 0.0 in labels with no predicted samples. Use `zero_division` parameter to control this behavior.\n",
            "  _warn_prf(average, modifier, msg_start, len(result))\n",
            "/usr/local/lib/python3.10/dist-packages/sklearn/metrics/_classification.py:1344: UndefinedMetricWarning: Precision and F-score are ill-defined and being set to 0.0 in labels with no predicted samples. Use `zero_division` parameter to control this behavior.\n",
            "  _warn_prf(average, modifier, msg_start, len(result))\n",
            "/usr/local/lib/python3.10/dist-packages/sklearn/metrics/_classification.py:1344: UndefinedMetricWarning: Precision and F-score are ill-defined and being set to 0.0 in labels with no predicted samples. Use `zero_division` parameter to control this behavior.\n",
            "  _warn_prf(average, modifier, msg_start, len(result))\n",
            "/usr/local/lib/python3.10/dist-packages/sklearn/preprocessing/_encoders.py:868: FutureWarning: `sparse` was renamed to `sparse_output` in version 1.2 and will be removed in 1.4. `sparse_output` is ignored unless you leave `sparse` to its default value.\n",
            "  warnings.warn(\n"
          ]
        },
        {
          "output_type": "stream",
          "name": "stdout",
          "text": [
            "Performance Metrics for Quantum SVM (PauliFeatureMap_XYZYY, SPSA) with PCA:\n",
            "              precision    recall  f1-score   support\n",
            "\n",
            "           0       0.47      0.36      0.41        25\n",
            "           1       0.38      0.50      0.43        20\n",
            "\n",
            "    accuracy                           0.42        45\n",
            "   macro avg       0.43      0.43      0.42        45\n",
            "weighted avg       0.43      0.42      0.42        45\n",
            "\n",
            "Quantum SVM training time (PauliFeatureMap_XYZYY, SPSA) with PCA: 67.7771909236908 seconds\n"
          ]
        },
        {
          "output_type": "stream",
          "name": "stderr",
          "text": [
            "/usr/local/lib/python3.10/dist-packages/sklearn/preprocessing/_encoders.py:868: FutureWarning: `sparse` was renamed to `sparse_output` in version 1.2 and will be removed in 1.4. `sparse_output` is ignored unless you leave `sparse` to its default value.\n",
            "  warnings.warn(\n"
          ]
        },
        {
          "output_type": "stream",
          "name": "stdout",
          "text": [
            "Performance Metrics for Quantum SVM (PauliFeatureMap_XYZYY, COBYLA) with PCA:\n",
            "              precision    recall  f1-score   support\n",
            "\n",
            "           0       0.54      0.56      0.55        25\n",
            "           1       0.42      0.40      0.41        20\n",
            "\n",
            "    accuracy                           0.49        45\n",
            "   macro avg       0.48      0.48      0.48        45\n",
            "weighted avg       0.49      0.49      0.49        45\n",
            "\n",
            "Quantum SVM training time (PauliFeatureMap_XYZYY, COBYLA) with PCA: 44.49374175071716 seconds\n"
          ]
        },
        {
          "output_type": "stream",
          "name": "stderr",
          "text": [
            "/usr/local/lib/python3.10/dist-packages/sklearn/preprocessing/_encoders.py:868: FutureWarning: `sparse` was renamed to `sparse_output` in version 1.2 and will be removed in 1.4. `sparse_output` is ignored unless you leave `sparse` to its default value.\n",
            "  warnings.warn(\n"
          ]
        },
        {
          "output_type": "stream",
          "name": "stdout",
          "text": [
            "Performance Metrics for Quantum SVM (PauliFeatureMap_XYZYY, L_BFGS_B) with PCA:\n",
            "              precision    recall  f1-score   support\n",
            "\n",
            "           0       0.59      0.52      0.55        25\n",
            "           1       0.48      0.55      0.51        20\n",
            "\n",
            "    accuracy                           0.53        45\n",
            "   macro avg       0.53      0.54      0.53        45\n",
            "weighted avg       0.54      0.53      0.53        45\n",
            "\n",
            "Quantum SVM training time (PauliFeatureMap_XYZYY, L_BFGS_B) with PCA: 136.70653533935547 seconds\n"
          ]
        },
        {
          "output_type": "stream",
          "name": "stderr",
          "text": [
            "/usr/local/lib/python3.10/dist-packages/sklearn/preprocessing/_encoders.py:868: FutureWarning: `sparse` was renamed to `sparse_output` in version 1.2 and will be removed in 1.4. `sparse_output` is ignored unless you leave `sparse` to its default value.\n",
            "  warnings.warn(\n"
          ]
        },
        {
          "output_type": "stream",
          "name": "stdout",
          "text": [
            "Performance Metrics for Quantum SVM (PauliFeatureMap_XYZYY, SLSQP) with PCA:\n",
            "              precision    recall  f1-score   support\n",
            "\n",
            "           0       0.54      0.56      0.55        25\n",
            "           1       0.42      0.40      0.41        20\n",
            "\n",
            "    accuracy                           0.49        45\n",
            "   macro avg       0.48      0.48      0.48        45\n",
            "weighted avg       0.49      0.49      0.49        45\n",
            "\n",
            "Quantum SVM training time (PauliFeatureMap_XYZYY, SLSQP) with PCA: 96.77875900268555 seconds\n",
            "Best Configuration with PCA: Feature Map - PauliFeatureMap_XYZ, Optimizer - SPSA\n"
          ]
        }
      ]
    },
    {
      "cell_type": "code",
      "source": [
        "import numpy as np\n",
        "from sklearn.decomposition import PCA\n",
        "import matplotlib.pyplot as plt\n",
        "from sklearn.model_selection import train_test_split\n",
        "from sklearn.preprocessing import StandardScaler\n",
        "from sklearn.svm import SVC\n",
        "from sklearn.metrics import classification_report, accuracy_score\n",
        "from qiskit import Aer\n",
        "from qiskit.circuit.library import PauliFeatureMap\n",
        "from qiskit.circuit.library import ZZFeatureMap\n",
        "from qiskit_machine_learning.algorithms.classifiers import VQC\n",
        "from qiskit.utils import QuantumInstance\n",
        "from qiskit.algorithms.optimizers import SPSA, COBYLA, L_BFGS_B, SLSQP, ADAM\n",
        "from time import time\n",
        "\n",
        "np.random.seed(0)\n",
        "\n",
        "# Define the number of samples and features\n",
        "num_samples = 150\n",
        "num_features = 10  # You can increase this number to create a higher-dimensional dataset\n",
        "\n",
        "# Generate random data with strong correlations in the first few features\n",
        "mean = np.zeros(num_features)\n",
        "cov = np.eye(num_features)\n",
        "for i in range(5):\n",
        "    cov[i, i] = 2.0  # Increase the variance for the first 5 features to make them important\n",
        "\n",
        "data = np.random.multivariate_normal(mean, cov, num_samples)\n",
        "\n",
        "# Split the data into training and testing sets\n",
        "X_train, X_test, y_train, y_test = train_test_split(data, np.random.choice([0, 1], size=num_samples), test_size=0.3, random_state=42)\n",
        "\n",
        "# Data Preprocessing\n",
        "scaler = StandardScaler().fit(X_train)\n",
        "X_train = scaler.transform(X_train)\n",
        "X_test = scaler.transform(X_test)\n",
        "\n",
        "# Perform PCA to reduce dimensionality\n",
        "pca = PCA(n_components=2)  # You can adjust the number of components as needed\n",
        "X_train_pca = pca.fit_transform(X_train)\n",
        "X_test_pca = pca.transform(X_test)\n",
        "\n",
        "# Train Classical SVM on reduced dataset\n",
        "classical_svm_pca = SVC(kernel='rbf', C=1.0, gamma='scale')\n",
        "start = time()\n",
        "classical_svm_pca.fit(X_train_pca, y_train)\n",
        "end = time()\n",
        "classical_svm_predictions_pca = classical_svm_pca.predict(X_test_pca)\n",
        "print(\"Performance Metrics for Classical SVM with PCA:\")\n",
        "print(classification_report(y_test, classical_svm_predictions_pca))\n",
        "print(f\"Classical SVM training time with PCA: {end - start} seconds\")\n",
        "\n",
        "# Define a list of feature maps and their parameters to tune for QSVM\n",
        "feature_maps = [\n",
        "    {'name': 'ZZFeatureMap', 'feature_map': ZZFeatureMap(feature_dimension=2, reps=2, entanglement='full')},\n",
        "    {'name': 'PauliFeatureMap_XY', 'feature_map': PauliFeatureMap(feature_dimension=2, reps=2, paulis=['X', 'Y'], entanglement='full')},\n",
        "    {'name': 'PauliFeatureMap_ZZ', 'feature_map': PauliFeatureMap(feature_dimension=2, reps=2, paulis=['Z', 'ZZ'], entanglement='full')},\n",
        "    {'name': 'PauliFeatureMap_XYZ', 'feature_map': PauliFeatureMap(feature_dimension=2, reps=2, paulis=['X', 'Y', 'Z'], entanglement='full')},\n",
        "    {'name': 'PauliFeatureMap_YZ', 'feature_map': PauliFeatureMap(feature_dimension=2, reps=2, paulis=['Y', 'Z'], entanglement='full')},\n",
        "    {'name': 'PauliFeatureMap_Y', 'feature_map': PauliFeatureMap(feature_dimension=2, reps=2, paulis=['Y'], entanglement='full')},\n",
        "    {'name': 'PauliFeatureMap_XYZYY', 'feature_map': PauliFeatureMap(feature_dimension=2, reps=2, paulis=['X', 'Y', 'Z', 'YY'], entanglement='full')},\n",
        "    # Add more feature maps and their parameters to explore\n",
        "]\n",
        "\n",
        "# Define a list of optimizer parameters to tune for QSVM\n",
        "optimizers = [\n",
        "    {'name': 'SPSA', 'optimizer': SPSA(maxiter=50)},\n",
        "    {'name': 'COBYLA', 'optimizer': COBYLA(maxiter=100)},\n",
        "    {'name': 'L_BFGS_B', 'optimizer': L_BFGS_B(maxfun=100, maxiter=100)},\n",
        "    {'name': 'SLSQP', 'optimizer': SLSQP(maxiter=100)},\n",
        "    # Add more optimizers and their parameters to explore\n",
        "]\n",
        "\n",
        "\n",
        "best_score = 0\n",
        "best_params = {}\n",
        "\n",
        "for feature_map_params in feature_maps:\n",
        "    feature_map_name = feature_map_params['name']\n",
        "    feature_map = feature_map_params['feature_map']\n",
        "\n",
        "    for optimizer_params in optimizers:\n",
        "        optimizer_name = optimizer_params['name']\n",
        "        optimizer = optimizer_params['optimizer']\n",
        "\n",
        "        # Create a sampler for the AerSimulator\n",
        "        sampler = Sampler()\n",
        "\n",
        "        # Create an instance of the AerSimulator\n",
        "        simulator = AerSimulator()\n",
        "\n",
        "        # Train QSVM with the current feature map and optimizer using the sampler\n",
        "        vqc = VQC(feature_map=feature_map, ansatz=None, optimizer=optimizer, quantum_instance=simulator)\n",
        "\n",
        "        start = time()\n",
        "        vqc.fit(X_train_pca, y_train)\n",
        "        end = time()\n",
        "\n",
        "        result_quantum = vqc.predict(X_test_pca)\n",
        "        score = accuracy_score(y_test, result_quantum)\n",
        "\n",
        "        # Print performance metrics and runtime for the current configuration\n",
        "        print(f\"Performance Metrics for Quantum SVM ({feature_map_name}, {optimizer_name}) with PCA:\")\n",
        "        print(classification_report(y_test, result_quantum))\n",
        "        print(f\"Quantum SVM training time ({feature_map_name}, {optimizer_name}) with PCA: {end - start} seconds\")\n",
        "\n",
        "        # Check if the current configuration is the best\n",
        "        if score > best_score:\n",
        "            best_score = score\n",
        "            best_params = {'feature_map': feature_map_name, 'optimizer': optimizer_name}\n",
        "\n",
        "# Print the best configuration found\n",
        "print(f\"Best Configuration with PCA: Feature Map - {best_params['feature_map']}, Optimizer - {best_params['optimizer']}\")"
      ],
      "metadata": {
        "colab": {
          "base_uri": "https://localhost:8080/"
        },
        "id": "UihCpQhL16Q4",
        "outputId": "62146d1c-d433-4caf-c4a9-475daf69f8c7"
      },
      "execution_count": null,
      "outputs": [
        {
          "output_type": "stream",
          "name": "stdout",
          "text": [
            "Performance Metrics for Classical SVM with PCA:\n",
            "              precision    recall  f1-score   support\n",
            "\n",
            "           0       0.42      0.20      0.27        25\n",
            "           1       0.39      0.65      0.49        20\n",
            "\n",
            "    accuracy                           0.40        45\n",
            "   macro avg       0.41      0.43      0.38        45\n",
            "weighted avg       0.41      0.40      0.37        45\n",
            "\n",
            "Classical SVM training time with PCA: 0.0016565322875976562 seconds\n"
          ]
        },
        {
          "output_type": "stream",
          "name": "stderr",
          "text": [
            "/usr/local/lib/python3.10/dist-packages/sklearn/preprocessing/_encoders.py:868: FutureWarning: `sparse` was renamed to `sparse_output` in version 1.2 and will be removed in 1.4. `sparse_output` is ignored unless you leave `sparse` to its default value.\n",
            "  warnings.warn(\n"
          ]
        },
        {
          "output_type": "stream",
          "name": "stdout",
          "text": [
            "Performance Metrics for Quantum SVM (ZZFeatureMap, SPSA) with PCA:\n",
            "              precision    recall  f1-score   support\n",
            "\n",
            "           0       0.57      0.52      0.54        25\n",
            "           1       0.45      0.50      0.48        20\n",
            "\n",
            "    accuracy                           0.51        45\n",
            "   macro avg       0.51      0.51      0.51        45\n",
            "weighted avg       0.52      0.51      0.51        45\n",
            "\n",
            "Quantum SVM training time (ZZFeatureMap, SPSA) with PCA: 54.06768345832825 seconds\n"
          ]
        },
        {
          "output_type": "stream",
          "name": "stderr",
          "text": [
            "/usr/local/lib/python3.10/dist-packages/sklearn/preprocessing/_encoders.py:868: FutureWarning: `sparse` was renamed to `sparse_output` in version 1.2 and will be removed in 1.4. `sparse_output` is ignored unless you leave `sparse` to its default value.\n",
            "  warnings.warn(\n"
          ]
        },
        {
          "output_type": "stream",
          "name": "stdout",
          "text": [
            "Performance Metrics for Quantum SVM (ZZFeatureMap, COBYLA) with PCA:\n",
            "              precision    recall  f1-score   support\n",
            "\n",
            "           0       0.54      0.56      0.55        25\n",
            "           1       0.42      0.40      0.41        20\n",
            "\n",
            "    accuracy                           0.49        45\n",
            "   macro avg       0.48      0.48      0.48        45\n",
            "weighted avg       0.49      0.49      0.49        45\n",
            "\n",
            "Quantum SVM training time (ZZFeatureMap, COBYLA) with PCA: 31.967506408691406 seconds\n"
          ]
        },
        {
          "output_type": "stream",
          "name": "stderr",
          "text": [
            "/usr/local/lib/python3.10/dist-packages/sklearn/preprocessing/_encoders.py:868: FutureWarning: `sparse` was renamed to `sparse_output` in version 1.2 and will be removed in 1.4. `sparse_output` is ignored unless you leave `sparse` to its default value.\n",
            "  warnings.warn(\n"
          ]
        },
        {
          "output_type": "stream",
          "name": "stdout",
          "text": [
            "Performance Metrics for Quantum SVM (ZZFeatureMap, L_BFGS_B) with PCA:\n",
            "              precision    recall  f1-score   support\n",
            "\n",
            "           0       0.48      0.44      0.46        25\n",
            "           1       0.36      0.40      0.38        20\n",
            "\n",
            "    accuracy                           0.42        45\n",
            "   macro avg       0.42      0.42      0.42        45\n",
            "weighted avg       0.43      0.42      0.42        45\n",
            "\n",
            "Quantum SVM training time (ZZFeatureMap, L_BFGS_B) with PCA: 77.38059496879578 seconds\n"
          ]
        },
        {
          "output_type": "stream",
          "name": "stderr",
          "text": [
            "/usr/local/lib/python3.10/dist-packages/sklearn/preprocessing/_encoders.py:868: FutureWarning: `sparse` was renamed to `sparse_output` in version 1.2 and will be removed in 1.4. `sparse_output` is ignored unless you leave `sparse` to its default value.\n",
            "  warnings.warn(\n"
          ]
        },
        {
          "output_type": "stream",
          "name": "stdout",
          "text": [
            "Performance Metrics for Quantum SVM (ZZFeatureMap, SLSQP) with PCA:\n",
            "              precision    recall  f1-score   support\n",
            "\n",
            "           0       0.30      0.28      0.29        25\n",
            "           1       0.18      0.20      0.19        20\n",
            "\n",
            "    accuracy                           0.24        45\n",
            "   macro avg       0.24      0.24      0.24        45\n",
            "weighted avg       0.25      0.24      0.25        45\n",
            "\n",
            "Quantum SVM training time (ZZFeatureMap, SLSQP) with PCA: 66.01208853721619 seconds\n"
          ]
        },
        {
          "output_type": "stream",
          "name": "stderr",
          "text": [
            "/usr/local/lib/python3.10/dist-packages/sklearn/preprocessing/_encoders.py:868: FutureWarning: `sparse` was renamed to `sparse_output` in version 1.2 and will be removed in 1.4. `sparse_output` is ignored unless you leave `sparse` to its default value.\n",
            "  warnings.warn(\n"
          ]
        },
        {
          "output_type": "stream",
          "name": "stdout",
          "text": [
            "Performance Metrics for Quantum SVM (PauliFeatureMap_XY, SPSA) with PCA:\n",
            "              precision    recall  f1-score   support\n",
            "\n",
            "           0       0.67      0.32      0.43        25\n",
            "           1       0.48      0.80      0.60        20\n",
            "\n",
            "    accuracy                           0.53        45\n",
            "   macro avg       0.58      0.56      0.52        45\n",
            "weighted avg       0.59      0.53      0.51        45\n",
            "\n",
            "Quantum SVM training time (PauliFeatureMap_XY, SPSA) with PCA: 54.31289052963257 seconds\n"
          ]
        },
        {
          "output_type": "stream",
          "name": "stderr",
          "text": [
            "/usr/local/lib/python3.10/dist-packages/sklearn/preprocessing/_encoders.py:868: FutureWarning: `sparse` was renamed to `sparse_output` in version 1.2 and will be removed in 1.4. `sparse_output` is ignored unless you leave `sparse` to its default value.\n",
            "  warnings.warn(\n"
          ]
        },
        {
          "output_type": "stream",
          "name": "stdout",
          "text": [
            "Performance Metrics for Quantum SVM (PauliFeatureMap_XY, COBYLA) with PCA:\n",
            "              precision    recall  f1-score   support\n",
            "\n",
            "           0       0.50      0.56      0.53        25\n",
            "           1       0.35      0.30      0.32        20\n",
            "\n",
            "    accuracy                           0.44        45\n",
            "   macro avg       0.43      0.43      0.43        45\n",
            "weighted avg       0.43      0.44      0.44        45\n",
            "\n",
            "Quantum SVM training time (PauliFeatureMap_XY, COBYLA) with PCA: 27.928083419799805 seconds\n"
          ]
        },
        {
          "output_type": "stream",
          "name": "stderr",
          "text": [
            "/usr/local/lib/python3.10/dist-packages/sklearn/preprocessing/_encoders.py:868: FutureWarning: `sparse` was renamed to `sparse_output` in version 1.2 and will be removed in 1.4. `sparse_output` is ignored unless you leave `sparse` to its default value.\n",
            "  warnings.warn(\n"
          ]
        },
        {
          "output_type": "stream",
          "name": "stdout",
          "text": [
            "Performance Metrics for Quantum SVM (PauliFeatureMap_XY, L_BFGS_B) with PCA:\n",
            "              precision    recall  f1-score   support\n",
            "\n",
            "           0       0.53      0.32      0.40        25\n",
            "           1       0.43      0.65      0.52        20\n",
            "\n",
            "    accuracy                           0.47        45\n",
            "   macro avg       0.48      0.48      0.46        45\n",
            "weighted avg       0.49      0.47      0.45        45\n",
            "\n",
            "Quantum SVM training time (PauliFeatureMap_XY, L_BFGS_B) with PCA: 203.17177820205688 seconds\n"
          ]
        },
        {
          "output_type": "stream",
          "name": "stderr",
          "text": [
            "/usr/local/lib/python3.10/dist-packages/sklearn/preprocessing/_encoders.py:868: FutureWarning: `sparse` was renamed to `sparse_output` in version 1.2 and will be removed in 1.4. `sparse_output` is ignored unless you leave `sparse` to its default value.\n",
            "  warnings.warn(\n"
          ]
        },
        {
          "output_type": "stream",
          "name": "stdout",
          "text": [
            "Performance Metrics for Quantum SVM (PauliFeatureMap_XY, SLSQP) with PCA:\n",
            "              precision    recall  f1-score   support\n",
            "\n",
            "           0       0.54      0.52      0.53        25\n",
            "           1       0.43      0.45      0.44        20\n",
            "\n",
            "    accuracy                           0.49        45\n",
            "   macro avg       0.49      0.48      0.48        45\n",
            "weighted avg       0.49      0.49      0.49        45\n",
            "\n",
            "Quantum SVM training time (PauliFeatureMap_XY, SLSQP) with PCA: 58.24891376495361 seconds\n"
          ]
        },
        {
          "output_type": "stream",
          "name": "stderr",
          "text": [
            "/usr/local/lib/python3.10/dist-packages/sklearn/preprocessing/_encoders.py:868: FutureWarning: `sparse` was renamed to `sparse_output` in version 1.2 and will be removed in 1.4. `sparse_output` is ignored unless you leave `sparse` to its default value.\n",
            "  warnings.warn(\n"
          ]
        },
        {
          "output_type": "stream",
          "name": "stdout",
          "text": [
            "Performance Metrics for Quantum SVM (PauliFeatureMap_ZZ, SPSA) with PCA:\n",
            "              precision    recall  f1-score   support\n",
            "\n",
            "           0       0.46      0.44      0.45        25\n",
            "           1       0.33      0.35      0.34        20\n",
            "\n",
            "    accuracy                           0.40        45\n",
            "   macro avg       0.40      0.40      0.40        45\n",
            "weighted avg       0.40      0.40      0.40        45\n",
            "\n",
            "Quantum SVM training time (PauliFeatureMap_ZZ, SPSA) with PCA: 53.299113273620605 seconds\n"
          ]
        },
        {
          "output_type": "stream",
          "name": "stderr",
          "text": [
            "/usr/local/lib/python3.10/dist-packages/sklearn/preprocessing/_encoders.py:868: FutureWarning: `sparse` was renamed to `sparse_output` in version 1.2 and will be removed in 1.4. `sparse_output` is ignored unless you leave `sparse` to its default value.\n",
            "  warnings.warn(\n"
          ]
        },
        {
          "output_type": "stream",
          "name": "stdout",
          "text": [
            "Performance Metrics for Quantum SVM (PauliFeatureMap_ZZ, COBYLA) with PCA:\n",
            "              precision    recall  f1-score   support\n",
            "\n",
            "           0       0.58      0.60      0.59        25\n",
            "           1       0.47      0.45      0.46        20\n",
            "\n",
            "    accuracy                           0.53        45\n",
            "   macro avg       0.53      0.53      0.52        45\n",
            "weighted avg       0.53      0.53      0.53        45\n",
            "\n",
            "Quantum SVM training time (PauliFeatureMap_ZZ, COBYLA) with PCA: 31.819087266921997 seconds\n"
          ]
        },
        {
          "output_type": "stream",
          "name": "stderr",
          "text": [
            "/usr/local/lib/python3.10/dist-packages/sklearn/preprocessing/_encoders.py:868: FutureWarning: `sparse` was renamed to `sparse_output` in version 1.2 and will be removed in 1.4. `sparse_output` is ignored unless you leave `sparse` to its default value.\n",
            "  warnings.warn(\n"
          ]
        },
        {
          "output_type": "stream",
          "name": "stdout",
          "text": [
            "Performance Metrics for Quantum SVM (PauliFeatureMap_ZZ, L_BFGS_B) with PCA:\n",
            "              precision    recall  f1-score   support\n",
            "\n",
            "           0       0.50      0.44      0.47        25\n",
            "           1       0.39      0.45      0.42        20\n",
            "\n",
            "    accuracy                           0.44        45\n",
            "   macro avg       0.45      0.45      0.44        45\n",
            "weighted avg       0.45      0.44      0.45        45\n",
            "\n",
            "Quantum SVM training time (PauliFeatureMap_ZZ, L_BFGS_B) with PCA: 116.82159209251404 seconds\n"
          ]
        },
        {
          "output_type": "stream",
          "name": "stderr",
          "text": [
            "/usr/local/lib/python3.10/dist-packages/sklearn/preprocessing/_encoders.py:868: FutureWarning: `sparse` was renamed to `sparse_output` in version 1.2 and will be removed in 1.4. `sparse_output` is ignored unless you leave `sparse` to its default value.\n",
            "  warnings.warn(\n"
          ]
        },
        {
          "output_type": "stream",
          "name": "stdout",
          "text": [
            "Performance Metrics for Quantum SVM (PauliFeatureMap_ZZ, SLSQP) with PCA:\n",
            "              precision    recall  f1-score   support\n",
            "\n",
            "           0       0.54      0.60      0.57        25\n",
            "           1       0.41      0.35      0.38        20\n",
            "\n",
            "    accuracy                           0.49        45\n",
            "   macro avg       0.47      0.47      0.47        45\n",
            "weighted avg       0.48      0.49      0.48        45\n",
            "\n",
            "Quantum SVM training time (PauliFeatureMap_ZZ, SLSQP) with PCA: 74.4116702079773 seconds\n"
          ]
        },
        {
          "output_type": "stream",
          "name": "stderr",
          "text": [
            "/usr/local/lib/python3.10/dist-packages/sklearn/preprocessing/_encoders.py:868: FutureWarning: `sparse` was renamed to `sparse_output` in version 1.2 and will be removed in 1.4. `sparse_output` is ignored unless you leave `sparse` to its default value.\n",
            "  warnings.warn(\n"
          ]
        },
        {
          "output_type": "stream",
          "name": "stdout",
          "text": [
            "Performance Metrics for Quantum SVM (PauliFeatureMap_XYZ, SPSA) with PCA:\n",
            "              precision    recall  f1-score   support\n",
            "\n",
            "           0       0.83      0.40      0.54        25\n",
            "           1       0.55      0.90      0.68        20\n",
            "\n",
            "    accuracy                           0.62        45\n",
            "   macro avg       0.69      0.65      0.61        45\n",
            "weighted avg       0.71      0.62      0.60        45\n",
            "\n",
            "Quantum SVM training time (PauliFeatureMap_XYZ, SPSA) with PCA: 57.39322590827942 seconds\n"
          ]
        },
        {
          "output_type": "stream",
          "name": "stderr",
          "text": [
            "/usr/local/lib/python3.10/dist-packages/sklearn/preprocessing/_encoders.py:868: FutureWarning: `sparse` was renamed to `sparse_output` in version 1.2 and will be removed in 1.4. `sparse_output` is ignored unless you leave `sparse` to its default value.\n",
            "  warnings.warn(\n"
          ]
        },
        {
          "output_type": "stream",
          "name": "stdout",
          "text": [
            "Performance Metrics for Quantum SVM (PauliFeatureMap_XYZ, COBYLA) with PCA:\n",
            "              precision    recall  f1-score   support\n",
            "\n",
            "           0       0.91      0.40      0.56        25\n",
            "           1       0.56      0.95      0.70        20\n",
            "\n",
            "    accuracy                           0.64        45\n",
            "   macro avg       0.73      0.68      0.63        45\n",
            "weighted avg       0.75      0.64      0.62        45\n",
            "\n",
            "Quantum SVM training time (PauliFeatureMap_XYZ, COBYLA) with PCA: 32.51754689216614 seconds\n"
          ]
        },
        {
          "output_type": "stream",
          "name": "stderr",
          "text": [
            "/usr/local/lib/python3.10/dist-packages/sklearn/preprocessing/_encoders.py:868: FutureWarning: `sparse` was renamed to `sparse_output` in version 1.2 and will be removed in 1.4. `sparse_output` is ignored unless you leave `sparse` to its default value.\n",
            "  warnings.warn(\n"
          ]
        },
        {
          "output_type": "stream",
          "name": "stdout",
          "text": [
            "Performance Metrics for Quantum SVM (PauliFeatureMap_XYZ, L_BFGS_B) with PCA:\n",
            "              precision    recall  f1-score   support\n",
            "\n",
            "           0       0.33      0.20      0.25        25\n",
            "           1       0.33      0.50      0.40        20\n",
            "\n",
            "    accuracy                           0.33        45\n",
            "   macro avg       0.33      0.35      0.33        45\n",
            "weighted avg       0.33      0.33      0.32        45\n",
            "\n",
            "Quantum SVM training time (PauliFeatureMap_XYZ, L_BFGS_B) with PCA: 162.77247190475464 seconds\n"
          ]
        },
        {
          "output_type": "stream",
          "name": "stderr",
          "text": [
            "/usr/local/lib/python3.10/dist-packages/sklearn/preprocessing/_encoders.py:868: FutureWarning: `sparse` was renamed to `sparse_output` in version 1.2 and will be removed in 1.4. `sparse_output` is ignored unless you leave `sparse` to its default value.\n",
            "  warnings.warn(\n"
          ]
        },
        {
          "output_type": "stream",
          "name": "stdout",
          "text": [
            "Performance Metrics for Quantum SVM (PauliFeatureMap_XYZ, SLSQP) with PCA:\n",
            "              precision    recall  f1-score   support\n",
            "\n",
            "           0       0.62      0.20      0.30        25\n",
            "           1       0.46      0.85      0.60        20\n",
            "\n",
            "    accuracy                           0.49        45\n",
            "   macro avg       0.54      0.53      0.45        45\n",
            "weighted avg       0.55      0.49      0.43        45\n",
            "\n",
            "Quantum SVM training time (PauliFeatureMap_XYZ, SLSQP) with PCA: 94.55856108665466 seconds\n"
          ]
        },
        {
          "output_type": "stream",
          "name": "stderr",
          "text": [
            "/usr/local/lib/python3.10/dist-packages/sklearn/preprocessing/_encoders.py:868: FutureWarning: `sparse` was renamed to `sparse_output` in version 1.2 and will be removed in 1.4. `sparse_output` is ignored unless you leave `sparse` to its default value.\n",
            "  warnings.warn(\n"
          ]
        },
        {
          "output_type": "stream",
          "name": "stdout",
          "text": [
            "Performance Metrics for Quantum SVM (PauliFeatureMap_YZ, SPSA) with PCA:\n",
            "              precision    recall  f1-score   support\n",
            "\n",
            "           0       0.57      0.52      0.54        25\n",
            "           1       0.45      0.50      0.48        20\n",
            "\n",
            "    accuracy                           0.51        45\n",
            "   macro avg       0.51      0.51      0.51        45\n",
            "weighted avg       0.52      0.51      0.51        45\n",
            "\n",
            "Quantum SVM training time (PauliFeatureMap_YZ, SPSA) with PCA: 53.63653016090393 seconds\n"
          ]
        },
        {
          "output_type": "stream",
          "name": "stderr",
          "text": [
            "/usr/local/lib/python3.10/dist-packages/sklearn/preprocessing/_encoders.py:868: FutureWarning: `sparse` was renamed to `sparse_output` in version 1.2 and will be removed in 1.4. `sparse_output` is ignored unless you leave `sparse` to its default value.\n",
            "  warnings.warn(\n"
          ]
        },
        {
          "output_type": "stream",
          "name": "stdout",
          "text": [
            "Performance Metrics for Quantum SVM (PauliFeatureMap_YZ, COBYLA) with PCA:\n",
            "              precision    recall  f1-score   support\n",
            "\n",
            "           0       0.57      0.32      0.41        25\n",
            "           1       0.45      0.70      0.55        20\n",
            "\n",
            "    accuracy                           0.49        45\n",
            "   macro avg       0.51      0.51      0.48        45\n",
            "weighted avg       0.52      0.49      0.47        45\n",
            "\n",
            "Quantum SVM training time (PauliFeatureMap_YZ, COBYLA) with PCA: 29.713853359222412 seconds\n"
          ]
        },
        {
          "output_type": "stream",
          "name": "stderr",
          "text": [
            "/usr/local/lib/python3.10/dist-packages/sklearn/preprocessing/_encoders.py:868: FutureWarning: `sparse` was renamed to `sparse_output` in version 1.2 and will be removed in 1.4. `sparse_output` is ignored unless you leave `sparse` to its default value.\n",
            "  warnings.warn(\n"
          ]
        },
        {
          "output_type": "stream",
          "name": "stdout",
          "text": [
            "Performance Metrics for Quantum SVM (PauliFeatureMap_YZ, L_BFGS_B) with PCA:\n",
            "              precision    recall  f1-score   support\n",
            "\n",
            "           0       0.54      0.28      0.37        25\n",
            "           1       0.44      0.70      0.54        20\n",
            "\n",
            "    accuracy                           0.47        45\n",
            "   macro avg       0.49      0.49      0.45        45\n",
            "weighted avg       0.49      0.47      0.44        45\n",
            "\n",
            "Quantum SVM training time (PauliFeatureMap_YZ, L_BFGS_B) with PCA: 106.70920825004578 seconds\n"
          ]
        },
        {
          "output_type": "stream",
          "name": "stderr",
          "text": [
            "/usr/local/lib/python3.10/dist-packages/sklearn/preprocessing/_encoders.py:868: FutureWarning: `sparse` was renamed to `sparse_output` in version 1.2 and will be removed in 1.4. `sparse_output` is ignored unless you leave `sparse` to its default value.\n",
            "  warnings.warn(\n"
          ]
        },
        {
          "output_type": "stream",
          "name": "stdout",
          "text": [
            "Performance Metrics for Quantum SVM (PauliFeatureMap_YZ, SLSQP) with PCA:\n",
            "              precision    recall  f1-score   support\n",
            "\n",
            "           0       0.54      0.28      0.37        25\n",
            "           1       0.44      0.70      0.54        20\n",
            "\n",
            "    accuracy                           0.47        45\n",
            "   macro avg       0.49      0.49      0.45        45\n",
            "weighted avg       0.49      0.47      0.44        45\n",
            "\n",
            "Quantum SVM training time (PauliFeatureMap_YZ, SLSQP) with PCA: 49.92360973358154 seconds\n"
          ]
        },
        {
          "output_type": "stream",
          "name": "stderr",
          "text": [
            "/usr/local/lib/python3.10/dist-packages/sklearn/preprocessing/_encoders.py:868: FutureWarning: `sparse` was renamed to `sparse_output` in version 1.2 and will be removed in 1.4. `sparse_output` is ignored unless you leave `sparse` to its default value.\n",
            "  warnings.warn(\n"
          ]
        },
        {
          "output_type": "stream",
          "name": "stdout",
          "text": [
            "Performance Metrics for Quantum SVM (PauliFeatureMap_Y, SPSA) with PCA:\n",
            "              precision    recall  f1-score   support\n",
            "\n",
            "           0       0.39      0.28      0.33        25\n",
            "           1       0.33      0.45      0.38        20\n",
            "\n",
            "    accuracy                           0.36        45\n",
            "   macro avg       0.36      0.36      0.35        45\n",
            "weighted avg       0.36      0.36      0.35        45\n",
            "\n",
            "Quantum SVM training time (PauliFeatureMap_Y, SPSA) with PCA: 48.32312989234924 seconds\n"
          ]
        },
        {
          "output_type": "stream",
          "name": "stderr",
          "text": [
            "/usr/local/lib/python3.10/dist-packages/sklearn/preprocessing/_encoders.py:868: FutureWarning: `sparse` was renamed to `sparse_output` in version 1.2 and will be removed in 1.4. `sparse_output` is ignored unless you leave `sparse` to its default value.\n",
            "  warnings.warn(\n"
          ]
        },
        {
          "output_type": "stream",
          "name": "stdout",
          "text": [
            "Performance Metrics for Quantum SVM (PauliFeatureMap_Y, COBYLA) with PCA:\n",
            "              precision    recall  f1-score   support\n",
            "\n",
            "           0       0.00      0.00      0.00        25\n",
            "           1       0.44      1.00      0.62        20\n",
            "\n",
            "    accuracy                           0.44        45\n",
            "   macro avg       0.22      0.50      0.31        45\n",
            "weighted avg       0.20      0.44      0.27        45\n",
            "\n",
            "Quantum SVM training time (PauliFeatureMap_Y, COBYLA) with PCA: 26.821011304855347 seconds\n"
          ]
        },
        {
          "output_type": "stream",
          "name": "stderr",
          "text": [
            "/usr/local/lib/python3.10/dist-packages/sklearn/metrics/_classification.py:1344: UndefinedMetricWarning: Precision and F-score are ill-defined and being set to 0.0 in labels with no predicted samples. Use `zero_division` parameter to control this behavior.\n",
            "  _warn_prf(average, modifier, msg_start, len(result))\n",
            "/usr/local/lib/python3.10/dist-packages/sklearn/metrics/_classification.py:1344: UndefinedMetricWarning: Precision and F-score are ill-defined and being set to 0.0 in labels with no predicted samples. Use `zero_division` parameter to control this behavior.\n",
            "  _warn_prf(average, modifier, msg_start, len(result))\n",
            "/usr/local/lib/python3.10/dist-packages/sklearn/metrics/_classification.py:1344: UndefinedMetricWarning: Precision and F-score are ill-defined and being set to 0.0 in labels with no predicted samples. Use `zero_division` parameter to control this behavior.\n",
            "  _warn_prf(average, modifier, msg_start, len(result))\n",
            "/usr/local/lib/python3.10/dist-packages/sklearn/preprocessing/_encoders.py:868: FutureWarning: `sparse` was renamed to `sparse_output` in version 1.2 and will be removed in 1.4. `sparse_output` is ignored unless you leave `sparse` to its default value.\n",
            "  warnings.warn(\n"
          ]
        },
        {
          "output_type": "stream",
          "name": "stdout",
          "text": [
            "Performance Metrics for Quantum SVM (PauliFeatureMap_Y, L_BFGS_B) with PCA:\n",
            "              precision    recall  f1-score   support\n",
            "\n",
            "           0       0.00      0.00      0.00        25\n",
            "           1       0.44      1.00      0.62        20\n",
            "\n",
            "    accuracy                           0.44        45\n",
            "   macro avg       0.22      0.50      0.31        45\n",
            "weighted avg       0.20      0.44      0.27        45\n",
            "\n",
            "Quantum SVM training time (PauliFeatureMap_Y, L_BFGS_B) with PCA: 177.19264817237854 seconds\n"
          ]
        },
        {
          "output_type": "stream",
          "name": "stderr",
          "text": [
            "/usr/local/lib/python3.10/dist-packages/sklearn/metrics/_classification.py:1344: UndefinedMetricWarning: Precision and F-score are ill-defined and being set to 0.0 in labels with no predicted samples. Use `zero_division` parameter to control this behavior.\n",
            "  _warn_prf(average, modifier, msg_start, len(result))\n",
            "/usr/local/lib/python3.10/dist-packages/sklearn/metrics/_classification.py:1344: UndefinedMetricWarning: Precision and F-score are ill-defined and being set to 0.0 in labels with no predicted samples. Use `zero_division` parameter to control this behavior.\n",
            "  _warn_prf(average, modifier, msg_start, len(result))\n",
            "/usr/local/lib/python3.10/dist-packages/sklearn/metrics/_classification.py:1344: UndefinedMetricWarning: Precision and F-score are ill-defined and being set to 0.0 in labels with no predicted samples. Use `zero_division` parameter to control this behavior.\n",
            "  _warn_prf(average, modifier, msg_start, len(result))\n",
            "/usr/local/lib/python3.10/dist-packages/sklearn/preprocessing/_encoders.py:868: FutureWarning: `sparse` was renamed to `sparse_output` in version 1.2 and will be removed in 1.4. `sparse_output` is ignored unless you leave `sparse` to its default value.\n",
            "  warnings.warn(\n"
          ]
        },
        {
          "output_type": "stream",
          "name": "stdout",
          "text": [
            "Performance Metrics for Quantum SVM (PauliFeatureMap_Y, SLSQP) with PCA:\n",
            "              precision    recall  f1-score   support\n",
            "\n",
            "           0       0.50      0.04      0.07        25\n",
            "           1       0.44      0.95      0.60        20\n",
            "\n",
            "    accuracy                           0.44        45\n",
            "   macro avg       0.47      0.49      0.34        45\n",
            "weighted avg       0.47      0.44      0.31        45\n",
            "\n",
            "Quantum SVM training time (PauliFeatureMap_Y, SLSQP) with PCA: 49.28897023200989 seconds\n"
          ]
        },
        {
          "output_type": "stream",
          "name": "stderr",
          "text": [
            "/usr/local/lib/python3.10/dist-packages/sklearn/preprocessing/_encoders.py:868: FutureWarning: `sparse` was renamed to `sparse_output` in version 1.2 and will be removed in 1.4. `sparse_output` is ignored unless you leave `sparse` to its default value.\n",
            "  warnings.warn(\n"
          ]
        },
        {
          "output_type": "stream",
          "name": "stdout",
          "text": [
            "Performance Metrics for Quantum SVM (PauliFeatureMap_XYZYY, SPSA) with PCA:\n",
            "              precision    recall  f1-score   support\n",
            "\n",
            "           0       0.54      0.52      0.53        25\n",
            "           1       0.43      0.45      0.44        20\n",
            "\n",
            "    accuracy                           0.49        45\n",
            "   macro avg       0.49      0.48      0.48        45\n",
            "weighted avg       0.49      0.49      0.49        45\n",
            "\n",
            "Quantum SVM training time (PauliFeatureMap_XYZYY, SPSA) with PCA: 65.64188003540039 seconds\n"
          ]
        },
        {
          "output_type": "stream",
          "name": "stderr",
          "text": [
            "/usr/local/lib/python3.10/dist-packages/sklearn/preprocessing/_encoders.py:868: FutureWarning: `sparse` was renamed to `sparse_output` in version 1.2 and will be removed in 1.4. `sparse_output` is ignored unless you leave `sparse` to its default value.\n",
            "  warnings.warn(\n"
          ]
        },
        {
          "output_type": "stream",
          "name": "stdout",
          "text": [
            "Performance Metrics for Quantum SVM (PauliFeatureMap_XYZYY, COBYLA) with PCA:\n",
            "              precision    recall  f1-score   support\n",
            "\n",
            "           0       0.46      0.52      0.49        25\n",
            "           1       0.29      0.25      0.27        20\n",
            "\n",
            "    accuracy                           0.40        45\n",
            "   macro avg       0.38      0.39      0.38        45\n",
            "weighted avg       0.39      0.40      0.39        45\n",
            "\n",
            "Quantum SVM training time (PauliFeatureMap_XYZYY, COBYLA) with PCA: 38.42970299720764 seconds\n"
          ]
        },
        {
          "output_type": "stream",
          "name": "stderr",
          "text": [
            "/usr/local/lib/python3.10/dist-packages/sklearn/preprocessing/_encoders.py:868: FutureWarning: `sparse` was renamed to `sparse_output` in version 1.2 and will be removed in 1.4. `sparse_output` is ignored unless you leave `sparse` to its default value.\n",
            "  warnings.warn(\n"
          ]
        },
        {
          "output_type": "stream",
          "name": "stdout",
          "text": [
            "Performance Metrics for Quantum SVM (PauliFeatureMap_XYZYY, L_BFGS_B) with PCA:\n",
            "              precision    recall  f1-score   support\n",
            "\n",
            "           0       0.52      0.48      0.50        25\n",
            "           1       0.41      0.45      0.43        20\n",
            "\n",
            "    accuracy                           0.47        45\n",
            "   macro avg       0.47      0.46      0.46        45\n",
            "weighted avg       0.47      0.47      0.47        45\n",
            "\n",
            "Quantum SVM training time (PauliFeatureMap_XYZYY, L_BFGS_B) with PCA: 120.45731353759766 seconds\n"
          ]
        },
        {
          "output_type": "stream",
          "name": "stderr",
          "text": [
            "/usr/local/lib/python3.10/dist-packages/sklearn/preprocessing/_encoders.py:868: FutureWarning: `sparse` was renamed to `sparse_output` in version 1.2 and will be removed in 1.4. `sparse_output` is ignored unless you leave `sparse` to its default value.\n",
            "  warnings.warn(\n"
          ]
        },
        {
          "output_type": "stream",
          "name": "stdout",
          "text": [
            "Performance Metrics for Quantum SVM (PauliFeatureMap_XYZYY, SLSQP) with PCA:\n",
            "              precision    recall  f1-score   support\n",
            "\n",
            "           0       0.54      0.56      0.55        25\n",
            "           1       0.42      0.40      0.41        20\n",
            "\n",
            "    accuracy                           0.49        45\n",
            "   macro avg       0.48      0.48      0.48        45\n",
            "weighted avg       0.49      0.49      0.49        45\n",
            "\n",
            "Quantum SVM training time (PauliFeatureMap_XYZYY, SLSQP) with PCA: 158.56732630729675 seconds\n",
            "Best Configuration with PCA: Feature Map - PauliFeatureMap_XYZ, Optimizer - COBYLA\n"
          ]
        }
      ]
    },
    {
      "cell_type": "code",
      "source": [
        "import numpy as np\n",
        "from sklearn.decomposition import PCA\n",
        "import matplotlib.pyplot as plt\n",
        "from sklearn.model_selection import train_test_split\n",
        "from sklearn.preprocessing import StandardScaler\n",
        "from sklearn.svm import SVC\n",
        "from sklearn.metrics import classification_report, accuracy_score\n",
        "from qiskit import Aer\n",
        "from qiskit.circuit.library import PauliFeatureMap\n",
        "from qiskit.circuit.library import ZZFeatureMap\n",
        "from qiskit_machine_learning.algorithms.classifiers import VQC\n",
        "from qiskit.utils import QuantumInstance\n",
        "from qiskit.algorithms.optimizers import SPSA, COBYLA, L_BFGS_B, SLSQP, ADAM\n",
        "from time import time\n",
        "\n",
        "np.random.seed(0)\n",
        "\n",
        "# Define the number of samples and features\n",
        "num_samples = 150\n",
        "num_features = 10  # You can increase this number to create a higher-dimensional dataset\n",
        "\n",
        "# Generate random data with strong correlations in the first few features\n",
        "mean = np.zeros(num_features)\n",
        "cov = np.eye(num_features)\n",
        "for i in range(5):\n",
        "    cov[i, i] = 10.0  # Increase the variance for the first 5 features to make them important\n",
        "\n",
        "data = np.random.multivariate_normal(mean, cov, num_samples)\n",
        "\n",
        "# Split the data into training and testing sets\n",
        "X_train, X_test, y_train, y_test = train_test_split(data, np.random.choice([0, 1], size=num_samples), test_size=0.3, random_state=42)\n",
        "\n",
        "# Data Preprocessing\n",
        "scaler = StandardScaler().fit(X_train)\n",
        "X_train = scaler.transform(X_train)\n",
        "X_test = scaler.transform(X_test)\n",
        "\n",
        "# Perform PCA to reduce dimensionality\n",
        "pca = PCA(n_components=2)  # You can adjust the number of components as needed\n",
        "X_train_pca = pca.fit_transform(X_train)\n",
        "X_test_pca = pca.transform(X_test)\n",
        "\n",
        "# Train Classical SVM on reduced dataset\n",
        "classical_svm_pca = SVC(kernel='rbf', C=1.0, gamma='scale')\n",
        "start = time()\n",
        "classical_svm_pca.fit(X_train_pca, y_train)\n",
        "end = time()\n",
        "classical_svm_predictions_pca = classical_svm_pca.predict(X_test_pca)\n",
        "print(\"Performance Metrics for Classical SVM with PCA:\")\n",
        "print(classification_report(y_test, classical_svm_predictions_pca))\n",
        "print(f\"Classical SVM training time with PCA: {end - start} seconds\")\n",
        "\n",
        "# Define a list of feature maps and their parameters to tune for QSVM\n",
        "feature_maps = [\n",
        "    {'name': 'ZZFeatureMap', 'feature_map': ZZFeatureMap(feature_dimension=2, reps=2, entanglement='full')},\n",
        "    {'name': 'PauliFeatureMap_XY', 'feature_map': PauliFeatureMap(feature_dimension=2, reps=2, paulis=['X', 'Y'], entanglement='full')},\n",
        "    {'name': 'PauliFeatureMap_ZZ', 'feature_map': PauliFeatureMap(feature_dimension=2, reps=2, paulis=['Z', 'ZZ'], entanglement='full')},\n",
        "    {'name': 'PauliFeatureMap_XYZ', 'feature_map': PauliFeatureMap(feature_dimension=2, reps=2, paulis=['X', 'Y', 'Z'], entanglement='full')},\n",
        "    {'name': 'PauliFeatureMap_YZ', 'feature_map': PauliFeatureMap(feature_dimension=2, reps=2, paulis=['Y', 'Z'], entanglement='full')},\n",
        "    {'name': 'PauliFeatureMap_Y', 'feature_map': PauliFeatureMap(feature_dimension=2, reps=2, paulis=['Y'], entanglement='full')},\n",
        "    {'name': 'PauliFeatureMap_XYZYY', 'feature_map': PauliFeatureMap(feature_dimension=2, reps=2, paulis=['X', 'Y', 'Z', 'YY'], entanglement='full')},\n",
        "    # Add more feature maps and their parameters to explore\n",
        "]\n",
        "\n",
        "# Define a list of optimizer parameters to tune for QSVM\n",
        "optimizers = [\n",
        "    {'name': 'SPSA', 'optimizer': SPSA(maxiter=50)},\n",
        "    {'name': 'COBYLA', 'optimizer': COBYLA(maxiter=100)},\n",
        "    {'name': 'L_BFGS_B', 'optimizer': L_BFGS_B(maxfun=100, maxiter=100)},\n",
        "    {'name': 'SLSQP', 'optimizer': SLSQP(maxiter=100)},\n",
        "    # Add more optimizers and their parameters to explore\n",
        "]\n",
        "\n",
        "\n",
        "best_score = 0\n",
        "best_params = {}\n",
        "\n",
        "for feature_map_params in feature_maps:\n",
        "    feature_map_name = feature_map_params['name']\n",
        "    feature_map = feature_map_params['feature_map']\n",
        "\n",
        "    for optimizer_params in optimizers:\n",
        "        optimizer_name = optimizer_params['name']\n",
        "        optimizer = optimizer_params['optimizer']\n",
        "\n",
        "        # Create a sampler for the AerSimulator\n",
        "        sampler = Sampler()\n",
        "\n",
        "        # Create an instance of the AerSimulator\n",
        "        simulator = AerSimulator()\n",
        "\n",
        "        # Train QSVM with the current feature map and optimizer using the sampler\n",
        "        vqc = VQC(feature_map=feature_map, ansatz=None, optimizer=optimizer, quantum_instance=simulator)\n",
        "\n",
        "        start = time()\n",
        "        vqc.fit(X_train_pca, y_train)\n",
        "        end = time()\n",
        "\n",
        "        result_quantum = vqc.predict(X_test_pca)\n",
        "        score = accuracy_score(y_test, result_quantum)\n",
        "\n",
        "        # Print performance metrics and runtime for the current configuration\n",
        "        print(f\"Performance Metrics for Quantum SVM ({feature_map_name}, {optimizer_name}) with PCA:\")\n",
        "        print(classification_report(y_test, result_quantum))\n",
        "        print(f\"Quantum SVM training time ({feature_map_name}, {optimizer_name}) with PCA: {end - start} seconds\")\n",
        "\n",
        "        # Check if the current configuration is the best\n",
        "        if score > best_score:\n",
        "            best_score = score\n",
        "            best_params = {'feature_map': feature_map_name, 'optimizer': optimizer_name}\n",
        "\n",
        "# Print the best configuration found\n",
        "print(f\"Best Configuration with PCA: Feature Map - {best_params['feature_map']}, Optimizer - {best_params['optimizer']}\")"
      ],
      "metadata": {
        "colab": {
          "base_uri": "https://localhost:8080/"
        },
        "id": "JuaSc5ja1-qY",
        "outputId": "ab089972-8b38-4e9b-c069-ca64fc69eba5"
      },
      "execution_count": null,
      "outputs": [
        {
          "output_type": "stream",
          "name": "stdout",
          "text": [
            "Performance Metrics for Classical SVM with PCA:\n",
            "              precision    recall  f1-score   support\n",
            "\n",
            "           0       0.42      0.20      0.27        25\n",
            "           1       0.39      0.65      0.49        20\n",
            "\n",
            "    accuracy                           0.40        45\n",
            "   macro avg       0.41      0.43      0.38        45\n",
            "weighted avg       0.41      0.40      0.37        45\n",
            "\n",
            "Classical SVM training time with PCA: 0.0015926361083984375 seconds\n"
          ]
        },
        {
          "output_type": "stream",
          "name": "stderr",
          "text": [
            "/usr/local/lib/python3.10/dist-packages/sklearn/preprocessing/_encoders.py:868: FutureWarning: `sparse` was renamed to `sparse_output` in version 1.2 and will be removed in 1.4. `sparse_output` is ignored unless you leave `sparse` to its default value.\n",
            "  warnings.warn(\n"
          ]
        },
        {
          "output_type": "stream",
          "name": "stdout",
          "text": [
            "Performance Metrics for Quantum SVM (ZZFeatureMap, SPSA) with PCA:\n",
            "              precision    recall  f1-score   support\n",
            "\n",
            "           0       0.58      0.56      0.57        25\n",
            "           1       0.48      0.50      0.49        20\n",
            "\n",
            "    accuracy                           0.53        45\n",
            "   macro avg       0.53      0.53      0.53        45\n",
            "weighted avg       0.54      0.53      0.53        45\n",
            "\n",
            "Quantum SVM training time (ZZFeatureMap, SPSA) with PCA: 54.109352350234985 seconds\n"
          ]
        },
        {
          "output_type": "stream",
          "name": "stderr",
          "text": [
            "/usr/local/lib/python3.10/dist-packages/sklearn/preprocessing/_encoders.py:868: FutureWarning: `sparse` was renamed to `sparse_output` in version 1.2 and will be removed in 1.4. `sparse_output` is ignored unless you leave `sparse` to its default value.\n",
            "  warnings.warn(\n"
          ]
        },
        {
          "output_type": "stream",
          "name": "stdout",
          "text": [
            "Performance Metrics for Quantum SVM (ZZFeatureMap, COBYLA) with PCA:\n",
            "              precision    recall  f1-score   support\n",
            "\n",
            "           0       0.56      0.56      0.56        25\n",
            "           1       0.45      0.45      0.45        20\n",
            "\n",
            "    accuracy                           0.51        45\n",
            "   macro avg       0.51      0.51      0.51        45\n",
            "weighted avg       0.51      0.51      0.51        45\n",
            "\n",
            "Quantum SVM training time (ZZFeatureMap, COBYLA) with PCA: 30.16848349571228 seconds\n"
          ]
        },
        {
          "output_type": "stream",
          "name": "stderr",
          "text": [
            "/usr/local/lib/python3.10/dist-packages/sklearn/preprocessing/_encoders.py:868: FutureWarning: `sparse` was renamed to `sparse_output` in version 1.2 and will be removed in 1.4. `sparse_output` is ignored unless you leave `sparse` to its default value.\n",
            "  warnings.warn(\n"
          ]
        },
        {
          "output_type": "stream",
          "name": "stdout",
          "text": [
            "Performance Metrics for Quantum SVM (ZZFeatureMap, L_BFGS_B) with PCA:\n",
            "              precision    recall  f1-score   support\n",
            "\n",
            "           0       0.50      0.44      0.47        25\n",
            "           1       0.39      0.45      0.42        20\n",
            "\n",
            "    accuracy                           0.44        45\n",
            "   macro avg       0.45      0.45      0.44        45\n",
            "weighted avg       0.45      0.44      0.45        45\n",
            "\n",
            "Quantum SVM training time (ZZFeatureMap, L_BFGS_B) with PCA: 84.77859210968018 seconds\n"
          ]
        },
        {
          "output_type": "stream",
          "name": "stderr",
          "text": [
            "/usr/local/lib/python3.10/dist-packages/sklearn/preprocessing/_encoders.py:868: FutureWarning: `sparse` was renamed to `sparse_output` in version 1.2 and will be removed in 1.4. `sparse_output` is ignored unless you leave `sparse` to its default value.\n",
            "  warnings.warn(\n"
          ]
        },
        {
          "output_type": "stream",
          "name": "stdout",
          "text": [
            "Performance Metrics for Quantum SVM (ZZFeatureMap, SLSQP) with PCA:\n",
            "              precision    recall  f1-score   support\n",
            "\n",
            "           0       0.54      0.56      0.55        25\n",
            "           1       0.42      0.40      0.41        20\n",
            "\n",
            "    accuracy                           0.49        45\n",
            "   macro avg       0.48      0.48      0.48        45\n",
            "weighted avg       0.49      0.49      0.49        45\n",
            "\n",
            "Quantum SVM training time (ZZFeatureMap, SLSQP) with PCA: 105.55982875823975 seconds\n"
          ]
        },
        {
          "output_type": "stream",
          "name": "stderr",
          "text": [
            "/usr/local/lib/python3.10/dist-packages/sklearn/preprocessing/_encoders.py:868: FutureWarning: `sparse` was renamed to `sparse_output` in version 1.2 and will be removed in 1.4. `sparse_output` is ignored unless you leave `sparse` to its default value.\n",
            "  warnings.warn(\n"
          ]
        },
        {
          "output_type": "stream",
          "name": "stdout",
          "text": [
            "Performance Metrics for Quantum SVM (PauliFeatureMap_XY, SPSA) with PCA:\n",
            "              precision    recall  f1-score   support\n",
            "\n",
            "           0       0.43      0.24      0.31        25\n",
            "           1       0.39      0.60      0.47        20\n",
            "\n",
            "    accuracy                           0.40        45\n",
            "   macro avg       0.41      0.42      0.39        45\n",
            "weighted avg       0.41      0.40      0.38        45\n",
            "\n",
            "Quantum SVM training time (PauliFeatureMap_XY, SPSA) with PCA: 54.272708892822266 seconds\n"
          ]
        },
        {
          "output_type": "stream",
          "name": "stderr",
          "text": [
            "/usr/local/lib/python3.10/dist-packages/sklearn/preprocessing/_encoders.py:868: FutureWarning: `sparse` was renamed to `sparse_output` in version 1.2 and will be removed in 1.4. `sparse_output` is ignored unless you leave `sparse` to its default value.\n",
            "  warnings.warn(\n"
          ]
        },
        {
          "output_type": "stream",
          "name": "stdout",
          "text": [
            "Performance Metrics for Quantum SVM (PauliFeatureMap_XY, COBYLA) with PCA:\n",
            "              precision    recall  f1-score   support\n",
            "\n",
            "           0       0.60      0.36      0.45        25\n",
            "           1       0.47      0.70      0.56        20\n",
            "\n",
            "    accuracy                           0.51        45\n",
            "   macro avg       0.53      0.53      0.51        45\n",
            "weighted avg       0.54      0.51      0.50        45\n",
            "\n",
            "Quantum SVM training time (PauliFeatureMap_XY, COBYLA) with PCA: 32.40100693702698 seconds\n"
          ]
        },
        {
          "output_type": "stream",
          "name": "stderr",
          "text": [
            "/usr/local/lib/python3.10/dist-packages/sklearn/preprocessing/_encoders.py:868: FutureWarning: `sparse` was renamed to `sparse_output` in version 1.2 and will be removed in 1.4. `sparse_output` is ignored unless you leave `sparse` to its default value.\n",
            "  warnings.warn(\n"
          ]
        },
        {
          "output_type": "stream",
          "name": "stdout",
          "text": [
            "Performance Metrics for Quantum SVM (PauliFeatureMap_XY, L_BFGS_B) with PCA:\n",
            "              precision    recall  f1-score   support\n",
            "\n",
            "           0       0.67      0.32      0.43        25\n",
            "           1       0.48      0.80      0.60        20\n",
            "\n",
            "    accuracy                           0.53        45\n",
            "   macro avg       0.58      0.56      0.52        45\n",
            "weighted avg       0.59      0.53      0.51        45\n",
            "\n",
            "Quantum SVM training time (PauliFeatureMap_XY, L_BFGS_B) with PCA: 255.07434916496277 seconds\n"
          ]
        },
        {
          "output_type": "stream",
          "name": "stderr",
          "text": [
            "/usr/local/lib/python3.10/dist-packages/sklearn/preprocessing/_encoders.py:868: FutureWarning: `sparse` was renamed to `sparse_output` in version 1.2 and will be removed in 1.4. `sparse_output` is ignored unless you leave `sparse` to its default value.\n",
            "  warnings.warn(\n"
          ]
        },
        {
          "output_type": "stream",
          "name": "stdout",
          "text": [
            "Performance Metrics for Quantum SVM (PauliFeatureMap_XY, SLSQP) with PCA:\n",
            "              precision    recall  f1-score   support\n",
            "\n",
            "           0       0.62      0.32      0.42        25\n",
            "           1       0.47      0.75      0.58        20\n",
            "\n",
            "    accuracy                           0.51        45\n",
            "   macro avg       0.54      0.54      0.50        45\n",
            "weighted avg       0.55      0.51      0.49        45\n",
            "\n",
            "Quantum SVM training time (PauliFeatureMap_XY, SLSQP) with PCA: 82.86227226257324 seconds\n"
          ]
        },
        {
          "output_type": "stream",
          "name": "stderr",
          "text": [
            "/usr/local/lib/python3.10/dist-packages/sklearn/preprocessing/_encoders.py:868: FutureWarning: `sparse` was renamed to `sparse_output` in version 1.2 and will be removed in 1.4. `sparse_output` is ignored unless you leave `sparse` to its default value.\n",
            "  warnings.warn(\n"
          ]
        },
        {
          "output_type": "stream",
          "name": "stdout",
          "text": [
            "Performance Metrics for Quantum SVM (PauliFeatureMap_ZZ, SPSA) with PCA:\n",
            "              precision    recall  f1-score   support\n",
            "\n",
            "           0       0.52      0.48      0.50        25\n",
            "           1       0.41      0.45      0.43        20\n",
            "\n",
            "    accuracy                           0.47        45\n",
            "   macro avg       0.47      0.46      0.46        45\n",
            "weighted avg       0.47      0.47      0.47        45\n",
            "\n",
            "Quantum SVM training time (PauliFeatureMap_ZZ, SPSA) with PCA: 52.24522614479065 seconds\n"
          ]
        },
        {
          "output_type": "stream",
          "name": "stderr",
          "text": [
            "/usr/local/lib/python3.10/dist-packages/sklearn/preprocessing/_encoders.py:868: FutureWarning: `sparse` was renamed to `sparse_output` in version 1.2 and will be removed in 1.4. `sparse_output` is ignored unless you leave `sparse` to its default value.\n",
            "  warnings.warn(\n"
          ]
        },
        {
          "output_type": "stream",
          "name": "stdout",
          "text": [
            "Performance Metrics for Quantum SVM (PauliFeatureMap_ZZ, COBYLA) with PCA:\n",
            "              precision    recall  f1-score   support\n",
            "\n",
            "           0       0.58      0.56      0.57        25\n",
            "           1       0.48      0.50      0.49        20\n",
            "\n",
            "    accuracy                           0.53        45\n",
            "   macro avg       0.53      0.53      0.53        45\n",
            "weighted avg       0.54      0.53      0.53        45\n",
            "\n",
            "Quantum SVM training time (PauliFeatureMap_ZZ, COBYLA) with PCA: 38.86059331893921 seconds\n"
          ]
        },
        {
          "output_type": "stream",
          "name": "stderr",
          "text": [
            "/usr/local/lib/python3.10/dist-packages/sklearn/preprocessing/_encoders.py:868: FutureWarning: `sparse` was renamed to `sparse_output` in version 1.2 and will be removed in 1.4. `sparse_output` is ignored unless you leave `sparse` to its default value.\n",
            "  warnings.warn(\n"
          ]
        },
        {
          "output_type": "stream",
          "name": "stdout",
          "text": [
            "Performance Metrics for Quantum SVM (PauliFeatureMap_ZZ, L_BFGS_B) with PCA:\n",
            "              precision    recall  f1-score   support\n",
            "\n",
            "           0       0.57      0.52      0.54        25\n",
            "           1       0.45      0.50      0.48        20\n",
            "\n",
            "    accuracy                           0.51        45\n",
            "   macro avg       0.51      0.51      0.51        45\n",
            "weighted avg       0.52      0.51      0.51        45\n",
            "\n",
            "Quantum SVM training time (PauliFeatureMap_ZZ, L_BFGS_B) with PCA: 124.56518697738647 seconds\n"
          ]
        },
        {
          "output_type": "stream",
          "name": "stderr",
          "text": [
            "/usr/local/lib/python3.10/dist-packages/sklearn/preprocessing/_encoders.py:868: FutureWarning: `sparse` was renamed to `sparse_output` in version 1.2 and will be removed in 1.4. `sparse_output` is ignored unless you leave `sparse` to its default value.\n",
            "  warnings.warn(\n"
          ]
        },
        {
          "output_type": "stream",
          "name": "stdout",
          "text": [
            "Performance Metrics for Quantum SVM (PauliFeatureMap_ZZ, SLSQP) with PCA:\n",
            "              precision    recall  f1-score   support\n",
            "\n",
            "           0       0.62      0.64      0.63        25\n",
            "           1       0.53      0.50      0.51        20\n",
            "\n",
            "    accuracy                           0.58        45\n",
            "   macro avg       0.57      0.57      0.57        45\n",
            "weighted avg       0.58      0.58      0.58        45\n",
            "\n",
            "Quantum SVM training time (PauliFeatureMap_ZZ, SLSQP) with PCA: 42.13910436630249 seconds\n"
          ]
        },
        {
          "output_type": "stream",
          "name": "stderr",
          "text": [
            "/usr/local/lib/python3.10/dist-packages/sklearn/preprocessing/_encoders.py:868: FutureWarning: `sparse` was renamed to `sparse_output` in version 1.2 and will be removed in 1.4. `sparse_output` is ignored unless you leave `sparse` to its default value.\n",
            "  warnings.warn(\n"
          ]
        },
        {
          "output_type": "stream",
          "name": "stdout",
          "text": [
            "Performance Metrics for Quantum SVM (PauliFeatureMap_XYZ, SPSA) with PCA:\n",
            "              precision    recall  f1-score   support\n",
            "\n",
            "           0       0.40      0.24      0.30        25\n",
            "           1       0.37      0.55      0.44        20\n",
            "\n",
            "    accuracy                           0.38        45\n",
            "   macro avg       0.38      0.40      0.37        45\n",
            "weighted avg       0.39      0.38      0.36        45\n",
            "\n",
            "Quantum SVM training time (PauliFeatureMap_XYZ, SPSA) with PCA: 57.80186653137207 seconds\n"
          ]
        },
        {
          "output_type": "stream",
          "name": "stderr",
          "text": [
            "/usr/local/lib/python3.10/dist-packages/sklearn/preprocessing/_encoders.py:868: FutureWarning: `sparse` was renamed to `sparse_output` in version 1.2 and will be removed in 1.4. `sparse_output` is ignored unless you leave `sparse` to its default value.\n",
            "  warnings.warn(\n"
          ]
        },
        {
          "output_type": "stream",
          "name": "stdout",
          "text": [
            "Performance Metrics for Quantum SVM (PauliFeatureMap_XYZ, COBYLA) with PCA:\n",
            "              precision    recall  f1-score   support\n",
            "\n",
            "           0       0.64      0.36      0.46        25\n",
            "           1       0.48      0.75      0.59        20\n",
            "\n",
            "    accuracy                           0.53        45\n",
            "   macro avg       0.56      0.55      0.52        45\n",
            "weighted avg       0.57      0.53      0.52        45\n",
            "\n",
            "Quantum SVM training time (PauliFeatureMap_XYZ, COBYLA) with PCA: 33.78958773612976 seconds\n"
          ]
        },
        {
          "output_type": "stream",
          "name": "stderr",
          "text": [
            "/usr/local/lib/python3.10/dist-packages/sklearn/preprocessing/_encoders.py:868: FutureWarning: `sparse` was renamed to `sparse_output` in version 1.2 and will be removed in 1.4. `sparse_output` is ignored unless you leave `sparse` to its default value.\n",
            "  warnings.warn(\n"
          ]
        },
        {
          "output_type": "stream",
          "name": "stdout",
          "text": [
            "Performance Metrics for Quantum SVM (PauliFeatureMap_XYZ, L_BFGS_B) with PCA:\n",
            "              precision    recall  f1-score   support\n",
            "\n",
            "           0       0.59      0.52      0.55        25\n",
            "           1       0.48      0.55      0.51        20\n",
            "\n",
            "    accuracy                           0.53        45\n",
            "   macro avg       0.53      0.54      0.53        45\n",
            "weighted avg       0.54      0.53      0.53        45\n",
            "\n",
            "Quantum SVM training time (PauliFeatureMap_XYZ, L_BFGS_B) with PCA: 73.24472093582153 seconds\n"
          ]
        },
        {
          "output_type": "stream",
          "name": "stderr",
          "text": [
            "/usr/local/lib/python3.10/dist-packages/sklearn/preprocessing/_encoders.py:868: FutureWarning: `sparse` was renamed to `sparse_output` in version 1.2 and will be removed in 1.4. `sparse_output` is ignored unless you leave `sparse` to its default value.\n",
            "  warnings.warn(\n"
          ]
        },
        {
          "output_type": "stream",
          "name": "stdout",
          "text": [
            "Performance Metrics for Quantum SVM (PauliFeatureMap_XYZ, SLSQP) with PCA:\n",
            "              precision    recall  f1-score   support\n",
            "\n",
            "           0       0.55      0.44      0.49        25\n",
            "           1       0.44      0.55      0.49        20\n",
            "\n",
            "    accuracy                           0.49        45\n",
            "   macro avg       0.49      0.49      0.49        45\n",
            "weighted avg       0.50      0.49      0.49        45\n",
            "\n",
            "Quantum SVM training time (PauliFeatureMap_XYZ, SLSQP) with PCA: 120.94643425941467 seconds\n"
          ]
        },
        {
          "output_type": "stream",
          "name": "stderr",
          "text": [
            "/usr/local/lib/python3.10/dist-packages/sklearn/preprocessing/_encoders.py:868: FutureWarning: `sparse` was renamed to `sparse_output` in version 1.2 and will be removed in 1.4. `sparse_output` is ignored unless you leave `sparse` to its default value.\n",
            "  warnings.warn(\n"
          ]
        },
        {
          "output_type": "stream",
          "name": "stdout",
          "text": [
            "Performance Metrics for Quantum SVM (PauliFeatureMap_YZ, SPSA) with PCA:\n",
            "              precision    recall  f1-score   support\n",
            "\n",
            "           0       0.59      0.40      0.48        25\n",
            "           1       0.46      0.65      0.54        20\n",
            "\n",
            "    accuracy                           0.51        45\n",
            "   macro avg       0.53      0.53      0.51        45\n",
            "weighted avg       0.53      0.51      0.51        45\n",
            "\n",
            "Quantum SVM training time (PauliFeatureMap_YZ, SPSA) with PCA: 53.600022315979004 seconds\n"
          ]
        },
        {
          "output_type": "stream",
          "name": "stderr",
          "text": [
            "/usr/local/lib/python3.10/dist-packages/sklearn/preprocessing/_encoders.py:868: FutureWarning: `sparse` was renamed to `sparse_output` in version 1.2 and will be removed in 1.4. `sparse_output` is ignored unless you leave `sparse` to its default value.\n",
            "  warnings.warn(\n"
          ]
        },
        {
          "output_type": "stream",
          "name": "stdout",
          "text": [
            "Performance Metrics for Quantum SVM (PauliFeatureMap_YZ, COBYLA) with PCA:\n",
            "              precision    recall  f1-score   support\n",
            "\n",
            "           0       0.61      0.44      0.51        25\n",
            "           1       0.48      0.65      0.55        20\n",
            "\n",
            "    accuracy                           0.53        45\n",
            "   macro avg       0.55      0.55      0.53        45\n",
            "weighted avg       0.55      0.53      0.53        45\n",
            "\n",
            "Quantum SVM training time (PauliFeatureMap_YZ, COBYLA) with PCA: 26.391846656799316 seconds\n"
          ]
        },
        {
          "output_type": "stream",
          "name": "stderr",
          "text": [
            "/usr/local/lib/python3.10/dist-packages/sklearn/preprocessing/_encoders.py:868: FutureWarning: `sparse` was renamed to `sparse_output` in version 1.2 and will be removed in 1.4. `sparse_output` is ignored unless you leave `sparse` to its default value.\n",
            "  warnings.warn(\n"
          ]
        },
        {
          "output_type": "stream",
          "name": "stdout",
          "text": [
            "Performance Metrics for Quantum SVM (PauliFeatureMap_YZ, L_BFGS_B) with PCA:\n",
            "              precision    recall  f1-score   support\n",
            "\n",
            "           0       0.56      0.36      0.44        25\n",
            "           1       0.45      0.65      0.53        20\n",
            "\n",
            "    accuracy                           0.49        45\n",
            "   macro avg       0.51      0.51      0.48        45\n",
            "weighted avg       0.51      0.49      0.48        45\n",
            "\n",
            "Quantum SVM training time (PauliFeatureMap_YZ, L_BFGS_B) with PCA: 86.25208735466003 seconds\n"
          ]
        },
        {
          "output_type": "stream",
          "name": "stderr",
          "text": [
            "/usr/local/lib/python3.10/dist-packages/sklearn/preprocessing/_encoders.py:868: FutureWarning: `sparse` was renamed to `sparse_output` in version 1.2 and will be removed in 1.4. `sparse_output` is ignored unless you leave `sparse` to its default value.\n",
            "  warnings.warn(\n"
          ]
        },
        {
          "output_type": "stream",
          "name": "stdout",
          "text": [
            "Performance Metrics for Quantum SVM (PauliFeatureMap_YZ, SLSQP) with PCA:\n",
            "              precision    recall  f1-score   support\n",
            "\n",
            "           0       0.53      0.32      0.40        25\n",
            "           1       0.43      0.65      0.52        20\n",
            "\n",
            "    accuracy                           0.47        45\n",
            "   macro avg       0.48      0.48      0.46        45\n",
            "weighted avg       0.49      0.47      0.45        45\n",
            "\n",
            "Quantum SVM training time (PauliFeatureMap_YZ, SLSQP) with PCA: 41.684120416641235 seconds\n"
          ]
        },
        {
          "output_type": "stream",
          "name": "stderr",
          "text": [
            "/usr/local/lib/python3.10/dist-packages/sklearn/preprocessing/_encoders.py:868: FutureWarning: `sparse` was renamed to `sparse_output` in version 1.2 and will be removed in 1.4. `sparse_output` is ignored unless you leave `sparse` to its default value.\n",
            "  warnings.warn(\n"
          ]
        },
        {
          "output_type": "stream",
          "name": "stdout",
          "text": [
            "Performance Metrics for Quantum SVM (PauliFeatureMap_Y, SPSA) with PCA:\n",
            "              precision    recall  f1-score   support\n",
            "\n",
            "           0       0.50      0.08      0.14        25\n",
            "           1       0.44      0.90      0.59        20\n",
            "\n",
            "    accuracy                           0.44        45\n",
            "   macro avg       0.47      0.49      0.36        45\n",
            "weighted avg       0.47      0.44      0.34        45\n",
            "\n",
            "Quantum SVM training time (PauliFeatureMap_Y, SPSA) with PCA: 48.12207794189453 seconds\n"
          ]
        },
        {
          "output_type": "stream",
          "name": "stderr",
          "text": [
            "/usr/local/lib/python3.10/dist-packages/sklearn/preprocessing/_encoders.py:868: FutureWarning: `sparse` was renamed to `sparse_output` in version 1.2 and will be removed in 1.4. `sparse_output` is ignored unless you leave `sparse` to its default value.\n",
            "  warnings.warn(\n"
          ]
        },
        {
          "output_type": "stream",
          "name": "stdout",
          "text": [
            "Performance Metrics for Quantum SVM (PauliFeatureMap_Y, COBYLA) with PCA:\n",
            "              precision    recall  f1-score   support\n",
            "\n",
            "           0       0.00      0.00      0.00        25\n",
            "           1       0.44      1.00      0.62        20\n",
            "\n",
            "    accuracy                           0.44        45\n",
            "   macro avg       0.22      0.50      0.31        45\n",
            "weighted avg       0.20      0.44      0.27        45\n",
            "\n",
            "Quantum SVM training time (PauliFeatureMap_Y, COBYLA) with PCA: 26.92332673072815 seconds\n"
          ]
        },
        {
          "output_type": "stream",
          "name": "stderr",
          "text": [
            "/usr/local/lib/python3.10/dist-packages/sklearn/metrics/_classification.py:1344: UndefinedMetricWarning: Precision and F-score are ill-defined and being set to 0.0 in labels with no predicted samples. Use `zero_division` parameter to control this behavior.\n",
            "  _warn_prf(average, modifier, msg_start, len(result))\n",
            "/usr/local/lib/python3.10/dist-packages/sklearn/metrics/_classification.py:1344: UndefinedMetricWarning: Precision and F-score are ill-defined and being set to 0.0 in labels with no predicted samples. Use `zero_division` parameter to control this behavior.\n",
            "  _warn_prf(average, modifier, msg_start, len(result))\n",
            "/usr/local/lib/python3.10/dist-packages/sklearn/metrics/_classification.py:1344: UndefinedMetricWarning: Precision and F-score are ill-defined and being set to 0.0 in labels with no predicted samples. Use `zero_division` parameter to control this behavior.\n",
            "  _warn_prf(average, modifier, msg_start, len(result))\n",
            "/usr/local/lib/python3.10/dist-packages/sklearn/preprocessing/_encoders.py:868: FutureWarning: `sparse` was renamed to `sparse_output` in version 1.2 and will be removed in 1.4. `sparse_output` is ignored unless you leave `sparse` to its default value.\n",
            "  warnings.warn(\n"
          ]
        },
        {
          "output_type": "stream",
          "name": "stdout",
          "text": [
            "Performance Metrics for Quantum SVM (PauliFeatureMap_Y, L_BFGS_B) with PCA:\n",
            "              precision    recall  f1-score   support\n",
            "\n",
            "           0       0.00      0.00      0.00        25\n",
            "           1       0.43      0.95      0.59        20\n",
            "\n",
            "    accuracy                           0.42        45\n",
            "   macro avg       0.22      0.47      0.30        45\n",
            "weighted avg       0.19      0.42      0.26        45\n",
            "\n",
            "Quantum SVM training time (PauliFeatureMap_Y, L_BFGS_B) with PCA: 58.425429344177246 seconds\n"
          ]
        },
        {
          "output_type": "stream",
          "name": "stderr",
          "text": [
            "/usr/local/lib/python3.10/dist-packages/sklearn/preprocessing/_encoders.py:868: FutureWarning: `sparse` was renamed to `sparse_output` in version 1.2 and will be removed in 1.4. `sparse_output` is ignored unless you leave `sparse` to its default value.\n",
            "  warnings.warn(\n"
          ]
        },
        {
          "output_type": "stream",
          "name": "stdout",
          "text": [
            "Performance Metrics for Quantum SVM (PauliFeatureMap_Y, SLSQP) with PCA:\n",
            "              precision    recall  f1-score   support\n",
            "\n",
            "           0       0.00      0.00      0.00        25\n",
            "           1       0.44      1.00      0.62        20\n",
            "\n",
            "    accuracy                           0.44        45\n",
            "   macro avg       0.22      0.50      0.31        45\n",
            "weighted avg       0.20      0.44      0.27        45\n",
            "\n",
            "Quantum SVM training time (PauliFeatureMap_Y, SLSQP) with PCA: 16.741231441497803 seconds\n"
          ]
        },
        {
          "output_type": "stream",
          "name": "stderr",
          "text": [
            "/usr/local/lib/python3.10/dist-packages/sklearn/metrics/_classification.py:1344: UndefinedMetricWarning: Precision and F-score are ill-defined and being set to 0.0 in labels with no predicted samples. Use `zero_division` parameter to control this behavior.\n",
            "  _warn_prf(average, modifier, msg_start, len(result))\n",
            "/usr/local/lib/python3.10/dist-packages/sklearn/metrics/_classification.py:1344: UndefinedMetricWarning: Precision and F-score are ill-defined and being set to 0.0 in labels with no predicted samples. Use `zero_division` parameter to control this behavior.\n",
            "  _warn_prf(average, modifier, msg_start, len(result))\n",
            "/usr/local/lib/python3.10/dist-packages/sklearn/metrics/_classification.py:1344: UndefinedMetricWarning: Precision and F-score are ill-defined and being set to 0.0 in labels with no predicted samples. Use `zero_division` parameter to control this behavior.\n",
            "  _warn_prf(average, modifier, msg_start, len(result))\n",
            "/usr/local/lib/python3.10/dist-packages/sklearn/preprocessing/_encoders.py:868: FutureWarning: `sparse` was renamed to `sparse_output` in version 1.2 and will be removed in 1.4. `sparse_output` is ignored unless you leave `sparse` to its default value.\n",
            "  warnings.warn(\n"
          ]
        },
        {
          "output_type": "stream",
          "name": "stdout",
          "text": [
            "Performance Metrics for Quantum SVM (PauliFeatureMap_XYZYY, SPSA) with PCA:\n",
            "              precision    recall  f1-score   support\n",
            "\n",
            "           0       0.38      0.24      0.29        25\n",
            "           1       0.34      0.50      0.41        20\n",
            "\n",
            "    accuracy                           0.36        45\n",
            "   macro avg       0.36      0.37      0.35        45\n",
            "weighted avg       0.36      0.36      0.34        45\n",
            "\n",
            "Quantum SVM training time (PauliFeatureMap_XYZYY, SPSA) with PCA: 67.92135715484619 seconds\n"
          ]
        },
        {
          "output_type": "stream",
          "name": "stderr",
          "text": [
            "/usr/local/lib/python3.10/dist-packages/sklearn/preprocessing/_encoders.py:868: FutureWarning: `sparse` was renamed to `sparse_output` in version 1.2 and will be removed in 1.4. `sparse_output` is ignored unless you leave `sparse` to its default value.\n",
            "  warnings.warn(\n"
          ]
        },
        {
          "output_type": "stream",
          "name": "stdout",
          "text": [
            "Performance Metrics for Quantum SVM (PauliFeatureMap_XYZYY, COBYLA) with PCA:\n",
            "              precision    recall  f1-score   support\n",
            "\n",
            "           0       0.59      0.52      0.55        25\n",
            "           1       0.48      0.55      0.51        20\n",
            "\n",
            "    accuracy                           0.53        45\n",
            "   macro avg       0.53      0.54      0.53        45\n",
            "weighted avg       0.54      0.53      0.53        45\n",
            "\n",
            "Quantum SVM training time (PauliFeatureMap_XYZYY, COBYLA) with PCA: 39.35039210319519 seconds\n"
          ]
        },
        {
          "output_type": "stream",
          "name": "stderr",
          "text": [
            "/usr/local/lib/python3.10/dist-packages/sklearn/preprocessing/_encoders.py:868: FutureWarning: `sparse` was renamed to `sparse_output` in version 1.2 and will be removed in 1.4. `sparse_output` is ignored unless you leave `sparse` to its default value.\n",
            "  warnings.warn(\n"
          ]
        },
        {
          "output_type": "stream",
          "name": "stdout",
          "text": [
            "Performance Metrics for Quantum SVM (PauliFeatureMap_XYZYY, L_BFGS_B) with PCA:\n",
            "              precision    recall  f1-score   support\n",
            "\n",
            "           0       0.52      0.52      0.52        25\n",
            "           1       0.40      0.40      0.40        20\n",
            "\n",
            "    accuracy                           0.47        45\n",
            "   macro avg       0.46      0.46      0.46        45\n",
            "weighted avg       0.47      0.47      0.47        45\n",
            "\n",
            "Quantum SVM training time (PauliFeatureMap_XYZYY, L_BFGS_B) with PCA: 73.63667798042297 seconds\n"
          ]
        },
        {
          "output_type": "stream",
          "name": "stderr",
          "text": [
            "/usr/local/lib/python3.10/dist-packages/sklearn/preprocessing/_encoders.py:868: FutureWarning: `sparse` was renamed to `sparse_output` in version 1.2 and will be removed in 1.4. `sparse_output` is ignored unless you leave `sparse` to its default value.\n",
            "  warnings.warn(\n"
          ]
        },
        {
          "output_type": "stream",
          "name": "stdout",
          "text": [
            "Performance Metrics for Quantum SVM (PauliFeatureMap_XYZYY, SLSQP) with PCA:\n",
            "              precision    recall  f1-score   support\n",
            "\n",
            "           0       0.63      0.48      0.55        25\n",
            "           1       0.50      0.65      0.57        20\n",
            "\n",
            "    accuracy                           0.56        45\n",
            "   macro avg       0.57      0.56      0.56        45\n",
            "weighted avg       0.57      0.56      0.55        45\n",
            "\n",
            "Quantum SVM training time (PauliFeatureMap_XYZYY, SLSQP) with PCA: 40.56773805618286 seconds\n",
            "Best Configuration with PCA: Feature Map - PauliFeatureMap_ZZ, Optimizer - SLSQP\n"
          ]
        }
      ]
    },
    {
      "cell_type": "code",
      "source": [
        "import numpy as np\n",
        "from sklearn.decomposition import PCA\n",
        "import matplotlib.pyplot as plt\n",
        "from sklearn.model_selection import train_test_split\n",
        "from sklearn.preprocessing import StandardScaler\n",
        "from sklearn.svm import SVC\n",
        "from sklearn.metrics import classification_report, accuracy_score\n",
        "from qiskit import Aer\n",
        "from qiskit.circuit.library import PauliFeatureMap\n",
        "from qiskit.circuit.library import ZZFeatureMap\n",
        "from qiskit_machine_learning.algorithms.classifiers import VQC\n",
        "from qiskit.utils import QuantumInstance\n",
        "from qiskit.algorithms.optimizers import SPSA, COBYLA, L_BFGS_B, SLSQP, ADAM\n",
        "from time import time\n",
        "\n",
        "np.random.seed(0)\n",
        "\n",
        "# Define the number of samples and features\n",
        "num_samples = 300\n",
        "num_features = 5  # You can increase this number to create a higher-dimensional dataset\n",
        "\n",
        "# Generate random data with strong correlations in the first few features\n",
        "mean = np.zeros(num_features)\n",
        "cov = np.eye(num_features)\n",
        "for i in range(5):\n",
        "    cov[i, i] = 2.0  # Increase the variance for the first 5 features to make them important\n",
        "\n",
        "data = np.random.multivariate_normal(mean, cov, num_samples)\n",
        "\n",
        "# Split the data into training and testing sets\n",
        "X_train, X_test, y_train, y_test = train_test_split(data, np.random.choice([0, 1], size=num_samples), test_size=0.3, random_state=42)\n",
        "\n",
        "# Data Preprocessing\n",
        "scaler = StandardScaler().fit(X_train)\n",
        "X_train = scaler.transform(X_train)\n",
        "X_test = scaler.transform(X_test)\n",
        "\n",
        "# Perform PCA to reduce dimensionality\n",
        "pca = PCA(n_components=2)  # You can adjust the number of components as needed\n",
        "X_train_pca = pca.fit_transform(X_train)\n",
        "X_test_pca = pca.transform(X_test)\n",
        "\n",
        "# Train Classical SVM on reduced dataset\n",
        "classical_svm_pca = SVC(kernel='rbf', C=1.0, gamma='scale')\n",
        "start = time()\n",
        "classical_svm_pca.fit(X_train_pca, y_train)\n",
        "end = time()\n",
        "classical_svm_predictions_pca = classical_svm_pca.predict(X_test_pca)\n",
        "print(\"Performance Metrics for Classical SVM with PCA:\")\n",
        "print(classification_report(y_test, classical_svm_predictions_pca))\n",
        "print(f\"Classical SVM training time with PCA: {end - start} seconds\")\n",
        "\n",
        "# Define a list of feature maps and their parameters to tune for QSVM\n",
        "feature_maps = [\n",
        "    {'name': 'ZZFeatureMap', 'feature_map': ZZFeatureMap(feature_dimension=2, reps=2, entanglement='full')},\n",
        "    {'name': 'PauliFeatureMap_XY', 'feature_map': PauliFeatureMap(feature_dimension=2, reps=2, paulis=['X', 'Y'], entanglement='full')},\n",
        "    {'name': 'PauliFeatureMap_ZZ', 'feature_map': PauliFeatureMap(feature_dimension=2, reps=2, paulis=['Z', 'ZZ'], entanglement='full')},\n",
        "    {'name': 'PauliFeatureMap_XYZ', 'feature_map': PauliFeatureMap(feature_dimension=2, reps=2, paulis=['X', 'Y', 'Z'], entanglement='full')},\n",
        "    {'name': 'PauliFeatureMap_YZ', 'feature_map': PauliFeatureMap(feature_dimension=2, reps=2, paulis=['Y', 'Z'], entanglement='full')},\n",
        "    {'name': 'PauliFeatureMap_Y', 'feature_map': PauliFeatureMap(feature_dimension=2, reps=2, paulis=['Y'], entanglement='full')},\n",
        "    {'name': 'PauliFeatureMap_XYZYY', 'feature_map': PauliFeatureMap(feature_dimension=2, reps=2, paulis=['X', 'Y', 'Z', 'YY'], entanglement='full')},\n",
        "    # Add more feature maps and their parameters to explore\n",
        "]\n",
        "\n",
        "# Define a list of optimizer parameters to tune for QSVM\n",
        "optimizers = [\n",
        "    {'name': 'SPSA', 'optimizer': SPSA(maxiter=50)},\n",
        "    {'name': 'COBYLA', 'optimizer': COBYLA(maxiter=100)},\n",
        "    {'name': 'L_BFGS_B', 'optimizer': L_BFGS_B(maxfun=100, maxiter=100)},\n",
        "    {'name': 'SLSQP', 'optimizer': SLSQP(maxiter=100)},\n",
        "    # Add more optimizers and their parameters to explore\n",
        "]\n",
        "\n",
        "\n",
        "best_score = 0\n",
        "best_params = {}\n",
        "\n",
        "for feature_map_params in feature_maps:\n",
        "    feature_map_name = feature_map_params['name']\n",
        "    feature_map = feature_map_params['feature_map']\n",
        "\n",
        "    for optimizer_params in optimizers:\n",
        "        optimizer_name = optimizer_params['name']\n",
        "        optimizer = optimizer_params['optimizer']\n",
        "\n",
        "        # Create a sampler for the AerSimulator\n",
        "        sampler = Sampler()\n",
        "\n",
        "        # Create an instance of the AerSimulator\n",
        "        simulator = AerSimulator()\n",
        "\n",
        "        # Train QSVM with the current feature map and optimizer using the sampler\n",
        "        vqc = VQC(feature_map=feature_map, ansatz=None, optimizer=optimizer, quantum_instance=simulator)\n",
        "\n",
        "        start = time()\n",
        "        vqc.fit(X_train_pca, y_train)\n",
        "        end = time()\n",
        "\n",
        "        result_quantum = vqc.predict(X_test_pca)\n",
        "        score = accuracy_score(y_test, result_quantum)\n",
        "\n",
        "        # Print performance metrics and runtime for the current configuration\n",
        "        print(f\"Performance Metrics for Quantum SVM ({feature_map_name}, {optimizer_name}) with PCA:\")\n",
        "        print(classification_report(y_test, result_quantum))\n",
        "        print(f\"Quantum SVM training time ({feature_map_name}, {optimizer_name}) with PCA: {end - start} seconds\")\n",
        "\n",
        "        # Check if the current configuration is the best\n",
        "        if score > best_score:\n",
        "            best_score = score\n",
        "            best_params = {'feature_map': feature_map_name, 'optimizer': optimizer_name}\n",
        "\n",
        "# Print the best configuration found\n",
        "print(f\"Best Configuration with PCA: Feature Map - {best_params['feature_map']}, Optimizer - {best_params['optimizer']}\")"
      ],
      "metadata": {
        "colab": {
          "base_uri": "https://localhost:8080/"
        },
        "id": "USdjQI-42CtL",
        "outputId": "5065273b-16fe-4a40-d1b5-3b4863abc7fd"
      },
      "execution_count": null,
      "outputs": [
        {
          "output_type": "stream",
          "name": "stdout",
          "text": [
            "Performance Metrics for Classical SVM with PCA:\n",
            "              precision    recall  f1-score   support\n",
            "\n",
            "           0       0.53      0.72      0.61        47\n",
            "           1       0.50      0.30      0.38        43\n",
            "\n",
            "    accuracy                           0.52        90\n",
            "   macro avg       0.52      0.51      0.49        90\n",
            "weighted avg       0.52      0.52      0.50        90\n",
            "\n",
            "Classical SVM training time with PCA: 0.0041964054107666016 seconds\n"
          ]
        },
        {
          "output_type": "stream",
          "name": "stderr",
          "text": [
            "/usr/local/lib/python3.10/dist-packages/sklearn/preprocessing/_encoders.py:868: FutureWarning: `sparse` was renamed to `sparse_output` in version 1.2 and will be removed in 1.4. `sparse_output` is ignored unless you leave `sparse` to its default value.\n",
            "  warnings.warn(\n"
          ]
        },
        {
          "output_type": "stream",
          "name": "stdout",
          "text": [
            "Performance Metrics for Quantum SVM (ZZFeatureMap, SPSA) with PCA:\n",
            "              precision    recall  f1-score   support\n",
            "\n",
            "           0       0.53      0.64      0.58        47\n",
            "           1       0.48      0.37      0.42        43\n",
            "\n",
            "    accuracy                           0.51        90\n",
            "   macro avg       0.51      0.51      0.50        90\n",
            "weighted avg       0.51      0.51      0.50        90\n",
            "\n",
            "Quantum SVM training time (ZZFeatureMap, SPSA) with PCA: 108.43597722053528 seconds\n"
          ]
        },
        {
          "output_type": "stream",
          "name": "stderr",
          "text": [
            "/usr/local/lib/python3.10/dist-packages/sklearn/preprocessing/_encoders.py:868: FutureWarning: `sparse` was renamed to `sparse_output` in version 1.2 and will be removed in 1.4. `sparse_output` is ignored unless you leave `sparse` to its default value.\n",
            "  warnings.warn(\n"
          ]
        },
        {
          "output_type": "stream",
          "name": "stdout",
          "text": [
            "Performance Metrics for Quantum SVM (ZZFeatureMap, COBYLA) with PCA:\n",
            "              precision    recall  f1-score   support\n",
            "\n",
            "           0       0.56      0.74      0.64        47\n",
            "           1       0.56      0.35      0.43        43\n",
            "\n",
            "    accuracy                           0.56        90\n",
            "   macro avg       0.56      0.55      0.53        90\n",
            "weighted avg       0.56      0.56      0.54        90\n",
            "\n",
            "Quantum SVM training time (ZZFeatureMap, COBYLA) with PCA: 56.580108642578125 seconds\n"
          ]
        },
        {
          "output_type": "stream",
          "name": "stderr",
          "text": [
            "/usr/local/lib/python3.10/dist-packages/sklearn/preprocessing/_encoders.py:868: FutureWarning: `sparse` was renamed to `sparse_output` in version 1.2 and will be removed in 1.4. `sparse_output` is ignored unless you leave `sparse` to its default value.\n",
            "  warnings.warn(\n"
          ]
        },
        {
          "output_type": "stream",
          "name": "stdout",
          "text": [
            "Performance Metrics for Quantum SVM (ZZFeatureMap, L_BFGS_B) with PCA:\n",
            "              precision    recall  f1-score   support\n",
            "\n",
            "           0       0.41      0.45      0.43        47\n",
            "           1       0.33      0.30      0.32        43\n",
            "\n",
            "    accuracy                           0.38        90\n",
            "   macro avg       0.37      0.37      0.37        90\n",
            "weighted avg       0.37      0.38      0.38        90\n",
            "\n",
            "Quantum SVM training time (ZZFeatureMap, L_BFGS_B) with PCA: 193.72811484336853 seconds\n"
          ]
        },
        {
          "output_type": "stream",
          "name": "stderr",
          "text": [
            "/usr/local/lib/python3.10/dist-packages/sklearn/preprocessing/_encoders.py:868: FutureWarning: `sparse` was renamed to `sparse_output` in version 1.2 and will be removed in 1.4. `sparse_output` is ignored unless you leave `sparse` to its default value.\n",
            "  warnings.warn(\n"
          ]
        },
        {
          "output_type": "stream",
          "name": "stdout",
          "text": [
            "Performance Metrics for Quantum SVM (ZZFeatureMap, SLSQP) with PCA:\n",
            "              precision    recall  f1-score   support\n",
            "\n",
            "           0       0.51      0.55      0.53        47\n",
            "           1       0.46      0.42      0.44        43\n",
            "\n",
            "    accuracy                           0.49        90\n",
            "   macro avg       0.49      0.49      0.48        90\n",
            "weighted avg       0.49      0.49      0.49        90\n",
            "\n",
            "Quantum SVM training time (ZZFeatureMap, SLSQP) with PCA: 146.2406542301178 seconds\n"
          ]
        },
        {
          "output_type": "stream",
          "name": "stderr",
          "text": [
            "/usr/local/lib/python3.10/dist-packages/sklearn/preprocessing/_encoders.py:868: FutureWarning: `sparse` was renamed to `sparse_output` in version 1.2 and will be removed in 1.4. `sparse_output` is ignored unless you leave `sparse` to its default value.\n",
            "  warnings.warn(\n"
          ]
        },
        {
          "output_type": "stream",
          "name": "stdout",
          "text": [
            "Performance Metrics for Quantum SVM (PauliFeatureMap_XY, SPSA) with PCA:\n",
            "              precision    recall  f1-score   support\n",
            "\n",
            "           0       0.52      0.72      0.61        47\n",
            "           1       0.48      0.28      0.35        43\n",
            "\n",
            "    accuracy                           0.51        90\n",
            "   macro avg       0.50      0.50      0.48        90\n",
            "weighted avg       0.50      0.51      0.49        90\n",
            "\n",
            "Quantum SVM training time (PauliFeatureMap_XY, SPSA) with PCA: 107.82040119171143 seconds\n"
          ]
        },
        {
          "output_type": "stream",
          "name": "stderr",
          "text": [
            "/usr/local/lib/python3.10/dist-packages/sklearn/preprocessing/_encoders.py:868: FutureWarning: `sparse` was renamed to `sparse_output` in version 1.2 and will be removed in 1.4. `sparse_output` is ignored unless you leave `sparse` to its default value.\n",
            "  warnings.warn(\n"
          ]
        },
        {
          "output_type": "stream",
          "name": "stdout",
          "text": [
            "Performance Metrics for Quantum SVM (PauliFeatureMap_XY, COBYLA) with PCA:\n",
            "              precision    recall  f1-score   support\n",
            "\n",
            "           0       0.51      0.47      0.49        47\n",
            "           1       0.47      0.51      0.49        43\n",
            "\n",
            "    accuracy                           0.49        90\n",
            "   macro avg       0.49      0.49      0.49        90\n",
            "weighted avg       0.49      0.49      0.49        90\n",
            "\n",
            "Quantum SVM training time (PauliFeatureMap_XY, COBYLA) with PCA: 55.0289032459259 seconds\n"
          ]
        },
        {
          "output_type": "stream",
          "name": "stderr",
          "text": [
            "/usr/local/lib/python3.10/dist-packages/sklearn/preprocessing/_encoders.py:868: FutureWarning: `sparse` was renamed to `sparse_output` in version 1.2 and will be removed in 1.4. `sparse_output` is ignored unless you leave `sparse` to its default value.\n",
            "  warnings.warn(\n"
          ]
        },
        {
          "output_type": "stream",
          "name": "stdout",
          "text": [
            "Performance Metrics for Quantum SVM (PauliFeatureMap_XY, L_BFGS_B) with PCA:\n",
            "              precision    recall  f1-score   support\n",
            "\n",
            "           0       0.48      0.66      0.56        47\n",
            "           1       0.38      0.23      0.29        43\n",
            "\n",
            "    accuracy                           0.46        90\n",
            "   macro avg       0.43      0.45      0.42        90\n",
            "weighted avg       0.44      0.46      0.43        90\n",
            "\n",
            "Quantum SVM training time (PauliFeatureMap_XY, L_BFGS_B) with PCA: 320.9562089443207 seconds\n"
          ]
        },
        {
          "output_type": "stream",
          "name": "stderr",
          "text": [
            "/usr/local/lib/python3.10/dist-packages/sklearn/preprocessing/_encoders.py:868: FutureWarning: `sparse` was renamed to `sparse_output` in version 1.2 and will be removed in 1.4. `sparse_output` is ignored unless you leave `sparse` to its default value.\n",
            "  warnings.warn(\n"
          ]
        },
        {
          "output_type": "stream",
          "name": "stdout",
          "text": [
            "Performance Metrics for Quantum SVM (PauliFeatureMap_XY, SLSQP) with PCA:\n",
            "              precision    recall  f1-score   support\n",
            "\n",
            "           0       0.50      0.53      0.52        47\n",
            "           1       0.45      0.42      0.43        43\n",
            "\n",
            "    accuracy                           0.48        90\n",
            "   macro avg       0.47      0.48      0.47        90\n",
            "weighted avg       0.48      0.48      0.48        90\n",
            "\n",
            "Quantum SVM training time (PauliFeatureMap_XY, SLSQP) with PCA: 65.7983467578888 seconds\n"
          ]
        },
        {
          "output_type": "stream",
          "name": "stderr",
          "text": [
            "/usr/local/lib/python3.10/dist-packages/sklearn/preprocessing/_encoders.py:868: FutureWarning: `sparse` was renamed to `sparse_output` in version 1.2 and will be removed in 1.4. `sparse_output` is ignored unless you leave `sparse` to its default value.\n",
            "  warnings.warn(\n"
          ]
        },
        {
          "output_type": "stream",
          "name": "stdout",
          "text": [
            "Performance Metrics for Quantum SVM (PauliFeatureMap_ZZ, SPSA) with PCA:\n",
            "              precision    recall  f1-score   support\n",
            "\n",
            "           0       0.50      0.62      0.55        47\n",
            "           1       0.44      0.33      0.37        43\n",
            "\n",
            "    accuracy                           0.48        90\n",
            "   macro avg       0.47      0.47      0.46        90\n",
            "weighted avg       0.47      0.48      0.47        90\n",
            "\n",
            "Quantum SVM training time (PauliFeatureMap_ZZ, SPSA) with PCA: 110.61075234413147 seconds\n"
          ]
        },
        {
          "output_type": "stream",
          "name": "stderr",
          "text": [
            "/usr/local/lib/python3.10/dist-packages/sklearn/preprocessing/_encoders.py:868: FutureWarning: `sparse` was renamed to `sparse_output` in version 1.2 and will be removed in 1.4. `sparse_output` is ignored unless you leave `sparse` to its default value.\n",
            "  warnings.warn(\n"
          ]
        },
        {
          "output_type": "stream",
          "name": "stdout",
          "text": [
            "Performance Metrics for Quantum SVM (PauliFeatureMap_ZZ, COBYLA) with PCA:\n",
            "              precision    recall  f1-score   support\n",
            "\n",
            "           0       0.44      0.51      0.48        47\n",
            "           1       0.36      0.30      0.33        43\n",
            "\n",
            "    accuracy                           0.41        90\n",
            "   macro avg       0.40      0.41      0.40        90\n",
            "weighted avg       0.40      0.41      0.41        90\n",
            "\n",
            "Quantum SVM training time (PauliFeatureMap_ZZ, COBYLA) with PCA: 59.64632725715637 seconds\n"
          ]
        },
        {
          "output_type": "stream",
          "name": "stderr",
          "text": [
            "/usr/local/lib/python3.10/dist-packages/sklearn/preprocessing/_encoders.py:868: FutureWarning: `sparse` was renamed to `sparse_output` in version 1.2 and will be removed in 1.4. `sparse_output` is ignored unless you leave `sparse` to its default value.\n",
            "  warnings.warn(\n"
          ]
        },
        {
          "output_type": "stream",
          "name": "stdout",
          "text": [
            "Performance Metrics for Quantum SVM (PauliFeatureMap_ZZ, L_BFGS_B) with PCA:\n",
            "              precision    recall  f1-score   support\n",
            "\n",
            "           0       0.52      0.51      0.52        47\n",
            "           1       0.48      0.49      0.48        43\n",
            "\n",
            "    accuracy                           0.50        90\n",
            "   macro avg       0.50      0.50      0.50        90\n",
            "weighted avg       0.50      0.50      0.50        90\n",
            "\n",
            "Quantum SVM training time (PauliFeatureMap_ZZ, L_BFGS_B) with PCA: 138.40096306800842 seconds\n"
          ]
        },
        {
          "output_type": "stream",
          "name": "stderr",
          "text": [
            "/usr/local/lib/python3.10/dist-packages/sklearn/preprocessing/_encoders.py:868: FutureWarning: `sparse` was renamed to `sparse_output` in version 1.2 and will be removed in 1.4. `sparse_output` is ignored unless you leave `sparse` to its default value.\n",
            "  warnings.warn(\n"
          ]
        },
        {
          "output_type": "stream",
          "name": "stdout",
          "text": [
            "Performance Metrics for Quantum SVM (PauliFeatureMap_ZZ, SLSQP) with PCA:\n",
            "              precision    recall  f1-score   support\n",
            "\n",
            "           0       0.49      0.47      0.48        47\n",
            "           1       0.44      0.47      0.45        43\n",
            "\n",
            "    accuracy                           0.47        90\n",
            "   macro avg       0.47      0.47      0.47        90\n",
            "weighted avg       0.47      0.47      0.47        90\n",
            "\n",
            "Quantum SVM training time (PauliFeatureMap_ZZ, SLSQP) with PCA: 84.90203070640564 seconds\n"
          ]
        },
        {
          "output_type": "stream",
          "name": "stderr",
          "text": [
            "/usr/local/lib/python3.10/dist-packages/sklearn/preprocessing/_encoders.py:868: FutureWarning: `sparse` was renamed to `sparse_output` in version 1.2 and will be removed in 1.4. `sparse_output` is ignored unless you leave `sparse` to its default value.\n",
            "  warnings.warn(\n"
          ]
        },
        {
          "output_type": "stream",
          "name": "stdout",
          "text": [
            "Performance Metrics for Quantum SVM (PauliFeatureMap_XYZ, SPSA) with PCA:\n",
            "              precision    recall  f1-score   support\n",
            "\n",
            "           0       0.56      0.68      0.62        47\n",
            "           1       0.55      0.42      0.47        43\n",
            "\n",
            "    accuracy                           0.56        90\n",
            "   macro avg       0.55      0.55      0.54        90\n",
            "weighted avg       0.55      0.56      0.55        90\n",
            "\n",
            "Quantum SVM training time (PauliFeatureMap_XYZ, SPSA) with PCA: 118.86249351501465 seconds\n"
          ]
        },
        {
          "output_type": "stream",
          "name": "stderr",
          "text": [
            "/usr/local/lib/python3.10/dist-packages/sklearn/preprocessing/_encoders.py:868: FutureWarning: `sparse` was renamed to `sparse_output` in version 1.2 and will be removed in 1.4. `sparse_output` is ignored unless you leave `sparse` to its default value.\n",
            "  warnings.warn(\n"
          ]
        },
        {
          "output_type": "stream",
          "name": "stdout",
          "text": [
            "Performance Metrics for Quantum SVM (PauliFeatureMap_XYZ, COBYLA) with PCA:\n",
            "              precision    recall  f1-score   support\n",
            "\n",
            "           0       0.49      0.62      0.55        47\n",
            "           1       0.42      0.30      0.35        43\n",
            "\n",
            "    accuracy                           0.47        90\n",
            "   macro avg       0.46      0.46      0.45        90\n",
            "weighted avg       0.46      0.47      0.45        90\n",
            "\n",
            "Quantum SVM training time (PauliFeatureMap_XYZ, COBYLA) with PCA: 59.62304902076721 seconds\n"
          ]
        },
        {
          "output_type": "stream",
          "name": "stderr",
          "text": [
            "/usr/local/lib/python3.10/dist-packages/sklearn/preprocessing/_encoders.py:868: FutureWarning: `sparse` was renamed to `sparse_output` in version 1.2 and will be removed in 1.4. `sparse_output` is ignored unless you leave `sparse` to its default value.\n",
            "  warnings.warn(\n"
          ]
        },
        {
          "output_type": "stream",
          "name": "stdout",
          "text": [
            "Performance Metrics for Quantum SVM (PauliFeatureMap_XYZ, L_BFGS_B) with PCA:\n",
            "              precision    recall  f1-score   support\n",
            "\n",
            "           0       0.54      0.81      0.64        47\n",
            "           1       0.53      0.23      0.32        43\n",
            "\n",
            "    accuracy                           0.53        90\n",
            "   macro avg       0.53      0.52      0.48        90\n",
            "weighted avg       0.53      0.53      0.49        90\n",
            "\n",
            "Quantum SVM training time (PauliFeatureMap_XYZ, L_BFGS_B) with PCA: 225.56951355934143 seconds\n"
          ]
        },
        {
          "output_type": "stream",
          "name": "stderr",
          "text": [
            "/usr/local/lib/python3.10/dist-packages/sklearn/preprocessing/_encoders.py:868: FutureWarning: `sparse` was renamed to `sparse_output` in version 1.2 and will be removed in 1.4. `sparse_output` is ignored unless you leave `sparse` to its default value.\n",
            "  warnings.warn(\n"
          ]
        },
        {
          "output_type": "stream",
          "name": "stdout",
          "text": [
            "Performance Metrics for Quantum SVM (PauliFeatureMap_XYZ, SLSQP) with PCA:\n",
            "              precision    recall  f1-score   support\n",
            "\n",
            "           0       0.52      0.72      0.60        47\n",
            "           1       0.46      0.26      0.33        43\n",
            "\n",
            "    accuracy                           0.50        90\n",
            "   macro avg       0.49      0.49      0.47        90\n",
            "weighted avg       0.49      0.50      0.47        90\n",
            "\n",
            "Quantum SVM training time (PauliFeatureMap_XYZ, SLSQP) with PCA: 151.26736855506897 seconds\n"
          ]
        },
        {
          "output_type": "stream",
          "name": "stderr",
          "text": [
            "/usr/local/lib/python3.10/dist-packages/sklearn/preprocessing/_encoders.py:868: FutureWarning: `sparse` was renamed to `sparse_output` in version 1.2 and will be removed in 1.4. `sparse_output` is ignored unless you leave `sparse` to its default value.\n",
            "  warnings.warn(\n"
          ]
        },
        {
          "output_type": "stream",
          "name": "stdout",
          "text": [
            "Performance Metrics for Quantum SVM (PauliFeatureMap_YZ, SPSA) with PCA:\n",
            "              precision    recall  f1-score   support\n",
            "\n",
            "           0       0.52      0.70      0.60        47\n",
            "           1       0.48      0.30      0.37        43\n",
            "\n",
            "    accuracy                           0.51        90\n",
            "   macro avg       0.50      0.50      0.49        90\n",
            "weighted avg       0.50      0.51      0.49        90\n",
            "\n",
            "Quantum SVM training time (PauliFeatureMap_YZ, SPSA) with PCA: 110.28840208053589 seconds\n"
          ]
        },
        {
          "output_type": "stream",
          "name": "stderr",
          "text": [
            "/usr/local/lib/python3.10/dist-packages/sklearn/preprocessing/_encoders.py:868: FutureWarning: `sparse` was renamed to `sparse_output` in version 1.2 and will be removed in 1.4. `sparse_output` is ignored unless you leave `sparse` to its default value.\n",
            "  warnings.warn(\n"
          ]
        },
        {
          "output_type": "stream",
          "name": "stdout",
          "text": [
            "Performance Metrics for Quantum SVM (PauliFeatureMap_YZ, COBYLA) with PCA:\n",
            "              precision    recall  f1-score   support\n",
            "\n",
            "           0       0.59      0.47      0.52        47\n",
            "           1       0.53      0.65      0.58        43\n",
            "\n",
            "    accuracy                           0.56        90\n",
            "   macro avg       0.56      0.56      0.55        90\n",
            "weighted avg       0.56      0.56      0.55        90\n",
            "\n",
            "Quantum SVM training time (PauliFeatureMap_YZ, COBYLA) with PCA: 62.17165756225586 seconds\n"
          ]
        },
        {
          "output_type": "stream",
          "name": "stderr",
          "text": [
            "/usr/local/lib/python3.10/dist-packages/sklearn/preprocessing/_encoders.py:868: FutureWarning: `sparse` was renamed to `sparse_output` in version 1.2 and will be removed in 1.4. `sparse_output` is ignored unless you leave `sparse` to its default value.\n",
            "  warnings.warn(\n"
          ]
        },
        {
          "output_type": "stream",
          "name": "stdout",
          "text": [
            "Performance Metrics for Quantum SVM (PauliFeatureMap_YZ, L_BFGS_B) with PCA:\n",
            "              precision    recall  f1-score   support\n",
            "\n",
            "           0       0.52      0.49      0.51        47\n",
            "           1       0.48      0.51      0.49        43\n",
            "\n",
            "    accuracy                           0.50        90\n",
            "   macro avg       0.50      0.50      0.50        90\n",
            "weighted avg       0.50      0.50      0.50        90\n",
            "\n",
            "Quantum SVM training time (PauliFeatureMap_YZ, L_BFGS_B) with PCA: 151.48672223091125 seconds\n"
          ]
        },
        {
          "output_type": "stream",
          "name": "stderr",
          "text": [
            "/usr/local/lib/python3.10/dist-packages/sklearn/preprocessing/_encoders.py:868: FutureWarning: `sparse` was renamed to `sparse_output` in version 1.2 and will be removed in 1.4. `sparse_output` is ignored unless you leave `sparse` to its default value.\n",
            "  warnings.warn(\n"
          ]
        },
        {
          "output_type": "stream",
          "name": "stdout",
          "text": [
            "Performance Metrics for Quantum SVM (PauliFeatureMap_YZ, SLSQP) with PCA:\n",
            "              precision    recall  f1-score   support\n",
            "\n",
            "           0       0.47      0.51      0.49        47\n",
            "           1       0.41      0.37      0.39        43\n",
            "\n",
            "    accuracy                           0.44        90\n",
            "   macro avg       0.44      0.44      0.44        90\n",
            "weighted avg       0.44      0.44      0.44        90\n",
            "\n",
            "Quantum SVM training time (PauliFeatureMap_YZ, SLSQP) with PCA: 257.02636790275574 seconds\n"
          ]
        },
        {
          "output_type": "stream",
          "name": "stderr",
          "text": [
            "/usr/local/lib/python3.10/dist-packages/sklearn/preprocessing/_encoders.py:868: FutureWarning: `sparse` was renamed to `sparse_output` in version 1.2 and will be removed in 1.4. `sparse_output` is ignored unless you leave `sparse` to its default value.\n",
            "  warnings.warn(\n"
          ]
        },
        {
          "output_type": "stream",
          "name": "stdout",
          "text": [
            "Performance Metrics for Quantum SVM (PauliFeatureMap_Y, SPSA) with PCA:\n",
            "              precision    recall  f1-score   support\n",
            "\n",
            "           0       0.64      0.45      0.52        47\n",
            "           1       0.54      0.72      0.62        43\n",
            "\n",
            "    accuracy                           0.58        90\n",
            "   macro avg       0.59      0.58      0.57        90\n",
            "weighted avg       0.59      0.58      0.57        90\n",
            "\n",
            "Quantum SVM training time (PauliFeatureMap_Y, SPSA) with PCA: 100.87287878990173 seconds\n"
          ]
        },
        {
          "output_type": "stream",
          "name": "stderr",
          "text": [
            "/usr/local/lib/python3.10/dist-packages/sklearn/preprocessing/_encoders.py:868: FutureWarning: `sparse` was renamed to `sparse_output` in version 1.2 and will be removed in 1.4. `sparse_output` is ignored unless you leave `sparse` to its default value.\n",
            "  warnings.warn(\n"
          ]
        },
        {
          "output_type": "stream",
          "name": "stdout",
          "text": [
            "Performance Metrics for Quantum SVM (PauliFeatureMap_Y, COBYLA) with PCA:\n",
            "              precision    recall  f1-score   support\n",
            "\n",
            "           0       0.52      0.98      0.68        47\n",
            "           1       0.50      0.02      0.04        43\n",
            "\n",
            "    accuracy                           0.52        90\n",
            "   macro avg       0.51      0.50      0.36        90\n",
            "weighted avg       0.51      0.52      0.38        90\n",
            "\n",
            "Quantum SVM training time (PauliFeatureMap_Y, COBYLA) with PCA: 57.07412767410278 seconds\n"
          ]
        },
        {
          "output_type": "stream",
          "name": "stderr",
          "text": [
            "/usr/local/lib/python3.10/dist-packages/sklearn/preprocessing/_encoders.py:868: FutureWarning: `sparse` was renamed to `sparse_output` in version 1.2 and will be removed in 1.4. `sparse_output` is ignored unless you leave `sparse` to its default value.\n",
            "  warnings.warn(\n"
          ]
        },
        {
          "output_type": "stream",
          "name": "stdout",
          "text": [
            "Performance Metrics for Quantum SVM (PauliFeatureMap_Y, L_BFGS_B) with PCA:\n",
            "              precision    recall  f1-score   support\n",
            "\n",
            "           0       0.00      0.00      0.00        47\n",
            "           1       0.48      1.00      0.65        43\n",
            "\n",
            "    accuracy                           0.48        90\n",
            "   macro avg       0.24      0.50      0.32        90\n",
            "weighted avg       0.23      0.48      0.31        90\n",
            "\n",
            "Quantum SVM training time (PauliFeatureMap_Y, L_BFGS_B) with PCA: 98.86476707458496 seconds\n"
          ]
        },
        {
          "output_type": "stream",
          "name": "stderr",
          "text": [
            "/usr/local/lib/python3.10/dist-packages/sklearn/metrics/_classification.py:1344: UndefinedMetricWarning: Precision and F-score are ill-defined and being set to 0.0 in labels with no predicted samples. Use `zero_division` parameter to control this behavior.\n",
            "  _warn_prf(average, modifier, msg_start, len(result))\n",
            "/usr/local/lib/python3.10/dist-packages/sklearn/metrics/_classification.py:1344: UndefinedMetricWarning: Precision and F-score are ill-defined and being set to 0.0 in labels with no predicted samples. Use `zero_division` parameter to control this behavior.\n",
            "  _warn_prf(average, modifier, msg_start, len(result))\n",
            "/usr/local/lib/python3.10/dist-packages/sklearn/metrics/_classification.py:1344: UndefinedMetricWarning: Precision and F-score are ill-defined and being set to 0.0 in labels with no predicted samples. Use `zero_division` parameter to control this behavior.\n",
            "  _warn_prf(average, modifier, msg_start, len(result))\n",
            "/usr/local/lib/python3.10/dist-packages/sklearn/preprocessing/_encoders.py:868: FutureWarning: `sparse` was renamed to `sparse_output` in version 1.2 and will be removed in 1.4. `sparse_output` is ignored unless you leave `sparse` to its default value.\n",
            "  warnings.warn(\n"
          ]
        },
        {
          "output_type": "stream",
          "name": "stdout",
          "text": [
            "Performance Metrics for Quantum SVM (PauliFeatureMap_Y, SLSQP) with PCA:\n",
            "              precision    recall  f1-score   support\n",
            "\n",
            "           0       0.52      0.68      0.59        47\n",
            "           1       0.48      0.33      0.39        43\n",
            "\n",
            "    accuracy                           0.51        90\n",
            "   macro avg       0.50      0.50      0.49        90\n",
            "weighted avg       0.50      0.51      0.50        90\n",
            "\n",
            "Quantum SVM training time (PauliFeatureMap_Y, SLSQP) with PCA: 79.02418661117554 seconds\n"
          ]
        },
        {
          "output_type": "stream",
          "name": "stderr",
          "text": [
            "/usr/local/lib/python3.10/dist-packages/sklearn/preprocessing/_encoders.py:868: FutureWarning: `sparse` was renamed to `sparse_output` in version 1.2 and will be removed in 1.4. `sparse_output` is ignored unless you leave `sparse` to its default value.\n",
            "  warnings.warn(\n"
          ]
        },
        {
          "output_type": "stream",
          "name": "stdout",
          "text": [
            "Performance Metrics for Quantum SVM (PauliFeatureMap_XYZYY, SPSA) with PCA:\n",
            "              precision    recall  f1-score   support\n",
            "\n",
            "           0       0.53      0.60      0.56        47\n",
            "           1       0.49      0.42      0.45        43\n",
            "\n",
            "    accuracy                           0.51        90\n",
            "   macro avg       0.51      0.51      0.51        90\n",
            "weighted avg       0.51      0.51      0.51        90\n",
            "\n",
            "Quantum SVM training time (PauliFeatureMap_XYZYY, SPSA) with PCA: 137.3047685623169 seconds\n"
          ]
        },
        {
          "output_type": "stream",
          "name": "stderr",
          "text": [
            "/usr/local/lib/python3.10/dist-packages/sklearn/preprocessing/_encoders.py:868: FutureWarning: `sparse` was renamed to `sparse_output` in version 1.2 and will be removed in 1.4. `sparse_output` is ignored unless you leave `sparse` to its default value.\n",
            "  warnings.warn(\n"
          ]
        },
        {
          "output_type": "stream",
          "name": "stdout",
          "text": [
            "Performance Metrics for Quantum SVM (PauliFeatureMap_XYZYY, COBYLA) with PCA:\n",
            "              precision    recall  f1-score   support\n",
            "\n",
            "           0       0.63      0.47      0.54        47\n",
            "           1       0.55      0.70      0.61        43\n",
            "\n",
            "    accuracy                           0.58        90\n",
            "   macro avg       0.59      0.58      0.57        90\n",
            "weighted avg       0.59      0.58      0.57        90\n",
            "\n",
            "Quantum SVM training time (PauliFeatureMap_XYZYY, COBYLA) with PCA: 73.91220235824585 seconds\n"
          ]
        },
        {
          "output_type": "stream",
          "name": "stderr",
          "text": [
            "/usr/local/lib/python3.10/dist-packages/sklearn/preprocessing/_encoders.py:868: FutureWarning: `sparse` was renamed to `sparse_output` in version 1.2 and will be removed in 1.4. `sparse_output` is ignored unless you leave `sparse` to its default value.\n",
            "  warnings.warn(\n"
          ]
        },
        {
          "output_type": "stream",
          "name": "stdout",
          "text": [
            "Performance Metrics for Quantum SVM (PauliFeatureMap_XYZYY, L_BFGS_B) with PCA:\n",
            "              precision    recall  f1-score   support\n",
            "\n",
            "           0       0.54      0.62      0.57        47\n",
            "           1       0.50      0.42      0.46        43\n",
            "\n",
            "    accuracy                           0.52        90\n",
            "   macro avg       0.52      0.52      0.51        90\n",
            "weighted avg       0.52      0.52      0.52        90\n",
            "\n",
            "Quantum SVM training time (PauliFeatureMap_XYZYY, L_BFGS_B) with PCA: 417.0975458621979 seconds\n"
          ]
        },
        {
          "output_type": "stream",
          "name": "stderr",
          "text": [
            "/usr/local/lib/python3.10/dist-packages/sklearn/preprocessing/_encoders.py:868: FutureWarning: `sparse` was renamed to `sparse_output` in version 1.2 and will be removed in 1.4. `sparse_output` is ignored unless you leave `sparse` to its default value.\n",
            "  warnings.warn(\n"
          ]
        },
        {
          "output_type": "stream",
          "name": "stdout",
          "text": [
            "Performance Metrics for Quantum SVM (PauliFeatureMap_XYZYY, SLSQP) with PCA:\n",
            "              precision    recall  f1-score   support\n",
            "\n",
            "           0       0.55      0.72      0.62        47\n",
            "           1       0.54      0.35      0.42        43\n",
            "\n",
            "    accuracy                           0.54        90\n",
            "   macro avg       0.54      0.54      0.52        90\n",
            "weighted avg       0.54      0.54      0.53        90\n",
            "\n",
            "Quantum SVM training time (PauliFeatureMap_XYZYY, SLSQP) with PCA: 190.40241289138794 seconds\n",
            "Best Configuration with PCA: Feature Map - PauliFeatureMap_Y, Optimizer - SPSA\n"
          ]
        }
      ]
    },
    {
      "cell_type": "code",
      "source": [
        "import numpy as np\n",
        "from sklearn.decomposition import PCA\n",
        "import matplotlib.pyplot as plt\n",
        "from sklearn.model_selection import train_test_split\n",
        "from sklearn.preprocessing import StandardScaler\n",
        "from sklearn.svm import SVC\n",
        "from sklearn.metrics import classification_report, accuracy_score\n",
        "from qiskit import Aer\n",
        "from qiskit.circuit.library import PauliFeatureMap\n",
        "from qiskit.circuit.library import ZZFeatureMap\n",
        "from qiskit_machine_learning.algorithms.classifiers import VQC\n",
        "from qiskit.utils import QuantumInstance\n",
        "from qiskit.algorithms.optimizers import SPSA, COBYLA, L_BFGS_B, SLSQP, ADAM\n",
        "from time import time\n",
        "from qiskit_aer import AerSimulator\n",
        "from qiskit_aer.primitives import Sampler\n",
        "\n",
        "np.random.seed(0)\n",
        "\n",
        "# Define the number of samples and features\n",
        "num_samples = 300\n",
        "num_features = 5  # You can increase this number to create a higher-dimensional dataset\n",
        "\n",
        "# Generate random data with strong correlations in the first few features\n",
        "mean = np.zeros(num_features)\n",
        "cov = np.eye(num_features)\n",
        "for i in range(5):\n",
        "    cov[i, i] = 10.0  # Increase the variance for the first 5 features to make them important\n",
        "\n",
        "data = np.random.multivariate_normal(mean, cov, num_samples)\n",
        "\n",
        "# Split the data into training and testing sets\n",
        "X_train, X_test, y_train, y_test = train_test_split(data, np.random.choice([0, 1], size=num_samples), test_size=0.3, random_state=42)\n",
        "\n",
        "# Data Preprocessing\n",
        "scaler = StandardScaler().fit(X_train)\n",
        "X_train = scaler.transform(X_train)\n",
        "X_test = scaler.transform(X_test)\n",
        "\n",
        "# Perform PCA to reduce dimensionality\n",
        "pca = PCA(n_components=2)  # You can adjust the number of components as needed\n",
        "X_train_pca = pca.fit_transform(X_train)\n",
        "X_test_pca = pca.transform(X_test)\n",
        "\n",
        "# Train Classical SVM on reduced dataset\n",
        "classical_svm_pca = SVC(kernel='rbf', C=1.0, gamma='scale')\n",
        "start = time()\n",
        "classical_svm_pca.fit(X_train_pca, y_train)\n",
        "end = time()\n",
        "classical_svm_predictions_pca = classical_svm_pca.predict(X_test_pca)\n",
        "print(\"Performance Metrics for Classical SVM with PCA:\")\n",
        "print(classification_report(y_test, classical_svm_predictions_pca))\n",
        "print(f\"Classical SVM training time with PCA: {end - start} seconds\")\n",
        "\n",
        "# Define a list of feature maps and their parameters to tune for QSVM\n",
        "feature_maps = [\n",
        "    {'name': 'ZZFeatureMap', 'feature_map': ZZFeatureMap(feature_dimension=2, reps=2, entanglement='full')},\n",
        "    {'name': 'PauliFeatureMap_XY', 'feature_map': PauliFeatureMap(feature_dimension=2, reps=2, paulis=['X', 'Y'], entanglement='full')},\n",
        "    {'name': 'PauliFeatureMap_ZZ', 'feature_map': PauliFeatureMap(feature_dimension=2, reps=2, paulis=['Z', 'ZZ'], entanglement='full')},\n",
        "    {'name': 'PauliFeatureMap_XYZ', 'feature_map': PauliFeatureMap(feature_dimension=2, reps=2, paulis=['X', 'Y', 'Z'], entanglement='full')},\n",
        "    {'name': 'PauliFeatureMap_YZ', 'feature_map': PauliFeatureMap(feature_dimension=2, reps=2, paulis=['Y', 'Z'], entanglement='full')},\n",
        "    {'name': 'PauliFeatureMap_Y', 'feature_map': PauliFeatureMap(feature_dimension=2, reps=2, paulis=['Y'], entanglement='full')},\n",
        "    {'name': 'PauliFeatureMap_XYZYY', 'feature_map': PauliFeatureMap(feature_dimension=2, reps=2, paulis=['X', 'Y', 'Z', 'YY'], entanglement='full')},\n",
        "    # Add more feature maps and their parameters to explore\n",
        "]\n",
        "\n",
        "# Define a list of optimizer parameters to tune for QSVM\n",
        "optimizers = [\n",
        "    {'name': 'SPSA', 'optimizer': SPSA(maxiter=50)},\n",
        "    {'name': 'COBYLA', 'optimizer': COBYLA(maxiter=100)},\n",
        "    {'name': 'L_BFGS_B', 'optimizer': L_BFGS_B(maxfun=100, maxiter=100)},\n",
        "    {'name': 'SLSQP', 'optimizer': SLSQP(maxiter=100)},\n",
        "    # Add more optimizers and their parameters to explore\n",
        "]\n",
        "\n",
        "\n",
        "best_score = 0\n",
        "best_params = {}\n",
        "\n",
        "for feature_map_params in feature_maps:\n",
        "    feature_map_name = feature_map_params['name']\n",
        "    feature_map = feature_map_params['feature_map']\n",
        "\n",
        "    for optimizer_params in optimizers:\n",
        "        optimizer_name = optimizer_params['name']\n",
        "        optimizer = optimizer_params['optimizer']\n",
        "\n",
        "        # Create a sampler for the AerSimulator\n",
        "        sampler = Sampler()\n",
        "\n",
        "        # Create an instance of the AerSimulator\n",
        "        simulator = AerSimulator()\n",
        "\n",
        "        # Train QSVM with the current feature map and optimizer using the sampler\n",
        "        vqc = VQC(feature_map=feature_map, ansatz=None, optimizer=optimizer, quantum_instance=simulator)\n",
        "\n",
        "        start = time()\n",
        "        vqc.fit(X_train_pca, y_train)\n",
        "        end = time()\n",
        "\n",
        "        result_quantum = vqc.predict(X_test_pca)\n",
        "        score = accuracy_score(y_test, result_quantum)\n",
        "\n",
        "        # Print performance metrics and runtime for the current configuration\n",
        "        print(f\"Performance Metrics for Quantum SVM ({feature_map_name}, {optimizer_name}) with PCA:\")\n",
        "        print(classification_report(y_test, result_quantum))\n",
        "        print(f\"Quantum SVM training time ({feature_map_name}, {optimizer_name}) with PCA: {end - start} seconds\")\n",
        "\n",
        "        # Check if the current configuration is the best\n",
        "        if score > best_score:\n",
        "            best_score = score\n",
        "            best_params = {'feature_map': feature_map_name, 'optimizer': optimizer_name}\n",
        "\n",
        "# Print the best configuration found\n",
        "print(f\"Best Configuration with PCA: Feature Map - {best_params['feature_map']}, Optimizer - {best_params['optimizer']}\")"
      ],
      "metadata": {
        "colab": {
          "base_uri": "https://localhost:8080/"
        },
        "id": "hiBR3Nwd2GBW",
        "outputId": "6e3490b2-b713-4a5f-c043-dc613f9b837a"
      },
      "execution_count": 9,
      "outputs": [
        {
          "output_type": "stream",
          "name": "stdout",
          "text": [
            "Performance Metrics for Classical SVM with PCA:\n",
            "              precision    recall  f1-score   support\n",
            "\n",
            "           0       0.53      0.72      0.61        47\n",
            "           1       0.50      0.30      0.38        43\n",
            "\n",
            "    accuracy                           0.52        90\n",
            "   macro avg       0.52      0.51      0.49        90\n",
            "weighted avg       0.52      0.52      0.50        90\n",
            "\n",
            "Classical SVM training time with PCA: 0.0049741268157958984 seconds\n"
          ]
        },
        {
          "output_type": "stream",
          "name": "stderr",
          "text": [
            "/usr/local/lib/python3.10/dist-packages/sklearn/preprocessing/_encoders.py:868: FutureWarning: `sparse` was renamed to `sparse_output` in version 1.2 and will be removed in 1.4. `sparse_output` is ignored unless you leave `sparse` to its default value.\n",
            "  warnings.warn(\n"
          ]
        },
        {
          "output_type": "stream",
          "name": "stdout",
          "text": [
            "Performance Metrics for Quantum SVM (ZZFeatureMap, SPSA) with PCA:\n",
            "              precision    recall  f1-score   support\n",
            "\n",
            "           0       0.56      0.68      0.62        47\n",
            "           1       0.55      0.42      0.47        43\n",
            "\n",
            "    accuracy                           0.56        90\n",
            "   macro avg       0.55      0.55      0.54        90\n",
            "weighted avg       0.55      0.56      0.55        90\n",
            "\n",
            "Quantum SVM training time (ZZFeatureMap, SPSA) with PCA: 108.81609058380127 seconds\n"
          ]
        },
        {
          "output_type": "stream",
          "name": "stderr",
          "text": [
            "/usr/local/lib/python3.10/dist-packages/sklearn/preprocessing/_encoders.py:868: FutureWarning: `sparse` was renamed to `sparse_output` in version 1.2 and will be removed in 1.4. `sparse_output` is ignored unless you leave `sparse` to its default value.\n",
            "  warnings.warn(\n"
          ]
        },
        {
          "output_type": "stream",
          "name": "stdout",
          "text": [
            "Performance Metrics for Quantum SVM (ZZFeatureMap, COBYLA) with PCA:\n",
            "              precision    recall  f1-score   support\n",
            "\n",
            "           0       0.53      0.62      0.57        47\n",
            "           1       0.49      0.40      0.44        43\n",
            "\n",
            "    accuracy                           0.51        90\n",
            "   macro avg       0.51      0.51      0.50        90\n",
            "weighted avg       0.51      0.51      0.51        90\n",
            "\n",
            "Quantum SVM training time (ZZFeatureMap, COBYLA) with PCA: 71.03211307525635 seconds\n"
          ]
        },
        {
          "output_type": "stream",
          "name": "stderr",
          "text": [
            "/usr/local/lib/python3.10/dist-packages/sklearn/preprocessing/_encoders.py:868: FutureWarning: `sparse` was renamed to `sparse_output` in version 1.2 and will be removed in 1.4. `sparse_output` is ignored unless you leave `sparse` to its default value.\n",
            "  warnings.warn(\n"
          ]
        },
        {
          "output_type": "stream",
          "name": "stdout",
          "text": [
            "Performance Metrics for Quantum SVM (ZZFeatureMap, L_BFGS_B) with PCA:\n",
            "              precision    recall  f1-score   support\n",
            "\n",
            "           0       0.56      0.66      0.61        47\n",
            "           1       0.54      0.44      0.49        43\n",
            "\n",
            "    accuracy                           0.56        90\n",
            "   macro avg       0.55      0.55      0.55        90\n",
            "weighted avg       0.55      0.56      0.55        90\n",
            "\n",
            "Quantum SVM training time (ZZFeatureMap, L_BFGS_B) with PCA: 374.0806312561035 seconds\n"
          ]
        },
        {
          "output_type": "stream",
          "name": "stderr",
          "text": [
            "/usr/local/lib/python3.10/dist-packages/sklearn/preprocessing/_encoders.py:868: FutureWarning: `sparse` was renamed to `sparse_output` in version 1.2 and will be removed in 1.4. `sparse_output` is ignored unless you leave `sparse` to its default value.\n",
            "  warnings.warn(\n"
          ]
        },
        {
          "output_type": "stream",
          "name": "stdout",
          "text": [
            "Performance Metrics for Quantum SVM (ZZFeatureMap, SLSQP) with PCA:\n",
            "              precision    recall  f1-score   support\n",
            "\n",
            "           0       0.49      0.57      0.53        47\n",
            "           1       0.43      0.35      0.38        43\n",
            "\n",
            "    accuracy                           0.47        90\n",
            "   macro avg       0.46      0.46      0.46        90\n",
            "weighted avg       0.46      0.47      0.46        90\n",
            "\n",
            "Quantum SVM training time (ZZFeatureMap, SLSQP) with PCA: 192.40626192092896 seconds\n"
          ]
        },
        {
          "output_type": "stream",
          "name": "stderr",
          "text": [
            "/usr/local/lib/python3.10/dist-packages/sklearn/preprocessing/_encoders.py:868: FutureWarning: `sparse` was renamed to `sparse_output` in version 1.2 and will be removed in 1.4. `sparse_output` is ignored unless you leave `sparse` to its default value.\n",
            "  warnings.warn(\n"
          ]
        },
        {
          "output_type": "stream",
          "name": "stdout",
          "text": [
            "Performance Metrics for Quantum SVM (PauliFeatureMap_XY, SPSA) with PCA:\n",
            "              precision    recall  f1-score   support\n",
            "\n",
            "           0       0.49      0.62      0.55        47\n",
            "           1       0.42      0.30      0.35        43\n",
            "\n",
            "    accuracy                           0.47        90\n",
            "   macro avg       0.46      0.46      0.45        90\n",
            "weighted avg       0.46      0.47      0.45        90\n",
            "\n",
            "Quantum SVM training time (PauliFeatureMap_XY, SPSA) with PCA: 107.14588260650635 seconds\n"
          ]
        },
        {
          "output_type": "stream",
          "name": "stderr",
          "text": [
            "/usr/local/lib/python3.10/dist-packages/sklearn/preprocessing/_encoders.py:868: FutureWarning: `sparse` was renamed to `sparse_output` in version 1.2 and will be removed in 1.4. `sparse_output` is ignored unless you leave `sparse` to its default value.\n",
            "  warnings.warn(\n"
          ]
        },
        {
          "output_type": "stream",
          "name": "stdout",
          "text": [
            "Performance Metrics for Quantum SVM (PauliFeatureMap_XY, COBYLA) with PCA:\n",
            "              precision    recall  f1-score   support\n",
            "\n",
            "           0       0.47      0.40      0.44        47\n",
            "           1       0.44      0.51      0.47        43\n",
            "\n",
            "    accuracy                           0.46        90\n",
            "   macro avg       0.46      0.46      0.45        90\n",
            "weighted avg       0.46      0.46      0.45        90\n",
            "\n",
            "Quantum SVM training time (PauliFeatureMap_XY, COBYLA) with PCA: 66.61722612380981 seconds\n"
          ]
        },
        {
          "output_type": "stream",
          "name": "stderr",
          "text": [
            "/usr/local/lib/python3.10/dist-packages/sklearn/preprocessing/_encoders.py:868: FutureWarning: `sparse` was renamed to `sparse_output` in version 1.2 and will be removed in 1.4. `sparse_output` is ignored unless you leave `sparse` to its default value.\n",
            "  warnings.warn(\n"
          ]
        },
        {
          "output_type": "stream",
          "name": "stdout",
          "text": [
            "Performance Metrics for Quantum SVM (PauliFeatureMap_XY, L_BFGS_B) with PCA:\n",
            "              precision    recall  f1-score   support\n",
            "\n",
            "           0       0.47      0.34      0.40        47\n",
            "           1       0.45      0.58      0.51        43\n",
            "\n",
            "    accuracy                           0.46        90\n",
            "   macro avg       0.46      0.46      0.45        90\n",
            "weighted avg       0.46      0.46      0.45        90\n",
            "\n",
            "Quantum SVM training time (PauliFeatureMap_XY, L_BFGS_B) with PCA: 192.5646812915802 seconds\n"
          ]
        },
        {
          "output_type": "stream",
          "name": "stderr",
          "text": [
            "/usr/local/lib/python3.10/dist-packages/sklearn/preprocessing/_encoders.py:868: FutureWarning: `sparse` was renamed to `sparse_output` in version 1.2 and will be removed in 1.4. `sparse_output` is ignored unless you leave `sparse` to its default value.\n",
            "  warnings.warn(\n"
          ]
        },
        {
          "output_type": "stream",
          "name": "stdout",
          "text": [
            "Performance Metrics for Quantum SVM (PauliFeatureMap_XY, SLSQP) with PCA:\n",
            "              precision    recall  f1-score   support\n",
            "\n",
            "           0       0.48      0.60      0.53        47\n",
            "           1       0.41      0.30      0.35        43\n",
            "\n",
            "    accuracy                           0.46        90\n",
            "   macro avg       0.44      0.45      0.44        90\n",
            "weighted avg       0.45      0.46      0.44        90\n",
            "\n",
            "Quantum SVM training time (PauliFeatureMap_XY, SLSQP) with PCA: 169.2327983379364 seconds\n"
          ]
        },
        {
          "output_type": "stream",
          "name": "stderr",
          "text": [
            "/usr/local/lib/python3.10/dist-packages/sklearn/preprocessing/_encoders.py:868: FutureWarning: `sparse` was renamed to `sparse_output` in version 1.2 and will be removed in 1.4. `sparse_output` is ignored unless you leave `sparse` to its default value.\n",
            "  warnings.warn(\n"
          ]
        },
        {
          "output_type": "stream",
          "name": "stdout",
          "text": [
            "Performance Metrics for Quantum SVM (PauliFeatureMap_ZZ, SPSA) with PCA:\n",
            "              precision    recall  f1-score   support\n",
            "\n",
            "           0       0.50      0.53      0.52        47\n",
            "           1       0.45      0.42      0.43        43\n",
            "\n",
            "    accuracy                           0.48        90\n",
            "   macro avg       0.47      0.48      0.47        90\n",
            "weighted avg       0.48      0.48      0.48        90\n",
            "\n",
            "Quantum SVM training time (PauliFeatureMap_ZZ, SPSA) with PCA: 106.44505190849304 seconds\n"
          ]
        },
        {
          "output_type": "stream",
          "name": "stderr",
          "text": [
            "/usr/local/lib/python3.10/dist-packages/sklearn/preprocessing/_encoders.py:868: FutureWarning: `sparse` was renamed to `sparse_output` in version 1.2 and will be removed in 1.4. `sparse_output` is ignored unless you leave `sparse` to its default value.\n",
            "  warnings.warn(\n"
          ]
        },
        {
          "output_type": "stream",
          "name": "stdout",
          "text": [
            "Performance Metrics for Quantum SVM (PauliFeatureMap_ZZ, COBYLA) with PCA:\n",
            "              precision    recall  f1-score   support\n",
            "\n",
            "           0       0.46      0.51      0.48        47\n",
            "           1       0.39      0.35      0.37        43\n",
            "\n",
            "    accuracy                           0.43        90\n",
            "   macro avg       0.43      0.43      0.43        90\n",
            "weighted avg       0.43      0.43      0.43        90\n",
            "\n",
            "Quantum SVM training time (PauliFeatureMap_ZZ, COBYLA) with PCA: 67.80373454093933 seconds\n"
          ]
        },
        {
          "output_type": "stream",
          "name": "stderr",
          "text": [
            "/usr/local/lib/python3.10/dist-packages/sklearn/preprocessing/_encoders.py:868: FutureWarning: `sparse` was renamed to `sparse_output` in version 1.2 and will be removed in 1.4. `sparse_output` is ignored unless you leave `sparse` to its default value.\n",
            "  warnings.warn(\n"
          ]
        },
        {
          "output_type": "stream",
          "name": "stdout",
          "text": [
            "Performance Metrics for Quantum SVM (PauliFeatureMap_ZZ, L_BFGS_B) with PCA:\n",
            "              precision    recall  f1-score   support\n",
            "\n",
            "           0       0.53      0.62      0.57        47\n",
            "           1       0.49      0.40      0.44        43\n",
            "\n",
            "    accuracy                           0.51        90\n",
            "   macro avg       0.51      0.51      0.50        90\n",
            "weighted avg       0.51      0.51      0.51        90\n",
            "\n",
            "Quantum SVM training time (PauliFeatureMap_ZZ, L_BFGS_B) with PCA: 219.03560137748718 seconds\n"
          ]
        },
        {
          "output_type": "stream",
          "name": "stderr",
          "text": [
            "/usr/local/lib/python3.10/dist-packages/sklearn/preprocessing/_encoders.py:868: FutureWarning: `sparse` was renamed to `sparse_output` in version 1.2 and will be removed in 1.4. `sparse_output` is ignored unless you leave `sparse` to its default value.\n",
            "  warnings.warn(\n"
          ]
        },
        {
          "output_type": "stream",
          "name": "stdout",
          "text": [
            "Performance Metrics for Quantum SVM (PauliFeatureMap_ZZ, SLSQP) with PCA:\n",
            "              precision    recall  f1-score   support\n",
            "\n",
            "           0       0.53      0.57      0.55        47\n",
            "           1       0.49      0.44      0.46        43\n",
            "\n",
            "    accuracy                           0.51        90\n",
            "   macro avg       0.51      0.51      0.51        90\n",
            "weighted avg       0.51      0.51      0.51        90\n",
            "\n",
            "Quantum SVM training time (PauliFeatureMap_ZZ, SLSQP) with PCA: 63.53692817687988 seconds\n"
          ]
        },
        {
          "output_type": "stream",
          "name": "stderr",
          "text": [
            "/usr/local/lib/python3.10/dist-packages/sklearn/preprocessing/_encoders.py:868: FutureWarning: `sparse` was renamed to `sparse_output` in version 1.2 and will be removed in 1.4. `sparse_output` is ignored unless you leave `sparse` to its default value.\n",
            "  warnings.warn(\n"
          ]
        },
        {
          "output_type": "stream",
          "name": "stdout",
          "text": [
            "Performance Metrics for Quantum SVM (PauliFeatureMap_XYZ, SPSA) with PCA:\n",
            "              precision    recall  f1-score   support\n",
            "\n",
            "           0       0.50      0.49      0.49        47\n",
            "           1       0.45      0.47      0.46        43\n",
            "\n",
            "    accuracy                           0.48        90\n",
            "   macro avg       0.48      0.48      0.48        90\n",
            "weighted avg       0.48      0.48      0.48        90\n",
            "\n",
            "Quantum SVM training time (PauliFeatureMap_XYZ, SPSA) with PCA: 113.5023865699768 seconds\n"
          ]
        },
        {
          "output_type": "stream",
          "name": "stderr",
          "text": [
            "/usr/local/lib/python3.10/dist-packages/sklearn/preprocessing/_encoders.py:868: FutureWarning: `sparse` was renamed to `sparse_output` in version 1.2 and will be removed in 1.4. `sparse_output` is ignored unless you leave `sparse` to its default value.\n",
            "  warnings.warn(\n"
          ]
        },
        {
          "output_type": "stream",
          "name": "stdout",
          "text": [
            "Performance Metrics for Quantum SVM (PauliFeatureMap_XYZ, COBYLA) with PCA:\n",
            "              precision    recall  f1-score   support\n",
            "\n",
            "           0       0.46      0.38      0.42        47\n",
            "           1       0.43      0.51      0.47        43\n",
            "\n",
            "    accuracy                           0.44        90\n",
            "   macro avg       0.45      0.45      0.44        90\n",
            "weighted avg       0.45      0.44      0.44        90\n",
            "\n",
            "Quantum SVM training time (PauliFeatureMap_XYZ, COBYLA) with PCA: 70.15899085998535 seconds\n"
          ]
        },
        {
          "output_type": "stream",
          "name": "stderr",
          "text": [
            "/usr/local/lib/python3.10/dist-packages/sklearn/preprocessing/_encoders.py:868: FutureWarning: `sparse` was renamed to `sparse_output` in version 1.2 and will be removed in 1.4. `sparse_output` is ignored unless you leave `sparse` to its default value.\n",
            "  warnings.warn(\n"
          ]
        },
        {
          "output_type": "stream",
          "name": "stdout",
          "text": [
            "Performance Metrics for Quantum SVM (PauliFeatureMap_XYZ, L_BFGS_B) with PCA:\n",
            "              precision    recall  f1-score   support\n",
            "\n",
            "           0       0.52      0.66      0.58        47\n",
            "           1       0.47      0.33      0.38        43\n",
            "\n",
            "    accuracy                           0.50        90\n",
            "   macro avg       0.49      0.49      0.48        90\n",
            "weighted avg       0.49      0.50      0.49        90\n",
            "\n",
            "Quantum SVM training time (PauliFeatureMap_XYZ, L_BFGS_B) with PCA: 251.5121510028839 seconds\n"
          ]
        },
        {
          "output_type": "stream",
          "name": "stderr",
          "text": [
            "/usr/local/lib/python3.10/dist-packages/sklearn/preprocessing/_encoders.py:868: FutureWarning: `sparse` was renamed to `sparse_output` in version 1.2 and will be removed in 1.4. `sparse_output` is ignored unless you leave `sparse` to its default value.\n",
            "  warnings.warn(\n"
          ]
        },
        {
          "output_type": "stream",
          "name": "stdout",
          "text": [
            "Performance Metrics for Quantum SVM (PauliFeatureMap_XYZ, SLSQP) with PCA:\n",
            "              precision    recall  f1-score   support\n",
            "\n",
            "           0       0.52      0.66      0.58        47\n",
            "           1       0.47      0.33      0.38        43\n",
            "\n",
            "    accuracy                           0.50        90\n",
            "   macro avg       0.49      0.49      0.48        90\n",
            "weighted avg       0.49      0.50      0.49        90\n",
            "\n",
            "Quantum SVM training time (PauliFeatureMap_XYZ, SLSQP) with PCA: 69.4672269821167 seconds\n"
          ]
        },
        {
          "output_type": "stream",
          "name": "stderr",
          "text": [
            "/usr/local/lib/python3.10/dist-packages/sklearn/preprocessing/_encoders.py:868: FutureWarning: `sparse` was renamed to `sparse_output` in version 1.2 and will be removed in 1.4. `sparse_output` is ignored unless you leave `sparse` to its default value.\n",
            "  warnings.warn(\n"
          ]
        },
        {
          "output_type": "stream",
          "name": "stdout",
          "text": [
            "Performance Metrics for Quantum SVM (PauliFeatureMap_YZ, SPSA) with PCA:\n",
            "              precision    recall  f1-score   support\n",
            "\n",
            "           0       0.51      0.81      0.63        47\n",
            "           1       0.44      0.16      0.24        43\n",
            "\n",
            "    accuracy                           0.50        90\n",
            "   macro avg       0.48      0.49      0.43        90\n",
            "weighted avg       0.48      0.50      0.44        90\n",
            "\n",
            "Quantum SVM training time (PauliFeatureMap_YZ, SPSA) with PCA: 107.79600620269775 seconds\n"
          ]
        },
        {
          "output_type": "stream",
          "name": "stderr",
          "text": [
            "/usr/local/lib/python3.10/dist-packages/sklearn/preprocessing/_encoders.py:868: FutureWarning: `sparse` was renamed to `sparse_output` in version 1.2 and will be removed in 1.4. `sparse_output` is ignored unless you leave `sparse` to its default value.\n",
            "  warnings.warn(\n"
          ]
        },
        {
          "output_type": "stream",
          "name": "stdout",
          "text": [
            "Performance Metrics for Quantum SVM (PauliFeatureMap_YZ, COBYLA) with PCA:\n",
            "              precision    recall  f1-score   support\n",
            "\n",
            "           0       0.52      0.36      0.43        47\n",
            "           1       0.47      0.63      0.54        43\n",
            "\n",
            "    accuracy                           0.49        90\n",
            "   macro avg       0.49      0.49      0.48        90\n",
            "weighted avg       0.50      0.49      0.48        90\n",
            "\n",
            "Quantum SVM training time (PauliFeatureMap_YZ, COBYLA) with PCA: 51.57078218460083 seconds\n"
          ]
        },
        {
          "output_type": "stream",
          "name": "stderr",
          "text": [
            "/usr/local/lib/python3.10/dist-packages/sklearn/preprocessing/_encoders.py:868: FutureWarning: `sparse` was renamed to `sparse_output` in version 1.2 and will be removed in 1.4. `sparse_output` is ignored unless you leave `sparse` to its default value.\n",
            "  warnings.warn(\n"
          ]
        },
        {
          "output_type": "stream",
          "name": "stdout",
          "text": [
            "Performance Metrics for Quantum SVM (PauliFeatureMap_YZ, L_BFGS_B) with PCA:\n",
            "              precision    recall  f1-score   support\n",
            "\n",
            "           0       0.58      0.40      0.48        47\n",
            "           1       0.51      0.67      0.58        43\n",
            "\n",
            "    accuracy                           0.53        90\n",
            "   macro avg       0.54      0.54      0.53        90\n",
            "weighted avg       0.54      0.53      0.53        90\n",
            "\n",
            "Quantum SVM training time (PauliFeatureMap_YZ, L_BFGS_B) with PCA: 297.7980275154114 seconds\n"
          ]
        },
        {
          "output_type": "stream",
          "name": "stderr",
          "text": [
            "/usr/local/lib/python3.10/dist-packages/sklearn/preprocessing/_encoders.py:868: FutureWarning: `sparse` was renamed to `sparse_output` in version 1.2 and will be removed in 1.4. `sparse_output` is ignored unless you leave `sparse` to its default value.\n",
            "  warnings.warn(\n"
          ]
        },
        {
          "output_type": "stream",
          "name": "stdout",
          "text": [
            "Performance Metrics for Quantum SVM (PauliFeatureMap_YZ, SLSQP) with PCA:\n",
            "              precision    recall  f1-score   support\n",
            "\n",
            "           0       0.42      0.38      0.40        47\n",
            "           1       0.38      0.42      0.40        43\n",
            "\n",
            "    accuracy                           0.40        90\n",
            "   macro avg       0.40      0.40      0.40        90\n",
            "weighted avg       0.40      0.40      0.40        90\n",
            "\n",
            "Quantum SVM training time (PauliFeatureMap_YZ, SLSQP) with PCA: 214.87795162200928 seconds\n"
          ]
        },
        {
          "output_type": "stream",
          "name": "stderr",
          "text": [
            "/usr/local/lib/python3.10/dist-packages/sklearn/preprocessing/_encoders.py:868: FutureWarning: `sparse` was renamed to `sparse_output` in version 1.2 and will be removed in 1.4. `sparse_output` is ignored unless you leave `sparse` to its default value.\n",
            "  warnings.warn(\n"
          ]
        },
        {
          "output_type": "stream",
          "name": "stdout",
          "text": [
            "Performance Metrics for Quantum SVM (PauliFeatureMap_Y, SPSA) with PCA:\n",
            "              precision    recall  f1-score   support\n",
            "\n",
            "           0       0.62      0.49      0.55        47\n",
            "           1       0.55      0.67      0.60        43\n",
            "\n",
            "    accuracy                           0.58        90\n",
            "   macro avg       0.58      0.58      0.58        90\n",
            "weighted avg       0.59      0.58      0.57        90\n",
            "\n",
            "Quantum SVM training time (PauliFeatureMap_Y, SPSA) with PCA: 97.83707976341248 seconds\n"
          ]
        },
        {
          "output_type": "stream",
          "name": "stderr",
          "text": [
            "/usr/local/lib/python3.10/dist-packages/sklearn/preprocessing/_encoders.py:868: FutureWarning: `sparse` was renamed to `sparse_output` in version 1.2 and will be removed in 1.4. `sparse_output` is ignored unless you leave `sparse` to its default value.\n",
            "  warnings.warn(\n"
          ]
        },
        {
          "output_type": "stream",
          "name": "stdout",
          "text": [
            "Performance Metrics for Quantum SVM (PauliFeatureMap_Y, COBYLA) with PCA:\n",
            "              precision    recall  f1-score   support\n",
            "\n",
            "           0       0.32      0.13      0.18        47\n",
            "           1       0.42      0.70      0.53        43\n",
            "\n",
            "    accuracy                           0.40        90\n",
            "   macro avg       0.37      0.41      0.35        90\n",
            "weighted avg       0.37      0.40      0.35        90\n",
            "\n",
            "Quantum SVM training time (PauliFeatureMap_Y, COBYLA) with PCA: 59.28332471847534 seconds\n"
          ]
        },
        {
          "output_type": "stream",
          "name": "stderr",
          "text": [
            "/usr/local/lib/python3.10/dist-packages/sklearn/preprocessing/_encoders.py:868: FutureWarning: `sparse` was renamed to `sparse_output` in version 1.2 and will be removed in 1.4. `sparse_output` is ignored unless you leave `sparse` to its default value.\n",
            "  warnings.warn(\n"
          ]
        },
        {
          "output_type": "stream",
          "name": "stdout",
          "text": [
            "Performance Metrics for Quantum SVM (PauliFeatureMap_Y, L_BFGS_B) with PCA:\n",
            "              precision    recall  f1-score   support\n",
            "\n",
            "           0       0.51      0.74      0.60        47\n",
            "           1       0.43      0.21      0.28        43\n",
            "\n",
            "    accuracy                           0.49        90\n",
            "   macro avg       0.47      0.48      0.44        90\n",
            "weighted avg       0.47      0.49      0.45        90\n",
            "\n",
            "Quantum SVM training time (PauliFeatureMap_Y, L_BFGS_B) with PCA: 145.5737006664276 seconds\n"
          ]
        },
        {
          "output_type": "stream",
          "name": "stderr",
          "text": [
            "/usr/local/lib/python3.10/dist-packages/sklearn/preprocessing/_encoders.py:868: FutureWarning: `sparse` was renamed to `sparse_output` in version 1.2 and will be removed in 1.4. `sparse_output` is ignored unless you leave `sparse` to its default value.\n",
            "  warnings.warn(\n"
          ]
        },
        {
          "output_type": "stream",
          "name": "stdout",
          "text": [
            "Performance Metrics for Quantum SVM (PauliFeatureMap_Y, SLSQP) with PCA:\n",
            "              precision    recall  f1-score   support\n",
            "\n",
            "           0       0.54      0.81      0.64        47\n",
            "           1       0.53      0.23      0.32        43\n",
            "\n",
            "    accuracy                           0.53        90\n",
            "   macro avg       0.53      0.52      0.48        90\n",
            "weighted avg       0.53      0.53      0.49        90\n",
            "\n",
            "Quantum SVM training time (PauliFeatureMap_Y, SLSQP) with PCA: 102.98046016693115 seconds\n"
          ]
        },
        {
          "output_type": "stream",
          "name": "stderr",
          "text": [
            "/usr/local/lib/python3.10/dist-packages/sklearn/preprocessing/_encoders.py:868: FutureWarning: `sparse` was renamed to `sparse_output` in version 1.2 and will be removed in 1.4. `sparse_output` is ignored unless you leave `sparse` to its default value.\n",
            "  warnings.warn(\n"
          ]
        },
        {
          "output_type": "stream",
          "name": "stdout",
          "text": [
            "Performance Metrics for Quantum SVM (PauliFeatureMap_XYZYY, SPSA) with PCA:\n",
            "              precision    recall  f1-score   support\n",
            "\n",
            "           0       0.56      0.74      0.64        47\n",
            "           1       0.57      0.37      0.45        43\n",
            "\n",
            "    accuracy                           0.57        90\n",
            "   macro avg       0.57      0.56      0.55        90\n",
            "weighted avg       0.57      0.57      0.55        90\n",
            "\n",
            "Quantum SVM training time (PauliFeatureMap_XYZYY, SPSA) with PCA: 130.11949849128723 seconds\n"
          ]
        },
        {
          "output_type": "stream",
          "name": "stderr",
          "text": [
            "/usr/local/lib/python3.10/dist-packages/sklearn/preprocessing/_encoders.py:868: FutureWarning: `sparse` was renamed to `sparse_output` in version 1.2 and will be removed in 1.4. `sparse_output` is ignored unless you leave `sparse` to its default value.\n",
            "  warnings.warn(\n"
          ]
        },
        {
          "output_type": "stream",
          "name": "stdout",
          "text": [
            "Performance Metrics for Quantum SVM (PauliFeatureMap_XYZYY, COBYLA) with PCA:\n",
            "              precision    recall  f1-score   support\n",
            "\n",
            "           0       0.61      0.47      0.53        47\n",
            "           1       0.54      0.67      0.60        43\n",
            "\n",
            "    accuracy                           0.57        90\n",
            "   macro avg       0.57      0.57      0.56        90\n",
            "weighted avg       0.58      0.57      0.56        90\n",
            "\n",
            "Quantum SVM training time (PauliFeatureMap_XYZYY, COBYLA) with PCA: 71.74887442588806 seconds\n"
          ]
        },
        {
          "output_type": "stream",
          "name": "stderr",
          "text": [
            "/usr/local/lib/python3.10/dist-packages/sklearn/preprocessing/_encoders.py:868: FutureWarning: `sparse` was renamed to `sparse_output` in version 1.2 and will be removed in 1.4. `sparse_output` is ignored unless you leave `sparse` to its default value.\n",
            "  warnings.warn(\n"
          ]
        },
        {
          "output_type": "stream",
          "name": "stdout",
          "text": [
            "Performance Metrics for Quantum SVM (PauliFeatureMap_XYZYY, L_BFGS_B) with PCA:\n",
            "              precision    recall  f1-score   support\n",
            "\n",
            "           0       0.46      0.45      0.45        47\n",
            "           1       0.41      0.42      0.41        43\n",
            "\n",
            "    accuracy                           0.43        90\n",
            "   macro avg       0.43      0.43      0.43        90\n",
            "weighted avg       0.43      0.43      0.43        90\n",
            "\n",
            "Quantum SVM training time (PauliFeatureMap_XYZYY, L_BFGS_B) with PCA: 179.85354590415955 seconds\n"
          ]
        },
        {
          "output_type": "stream",
          "name": "stderr",
          "text": [
            "/usr/local/lib/python3.10/dist-packages/sklearn/preprocessing/_encoders.py:868: FutureWarning: `sparse` was renamed to `sparse_output` in version 1.2 and will be removed in 1.4. `sparse_output` is ignored unless you leave `sparse` to its default value.\n",
            "  warnings.warn(\n"
          ]
        },
        {
          "output_type": "stream",
          "name": "stdout",
          "text": [
            "Performance Metrics for Quantum SVM (PauliFeatureMap_XYZYY, SLSQP) with PCA:\n",
            "              precision    recall  f1-score   support\n",
            "\n",
            "           0       0.51      0.49      0.50        47\n",
            "           1       0.47      0.49      0.48        43\n",
            "\n",
            "    accuracy                           0.49        90\n",
            "   macro avg       0.49      0.49      0.49        90\n",
            "weighted avg       0.49      0.49      0.49        90\n",
            "\n",
            "Quantum SVM training time (PauliFeatureMap_XYZYY, SLSQP) with PCA: 95.07203125953674 seconds\n",
            "Best Configuration with PCA: Feature Map - PauliFeatureMap_Y, Optimizer - SPSA\n"
          ]
        }
      ]
    },
    {
      "cell_type": "code",
      "source": [
        "import numpy as np\n",
        "from sklearn.decomposition import PCA\n",
        "import matplotlib.pyplot as plt\n",
        "from sklearn.model_selection import train_test_split\n",
        "from sklearn.preprocessing import StandardScaler\n",
        "from sklearn.svm import SVC\n",
        "from sklearn.metrics import classification_report, accuracy_score\n",
        "from qiskit import Aer\n",
        "from qiskit.circuit.library import PauliFeatureMap\n",
        "from qiskit.circuit.library import ZZFeatureMap\n",
        "from qiskit_machine_learning.algorithms.classifiers import VQC\n",
        "from qiskit.utils import QuantumInstance\n",
        "from qiskit.algorithms.optimizers import SPSA, COBYLA, L_BFGS_B, SLSQP, ADAM\n",
        "from time import time\n",
        "\n",
        "np.random.seed(0)\n",
        "\n",
        "# Define the number of samples and features\n",
        "num_samples = 300\n",
        "num_features = 7  # You can increase this number to create a higher-dimensional dataset\n",
        "\n",
        "# Generate random data with strong correlations in the first few features\n",
        "mean = np.zeros(num_features)\n",
        "cov = np.eye(num_features)\n",
        "for i in range(5):\n",
        "    cov[i, i] = 0.0  # Increase the variance for the first 5 features to make them important\n",
        "\n",
        "data = np.random.multivariate_normal(mean, cov, num_samples)\n",
        "\n",
        "# Split the data into training and testing sets\n",
        "X_train, X_test, y_train, y_test = train_test_split(data, np.random.choice([0, 1], size=num_samples), test_size=0.3, random_state=42)\n",
        "\n",
        "# Data Preprocessing\n",
        "scaler = StandardScaler().fit(X_train)\n",
        "X_train = scaler.transform(X_train)\n",
        "X_test = scaler.transform(X_test)\n",
        "\n",
        "# Perform PCA to reduce dimensionality\n",
        "pca = PCA(n_components=2)  # You can adjust the number of components as needed\n",
        "X_train_pca = pca.fit_transform(X_train)\n",
        "X_test_pca = pca.transform(X_test)\n",
        "\n",
        "# Train Classical SVM on reduced dataset\n",
        "classical_svm_pca = SVC(kernel='rbf', C=1.0, gamma='scale')\n",
        "start = time()\n",
        "classical_svm_pca.fit(X_train_pca, y_train)\n",
        "end = time()\n",
        "classical_svm_predictions_pca = classical_svm_pca.predict(X_test_pca)\n",
        "print(\"Performance Metrics for Classical SVM with PCA:\")\n",
        "print(classification_report(y_test, classical_svm_predictions_pca))\n",
        "print(f\"Classical SVM training time with PCA: {end - start} seconds\")\n",
        "\n",
        "# Define a list of feature maps and their parameters to tune for QSVM\n",
        "feature_maps = [\n",
        "    {'name': 'ZZFeatureMap', 'feature_map': ZZFeatureMap(feature_dimension=2, reps=2, entanglement='full')},\n",
        "    {'name': 'PauliFeatureMap_XY', 'feature_map': PauliFeatureMap(feature_dimension=2, reps=2, paulis=['X', 'Y'], entanglement='full')},\n",
        "    {'name': 'PauliFeatureMap_ZZ', 'feature_map': PauliFeatureMap(feature_dimension=2, reps=2, paulis=['Z', 'ZZ'], entanglement='full')},\n",
        "    {'name': 'PauliFeatureMap_XYZ', 'feature_map': PauliFeatureMap(feature_dimension=2, reps=2, paulis=['X', 'Y', 'Z'], entanglement='full')},\n",
        "    {'name': 'PauliFeatureMap_YZ', 'feature_map': PauliFeatureMap(feature_dimension=2, reps=2, paulis=['Y', 'Z'], entanglement='full')},\n",
        "    {'name': 'PauliFeatureMap_Y', 'feature_map': PauliFeatureMap(feature_dimension=2, reps=2, paulis=['Y'], entanglement='full')},\n",
        "    {'name': 'PauliFeatureMap_XYZYY', 'feature_map': PauliFeatureMap(feature_dimension=2, reps=2, paulis=['X', 'Y', 'Z', 'YY'], entanglement='full')},\n",
        "    # Add more feature maps and their parameters to explore\n",
        "]\n",
        "\n",
        "# Define a list of optimizer parameters to tune for QSVM\n",
        "optimizers = [\n",
        "    {'name': 'SPSA', 'optimizer': SPSA(maxiter=50)},\n",
        "    {'name': 'COBYLA', 'optimizer': COBYLA(maxiter=100)},\n",
        "    {'name': 'L_BFGS_B', 'optimizer': L_BFGS_B(maxfun=100, maxiter=100)},\n",
        "    {'name': 'SLSQP', 'optimizer': SLSQP(maxiter=100)},\n",
        "    # Add more optimizers and their parameters to explore\n",
        "]\n",
        "\n",
        "\n",
        "best_score = 0\n",
        "best_params = {}\n",
        "\n",
        "for feature_map_params in feature_maps:\n",
        "    feature_map_name = feature_map_params['name']\n",
        "    feature_map = feature_map_params['feature_map']\n",
        "\n",
        "    for optimizer_params in optimizers:\n",
        "        optimizer_name = optimizer_params['name']\n",
        "        optimizer = optimizer_params['optimizer']\n",
        "\n",
        "        # Create a sampler for the AerSimulator\n",
        "        sampler = Sampler()\n",
        "\n",
        "        # Create an instance of the AerSimulator\n",
        "        simulator = AerSimulator()\n",
        "\n",
        "        # Train QSVM with the current feature map and optimizer using the sampler\n",
        "        vqc = VQC(feature_map=feature_map, ansatz=None, optimizer=optimizer, quantum_instance=simulator)\n",
        "\n",
        "        start = time()\n",
        "        vqc.fit(X_train_pca, y_train)\n",
        "        end = time()\n",
        "\n",
        "        result_quantum = vqc.predict(X_test_pca)\n",
        "        score = accuracy_score(y_test, result_quantum)\n",
        "\n",
        "        # Print performance metrics and runtime for the current configuration\n",
        "        print(f\"Performance Metrics for Quantum SVM ({feature_map_name}, {optimizer_name}) with PCA:\")\n",
        "        print(classification_report(y_test, result_quantum))\n",
        "        print(f\"Quantum SVM training time ({feature_map_name}, {optimizer_name}) with PCA: {end - start} seconds\")\n",
        "\n",
        "        # Check if the current configuration is the best\n",
        "        if score > best_score:\n",
        "            best_score = score\n",
        "            best_params = {'feature_map': feature_map_name, 'optimizer': optimizer_name}\n",
        "\n",
        "# Print the best configuration found\n",
        "print(f\"Best Configuration with PCA: Feature Map - {best_params['feature_map']}, Optimizer - {best_params['optimizer']}\")"
      ],
      "metadata": {
        "id": "ueYGs1C12IuW",
        "colab": {
          "base_uri": "https://localhost:8080/"
        },
        "outputId": "debb5135-4c9e-47d9-c3bd-2f77a8f54fe8"
      },
      "execution_count": 10,
      "outputs": [
        {
          "output_type": "stream",
          "name": "stdout",
          "text": [
            "Performance Metrics for Classical SVM with PCA:\n",
            "              precision    recall  f1-score   support\n",
            "\n",
            "           0       0.37      0.55      0.44        40\n",
            "           1       0.40      0.24      0.30        50\n",
            "\n",
            "    accuracy                           0.38        90\n",
            "   macro avg       0.38      0.40      0.37        90\n",
            "weighted avg       0.39      0.38      0.36        90\n",
            "\n",
            "Classical SVM training time with PCA: 0.0029418468475341797 seconds\n"
          ]
        },
        {
          "output_type": "stream",
          "name": "stderr",
          "text": [
            "/usr/local/lib/python3.10/dist-packages/sklearn/preprocessing/_encoders.py:868: FutureWarning: `sparse` was renamed to `sparse_output` in version 1.2 and will be removed in 1.4. `sparse_output` is ignored unless you leave `sparse` to its default value.\n",
            "  warnings.warn(\n"
          ]
        },
        {
          "output_type": "stream",
          "name": "stdout",
          "text": [
            "Performance Metrics for Quantum SVM (ZZFeatureMap, SPSA) with PCA:\n",
            "              precision    recall  f1-score   support\n",
            "\n",
            "           0       0.42      0.40      0.41        40\n",
            "           1       0.54      0.56      0.55        50\n",
            "\n",
            "    accuracy                           0.49        90\n",
            "   macro avg       0.48      0.48      0.48        90\n",
            "weighted avg       0.49      0.49      0.49        90\n",
            "\n",
            "Quantum SVM training time (ZZFeatureMap, SPSA) with PCA: 107.5905990600586 seconds\n"
          ]
        },
        {
          "output_type": "stream",
          "name": "stderr",
          "text": [
            "/usr/local/lib/python3.10/dist-packages/sklearn/preprocessing/_encoders.py:868: FutureWarning: `sparse` was renamed to `sparse_output` in version 1.2 and will be removed in 1.4. `sparse_output` is ignored unless you leave `sparse` to its default value.\n",
            "  warnings.warn(\n"
          ]
        },
        {
          "output_type": "stream",
          "name": "stdout",
          "text": [
            "Performance Metrics for Quantum SVM (ZZFeatureMap, COBYLA) with PCA:\n",
            "              precision    recall  f1-score   support\n",
            "\n",
            "           0       0.57      0.57      0.57        40\n",
            "           1       0.66      0.66      0.66        50\n",
            "\n",
            "    accuracy                           0.62        90\n",
            "   macro avg       0.62      0.62      0.62        90\n",
            "weighted avg       0.62      0.62      0.62        90\n",
            "\n",
            "Quantum SVM training time (ZZFeatureMap, COBYLA) with PCA: 67.71854043006897 seconds\n"
          ]
        },
        {
          "output_type": "stream",
          "name": "stderr",
          "text": [
            "/usr/local/lib/python3.10/dist-packages/sklearn/preprocessing/_encoders.py:868: FutureWarning: `sparse` was renamed to `sparse_output` in version 1.2 and will be removed in 1.4. `sparse_output` is ignored unless you leave `sparse` to its default value.\n",
            "  warnings.warn(\n"
          ]
        },
        {
          "output_type": "stream",
          "name": "stdout",
          "text": [
            "Performance Metrics for Quantum SVM (ZZFeatureMap, L_BFGS_B) with PCA:\n",
            "              precision    recall  f1-score   support\n",
            "\n",
            "           0       0.41      0.47      0.44        40\n",
            "           1       0.52      0.46      0.49        50\n",
            "\n",
            "    accuracy                           0.47        90\n",
            "   macro avg       0.47      0.47      0.47        90\n",
            "weighted avg       0.47      0.47      0.47        90\n",
            "\n",
            "Quantum SVM training time (ZZFeatureMap, L_BFGS_B) with PCA: 159.26826930046082 seconds\n"
          ]
        },
        {
          "output_type": "stream",
          "name": "stderr",
          "text": [
            "/usr/local/lib/python3.10/dist-packages/sklearn/preprocessing/_encoders.py:868: FutureWarning: `sparse` was renamed to `sparse_output` in version 1.2 and will be removed in 1.4. `sparse_output` is ignored unless you leave `sparse` to its default value.\n",
            "  warnings.warn(\n"
          ]
        },
        {
          "output_type": "stream",
          "name": "stdout",
          "text": [
            "Performance Metrics for Quantum SVM (ZZFeatureMap, SLSQP) with PCA:\n",
            "              precision    recall  f1-score   support\n",
            "\n",
            "           0       0.43      0.50      0.46        40\n",
            "           1       0.53      0.46      0.49        50\n",
            "\n",
            "    accuracy                           0.48        90\n",
            "   macro avg       0.48      0.48      0.48        90\n",
            "weighted avg       0.49      0.48      0.48        90\n",
            "\n",
            "Quantum SVM training time (ZZFeatureMap, SLSQP) with PCA: 124.88094830513 seconds\n"
          ]
        },
        {
          "output_type": "stream",
          "name": "stderr",
          "text": [
            "/usr/local/lib/python3.10/dist-packages/sklearn/preprocessing/_encoders.py:868: FutureWarning: `sparse` was renamed to `sparse_output` in version 1.2 and will be removed in 1.4. `sparse_output` is ignored unless you leave `sparse` to its default value.\n",
            "  warnings.warn(\n"
          ]
        },
        {
          "output_type": "stream",
          "name": "stdout",
          "text": [
            "Performance Metrics for Quantum SVM (PauliFeatureMap_XY, SPSA) with PCA:\n",
            "              precision    recall  f1-score   support\n",
            "\n",
            "           0       0.41      0.30      0.35        40\n",
            "           1       0.54      0.66      0.59        50\n",
            "\n",
            "    accuracy                           0.50        90\n",
            "   macro avg       0.48      0.48      0.47        90\n",
            "weighted avg       0.48      0.50      0.48        90\n",
            "\n",
            "Quantum SVM training time (PauliFeatureMap_XY, SPSA) with PCA: 106.7621910572052 seconds\n"
          ]
        },
        {
          "output_type": "stream",
          "name": "stderr",
          "text": [
            "/usr/local/lib/python3.10/dist-packages/sklearn/preprocessing/_encoders.py:868: FutureWarning: `sparse` was renamed to `sparse_output` in version 1.2 and will be removed in 1.4. `sparse_output` is ignored unless you leave `sparse` to its default value.\n",
            "  warnings.warn(\n"
          ]
        },
        {
          "output_type": "stream",
          "name": "stdout",
          "text": [
            "Performance Metrics for Quantum SVM (PauliFeatureMap_XY, COBYLA) with PCA:\n",
            "              precision    recall  f1-score   support\n",
            "\n",
            "           0       0.37      0.28      0.31        40\n",
            "           1       0.52      0.62      0.56        50\n",
            "\n",
            "    accuracy                           0.47        90\n",
            "   macro avg       0.44      0.45      0.44        90\n",
            "weighted avg       0.45      0.47      0.45        90\n",
            "\n",
            "Quantum SVM training time (PauliFeatureMap_XY, COBYLA) with PCA: 70.40725255012512 seconds\n"
          ]
        },
        {
          "output_type": "stream",
          "name": "stderr",
          "text": [
            "/usr/local/lib/python3.10/dist-packages/sklearn/preprocessing/_encoders.py:868: FutureWarning: `sparse` was renamed to `sparse_output` in version 1.2 and will be removed in 1.4. `sparse_output` is ignored unless you leave `sparse` to its default value.\n",
            "  warnings.warn(\n"
          ]
        },
        {
          "output_type": "stream",
          "name": "stdout",
          "text": [
            "Performance Metrics for Quantum SVM (PauliFeatureMap_XY, L_BFGS_B) with PCA:\n",
            "              precision    recall  f1-score   support\n",
            "\n",
            "           0       0.35      0.20      0.25        40\n",
            "           1       0.52      0.70      0.60        50\n",
            "\n",
            "    accuracy                           0.48        90\n",
            "   macro avg       0.44      0.45      0.43        90\n",
            "weighted avg       0.44      0.48      0.45        90\n",
            "\n",
            "Quantum SVM training time (PauliFeatureMap_XY, L_BFGS_B) with PCA: 121.2454617023468 seconds\n"
          ]
        },
        {
          "output_type": "stream",
          "name": "stderr",
          "text": [
            "/usr/local/lib/python3.10/dist-packages/sklearn/preprocessing/_encoders.py:868: FutureWarning: `sparse` was renamed to `sparse_output` in version 1.2 and will be removed in 1.4. `sparse_output` is ignored unless you leave `sparse` to its default value.\n",
            "  warnings.warn(\n"
          ]
        },
        {
          "output_type": "stream",
          "name": "stdout",
          "text": [
            "Performance Metrics for Quantum SVM (PauliFeatureMap_XY, SLSQP) with PCA:\n",
            "              precision    recall  f1-score   support\n",
            "\n",
            "           0       0.52      0.33      0.40        40\n",
            "           1       0.58      0.76      0.66        50\n",
            "\n",
            "    accuracy                           0.57        90\n",
            "   macro avg       0.55      0.54      0.53        90\n",
            "weighted avg       0.56      0.57      0.54        90\n",
            "\n",
            "Quantum SVM training time (PauliFeatureMap_XY, SLSQP) with PCA: 66.85160374641418 seconds\n"
          ]
        },
        {
          "output_type": "stream",
          "name": "stderr",
          "text": [
            "/usr/local/lib/python3.10/dist-packages/sklearn/preprocessing/_encoders.py:868: FutureWarning: `sparse` was renamed to `sparse_output` in version 1.2 and will be removed in 1.4. `sparse_output` is ignored unless you leave `sparse` to its default value.\n",
            "  warnings.warn(\n"
          ]
        },
        {
          "output_type": "stream",
          "name": "stdout",
          "text": [
            "Performance Metrics for Quantum SVM (PauliFeatureMap_ZZ, SPSA) with PCA:\n",
            "              precision    recall  f1-score   support\n",
            "\n",
            "           0       0.41      0.42      0.42        40\n",
            "           1       0.53      0.52      0.53        50\n",
            "\n",
            "    accuracy                           0.48        90\n",
            "   macro avg       0.47      0.47      0.47        90\n",
            "weighted avg       0.48      0.48      0.48        90\n",
            "\n",
            "Quantum SVM training time (PauliFeatureMap_ZZ, SPSA) with PCA: 105.32542705535889 seconds\n"
          ]
        },
        {
          "output_type": "stream",
          "name": "stderr",
          "text": [
            "/usr/local/lib/python3.10/dist-packages/sklearn/preprocessing/_encoders.py:868: FutureWarning: `sparse` was renamed to `sparse_output` in version 1.2 and will be removed in 1.4. `sparse_output` is ignored unless you leave `sparse` to its default value.\n",
            "  warnings.warn(\n"
          ]
        },
        {
          "output_type": "stream",
          "name": "stdout",
          "text": [
            "Performance Metrics for Quantum SVM (PauliFeatureMap_ZZ, COBYLA) with PCA:\n",
            "              precision    recall  f1-score   support\n",
            "\n",
            "           0       0.55      0.60      0.57        40\n",
            "           1       0.65      0.60      0.63        50\n",
            "\n",
            "    accuracy                           0.60        90\n",
            "   macro avg       0.60      0.60      0.60        90\n",
            "weighted avg       0.60      0.60      0.60        90\n",
            "\n",
            "Quantum SVM training time (PauliFeatureMap_ZZ, COBYLA) with PCA: 50.45597815513611 seconds\n"
          ]
        },
        {
          "output_type": "stream",
          "name": "stderr",
          "text": [
            "/usr/local/lib/python3.10/dist-packages/sklearn/preprocessing/_encoders.py:868: FutureWarning: `sparse` was renamed to `sparse_output` in version 1.2 and will be removed in 1.4. `sparse_output` is ignored unless you leave `sparse` to its default value.\n",
            "  warnings.warn(\n"
          ]
        },
        {
          "output_type": "stream",
          "name": "stdout",
          "text": [
            "Performance Metrics for Quantum SVM (PauliFeatureMap_ZZ, L_BFGS_B) with PCA:\n",
            "              precision    recall  f1-score   support\n",
            "\n",
            "           0       0.56      0.55      0.56        40\n",
            "           1       0.65      0.66      0.65        50\n",
            "\n",
            "    accuracy                           0.61        90\n",
            "   macro avg       0.61      0.60      0.61        90\n",
            "weighted avg       0.61      0.61      0.61        90\n",
            "\n",
            "Quantum SVM training time (PauliFeatureMap_ZZ, L_BFGS_B) with PCA: 163.67541027069092 seconds\n"
          ]
        },
        {
          "output_type": "stream",
          "name": "stderr",
          "text": [
            "/usr/local/lib/python3.10/dist-packages/sklearn/preprocessing/_encoders.py:868: FutureWarning: `sparse` was renamed to `sparse_output` in version 1.2 and will be removed in 1.4. `sparse_output` is ignored unless you leave `sparse` to its default value.\n",
            "  warnings.warn(\n"
          ]
        },
        {
          "output_type": "stream",
          "name": "stdout",
          "text": [
            "Performance Metrics for Quantum SVM (PauliFeatureMap_ZZ, SLSQP) with PCA:\n",
            "              precision    recall  f1-score   support\n",
            "\n",
            "           0       0.50      0.50      0.50        40\n",
            "           1       0.60      0.60      0.60        50\n",
            "\n",
            "    accuracy                           0.56        90\n",
            "   macro avg       0.55      0.55      0.55        90\n",
            "weighted avg       0.56      0.56      0.56        90\n",
            "\n",
            "Quantum SVM training time (PauliFeatureMap_ZZ, SLSQP) with PCA: 132.26675868034363 seconds\n"
          ]
        },
        {
          "output_type": "stream",
          "name": "stderr",
          "text": [
            "/usr/local/lib/python3.10/dist-packages/sklearn/preprocessing/_encoders.py:868: FutureWarning: `sparse` was renamed to `sparse_output` in version 1.2 and will be removed in 1.4. `sparse_output` is ignored unless you leave `sparse` to its default value.\n",
            "  warnings.warn(\n"
          ]
        },
        {
          "output_type": "stream",
          "name": "stdout",
          "text": [
            "Performance Metrics for Quantum SVM (PauliFeatureMap_XYZ, SPSA) with PCA:\n",
            "              precision    recall  f1-score   support\n",
            "\n",
            "           0       0.45      0.80      0.58        40\n",
            "           1       0.58      0.22      0.32        50\n",
            "\n",
            "    accuracy                           0.48        90\n",
            "   macro avg       0.51      0.51      0.45        90\n",
            "weighted avg       0.52      0.48      0.43        90\n",
            "\n",
            "Quantum SVM training time (PauliFeatureMap_XYZ, SPSA) with PCA: 112.48591828346252 seconds\n"
          ]
        },
        {
          "output_type": "stream",
          "name": "stderr",
          "text": [
            "/usr/local/lib/python3.10/dist-packages/sklearn/preprocessing/_encoders.py:868: FutureWarning: `sparse` was renamed to `sparse_output` in version 1.2 and will be removed in 1.4. `sparse_output` is ignored unless you leave `sparse` to its default value.\n",
            "  warnings.warn(\n"
          ]
        },
        {
          "output_type": "stream",
          "name": "stdout",
          "text": [
            "Performance Metrics for Quantum SVM (PauliFeatureMap_XYZ, COBYLA) with PCA:\n",
            "              precision    recall  f1-score   support\n",
            "\n",
            "           0       0.44      0.68      0.53        40\n",
            "           1       0.55      0.32      0.41        50\n",
            "\n",
            "    accuracy                           0.48        90\n",
            "   macro avg       0.50      0.50      0.47        90\n",
            "weighted avg       0.50      0.48      0.46        90\n",
            "\n",
            "Quantum SVM training time (PauliFeatureMap_XYZ, COBYLA) with PCA: 59.87216758728027 seconds\n"
          ]
        },
        {
          "output_type": "stream",
          "name": "stderr",
          "text": [
            "/usr/local/lib/python3.10/dist-packages/sklearn/preprocessing/_encoders.py:868: FutureWarning: `sparse` was renamed to `sparse_output` in version 1.2 and will be removed in 1.4. `sparse_output` is ignored unless you leave `sparse` to its default value.\n",
            "  warnings.warn(\n"
          ]
        },
        {
          "output_type": "stream",
          "name": "stdout",
          "text": [
            "Performance Metrics for Quantum SVM (PauliFeatureMap_XYZ, L_BFGS_B) with PCA:\n",
            "              precision    recall  f1-score   support\n",
            "\n",
            "           0       0.46      0.57      0.51        40\n",
            "           1       0.57      0.46      0.51        50\n",
            "\n",
            "    accuracy                           0.51        90\n",
            "   macro avg       0.52      0.52      0.51        90\n",
            "weighted avg       0.52      0.51      0.51        90\n",
            "\n",
            "Quantum SVM training time (PauliFeatureMap_XYZ, L_BFGS_B) with PCA: 158.04218888282776 seconds\n"
          ]
        },
        {
          "output_type": "stream",
          "name": "stderr",
          "text": [
            "/usr/local/lib/python3.10/dist-packages/sklearn/preprocessing/_encoders.py:868: FutureWarning: `sparse` was renamed to `sparse_output` in version 1.2 and will be removed in 1.4. `sparse_output` is ignored unless you leave `sparse` to its default value.\n",
            "  warnings.warn(\n"
          ]
        },
        {
          "output_type": "stream",
          "name": "stdout",
          "text": [
            "Performance Metrics for Quantum SVM (PauliFeatureMap_XYZ, SLSQP) with PCA:\n",
            "              precision    recall  f1-score   support\n",
            "\n",
            "           0       0.45      0.60      0.52        40\n",
            "           1       0.57      0.42      0.48        50\n",
            "\n",
            "    accuracy                           0.50        90\n",
            "   macro avg       0.51      0.51      0.50        90\n",
            "weighted avg       0.52      0.50      0.50        90\n",
            "\n",
            "Quantum SVM training time (PauliFeatureMap_XYZ, SLSQP) with PCA: 86.26640748977661 seconds\n"
          ]
        },
        {
          "output_type": "stream",
          "name": "stderr",
          "text": [
            "/usr/local/lib/python3.10/dist-packages/sklearn/preprocessing/_encoders.py:868: FutureWarning: `sparse` was renamed to `sparse_output` in version 1.2 and will be removed in 1.4. `sparse_output` is ignored unless you leave `sparse` to its default value.\n",
            "  warnings.warn(\n"
          ]
        },
        {
          "output_type": "stream",
          "name": "stdout",
          "text": [
            "Performance Metrics for Quantum SVM (PauliFeatureMap_YZ, SPSA) with PCA:\n",
            "              precision    recall  f1-score   support\n",
            "\n",
            "           0       0.47      0.57      0.52        40\n",
            "           1       0.59      0.48      0.53        50\n",
            "\n",
            "    accuracy                           0.52        90\n",
            "   macro avg       0.53      0.53      0.52        90\n",
            "weighted avg       0.53      0.52      0.52        90\n",
            "\n",
            "Quantum SVM training time (PauliFeatureMap_YZ, SPSA) with PCA: 107.75647640228271 seconds\n"
          ]
        },
        {
          "output_type": "stream",
          "name": "stderr",
          "text": [
            "/usr/local/lib/python3.10/dist-packages/sklearn/preprocessing/_encoders.py:868: FutureWarning: `sparse` was renamed to `sparse_output` in version 1.2 and will be removed in 1.4. `sparse_output` is ignored unless you leave `sparse` to its default value.\n",
            "  warnings.warn(\n"
          ]
        },
        {
          "output_type": "stream",
          "name": "stdout",
          "text": [
            "Performance Metrics for Quantum SVM (PauliFeatureMap_YZ, COBYLA) with PCA:\n",
            "              precision    recall  f1-score   support\n",
            "\n",
            "           0       0.47      0.55      0.51        40\n",
            "           1       0.58      0.50      0.54        50\n",
            "\n",
            "    accuracy                           0.52        90\n",
            "   macro avg       0.52      0.53      0.52        90\n",
            "weighted avg       0.53      0.52      0.52        90\n",
            "\n",
            "Quantum SVM training time (PauliFeatureMap_YZ, COBYLA) with PCA: 54.72346019744873 seconds\n"
          ]
        },
        {
          "output_type": "stream",
          "name": "stderr",
          "text": [
            "/usr/local/lib/python3.10/dist-packages/sklearn/preprocessing/_encoders.py:868: FutureWarning: `sparse` was renamed to `sparse_output` in version 1.2 and will be removed in 1.4. `sparse_output` is ignored unless you leave `sparse` to its default value.\n",
            "  warnings.warn(\n"
          ]
        },
        {
          "output_type": "stream",
          "name": "stdout",
          "text": [
            "Performance Metrics for Quantum SVM (PauliFeatureMap_YZ, L_BFGS_B) with PCA:\n",
            "              precision    recall  f1-score   support\n",
            "\n",
            "           0       0.41      0.35      0.38        40\n",
            "           1       0.54      0.60      0.57        50\n",
            "\n",
            "    accuracy                           0.49        90\n",
            "   macro avg       0.47      0.47      0.47        90\n",
            "weighted avg       0.48      0.49      0.48        90\n",
            "\n",
            "Quantum SVM training time (PauliFeatureMap_YZ, L_BFGS_B) with PCA: 253.71714067459106 seconds\n"
          ]
        },
        {
          "output_type": "stream",
          "name": "stderr",
          "text": [
            "/usr/local/lib/python3.10/dist-packages/sklearn/preprocessing/_encoders.py:868: FutureWarning: `sparse` was renamed to `sparse_output` in version 1.2 and will be removed in 1.4. `sparse_output` is ignored unless you leave `sparse` to its default value.\n",
            "  warnings.warn(\n"
          ]
        },
        {
          "output_type": "stream",
          "name": "stdout",
          "text": [
            "Performance Metrics for Quantum SVM (PauliFeatureMap_YZ, SLSQP) with PCA:\n",
            "              precision    recall  f1-score   support\n",
            "\n",
            "           0       0.47      0.45      0.46        40\n",
            "           1       0.58      0.60      0.59        50\n",
            "\n",
            "    accuracy                           0.53        90\n",
            "   macro avg       0.53      0.53      0.52        90\n",
            "weighted avg       0.53      0.53      0.53        90\n",
            "\n",
            "Quantum SVM training time (PauliFeatureMap_YZ, SLSQP) with PCA: 80.9048330783844 seconds\n"
          ]
        },
        {
          "output_type": "stream",
          "name": "stderr",
          "text": [
            "/usr/local/lib/python3.10/dist-packages/sklearn/preprocessing/_encoders.py:868: FutureWarning: `sparse` was renamed to `sparse_output` in version 1.2 and will be removed in 1.4. `sparse_output` is ignored unless you leave `sparse` to its default value.\n",
            "  warnings.warn(\n"
          ]
        },
        {
          "output_type": "stream",
          "name": "stdout",
          "text": [
            "Performance Metrics for Quantum SVM (PauliFeatureMap_Y, SPSA) with PCA:\n",
            "              precision    recall  f1-score   support\n",
            "\n",
            "           0       0.41      0.57      0.48        40\n",
            "           1       0.50      0.34      0.40        50\n",
            "\n",
            "    accuracy                           0.44        90\n",
            "   macro avg       0.46      0.46      0.44        90\n",
            "weighted avg       0.46      0.44      0.44        90\n",
            "\n",
            "Quantum SVM training time (PauliFeatureMap_Y, SPSA) with PCA: 97.98944187164307 seconds\n"
          ]
        },
        {
          "output_type": "stream",
          "name": "stderr",
          "text": [
            "/usr/local/lib/python3.10/dist-packages/sklearn/preprocessing/_encoders.py:868: FutureWarning: `sparse` was renamed to `sparse_output` in version 1.2 and will be removed in 1.4. `sparse_output` is ignored unless you leave `sparse` to its default value.\n",
            "  warnings.warn(\n"
          ]
        },
        {
          "output_type": "stream",
          "name": "stdout",
          "text": [
            "Performance Metrics for Quantum SVM (PauliFeatureMap_Y, COBYLA) with PCA:\n",
            "              precision    recall  f1-score   support\n",
            "\n",
            "           0       0.39      0.38      0.38        40\n",
            "           1       0.52      0.54      0.53        50\n",
            "\n",
            "    accuracy                           0.47        90\n",
            "   macro avg       0.46      0.46      0.46        90\n",
            "weighted avg       0.46      0.47      0.47        90\n",
            "\n",
            "Quantum SVM training time (PauliFeatureMap_Y, COBYLA) with PCA: 58.43364500999451 seconds\n"
          ]
        },
        {
          "output_type": "stream",
          "name": "stderr",
          "text": [
            "/usr/local/lib/python3.10/dist-packages/sklearn/preprocessing/_encoders.py:868: FutureWarning: `sparse` was renamed to `sparse_output` in version 1.2 and will be removed in 1.4. `sparse_output` is ignored unless you leave `sparse` to its default value.\n",
            "  warnings.warn(\n"
          ]
        },
        {
          "output_type": "stream",
          "name": "stdout",
          "text": [
            "Performance Metrics for Quantum SVM (PauliFeatureMap_Y, L_BFGS_B) with PCA:\n",
            "              precision    recall  f1-score   support\n",
            "\n",
            "           0       0.75      0.07      0.14        40\n",
            "           1       0.57      0.98      0.72        50\n",
            "\n",
            "    accuracy                           0.58        90\n",
            "   macro avg       0.66      0.53      0.43        90\n",
            "weighted avg       0.65      0.58      0.46        90\n",
            "\n",
            "Quantum SVM training time (PauliFeatureMap_Y, L_BFGS_B) with PCA: 136.90050506591797 seconds\n"
          ]
        },
        {
          "output_type": "stream",
          "name": "stderr",
          "text": [
            "/usr/local/lib/python3.10/dist-packages/sklearn/preprocessing/_encoders.py:868: FutureWarning: `sparse` was renamed to `sparse_output` in version 1.2 and will be removed in 1.4. `sparse_output` is ignored unless you leave `sparse` to its default value.\n",
            "  warnings.warn(\n"
          ]
        },
        {
          "output_type": "stream",
          "name": "stdout",
          "text": [
            "Performance Metrics for Quantum SVM (PauliFeatureMap_Y, SLSQP) with PCA:\n",
            "              precision    recall  f1-score   support\n",
            "\n",
            "           0       0.49      0.47      0.48        40\n",
            "           1       0.59      0.60      0.59        50\n",
            "\n",
            "    accuracy                           0.54        90\n",
            "   macro avg       0.54      0.54      0.54        90\n",
            "weighted avg       0.54      0.54      0.54        90\n",
            "\n",
            "Quantum SVM training time (PauliFeatureMap_Y, SLSQP) with PCA: 74.63128399848938 seconds\n"
          ]
        },
        {
          "output_type": "stream",
          "name": "stderr",
          "text": [
            "/usr/local/lib/python3.10/dist-packages/sklearn/preprocessing/_encoders.py:868: FutureWarning: `sparse` was renamed to `sparse_output` in version 1.2 and will be removed in 1.4. `sparse_output` is ignored unless you leave `sparse` to its default value.\n",
            "  warnings.warn(\n"
          ]
        },
        {
          "output_type": "stream",
          "name": "stdout",
          "text": [
            "Performance Metrics for Quantum SVM (PauliFeatureMap_XYZYY, SPSA) with PCA:\n",
            "              precision    recall  f1-score   support\n",
            "\n",
            "           0       0.40      0.47      0.44        40\n",
            "           1       0.51      0.44      0.47        50\n",
            "\n",
            "    accuracy                           0.46        90\n",
            "   macro avg       0.46      0.46      0.45        90\n",
            "weighted avg       0.46      0.46      0.46        90\n",
            "\n",
            "Quantum SVM training time (PauliFeatureMap_XYZYY, SPSA) with PCA: 134.19752502441406 seconds\n"
          ]
        },
        {
          "output_type": "stream",
          "name": "stderr",
          "text": [
            "/usr/local/lib/python3.10/dist-packages/sklearn/preprocessing/_encoders.py:868: FutureWarning: `sparse` was renamed to `sparse_output` in version 1.2 and will be removed in 1.4. `sparse_output` is ignored unless you leave `sparse` to its default value.\n",
            "  warnings.warn(\n"
          ]
        },
        {
          "output_type": "stream",
          "name": "stdout",
          "text": [
            "Performance Metrics for Quantum SVM (PauliFeatureMap_XYZYY, COBYLA) with PCA:\n",
            "              precision    recall  f1-score   support\n",
            "\n",
            "           0       0.41      0.50      0.45        40\n",
            "           1       0.51      0.42      0.46        50\n",
            "\n",
            "    accuracy                           0.46        90\n",
            "   macro avg       0.46      0.46      0.46        90\n",
            "weighted avg       0.47      0.46      0.46        90\n",
            "\n",
            "Quantum SVM training time (PauliFeatureMap_XYZYY, COBYLA) with PCA: 73.89952325820923 seconds\n"
          ]
        },
        {
          "output_type": "stream",
          "name": "stderr",
          "text": [
            "/usr/local/lib/python3.10/dist-packages/sklearn/preprocessing/_encoders.py:868: FutureWarning: `sparse` was renamed to `sparse_output` in version 1.2 and will be removed in 1.4. `sparse_output` is ignored unless you leave `sparse` to its default value.\n",
            "  warnings.warn(\n"
          ]
        },
        {
          "output_type": "stream",
          "name": "stdout",
          "text": [
            "Performance Metrics for Quantum SVM (PauliFeatureMap_XYZYY, L_BFGS_B) with PCA:\n",
            "              precision    recall  f1-score   support\n",
            "\n",
            "           0       0.41      0.47      0.44        40\n",
            "           1       0.52      0.46      0.49        50\n",
            "\n",
            "    accuracy                           0.47        90\n",
            "   macro avg       0.47      0.47      0.47        90\n",
            "weighted avg       0.47      0.47      0.47        90\n",
            "\n",
            "Quantum SVM training time (PauliFeatureMap_XYZYY, L_BFGS_B) with PCA: 425.64698219299316 seconds\n"
          ]
        },
        {
          "output_type": "stream",
          "name": "stderr",
          "text": [
            "/usr/local/lib/python3.10/dist-packages/sklearn/preprocessing/_encoders.py:868: FutureWarning: `sparse` was renamed to `sparse_output` in version 1.2 and will be removed in 1.4. `sparse_output` is ignored unless you leave `sparse` to its default value.\n",
            "  warnings.warn(\n"
          ]
        },
        {
          "output_type": "stream",
          "name": "stdout",
          "text": [
            "Performance Metrics for Quantum SVM (PauliFeatureMap_XYZYY, SLSQP) with PCA:\n",
            "              precision    recall  f1-score   support\n",
            "\n",
            "           0       0.43      0.50      0.47        40\n",
            "           1       0.55      0.48      0.51        50\n",
            "\n",
            "    accuracy                           0.49        90\n",
            "   macro avg       0.49      0.49      0.49        90\n",
            "weighted avg       0.50      0.49      0.49        90\n",
            "\n",
            "Quantum SVM training time (PauliFeatureMap_XYZYY, SLSQP) with PCA: 215.80100798606873 seconds\n",
            "Best Configuration with PCA: Feature Map - ZZFeatureMap, Optimizer - COBYLA\n"
          ]
        }
      ]
    },
    {
      "cell_type": "code",
      "source": [
        "import numpy as np\n",
        "from sklearn.decomposition import PCA\n",
        "import matplotlib.pyplot as plt\n",
        "from sklearn.model_selection import train_test_split\n",
        "from sklearn.preprocessing import StandardScaler\n",
        "from sklearn.svm import SVC\n",
        "from sklearn.metrics import classification_report, accuracy_score\n",
        "from qiskit import Aer\n",
        "from qiskit.circuit.library import PauliFeatureMap\n",
        "from qiskit.circuit.library import ZZFeatureMap\n",
        "from qiskit_machine_learning.algorithms.classifiers import VQC\n",
        "from qiskit.utils import QuantumInstance\n",
        "from qiskit.algorithms.optimizers import SPSA, COBYLA, L_BFGS_B, SLSQP, ADAM\n",
        "from time import time\n",
        "\n",
        "np.random.seed(0)\n",
        "\n",
        "# Define the number of samples and features\n",
        "num_samples = 300\n",
        "num_features = 7  # You can increase this number to create a higher-dimensional dataset\n",
        "\n",
        "# Generate random data with strong correlations in the first few features\n",
        "mean = np.zeros(num_features)\n",
        "cov = np.eye(num_features)\n",
        "for i in range(5):\n",
        "    cov[i, i] = 2.0  # Increase the variance for the first 5 features to make them important\n",
        "\n",
        "data = np.random.multivariate_normal(mean, cov, num_samples)\n",
        "\n",
        "# Split the data into training and testing sets\n",
        "X_train, X_test, y_train, y_test = train_test_split(data, np.random.choice([0, 1], size=num_samples), test_size=0.3, random_state=42)\n",
        "\n",
        "# Data Preprocessing\n",
        "scaler = StandardScaler().fit(X_train)\n",
        "X_train = scaler.transform(X_train)\n",
        "X_test = scaler.transform(X_test)\n",
        "\n",
        "# Perform PCA to reduce dimensionality\n",
        "pca = PCA(n_components=2)  # You can adjust the number of components as needed\n",
        "X_train_pca = pca.fit_transform(X_train)\n",
        "X_test_pca = pca.transform(X_test)\n",
        "\n",
        "# Train Classical SVM on reduced dataset\n",
        "classical_svm_pca = SVC(kernel='rbf', C=1.0, gamma='scale')\n",
        "start = time()\n",
        "classical_svm_pca.fit(X_train_pca, y_train)\n",
        "end = time()\n",
        "classical_svm_predictions_pca = classical_svm_pca.predict(X_test_pca)\n",
        "print(\"Performance Metrics for Classical SVM with PCA:\")\n",
        "print(classification_report(y_test, classical_svm_predictions_pca))\n",
        "print(f\"Classical SVM training time with PCA: {end - start} seconds\")\n",
        "\n",
        "# Define a list of feature maps and their parameters to tune for QSVM\n",
        "feature_maps = [\n",
        "    {'name': 'ZZFeatureMap', 'feature_map': ZZFeatureMap(feature_dimension=2, reps=2, entanglement='full')},\n",
        "    {'name': 'PauliFeatureMap_XY', 'feature_map': PauliFeatureMap(feature_dimension=2, reps=2, paulis=['X', 'Y'], entanglement='full')},\n",
        "    {'name': 'PauliFeatureMap_ZZ', 'feature_map': PauliFeatureMap(feature_dimension=2, reps=2, paulis=['Z', 'ZZ'], entanglement='full')},\n",
        "    {'name': 'PauliFeatureMap_XYZ', 'feature_map': PauliFeatureMap(feature_dimension=2, reps=2, paulis=['X', 'Y', 'Z'], entanglement='full')},\n",
        "    {'name': 'PauliFeatureMap_YZ', 'feature_map': PauliFeatureMap(feature_dimension=2, reps=2, paulis=['Y', 'Z'], entanglement='full')},\n",
        "    {'name': 'PauliFeatureMap_Y', 'feature_map': PauliFeatureMap(feature_dimension=2, reps=2, paulis=['Y'], entanglement='full')},\n",
        "    {'name': 'PauliFeatureMap_XYZYY', 'feature_map': PauliFeatureMap(feature_dimension=2, reps=2, paulis=['X', 'Y', 'Z', 'YY'], entanglement='full')},\n",
        "    # Add more feature maps and their parameters to explore\n",
        "]\n",
        "\n",
        "# Define a list of optimizer parameters to tune for QSVM\n",
        "optimizers = [\n",
        "    {'name': 'SPSA', 'optimizer': SPSA(maxiter=50)},\n",
        "    {'name': 'COBYLA', 'optimizer': COBYLA(maxiter=100)},\n",
        "    {'name': 'L_BFGS_B', 'optimizer': L_BFGS_B(maxfun=100, maxiter=100)},\n",
        "    {'name': 'SLSQP', 'optimizer': SLSQP(maxiter=100)},\n",
        "    # Add more optimizers and their parameters to explore\n",
        "]\n",
        "\n",
        "\n",
        "best_score = 0\n",
        "best_params = {}\n",
        "\n",
        "for feature_map_params in feature_maps:\n",
        "    feature_map_name = feature_map_params['name']\n",
        "    feature_map = feature_map_params['feature_map']\n",
        "\n",
        "    for optimizer_params in optimizers:\n",
        "        optimizer_name = optimizer_params['name']\n",
        "        optimizer = optimizer_params['optimizer']\n",
        "\n",
        "        # Create a sampler for the AerSimulator\n",
        "        sampler = Sampler()\n",
        "\n",
        "        # Create an instance of the AerSimulator\n",
        "        simulator = AerSimulator()\n",
        "\n",
        "        # Train QSVM with the current feature map and optimizer using the sampler\n",
        "        vqc = VQC(feature_map=feature_map, ansatz=None, optimizer=optimizer, quantum_instance=simulator)\n",
        "\n",
        "        start = time()\n",
        "        vqc.fit(X_train_pca, y_train)\n",
        "        end = time()\n",
        "\n",
        "        result_quantum = vqc.predict(X_test_pca)\n",
        "        score = accuracy_score(y_test, result_quantum)\n",
        "\n",
        "        # Print performance metrics and runtime for the current configuration\n",
        "        print(f\"Performance Metrics for Quantum SVM ({feature_map_name}, {optimizer_name}) with PCA:\")\n",
        "        print(classification_report(y_test, result_quantum))\n",
        "        print(f\"Quantum SVM training time ({feature_map_name}, {optimizer_name}) with PCA: {end - start} seconds\")\n",
        "\n",
        "        # Check if the current configuration is the best\n",
        "        if score > best_score:\n",
        "            best_score = score\n",
        "            best_params = {'feature_map': feature_map_name, 'optimizer': optimizer_name}\n",
        "\n",
        "# Print the best configuration found\n",
        "print(f\"Best Configuration with PCA: Feature Map - {best_params['feature_map']}, Optimizer - {best_params['optimizer']}\")"
      ],
      "metadata": {
        "id": "aHGV70b82MN2",
        "colab": {
          "base_uri": "https://localhost:8080/"
        },
        "outputId": "3d9b9511-70f3-4069-f816-ccc71d38928b"
      },
      "execution_count": 11,
      "outputs": [
        {
          "output_type": "stream",
          "name": "stdout",
          "text": [
            "Performance Metrics for Classical SVM with PCA:\n",
            "              precision    recall  f1-score   support\n",
            "\n",
            "           0       0.33      0.28      0.30        40\n",
            "           1       0.49      0.56      0.52        50\n",
            "\n",
            "    accuracy                           0.43        90\n",
            "   macro avg       0.41      0.42      0.41        90\n",
            "weighted avg       0.42      0.43      0.42        90\n",
            "\n",
            "Classical SVM training time with PCA: 0.006456136703491211 seconds\n"
          ]
        },
        {
          "output_type": "stream",
          "name": "stderr",
          "text": [
            "/usr/local/lib/python3.10/dist-packages/sklearn/preprocessing/_encoders.py:868: FutureWarning: `sparse` was renamed to `sparse_output` in version 1.2 and will be removed in 1.4. `sparse_output` is ignored unless you leave `sparse` to its default value.\n",
            "  warnings.warn(\n"
          ]
        },
        {
          "output_type": "stream",
          "name": "stdout",
          "text": [
            "Performance Metrics for Quantum SVM (ZZFeatureMap, SPSA) with PCA:\n",
            "              precision    recall  f1-score   support\n",
            "\n",
            "           0       0.43      0.50      0.46        40\n",
            "           1       0.53      0.46      0.49        50\n",
            "\n",
            "    accuracy                           0.48        90\n",
            "   macro avg       0.48      0.48      0.48        90\n",
            "weighted avg       0.49      0.48      0.48        90\n",
            "\n",
            "Quantum SVM training time (ZZFeatureMap, SPSA) with PCA: 105.74257636070251 seconds\n"
          ]
        },
        {
          "output_type": "stream",
          "name": "stderr",
          "text": [
            "/usr/local/lib/python3.10/dist-packages/sklearn/preprocessing/_encoders.py:868: FutureWarning: `sparse` was renamed to `sparse_output` in version 1.2 and will be removed in 1.4. `sparse_output` is ignored unless you leave `sparse` to its default value.\n",
            "  warnings.warn(\n"
          ]
        },
        {
          "output_type": "stream",
          "name": "stdout",
          "text": [
            "Performance Metrics for Quantum SVM (ZZFeatureMap, COBYLA) with PCA:\n",
            "              precision    recall  f1-score   support\n",
            "\n",
            "           0       0.38      0.45      0.41        40\n",
            "           1       0.48      0.40      0.43        50\n",
            "\n",
            "    accuracy                           0.42        90\n",
            "   macro avg       0.43      0.43      0.42        90\n",
            "weighted avg       0.43      0.42      0.42        90\n",
            "\n",
            "Quantum SVM training time (ZZFeatureMap, COBYLA) with PCA: 63.6383593082428 seconds\n"
          ]
        },
        {
          "output_type": "stream",
          "name": "stderr",
          "text": [
            "/usr/local/lib/python3.10/dist-packages/sklearn/preprocessing/_encoders.py:868: FutureWarning: `sparse` was renamed to `sparse_output` in version 1.2 and will be removed in 1.4. `sparse_output` is ignored unless you leave `sparse` to its default value.\n",
            "  warnings.warn(\n"
          ]
        },
        {
          "output_type": "stream",
          "name": "stdout",
          "text": [
            "Performance Metrics for Quantum SVM (ZZFeatureMap, L_BFGS_B) with PCA:\n",
            "              precision    recall  f1-score   support\n",
            "\n",
            "           0       0.47      0.62      0.54        40\n",
            "           1       0.59      0.44      0.51        50\n",
            "\n",
            "    accuracy                           0.52        90\n",
            "   macro avg       0.53      0.53      0.52        90\n",
            "weighted avg       0.54      0.52      0.52        90\n",
            "\n",
            "Quantum SVM training time (ZZFeatureMap, L_BFGS_B) with PCA: 268.70778918266296 seconds\n"
          ]
        },
        {
          "output_type": "stream",
          "name": "stderr",
          "text": [
            "/usr/local/lib/python3.10/dist-packages/sklearn/preprocessing/_encoders.py:868: FutureWarning: `sparse` was renamed to `sparse_output` in version 1.2 and will be removed in 1.4. `sparse_output` is ignored unless you leave `sparse` to its default value.\n",
            "  warnings.warn(\n"
          ]
        },
        {
          "output_type": "stream",
          "name": "stdout",
          "text": [
            "Performance Metrics for Quantum SVM (ZZFeatureMap, SLSQP) with PCA:\n",
            "              precision    recall  f1-score   support\n",
            "\n",
            "           0       0.62      0.45      0.52        40\n",
            "           1       0.64      0.78      0.70        50\n",
            "\n",
            "    accuracy                           0.63        90\n",
            "   macro avg       0.63      0.61      0.61        90\n",
            "weighted avg       0.63      0.63      0.62        90\n",
            "\n",
            "Quantum SVM training time (ZZFeatureMap, SLSQP) with PCA: 66.27845454216003 seconds\n"
          ]
        },
        {
          "output_type": "stream",
          "name": "stderr",
          "text": [
            "/usr/local/lib/python3.10/dist-packages/sklearn/preprocessing/_encoders.py:868: FutureWarning: `sparse` was renamed to `sparse_output` in version 1.2 and will be removed in 1.4. `sparse_output` is ignored unless you leave `sparse` to its default value.\n",
            "  warnings.warn(\n"
          ]
        },
        {
          "output_type": "stream",
          "name": "stdout",
          "text": [
            "Performance Metrics for Quantum SVM (PauliFeatureMap_XY, SPSA) with PCA:\n",
            "              precision    recall  f1-score   support\n",
            "\n",
            "           0       0.53      0.42      0.47        40\n",
            "           1       0.60      0.70      0.65        50\n",
            "\n",
            "    accuracy                           0.58        90\n",
            "   macro avg       0.57      0.56      0.56        90\n",
            "weighted avg       0.57      0.58      0.57        90\n",
            "\n",
            "Quantum SVM training time (PauliFeatureMap_XY, SPSA) with PCA: 105.84316158294678 seconds\n"
          ]
        },
        {
          "output_type": "stream",
          "name": "stderr",
          "text": [
            "/usr/local/lib/python3.10/dist-packages/sklearn/preprocessing/_encoders.py:868: FutureWarning: `sparse` was renamed to `sparse_output` in version 1.2 and will be removed in 1.4. `sparse_output` is ignored unless you leave `sparse` to its default value.\n",
            "  warnings.warn(\n"
          ]
        },
        {
          "output_type": "stream",
          "name": "stdout",
          "text": [
            "Performance Metrics for Quantum SVM (PauliFeatureMap_XY, COBYLA) with PCA:\n",
            "              precision    recall  f1-score   support\n",
            "\n",
            "           0       0.28      0.12      0.17        40\n",
            "           1       0.51      0.74      0.61        50\n",
            "\n",
            "    accuracy                           0.47        90\n",
            "   macro avg       0.40      0.43      0.39        90\n",
            "weighted avg       0.41      0.47      0.41        90\n",
            "\n",
            "Quantum SVM training time (PauliFeatureMap_XY, COBYLA) with PCA: 60.972841024398804 seconds\n"
          ]
        },
        {
          "output_type": "stream",
          "name": "stderr",
          "text": [
            "/usr/local/lib/python3.10/dist-packages/sklearn/preprocessing/_encoders.py:868: FutureWarning: `sparse` was renamed to `sparse_output` in version 1.2 and will be removed in 1.4. `sparse_output` is ignored unless you leave `sparse` to its default value.\n",
            "  warnings.warn(\n"
          ]
        },
        {
          "output_type": "stream",
          "name": "stdout",
          "text": [
            "Performance Metrics for Quantum SVM (PauliFeatureMap_XY, L_BFGS_B) with PCA:\n",
            "              precision    recall  f1-score   support\n",
            "\n",
            "           0       0.62      0.40      0.48        40\n",
            "           1       0.62      0.80      0.70        50\n",
            "\n",
            "    accuracy                           0.62        90\n",
            "   macro avg       0.62      0.60      0.59        90\n",
            "weighted avg       0.62      0.62      0.61        90\n",
            "\n",
            "Quantum SVM training time (PauliFeatureMap_XY, L_BFGS_B) with PCA: 256.633668422699 seconds\n"
          ]
        },
        {
          "output_type": "stream",
          "name": "stderr",
          "text": [
            "/usr/local/lib/python3.10/dist-packages/sklearn/preprocessing/_encoders.py:868: FutureWarning: `sparse` was renamed to `sparse_output` in version 1.2 and will be removed in 1.4. `sparse_output` is ignored unless you leave `sparse` to its default value.\n",
            "  warnings.warn(\n"
          ]
        },
        {
          "output_type": "stream",
          "name": "stdout",
          "text": [
            "Performance Metrics for Quantum SVM (PauliFeatureMap_XY, SLSQP) with PCA:\n",
            "              precision    recall  f1-score   support\n",
            "\n",
            "           0       0.45      0.25      0.32        40\n",
            "           1       0.56      0.76      0.64        50\n",
            "\n",
            "    accuracy                           0.53        90\n",
            "   macro avg       0.51      0.51      0.48        90\n",
            "weighted avg       0.51      0.53      0.50        90\n",
            "\n",
            "Quantum SVM training time (PauliFeatureMap_XY, SLSQP) with PCA: 125.19929027557373 seconds\n"
          ]
        },
        {
          "output_type": "stream",
          "name": "stderr",
          "text": [
            "/usr/local/lib/python3.10/dist-packages/sklearn/preprocessing/_encoders.py:868: FutureWarning: `sparse` was renamed to `sparse_output` in version 1.2 and will be removed in 1.4. `sparse_output` is ignored unless you leave `sparse` to its default value.\n",
            "  warnings.warn(\n"
          ]
        },
        {
          "output_type": "stream",
          "name": "stdout",
          "text": [
            "Performance Metrics for Quantum SVM (PauliFeatureMap_ZZ, SPSA) with PCA:\n",
            "              precision    recall  f1-score   support\n",
            "\n",
            "           0       0.38      0.45      0.41        40\n",
            "           1       0.48      0.40      0.43        50\n",
            "\n",
            "    accuracy                           0.42        90\n",
            "   macro avg       0.43      0.43      0.42        90\n",
            "weighted avg       0.43      0.42      0.42        90\n",
            "\n",
            "Quantum SVM training time (PauliFeatureMap_ZZ, SPSA) with PCA: 105.17510867118835 seconds\n"
          ]
        },
        {
          "output_type": "stream",
          "name": "stderr",
          "text": [
            "/usr/local/lib/python3.10/dist-packages/sklearn/preprocessing/_encoders.py:868: FutureWarning: `sparse` was renamed to `sparse_output` in version 1.2 and will be removed in 1.4. `sparse_output` is ignored unless you leave `sparse` to its default value.\n",
            "  warnings.warn(\n"
          ]
        },
        {
          "output_type": "stream",
          "name": "stdout",
          "text": [
            "Performance Metrics for Quantum SVM (PauliFeatureMap_ZZ, COBYLA) with PCA:\n",
            "              precision    recall  f1-score   support\n",
            "\n",
            "           0       0.37      0.38      0.37        40\n",
            "           1       0.49      0.48      0.48        50\n",
            "\n",
            "    accuracy                           0.43        90\n",
            "   macro avg       0.43      0.43      0.43        90\n",
            "weighted avg       0.43      0.43      0.43        90\n",
            "\n",
            "Quantum SVM training time (PauliFeatureMap_ZZ, COBYLA) with PCA: 63.34577131271362 seconds\n"
          ]
        },
        {
          "output_type": "stream",
          "name": "stderr",
          "text": [
            "/usr/local/lib/python3.10/dist-packages/sklearn/preprocessing/_encoders.py:868: FutureWarning: `sparse` was renamed to `sparse_output` in version 1.2 and will be removed in 1.4. `sparse_output` is ignored unless you leave `sparse` to its default value.\n",
            "  warnings.warn(\n"
          ]
        },
        {
          "output_type": "stream",
          "name": "stdout",
          "text": [
            "Performance Metrics for Quantum SVM (PauliFeatureMap_ZZ, L_BFGS_B) with PCA:\n",
            "              precision    recall  f1-score   support\n",
            "\n",
            "           0       0.45      0.60      0.52        40\n",
            "           1       0.57      0.42      0.48        50\n",
            "\n",
            "    accuracy                           0.50        90\n",
            "   macro avg       0.51      0.51      0.50        90\n",
            "weighted avg       0.52      0.50      0.50        90\n",
            "\n",
            "Quantum SVM training time (PauliFeatureMap_ZZ, L_BFGS_B) with PCA: 271.0014400482178 seconds\n"
          ]
        },
        {
          "output_type": "stream",
          "name": "stderr",
          "text": [
            "/usr/local/lib/python3.10/dist-packages/sklearn/preprocessing/_encoders.py:868: FutureWarning: `sparse` was renamed to `sparse_output` in version 1.2 and will be removed in 1.4. `sparse_output` is ignored unless you leave `sparse` to its default value.\n",
            "  warnings.warn(\n"
          ]
        },
        {
          "output_type": "stream",
          "name": "stdout",
          "text": [
            "Performance Metrics for Quantum SVM (PauliFeatureMap_ZZ, SLSQP) with PCA:\n",
            "              precision    recall  f1-score   support\n",
            "\n",
            "           0       0.44      0.50      0.47        40\n",
            "           1       0.56      0.50      0.53        50\n",
            "\n",
            "    accuracy                           0.50        90\n",
            "   macro avg       0.50      0.50      0.50        90\n",
            "weighted avg       0.51      0.50      0.50        90\n",
            "\n",
            "Quantum SVM training time (PauliFeatureMap_ZZ, SLSQP) with PCA: 65.97480940818787 seconds\n"
          ]
        },
        {
          "output_type": "stream",
          "name": "stderr",
          "text": [
            "/usr/local/lib/python3.10/dist-packages/sklearn/preprocessing/_encoders.py:868: FutureWarning: `sparse` was renamed to `sparse_output` in version 1.2 and will be removed in 1.4. `sparse_output` is ignored unless you leave `sparse` to its default value.\n",
            "  warnings.warn(\n"
          ]
        },
        {
          "output_type": "stream",
          "name": "stdout",
          "text": [
            "Performance Metrics for Quantum SVM (PauliFeatureMap_XYZ, SPSA) with PCA:\n",
            "              precision    recall  f1-score   support\n",
            "\n",
            "           0       0.43      0.65      0.51        40\n",
            "           1       0.52      0.30      0.38        50\n",
            "\n",
            "    accuracy                           0.46        90\n",
            "   macro avg       0.47      0.47      0.45        90\n",
            "weighted avg       0.48      0.46      0.44        90\n",
            "\n",
            "Quantum SVM training time (PauliFeatureMap_XYZ, SPSA) with PCA: 113.84940719604492 seconds\n"
          ]
        },
        {
          "output_type": "stream",
          "name": "stderr",
          "text": [
            "/usr/local/lib/python3.10/dist-packages/sklearn/preprocessing/_encoders.py:868: FutureWarning: `sparse` was renamed to `sparse_output` in version 1.2 and will be removed in 1.4. `sparse_output` is ignored unless you leave `sparse` to its default value.\n",
            "  warnings.warn(\n"
          ]
        },
        {
          "output_type": "stream",
          "name": "stdout",
          "text": [
            "Performance Metrics for Quantum SVM (PauliFeatureMap_XYZ, COBYLA) with PCA:\n",
            "              precision    recall  f1-score   support\n",
            "\n",
            "           0       0.43      0.65      0.51        40\n",
            "           1       0.52      0.30      0.38        50\n",
            "\n",
            "    accuracy                           0.46        90\n",
            "   macro avg       0.47      0.47      0.45        90\n",
            "weighted avg       0.48      0.46      0.44        90\n",
            "\n",
            "Quantum SVM training time (PauliFeatureMap_XYZ, COBYLA) with PCA: 70.93683886528015 seconds\n"
          ]
        },
        {
          "output_type": "stream",
          "name": "stderr",
          "text": [
            "/usr/local/lib/python3.10/dist-packages/sklearn/preprocessing/_encoders.py:868: FutureWarning: `sparse` was renamed to `sparse_output` in version 1.2 and will be removed in 1.4. `sparse_output` is ignored unless you leave `sparse` to its default value.\n",
            "  warnings.warn(\n"
          ]
        },
        {
          "output_type": "stream",
          "name": "stdout",
          "text": [
            "Performance Metrics for Quantum SVM (PauliFeatureMap_XYZ, L_BFGS_B) with PCA:\n",
            "              precision    recall  f1-score   support\n",
            "\n",
            "           0       0.48      0.62      0.54        40\n",
            "           1       0.61      0.46      0.52        50\n",
            "\n",
            "    accuracy                           0.53        90\n",
            "   macro avg       0.54      0.54      0.53        90\n",
            "weighted avg       0.55      0.53      0.53        90\n",
            "\n",
            "Quantum SVM training time (PauliFeatureMap_XYZ, L_BFGS_B) with PCA: 205.7910304069519 seconds\n"
          ]
        },
        {
          "output_type": "stream",
          "name": "stderr",
          "text": [
            "/usr/local/lib/python3.10/dist-packages/sklearn/preprocessing/_encoders.py:868: FutureWarning: `sparse` was renamed to `sparse_output` in version 1.2 and will be removed in 1.4. `sparse_output` is ignored unless you leave `sparse` to its default value.\n",
            "  warnings.warn(\n"
          ]
        },
        {
          "output_type": "stream",
          "name": "stdout",
          "text": [
            "Performance Metrics for Quantum SVM (PauliFeatureMap_XYZ, SLSQP) with PCA:\n",
            "              precision    recall  f1-score   support\n",
            "\n",
            "           0       0.40      0.60      0.48        40\n",
            "           1       0.47      0.28      0.35        50\n",
            "\n",
            "    accuracy                           0.42        90\n",
            "   macro avg       0.43      0.44      0.42        90\n",
            "weighted avg       0.44      0.42      0.41        90\n",
            "\n",
            "Quantum SVM training time (PauliFeatureMap_XYZ, SLSQP) with PCA: 52.27450704574585 seconds\n"
          ]
        },
        {
          "output_type": "stream",
          "name": "stderr",
          "text": [
            "/usr/local/lib/python3.10/dist-packages/sklearn/preprocessing/_encoders.py:868: FutureWarning: `sparse` was renamed to `sparse_output` in version 1.2 and will be removed in 1.4. `sparse_output` is ignored unless you leave `sparse` to its default value.\n",
            "  warnings.warn(\n"
          ]
        },
        {
          "output_type": "stream",
          "name": "stdout",
          "text": [
            "Performance Metrics for Quantum SVM (PauliFeatureMap_YZ, SPSA) with PCA:\n",
            "              precision    recall  f1-score   support\n",
            "\n",
            "           0       0.52      0.28      0.36        40\n",
            "           1       0.58      0.80      0.67        50\n",
            "\n",
            "    accuracy                           0.57        90\n",
            "   macro avg       0.55      0.54      0.52        90\n",
            "weighted avg       0.55      0.57      0.53        90\n",
            "\n",
            "Quantum SVM training time (PauliFeatureMap_YZ, SPSA) with PCA: 105.39967370033264 seconds\n"
          ]
        },
        {
          "output_type": "stream",
          "name": "stderr",
          "text": [
            "/usr/local/lib/python3.10/dist-packages/sklearn/preprocessing/_encoders.py:868: FutureWarning: `sparse` was renamed to `sparse_output` in version 1.2 and will be removed in 1.4. `sparse_output` is ignored unless you leave `sparse` to its default value.\n",
            "  warnings.warn(\n"
          ]
        },
        {
          "output_type": "stream",
          "name": "stdout",
          "text": [
            "Performance Metrics for Quantum SVM (PauliFeatureMap_YZ, COBYLA) with PCA:\n",
            "              precision    recall  f1-score   support\n",
            "\n",
            "           0       0.55      0.40      0.46        40\n",
            "           1       0.61      0.74      0.67        50\n",
            "\n",
            "    accuracy                           0.59        90\n",
            "   macro avg       0.58      0.57      0.57        90\n",
            "weighted avg       0.58      0.59      0.58        90\n",
            "\n",
            "Quantum SVM training time (PauliFeatureMap_YZ, COBYLA) with PCA: 54.733314514160156 seconds\n"
          ]
        },
        {
          "output_type": "stream",
          "name": "stderr",
          "text": [
            "/usr/local/lib/python3.10/dist-packages/sklearn/preprocessing/_encoders.py:868: FutureWarning: `sparse` was renamed to `sparse_output` in version 1.2 and will be removed in 1.4. `sparse_output` is ignored unless you leave `sparse` to its default value.\n",
            "  warnings.warn(\n"
          ]
        },
        {
          "output_type": "stream",
          "name": "stdout",
          "text": [
            "Performance Metrics for Quantum SVM (PauliFeatureMap_YZ, L_BFGS_B) with PCA:\n",
            "              precision    recall  f1-score   support\n",
            "\n",
            "           0       0.47      0.35      0.40        40\n",
            "           1       0.57      0.68      0.62        50\n",
            "\n",
            "    accuracy                           0.53        90\n",
            "   macro avg       0.52      0.52      0.51        90\n",
            "weighted avg       0.52      0.53      0.52        90\n",
            "\n",
            "Quantum SVM training time (PauliFeatureMap_YZ, L_BFGS_B) with PCA: 419.35434317588806 seconds\n"
          ]
        },
        {
          "output_type": "stream",
          "name": "stderr",
          "text": [
            "/usr/local/lib/python3.10/dist-packages/sklearn/preprocessing/_encoders.py:868: FutureWarning: `sparse` was renamed to `sparse_output` in version 1.2 and will be removed in 1.4. `sparse_output` is ignored unless you leave `sparse` to its default value.\n",
            "  warnings.warn(\n"
          ]
        },
        {
          "output_type": "stream",
          "name": "stdout",
          "text": [
            "Performance Metrics for Quantum SVM (PauliFeatureMap_YZ, SLSQP) with PCA:\n",
            "              precision    recall  f1-score   support\n",
            "\n",
            "           0       0.50      0.30      0.37        40\n",
            "           1       0.58      0.76      0.66        50\n",
            "\n",
            "    accuracy                           0.56        90\n",
            "   macro avg       0.54      0.53      0.52        90\n",
            "weighted avg       0.54      0.56      0.53        90\n",
            "\n",
            "Quantum SVM training time (PauliFeatureMap_YZ, SLSQP) with PCA: 95.35767960548401 seconds\n"
          ]
        },
        {
          "output_type": "stream",
          "name": "stderr",
          "text": [
            "/usr/local/lib/python3.10/dist-packages/sklearn/preprocessing/_encoders.py:868: FutureWarning: `sparse` was renamed to `sparse_output` in version 1.2 and will be removed in 1.4. `sparse_output` is ignored unless you leave `sparse` to its default value.\n",
            "  warnings.warn(\n"
          ]
        },
        {
          "output_type": "stream",
          "name": "stdout",
          "text": [
            "Performance Metrics for Quantum SVM (PauliFeatureMap_Y, SPSA) with PCA:\n",
            "              precision    recall  f1-score   support\n",
            "\n",
            "           0       0.47      0.23      0.31        40\n",
            "           1       0.56      0.80      0.66        50\n",
            "\n",
            "    accuracy                           0.54        90\n",
            "   macro avg       0.52      0.51      0.48        90\n",
            "weighted avg       0.52      0.54      0.50        90\n",
            "\n",
            "Quantum SVM training time (PauliFeatureMap_Y, SPSA) with PCA: 98.04708170890808 seconds\n"
          ]
        },
        {
          "output_type": "stream",
          "name": "stderr",
          "text": [
            "/usr/local/lib/python3.10/dist-packages/sklearn/preprocessing/_encoders.py:868: FutureWarning: `sparse` was renamed to `sparse_output` in version 1.2 and will be removed in 1.4. `sparse_output` is ignored unless you leave `sparse` to its default value.\n",
            "  warnings.warn(\n"
          ]
        },
        {
          "output_type": "stream",
          "name": "stdout",
          "text": [
            "Performance Metrics for Quantum SVM (PauliFeatureMap_Y, COBYLA) with PCA:\n",
            "              precision    recall  f1-score   support\n",
            "\n",
            "           0       0.45      0.95      0.61        40\n",
            "           1       0.67      0.08      0.14        50\n",
            "\n",
            "    accuracy                           0.47        90\n",
            "   macro avg       0.56      0.52      0.38        90\n",
            "weighted avg       0.57      0.47      0.35        90\n",
            "\n",
            "Quantum SVM training time (PauliFeatureMap_Y, COBYLA) with PCA: 53.25133156776428 seconds\n"
          ]
        },
        {
          "output_type": "stream",
          "name": "stderr",
          "text": [
            "/usr/local/lib/python3.10/dist-packages/sklearn/preprocessing/_encoders.py:868: FutureWarning: `sparse` was renamed to `sparse_output` in version 1.2 and will be removed in 1.4. `sparse_output` is ignored unless you leave `sparse` to its default value.\n",
            "  warnings.warn(\n"
          ]
        },
        {
          "output_type": "stream",
          "name": "stdout",
          "text": [
            "Performance Metrics for Quantum SVM (PauliFeatureMap_Y, L_BFGS_B) with PCA:\n",
            "              precision    recall  f1-score   support\n",
            "\n",
            "           0       0.41      0.45      0.43        40\n",
            "           1       0.52      0.48      0.50        50\n",
            "\n",
            "    accuracy                           0.47        90\n",
            "   macro avg       0.47      0.46      0.46        90\n",
            "weighted avg       0.47      0.47      0.47        90\n",
            "\n",
            "Quantum SVM training time (PauliFeatureMap_Y, L_BFGS_B) with PCA: 210.38961791992188 seconds\n"
          ]
        },
        {
          "output_type": "stream",
          "name": "stderr",
          "text": [
            "/usr/local/lib/python3.10/dist-packages/sklearn/preprocessing/_encoders.py:868: FutureWarning: `sparse` was renamed to `sparse_output` in version 1.2 and will be removed in 1.4. `sparse_output` is ignored unless you leave `sparse` to its default value.\n",
            "  warnings.warn(\n"
          ]
        },
        {
          "output_type": "stream",
          "name": "stdout",
          "text": [
            "Performance Metrics for Quantum SVM (PauliFeatureMap_Y, SLSQP) with PCA:\n",
            "              precision    recall  f1-score   support\n",
            "\n",
            "           0       0.57      0.60      0.59        40\n",
            "           1       0.67      0.64      0.65        50\n",
            "\n",
            "    accuracy                           0.62        90\n",
            "   macro avg       0.62      0.62      0.62        90\n",
            "weighted avg       0.62      0.62      0.62        90\n",
            "\n",
            "Quantum SVM training time (PauliFeatureMap_Y, SLSQP) with PCA: 73.25765752792358 seconds\n"
          ]
        },
        {
          "output_type": "stream",
          "name": "stderr",
          "text": [
            "/usr/local/lib/python3.10/dist-packages/sklearn/preprocessing/_encoders.py:868: FutureWarning: `sparse` was renamed to `sparse_output` in version 1.2 and will be removed in 1.4. `sparse_output` is ignored unless you leave `sparse` to its default value.\n",
            "  warnings.warn(\n"
          ]
        },
        {
          "output_type": "stream",
          "name": "stdout",
          "text": [
            "Performance Metrics for Quantum SVM (PauliFeatureMap_XYZYY, SPSA) with PCA:\n",
            "              precision    recall  f1-score   support\n",
            "\n",
            "           0       0.45      0.35      0.39        40\n",
            "           1       0.56      0.66      0.61        50\n",
            "\n",
            "    accuracy                           0.52        90\n",
            "   macro avg       0.51      0.51      0.50        90\n",
            "weighted avg       0.51      0.52      0.51        90\n",
            "\n",
            "Quantum SVM training time (PauliFeatureMap_XYZYY, SPSA) with PCA: 131.28666472434998 seconds\n"
          ]
        },
        {
          "output_type": "stream",
          "name": "stderr",
          "text": [
            "/usr/local/lib/python3.10/dist-packages/sklearn/preprocessing/_encoders.py:868: FutureWarning: `sparse` was renamed to `sparse_output` in version 1.2 and will be removed in 1.4. `sparse_output` is ignored unless you leave `sparse` to its default value.\n",
            "  warnings.warn(\n"
          ]
        },
        {
          "output_type": "stream",
          "name": "stdout",
          "text": [
            "Performance Metrics for Quantum SVM (PauliFeatureMap_XYZYY, COBYLA) with PCA:\n",
            "              precision    recall  f1-score   support\n",
            "\n",
            "           0       0.42      0.33      0.37        40\n",
            "           1       0.54      0.64      0.59        50\n",
            "\n",
            "    accuracy                           0.50        90\n",
            "   macro avg       0.48      0.48      0.48        90\n",
            "weighted avg       0.49      0.50      0.49        90\n",
            "\n",
            "Quantum SVM training time (PauliFeatureMap_XYZYY, COBYLA) with PCA: 79.12740898132324 seconds\n"
          ]
        },
        {
          "output_type": "stream",
          "name": "stderr",
          "text": [
            "/usr/local/lib/python3.10/dist-packages/sklearn/preprocessing/_encoders.py:868: FutureWarning: `sparse` was renamed to `sparse_output` in version 1.2 and will be removed in 1.4. `sparse_output` is ignored unless you leave `sparse` to its default value.\n",
            "  warnings.warn(\n"
          ]
        },
        {
          "output_type": "stream",
          "name": "stdout",
          "text": [
            "Performance Metrics for Quantum SVM (PauliFeatureMap_XYZYY, L_BFGS_B) with PCA:\n",
            "              precision    recall  f1-score   support\n",
            "\n",
            "           0       0.41      0.38      0.39        40\n",
            "           1       0.53      0.56      0.54        50\n",
            "\n",
            "    accuracy                           0.48        90\n",
            "   macro avg       0.47      0.47      0.47        90\n",
            "weighted avg       0.47      0.48      0.48        90\n",
            "\n",
            "Quantum SVM training time (PauliFeatureMap_XYZYY, L_BFGS_B) with PCA: 159.25926446914673 seconds\n"
          ]
        },
        {
          "output_type": "stream",
          "name": "stderr",
          "text": [
            "/usr/local/lib/python3.10/dist-packages/sklearn/preprocessing/_encoders.py:868: FutureWarning: `sparse` was renamed to `sparse_output` in version 1.2 and will be removed in 1.4. `sparse_output` is ignored unless you leave `sparse` to its default value.\n",
            "  warnings.warn(\n"
          ]
        },
        {
          "output_type": "stream",
          "name": "stdout",
          "text": [
            "Performance Metrics for Quantum SVM (PauliFeatureMap_XYZYY, SLSQP) with PCA:\n",
            "              precision    recall  f1-score   support\n",
            "\n",
            "           0       0.37      0.35      0.36        40\n",
            "           1       0.50      0.52      0.51        50\n",
            "\n",
            "    accuracy                           0.44        90\n",
            "   macro avg       0.43      0.43      0.43        90\n",
            "weighted avg       0.44      0.44      0.44        90\n",
            "\n",
            "Quantum SVM training time (PauliFeatureMap_XYZYY, SLSQP) with PCA: 168.69717979431152 seconds\n",
            "Best Configuration with PCA: Feature Map - ZZFeatureMap, Optimizer - SLSQP\n"
          ]
        }
      ]
    },
    {
      "cell_type": "code",
      "source": [
        "import numpy as np\n",
        "from sklearn.decomposition import PCA\n",
        "import matplotlib.pyplot as plt\n",
        "from sklearn.model_selection import train_test_split\n",
        "from sklearn.preprocessing import StandardScaler\n",
        "from sklearn.svm import SVC\n",
        "from sklearn.metrics import classification_report, accuracy_score\n",
        "from qiskit import Aer\n",
        "from qiskit.circuit.library import PauliFeatureMap\n",
        "from qiskit.circuit.library import ZZFeatureMap\n",
        "from qiskit_machine_learning.algorithms.classifiers import VQC\n",
        "from qiskit.utils import QuantumInstance\n",
        "from qiskit.algorithms.optimizers import SPSA, COBYLA, L_BFGS_B, SLSQP, ADAM\n",
        "from time import time\n",
        "\n",
        "np.random.seed(0)\n",
        "\n",
        "# Define the number of samples and features\n",
        "num_samples = 300\n",
        "num_features = 7  # You can increase this number to create a higher-dimensional dataset\n",
        "\n",
        "# Generate random data with strong correlations in the first few features\n",
        "mean = np.zeros(num_features)\n",
        "cov = np.eye(num_features)\n",
        "for i in range(5):\n",
        "    cov[i, i] = 10.0  # Increase the variance for the first 5 features to make them important\n",
        "\n",
        "data = np.random.multivariate_normal(mean, cov, num_samples)\n",
        "\n",
        "# Split the data into training and testing sets\n",
        "X_train, X_test, y_train, y_test = train_test_split(data, np.random.choice([0, 1], size=num_samples), test_size=0.3, random_state=42)\n",
        "\n",
        "# Data Preprocessing\n",
        "scaler = StandardScaler().fit(X_train)\n",
        "X_train = scaler.transform(X_train)\n",
        "X_test = scaler.transform(X_test)\n",
        "\n",
        "# Perform PCA to reduce dimensionality\n",
        "pca = PCA(n_components=2)  # You can adjust the number of components as needed\n",
        "X_train_pca = pca.fit_transform(X_train)\n",
        "X_test_pca = pca.transform(X_test)\n",
        "\n",
        "# Train Classical SVM on reduced dataset\n",
        "classical_svm_pca = SVC(kernel='rbf', C=1.0, gamma='scale')\n",
        "start = time()\n",
        "classical_svm_pca.fit(X_train_pca, y_train)\n",
        "end = time()\n",
        "classical_svm_predictions_pca = classical_svm_pca.predict(X_test_pca)\n",
        "print(\"Performance Metrics for Classical SVM with PCA:\")\n",
        "print(classification_report(y_test, classical_svm_predictions_pca))\n",
        "print(f\"Classical SVM training time with PCA: {end - start} seconds\")\n",
        "\n",
        "# Define a list of feature maps and their parameters to tune for QSVM\n",
        "feature_maps = [\n",
        "    {'name': 'ZZFeatureMap', 'feature_map': ZZFeatureMap(feature_dimension=2, reps=2, entanglement='full')},\n",
        "    {'name': 'PauliFeatureMap_XY', 'feature_map': PauliFeatureMap(feature_dimension=2, reps=2, paulis=['X', 'Y'], entanglement='full')},\n",
        "    {'name': 'PauliFeatureMap_ZZ', 'feature_map': PauliFeatureMap(feature_dimension=2, reps=2, paulis=['Z', 'ZZ'], entanglement='full')},\n",
        "    {'name': 'PauliFeatureMap_XYZ', 'feature_map': PauliFeatureMap(feature_dimension=2, reps=2, paulis=['X', 'Y', 'Z'], entanglement='full')},\n",
        "    {'name': 'PauliFeatureMap_YZ', 'feature_map': PauliFeatureMap(feature_dimension=2, reps=2, paulis=['Y', 'Z'], entanglement='full')},\n",
        "    {'name': 'PauliFeatureMap_Y', 'feature_map': PauliFeatureMap(feature_dimension=2, reps=2, paulis=['Y'], entanglement='full')},\n",
        "    {'name': 'PauliFeatureMap_XYZYY', 'feature_map': PauliFeatureMap(feature_dimension=2, reps=2, paulis=['X', 'Y', 'Z', 'YY'], entanglement='full')},\n",
        "    # Add more feature maps and their parameters to explore\n",
        "]\n",
        "\n",
        "# Define a list of optimizer parameters to tune for QSVM\n",
        "optimizers = [\n",
        "    {'name': 'SPSA', 'optimizer': SPSA(maxiter=50)},\n",
        "    {'name': 'COBYLA', 'optimizer': COBYLA(maxiter=100)},\n",
        "    {'name': 'L_BFGS_B', 'optimizer': L_BFGS_B(maxfun=100, maxiter=100)},\n",
        "    {'name': 'SLSQP', 'optimizer': SLSQP(maxiter=100)},\n",
        "    # Add more optimizers and their parameters to explore\n",
        "]\n",
        "\n",
        "\n",
        "best_score = 0\n",
        "best_params = {}\n",
        "\n",
        "for feature_map_params in feature_maps:\n",
        "    feature_map_name = feature_map_params['name']\n",
        "    feature_map = feature_map_params['feature_map']\n",
        "\n",
        "    for optimizer_params in optimizers:\n",
        "        optimizer_name = optimizer_params['name']\n",
        "        optimizer = optimizer_params['optimizer']\n",
        "\n",
        "        # Create a sampler for the AerSimulator\n",
        "        sampler = Sampler()\n",
        "\n",
        "        # Create an instance of the AerSimulator\n",
        "        simulator = AerSimulator()\n",
        "\n",
        "        # Train QSVM with the current feature map and optimizer using the sampler\n",
        "        vqc = VQC(feature_map=feature_map, ansatz=None, optimizer=optimizer, quantum_instance=simulator)\n",
        "\n",
        "        start = time()\n",
        "        vqc.fit(X_train_pca, y_train)\n",
        "        end = time()\n",
        "\n",
        "        result_quantum = vqc.predict(X_test_pca)\n",
        "        score = accuracy_score(y_test, result_quantum)\n",
        "\n",
        "        # Print performance metrics and runtime for the current configuration\n",
        "        print(f\"Performance Metrics for Quantum SVM ({feature_map_name}, {optimizer_name}) with PCA:\")\n",
        "        print(classification_report(y_test, result_quantum))\n",
        "        print(f\"Quantum SVM training time ({feature_map_name}, {optimizer_name}) with PCA: {end - start} seconds\")\n",
        "\n",
        "        # Check if the current configuration is the best\n",
        "        if score > best_score:\n",
        "            best_score = score\n",
        "            best_params = {'feature_map': feature_map_name, 'optimizer': optimizer_name}\n",
        "\n",
        "# Print the best configuration found\n",
        "print(f\"Best Configuration with PCA: Feature Map - {best_params['feature_map']}, Optimizer - {best_params['optimizer']}\")"
      ],
      "metadata": {
        "id": "B6kq7rRi2N8N",
        "colab": {
          "base_uri": "https://localhost:8080/"
        },
        "outputId": "44f46e63-f7d4-4143-dad1-9717810f90f7"
      },
      "execution_count": 12,
      "outputs": [
        {
          "output_type": "stream",
          "name": "stdout",
          "text": [
            "Performance Metrics for Classical SVM with PCA:\n",
            "              precision    recall  f1-score   support\n",
            "\n",
            "           0       0.33      0.28      0.30        40\n",
            "           1       0.49      0.56      0.52        50\n",
            "\n",
            "    accuracy                           0.43        90\n",
            "   macro avg       0.41      0.42      0.41        90\n",
            "weighted avg       0.42      0.43      0.42        90\n",
            "\n",
            "Classical SVM training time with PCA: 0.0028040409088134766 seconds\n"
          ]
        },
        {
          "output_type": "stream",
          "name": "stderr",
          "text": [
            "/usr/local/lib/python3.10/dist-packages/sklearn/preprocessing/_encoders.py:868: FutureWarning: `sparse` was renamed to `sparse_output` in version 1.2 and will be removed in 1.4. `sparse_output` is ignored unless you leave `sparse` to its default value.\n",
            "  warnings.warn(\n"
          ]
        },
        {
          "output_type": "stream",
          "name": "stdout",
          "text": [
            "Performance Metrics for Quantum SVM (ZZFeatureMap, SPSA) with PCA:\n",
            "              precision    recall  f1-score   support\n",
            "\n",
            "           0       0.43      0.50      0.47        40\n",
            "           1       0.55      0.48      0.51        50\n",
            "\n",
            "    accuracy                           0.49        90\n",
            "   macro avg       0.49      0.49      0.49        90\n",
            "weighted avg       0.50      0.49      0.49        90\n",
            "\n",
            "Quantum SVM training time (ZZFeatureMap, SPSA) with PCA: 105.42980432510376 seconds\n"
          ]
        },
        {
          "output_type": "stream",
          "name": "stderr",
          "text": [
            "/usr/local/lib/python3.10/dist-packages/sklearn/preprocessing/_encoders.py:868: FutureWarning: `sparse` was renamed to `sparse_output` in version 1.2 and will be removed in 1.4. `sparse_output` is ignored unless you leave `sparse` to its default value.\n",
            "  warnings.warn(\n"
          ]
        },
        {
          "output_type": "stream",
          "name": "stdout",
          "text": [
            "Performance Metrics for Quantum SVM (ZZFeatureMap, COBYLA) with PCA:\n",
            "              precision    recall  f1-score   support\n",
            "\n",
            "           0       0.39      0.50      0.44        40\n",
            "           1       0.49      0.38      0.43        50\n",
            "\n",
            "    accuracy                           0.43        90\n",
            "   macro avg       0.44      0.44      0.43        90\n",
            "weighted avg       0.44      0.43      0.43        90\n",
            "\n",
            "Quantum SVM training time (ZZFeatureMap, COBYLA) with PCA: 60.4544575214386 seconds\n"
          ]
        },
        {
          "output_type": "stream",
          "name": "stderr",
          "text": [
            "/usr/local/lib/python3.10/dist-packages/sklearn/preprocessing/_encoders.py:868: FutureWarning: `sparse` was renamed to `sparse_output` in version 1.2 and will be removed in 1.4. `sparse_output` is ignored unless you leave `sparse` to its default value.\n",
            "  warnings.warn(\n"
          ]
        },
        {
          "output_type": "stream",
          "name": "stdout",
          "text": [
            "Performance Metrics for Quantum SVM (ZZFeatureMap, L_BFGS_B) with PCA:\n",
            "              precision    recall  f1-score   support\n",
            "\n",
            "           0       0.40      0.42      0.41        40\n",
            "           1       0.51      0.48      0.49        50\n",
            "\n",
            "    accuracy                           0.46        90\n",
            "   macro avg       0.45      0.45      0.45        90\n",
            "weighted avg       0.46      0.46      0.46        90\n",
            "\n",
            "Quantum SVM training time (ZZFeatureMap, L_BFGS_B) with PCA: 191.44850778579712 seconds\n"
          ]
        },
        {
          "output_type": "stream",
          "name": "stderr",
          "text": [
            "/usr/local/lib/python3.10/dist-packages/sklearn/preprocessing/_encoders.py:868: FutureWarning: `sparse` was renamed to `sparse_output` in version 1.2 and will be removed in 1.4. `sparse_output` is ignored unless you leave `sparse` to its default value.\n",
            "  warnings.warn(\n"
          ]
        },
        {
          "output_type": "stream",
          "name": "stdout",
          "text": [
            "Performance Metrics for Quantum SVM (ZZFeatureMap, SLSQP) with PCA:\n",
            "              precision    recall  f1-score   support\n",
            "\n",
            "           0       0.45      0.62      0.53        40\n",
            "           1       0.57      0.40      0.47        50\n",
            "\n",
            "    accuracy                           0.50        90\n",
            "   macro avg       0.51      0.51      0.50        90\n",
            "weighted avg       0.52      0.50      0.50        90\n",
            "\n",
            "Quantum SVM training time (ZZFeatureMap, SLSQP) with PCA: 171.21162819862366 seconds\n"
          ]
        },
        {
          "output_type": "stream",
          "name": "stderr",
          "text": [
            "/usr/local/lib/python3.10/dist-packages/sklearn/preprocessing/_encoders.py:868: FutureWarning: `sparse` was renamed to `sparse_output` in version 1.2 and will be removed in 1.4. `sparse_output` is ignored unless you leave `sparse` to its default value.\n",
            "  warnings.warn(\n"
          ]
        },
        {
          "output_type": "stream",
          "name": "stdout",
          "text": [
            "Performance Metrics for Quantum SVM (PauliFeatureMap_XY, SPSA) with PCA:\n",
            "              precision    recall  f1-score   support\n",
            "\n",
            "           0       0.52      0.30      0.38        40\n",
            "           1       0.58      0.78      0.67        50\n",
            "\n",
            "    accuracy                           0.57        90\n",
            "   macro avg       0.55      0.54      0.52        90\n",
            "weighted avg       0.56      0.57      0.54        90\n",
            "\n",
            "Quantum SVM training time (PauliFeatureMap_XY, SPSA) with PCA: 106.07691812515259 seconds\n"
          ]
        },
        {
          "output_type": "stream",
          "name": "stderr",
          "text": [
            "/usr/local/lib/python3.10/dist-packages/sklearn/preprocessing/_encoders.py:868: FutureWarning: `sparse` was renamed to `sparse_output` in version 1.2 and will be removed in 1.4. `sparse_output` is ignored unless you leave `sparse` to its default value.\n",
            "  warnings.warn(\n"
          ]
        },
        {
          "output_type": "stream",
          "name": "stdout",
          "text": [
            "Performance Metrics for Quantum SVM (PauliFeatureMap_XY, COBYLA) with PCA:\n",
            "              precision    recall  f1-score   support\n",
            "\n",
            "           0       0.32      0.17      0.23        40\n",
            "           1       0.51      0.70      0.59        50\n",
            "\n",
            "    accuracy                           0.47        90\n",
            "   macro avg       0.42      0.44      0.41        90\n",
            "weighted avg       0.43      0.47      0.43        90\n",
            "\n",
            "Quantum SVM training time (PauliFeatureMap_XY, COBYLA) with PCA: 60.212987661361694 seconds\n"
          ]
        },
        {
          "output_type": "stream",
          "name": "stderr",
          "text": [
            "/usr/local/lib/python3.10/dist-packages/sklearn/preprocessing/_encoders.py:868: FutureWarning: `sparse` was renamed to `sparse_output` in version 1.2 and will be removed in 1.4. `sparse_output` is ignored unless you leave `sparse` to its default value.\n",
            "  warnings.warn(\n"
          ]
        },
        {
          "output_type": "stream",
          "name": "stdout",
          "text": [
            "Performance Metrics for Quantum SVM (PauliFeatureMap_XY, L_BFGS_B) with PCA:\n",
            "              precision    recall  f1-score   support\n",
            "\n",
            "           0       0.42      0.28      0.33        40\n",
            "           1       0.55      0.70      0.61        50\n",
            "\n",
            "    accuracy                           0.51        90\n",
            "   macro avg       0.48      0.49      0.47        90\n",
            "weighted avg       0.49      0.51      0.49        90\n",
            "\n",
            "Quantum SVM training time (PauliFeatureMap_XY, L_BFGS_B) with PCA: 191.79505896568298 seconds\n"
          ]
        },
        {
          "output_type": "stream",
          "name": "stderr",
          "text": [
            "/usr/local/lib/python3.10/dist-packages/sklearn/preprocessing/_encoders.py:868: FutureWarning: `sparse` was renamed to `sparse_output` in version 1.2 and will be removed in 1.4. `sparse_output` is ignored unless you leave `sparse` to its default value.\n",
            "  warnings.warn(\n"
          ]
        },
        {
          "output_type": "stream",
          "name": "stdout",
          "text": [
            "Performance Metrics for Quantum SVM (PauliFeatureMap_XY, SLSQP) with PCA:\n",
            "              precision    recall  f1-score   support\n",
            "\n",
            "           0       0.34      0.28      0.31        40\n",
            "           1       0.50      0.58      0.54        50\n",
            "\n",
            "    accuracy                           0.44        90\n",
            "   macro avg       0.42      0.43      0.42        90\n",
            "weighted avg       0.43      0.44      0.43        90\n",
            "\n",
            "Quantum SVM training time (PauliFeatureMap_XY, SLSQP) with PCA: 174.33325171470642 seconds\n"
          ]
        },
        {
          "output_type": "stream",
          "name": "stderr",
          "text": [
            "/usr/local/lib/python3.10/dist-packages/sklearn/preprocessing/_encoders.py:868: FutureWarning: `sparse` was renamed to `sparse_output` in version 1.2 and will be removed in 1.4. `sparse_output` is ignored unless you leave `sparse` to its default value.\n",
            "  warnings.warn(\n"
          ]
        },
        {
          "output_type": "stream",
          "name": "stdout",
          "text": [
            "Performance Metrics for Quantum SVM (PauliFeatureMap_ZZ, SPSA) with PCA:\n",
            "              precision    recall  f1-score   support\n",
            "\n",
            "           0       0.41      0.47      0.44        40\n",
            "           1       0.52      0.46      0.49        50\n",
            "\n",
            "    accuracy                           0.47        90\n",
            "   macro avg       0.47      0.47      0.47        90\n",
            "weighted avg       0.47      0.47      0.47        90\n",
            "\n",
            "Quantum SVM training time (PauliFeatureMap_ZZ, SPSA) with PCA: 104.86531639099121 seconds\n"
          ]
        },
        {
          "output_type": "stream",
          "name": "stderr",
          "text": [
            "/usr/local/lib/python3.10/dist-packages/sklearn/preprocessing/_encoders.py:868: FutureWarning: `sparse` was renamed to `sparse_output` in version 1.2 and will be removed in 1.4. `sparse_output` is ignored unless you leave `sparse` to its default value.\n",
            "  warnings.warn(\n"
          ]
        },
        {
          "output_type": "stream",
          "name": "stdout",
          "text": [
            "Performance Metrics for Quantum SVM (PauliFeatureMap_ZZ, COBYLA) with PCA:\n",
            "              precision    recall  f1-score   support\n",
            "\n",
            "           0       0.45      0.45      0.45        40\n",
            "           1       0.56      0.56      0.56        50\n",
            "\n",
            "    accuracy                           0.51        90\n",
            "   macro avg       0.51      0.51      0.51        90\n",
            "weighted avg       0.51      0.51      0.51        90\n",
            "\n",
            "Quantum SVM training time (PauliFeatureMap_ZZ, COBYLA) with PCA: 53.011250734329224 seconds\n"
          ]
        },
        {
          "output_type": "stream",
          "name": "stderr",
          "text": [
            "/usr/local/lib/python3.10/dist-packages/sklearn/preprocessing/_encoders.py:868: FutureWarning: `sparse` was renamed to `sparse_output` in version 1.2 and will be removed in 1.4. `sparse_output` is ignored unless you leave `sparse` to its default value.\n",
            "  warnings.warn(\n"
          ]
        },
        {
          "output_type": "stream",
          "name": "stdout",
          "text": [
            "Performance Metrics for Quantum SVM (PauliFeatureMap_ZZ, L_BFGS_B) with PCA:\n",
            "              precision    recall  f1-score   support\n",
            "\n",
            "           0       0.39      0.45      0.42        40\n",
            "           1       0.50      0.44      0.47        50\n",
            "\n",
            "    accuracy                           0.44        90\n",
            "   macro avg       0.45      0.45      0.44        90\n",
            "weighted avg       0.45      0.44      0.45        90\n",
            "\n",
            "Quantum SVM training time (PauliFeatureMap_ZZ, L_BFGS_B) with PCA: 208.8580026626587 seconds\n"
          ]
        },
        {
          "output_type": "stream",
          "name": "stderr",
          "text": [
            "/usr/local/lib/python3.10/dist-packages/sklearn/preprocessing/_encoders.py:868: FutureWarning: `sparse` was renamed to `sparse_output` in version 1.2 and will be removed in 1.4. `sparse_output` is ignored unless you leave `sparse` to its default value.\n",
            "  warnings.warn(\n"
          ]
        },
        {
          "output_type": "stream",
          "name": "stdout",
          "text": [
            "Performance Metrics for Quantum SVM (PauliFeatureMap_ZZ, SLSQP) with PCA:\n",
            "              precision    recall  f1-score   support\n",
            "\n",
            "           0       0.48      0.55      0.51        40\n",
            "           1       0.59      0.52      0.55        50\n",
            "\n",
            "    accuracy                           0.53        90\n",
            "   macro avg       0.53      0.54      0.53        90\n",
            "weighted avg       0.54      0.53      0.53        90\n",
            "\n",
            "Quantum SVM training time (PauliFeatureMap_ZZ, SLSQP) with PCA: 82.69538807868958 seconds\n"
          ]
        },
        {
          "output_type": "stream",
          "name": "stderr",
          "text": [
            "/usr/local/lib/python3.10/dist-packages/sklearn/preprocessing/_encoders.py:868: FutureWarning: `sparse` was renamed to `sparse_output` in version 1.2 and will be removed in 1.4. `sparse_output` is ignored unless you leave `sparse` to its default value.\n",
            "  warnings.warn(\n"
          ]
        },
        {
          "output_type": "stream",
          "name": "stdout",
          "text": [
            "Performance Metrics for Quantum SVM (PauliFeatureMap_XYZ, SPSA) with PCA:\n",
            "              precision    recall  f1-score   support\n",
            "\n",
            "           0       0.42      0.65      0.51        40\n",
            "           1       0.50      0.28      0.36        50\n",
            "\n",
            "    accuracy                           0.44        90\n",
            "   macro avg       0.46      0.47      0.43        90\n",
            "weighted avg       0.46      0.44      0.43        90\n",
            "\n",
            "Quantum SVM training time (PauliFeatureMap_XYZ, SPSA) with PCA: 113.28648400306702 seconds\n"
          ]
        },
        {
          "output_type": "stream",
          "name": "stderr",
          "text": [
            "/usr/local/lib/python3.10/dist-packages/sklearn/preprocessing/_encoders.py:868: FutureWarning: `sparse` was renamed to `sparse_output` in version 1.2 and will be removed in 1.4. `sparse_output` is ignored unless you leave `sparse` to its default value.\n",
            "  warnings.warn(\n"
          ]
        },
        {
          "output_type": "stream",
          "name": "stdout",
          "text": [
            "Performance Metrics for Quantum SVM (PauliFeatureMap_XYZ, COBYLA) with PCA:\n",
            "              precision    recall  f1-score   support\n",
            "\n",
            "           0       0.49      0.55      0.52        40\n",
            "           1       0.60      0.54      0.57        50\n",
            "\n",
            "    accuracy                           0.54        90\n",
            "   macro avg       0.54      0.55      0.54        90\n",
            "weighted avg       0.55      0.54      0.55        90\n",
            "\n",
            "Quantum SVM training time (PauliFeatureMap_XYZ, COBYLA) with PCA: 58.205082654953 seconds\n"
          ]
        },
        {
          "output_type": "stream",
          "name": "stderr",
          "text": [
            "/usr/local/lib/python3.10/dist-packages/sklearn/preprocessing/_encoders.py:868: FutureWarning: `sparse` was renamed to `sparse_output` in version 1.2 and will be removed in 1.4. `sparse_output` is ignored unless you leave `sparse` to its default value.\n",
            "  warnings.warn(\n"
          ]
        },
        {
          "output_type": "stream",
          "name": "stdout",
          "text": [
            "Performance Metrics for Quantum SVM (PauliFeatureMap_XYZ, L_BFGS_B) with PCA:\n",
            "              precision    recall  f1-score   support\n",
            "\n",
            "           0       0.45      0.62      0.53        40\n",
            "           1       0.57      0.40      0.47        50\n",
            "\n",
            "    accuracy                           0.50        90\n",
            "   macro avg       0.51      0.51      0.50        90\n",
            "weighted avg       0.52      0.50      0.50        90\n",
            "\n",
            "Quantum SVM training time (PauliFeatureMap_XYZ, L_BFGS_B) with PCA: 235.5812566280365 seconds\n"
          ]
        },
        {
          "output_type": "stream",
          "name": "stderr",
          "text": [
            "/usr/local/lib/python3.10/dist-packages/sklearn/preprocessing/_encoders.py:868: FutureWarning: `sparse` was renamed to `sparse_output` in version 1.2 and will be removed in 1.4. `sparse_output` is ignored unless you leave `sparse` to its default value.\n",
            "  warnings.warn(\n"
          ]
        },
        {
          "output_type": "stream",
          "name": "stdout",
          "text": [
            "Performance Metrics for Quantum SVM (PauliFeatureMap_XYZ, SLSQP) with PCA:\n",
            "              precision    recall  f1-score   support\n",
            "\n",
            "           0       0.52      0.38      0.43        40\n",
            "           1       0.59      0.72      0.65        50\n",
            "\n",
            "    accuracy                           0.57        90\n",
            "   macro avg       0.55      0.55      0.54        90\n",
            "weighted avg       0.56      0.57      0.55        90\n",
            "\n",
            "Quantum SVM training time (PauliFeatureMap_XYZ, SLSQP) with PCA: 135.75810718536377 seconds\n"
          ]
        },
        {
          "output_type": "stream",
          "name": "stderr",
          "text": [
            "/usr/local/lib/python3.10/dist-packages/sklearn/preprocessing/_encoders.py:868: FutureWarning: `sparse` was renamed to `sparse_output` in version 1.2 and will be removed in 1.4. `sparse_output` is ignored unless you leave `sparse` to its default value.\n",
            "  warnings.warn(\n"
          ]
        },
        {
          "output_type": "stream",
          "name": "stdout",
          "text": [
            "Performance Metrics for Quantum SVM (PauliFeatureMap_YZ, SPSA) with PCA:\n",
            "              precision    recall  f1-score   support\n",
            "\n",
            "           0       0.54      0.35      0.42        40\n",
            "           1       0.59      0.76      0.67        50\n",
            "\n",
            "    accuracy                           0.58        90\n",
            "   macro avg       0.57      0.55      0.55        90\n",
            "weighted avg       0.57      0.58      0.56        90\n",
            "\n",
            "Quantum SVM training time (PauliFeatureMap_YZ, SPSA) with PCA: 105.27461576461792 seconds\n"
          ]
        },
        {
          "output_type": "stream",
          "name": "stderr",
          "text": [
            "/usr/local/lib/python3.10/dist-packages/sklearn/preprocessing/_encoders.py:868: FutureWarning: `sparse` was renamed to `sparse_output` in version 1.2 and will be removed in 1.4. `sparse_output` is ignored unless you leave `sparse` to its default value.\n",
            "  warnings.warn(\n"
          ]
        },
        {
          "output_type": "stream",
          "name": "stdout",
          "text": [
            "Performance Metrics for Quantum SVM (PauliFeatureMap_YZ, COBYLA) with PCA:\n",
            "              precision    recall  f1-score   support\n",
            "\n",
            "           0       0.50      0.45      0.47        40\n",
            "           1       0.59      0.64      0.62        50\n",
            "\n",
            "    accuracy                           0.56        90\n",
            "   macro avg       0.55      0.55      0.54        90\n",
            "weighted avg       0.55      0.56      0.55        90\n",
            "\n",
            "Quantum SVM training time (PauliFeatureMap_YZ, COBYLA) with PCA: 60.464762926101685 seconds\n"
          ]
        },
        {
          "output_type": "stream",
          "name": "stderr",
          "text": [
            "/usr/local/lib/python3.10/dist-packages/sklearn/preprocessing/_encoders.py:868: FutureWarning: `sparse` was renamed to `sparse_output` in version 1.2 and will be removed in 1.4. `sparse_output` is ignored unless you leave `sparse` to its default value.\n",
            "  warnings.warn(\n"
          ]
        },
        {
          "output_type": "stream",
          "name": "stdout",
          "text": [
            "Performance Metrics for Quantum SVM (PauliFeatureMap_YZ, L_BFGS_B) with PCA:\n",
            "              precision    recall  f1-score   support\n",
            "\n",
            "           0       0.43      0.45      0.44        40\n",
            "           1       0.54      0.52      0.53        50\n",
            "\n",
            "    accuracy                           0.49        90\n",
            "   macro avg       0.49      0.48      0.48        90\n",
            "weighted avg       0.49      0.49      0.49        90\n",
            "\n",
            "Quantum SVM training time (PauliFeatureMap_YZ, L_BFGS_B) with PCA: 207.41937470436096 seconds\n"
          ]
        },
        {
          "output_type": "stream",
          "name": "stderr",
          "text": [
            "/usr/local/lib/python3.10/dist-packages/sklearn/preprocessing/_encoders.py:868: FutureWarning: `sparse` was renamed to `sparse_output` in version 1.2 and will be removed in 1.4. `sparse_output` is ignored unless you leave `sparse` to its default value.\n",
            "  warnings.warn(\n"
          ]
        },
        {
          "output_type": "stream",
          "name": "stdout",
          "text": [
            "Performance Metrics for Quantum SVM (PauliFeatureMap_YZ, SLSQP) with PCA:\n",
            "              precision    recall  f1-score   support\n",
            "\n",
            "           0       0.40      0.30      0.34        40\n",
            "           1       0.53      0.64      0.58        50\n",
            "\n",
            "    accuracy                           0.49        90\n",
            "   macro avg       0.47      0.47      0.46        90\n",
            "weighted avg       0.47      0.49      0.48        90\n",
            "\n",
            "Quantum SVM training time (PauliFeatureMap_YZ, SLSQP) with PCA: 157.1441113948822 seconds\n"
          ]
        },
        {
          "output_type": "stream",
          "name": "stderr",
          "text": [
            "/usr/local/lib/python3.10/dist-packages/sklearn/preprocessing/_encoders.py:868: FutureWarning: `sparse` was renamed to `sparse_output` in version 1.2 and will be removed in 1.4. `sparse_output` is ignored unless you leave `sparse` to its default value.\n",
            "  warnings.warn(\n"
          ]
        },
        {
          "output_type": "stream",
          "name": "stdout",
          "text": [
            "Performance Metrics for Quantum SVM (PauliFeatureMap_Y, SPSA) with PCA:\n",
            "              precision    recall  f1-score   support\n",
            "\n",
            "           0       0.38      0.53      0.44        40\n",
            "           1       0.44      0.30      0.36        50\n",
            "\n",
            "    accuracy                           0.40        90\n",
            "   macro avg       0.41      0.41      0.40        90\n",
            "weighted avg       0.41      0.40      0.39        90\n",
            "\n",
            "Quantum SVM training time (PauliFeatureMap_Y, SPSA) with PCA: 95.92496991157532 seconds\n"
          ]
        },
        {
          "output_type": "stream",
          "name": "stderr",
          "text": [
            "/usr/local/lib/python3.10/dist-packages/sklearn/preprocessing/_encoders.py:868: FutureWarning: `sparse` was renamed to `sparse_output` in version 1.2 and will be removed in 1.4. `sparse_output` is ignored unless you leave `sparse` to its default value.\n",
            "  warnings.warn(\n"
          ]
        },
        {
          "output_type": "stream",
          "name": "stdout",
          "text": [
            "Performance Metrics for Quantum SVM (PauliFeatureMap_Y, COBYLA) with PCA:\n",
            "              precision    recall  f1-score   support\n",
            "\n",
            "           0       0.44      0.30      0.36        40\n",
            "           1       0.56      0.70      0.62        50\n",
            "\n",
            "    accuracy                           0.52        90\n",
            "   macro avg       0.50      0.50      0.49        90\n",
            "weighted avg       0.51      0.52      0.50        90\n",
            "\n",
            "Quantum SVM training time (PauliFeatureMap_Y, COBYLA) with PCA: 51.11436462402344 seconds\n"
          ]
        },
        {
          "output_type": "stream",
          "name": "stderr",
          "text": [
            "/usr/local/lib/python3.10/dist-packages/sklearn/preprocessing/_encoders.py:868: FutureWarning: `sparse` was renamed to `sparse_output` in version 1.2 and will be removed in 1.4. `sparse_output` is ignored unless you leave `sparse` to its default value.\n",
            "  warnings.warn(\n"
          ]
        },
        {
          "output_type": "stream",
          "name": "stdout",
          "text": [
            "Performance Metrics for Quantum SVM (PauliFeatureMap_Y, L_BFGS_B) with PCA:\n",
            "              precision    recall  f1-score   support\n",
            "\n",
            "           0       0.44      0.53      0.48        40\n",
            "           1       0.55      0.46      0.50        50\n",
            "\n",
            "    accuracy                           0.49        90\n",
            "   macro avg       0.49      0.49      0.49        90\n",
            "weighted avg       0.50      0.49      0.49        90\n",
            "\n",
            "Quantum SVM training time (PauliFeatureMap_Y, L_BFGS_B) with PCA: 202.34400415420532 seconds\n"
          ]
        },
        {
          "output_type": "stream",
          "name": "stderr",
          "text": [
            "/usr/local/lib/python3.10/dist-packages/sklearn/preprocessing/_encoders.py:868: FutureWarning: `sparse` was renamed to `sparse_output` in version 1.2 and will be removed in 1.4. `sparse_output` is ignored unless you leave `sparse` to its default value.\n",
            "  warnings.warn(\n"
          ]
        },
        {
          "output_type": "stream",
          "name": "stdout",
          "text": [
            "Performance Metrics for Quantum SVM (PauliFeatureMap_Y, SLSQP) with PCA:\n",
            "              precision    recall  f1-score   support\n",
            "\n",
            "           0       0.35      0.28      0.31        40\n",
            "           1       0.51      0.60      0.55        50\n",
            "\n",
            "    accuracy                           0.46        90\n",
            "   macro avg       0.43      0.44      0.43        90\n",
            "weighted avg       0.44      0.46      0.44        90\n",
            "\n",
            "Quantum SVM training time (PauliFeatureMap_Y, SLSQP) with PCA: 46.34450960159302 seconds\n"
          ]
        },
        {
          "output_type": "stream",
          "name": "stderr",
          "text": [
            "/usr/local/lib/python3.10/dist-packages/sklearn/preprocessing/_encoders.py:868: FutureWarning: `sparse` was renamed to `sparse_output` in version 1.2 and will be removed in 1.4. `sparse_output` is ignored unless you leave `sparse` to its default value.\n",
            "  warnings.warn(\n"
          ]
        },
        {
          "output_type": "stream",
          "name": "stdout",
          "text": [
            "Performance Metrics for Quantum SVM (PauliFeatureMap_XYZYY, SPSA) with PCA:\n",
            "              precision    recall  f1-score   support\n",
            "\n",
            "           0       0.47      0.40      0.43        40\n",
            "           1       0.57      0.64      0.60        50\n",
            "\n",
            "    accuracy                           0.53        90\n",
            "   macro avg       0.52      0.52      0.52        90\n",
            "weighted avg       0.53      0.53      0.53        90\n",
            "\n",
            "Quantum SVM training time (PauliFeatureMap_XYZYY, SPSA) with PCA: 131.59098720550537 seconds\n"
          ]
        },
        {
          "output_type": "stream",
          "name": "stderr",
          "text": [
            "/usr/local/lib/python3.10/dist-packages/sklearn/preprocessing/_encoders.py:868: FutureWarning: `sparse` was renamed to `sparse_output` in version 1.2 and will be removed in 1.4. `sparse_output` is ignored unless you leave `sparse` to its default value.\n",
            "  warnings.warn(\n"
          ]
        },
        {
          "output_type": "stream",
          "name": "stdout",
          "text": [
            "Performance Metrics for Quantum SVM (PauliFeatureMap_XYZYY, COBYLA) with PCA:\n",
            "              precision    recall  f1-score   support\n",
            "\n",
            "           0       0.47      0.38      0.42        40\n",
            "           1       0.57      0.66      0.61        50\n",
            "\n",
            "    accuracy                           0.53        90\n",
            "   macro avg       0.52      0.52      0.51        90\n",
            "weighted avg       0.52      0.53      0.52        90\n",
            "\n",
            "Quantum SVM training time (PauliFeatureMap_XYZYY, COBYLA) with PCA: 76.43242001533508 seconds\n"
          ]
        },
        {
          "output_type": "stream",
          "name": "stderr",
          "text": [
            "/usr/local/lib/python3.10/dist-packages/sklearn/preprocessing/_encoders.py:868: FutureWarning: `sparse` was renamed to `sparse_output` in version 1.2 and will be removed in 1.4. `sparse_output` is ignored unless you leave `sparse` to its default value.\n",
            "  warnings.warn(\n"
          ]
        },
        {
          "output_type": "stream",
          "name": "stdout",
          "text": [
            "Performance Metrics for Quantum SVM (PauliFeatureMap_XYZYY, L_BFGS_B) with PCA:\n",
            "              precision    recall  f1-score   support\n",
            "\n",
            "           0       0.38      0.40      0.39        40\n",
            "           1       0.50      0.48      0.49        50\n",
            "\n",
            "    accuracy                           0.44        90\n",
            "   macro avg       0.44      0.44      0.44        90\n",
            "weighted avg       0.45      0.44      0.45        90\n",
            "\n",
            "Quantum SVM training time (PauliFeatureMap_XYZYY, L_BFGS_B) with PCA: 318.5445306301117 seconds\n"
          ]
        },
        {
          "output_type": "stream",
          "name": "stderr",
          "text": [
            "/usr/local/lib/python3.10/dist-packages/sklearn/preprocessing/_encoders.py:868: FutureWarning: `sparse` was renamed to `sparse_output` in version 1.2 and will be removed in 1.4. `sparse_output` is ignored unless you leave `sparse` to its default value.\n",
            "  warnings.warn(\n"
          ]
        },
        {
          "output_type": "stream",
          "name": "stdout",
          "text": [
            "Performance Metrics for Quantum SVM (PauliFeatureMap_XYZYY, SLSQP) with PCA:\n",
            "              precision    recall  f1-score   support\n",
            "\n",
            "           0       0.35      0.42      0.38        40\n",
            "           1       0.44      0.36      0.40        50\n",
            "\n",
            "    accuracy                           0.39        90\n",
            "   macro avg       0.39      0.39      0.39        90\n",
            "weighted avg       0.40      0.39      0.39        90\n",
            "\n",
            "Quantum SVM training time (PauliFeatureMap_XYZYY, SLSQP) with PCA: 151.9528567790985 seconds\n",
            "Best Configuration with PCA: Feature Map - PauliFeatureMap_YZ, Optimizer - SPSA\n"
          ]
        }
      ]
    },
    {
      "cell_type": "code",
      "source": [
        "import numpy as np\n",
        "from sklearn.decomposition import PCA\n",
        "import matplotlib.pyplot as plt\n",
        "from sklearn.model_selection import train_test_split\n",
        "from sklearn.preprocessing import StandardScaler\n",
        "from sklearn.svm import SVC\n",
        "from sklearn.metrics import classification_report, accuracy_score\n",
        "from qiskit import Aer\n",
        "from qiskit.circuit.library import PauliFeatureMap\n",
        "from qiskit.circuit.library import ZZFeatureMap\n",
        "from qiskit_machine_learning.algorithms.classifiers import VQC\n",
        "from qiskit.utils import QuantumInstance\n",
        "from qiskit.algorithms.optimizers import SPSA, COBYLA, L_BFGS_B, SLSQP, ADAM\n",
        "from time import time\n",
        "\n",
        "np.random.seed(0)\n",
        "\n",
        "# Define the number of samples and features\n",
        "num_samples = 300\n",
        "num_features = 10  # You can increase this number to create a higher-dimensional dataset\n",
        "\n",
        "# Generate random data with strong correlations in the first few features\n",
        "mean = np.zeros(num_features)\n",
        "cov = np.eye(num_features)\n",
        "for i in range(5):\n",
        "    cov[i, i] = 0.0  # Increase the variance for the first 5 features to make them important\n",
        "\n",
        "data = np.random.multivariate_normal(mean, cov, num_samples)\n",
        "\n",
        "# Split the data into training and testing sets\n",
        "X_train, X_test, y_train, y_test = train_test_split(data, np.random.choice([0, 1], size=num_samples), test_size=0.3, random_state=42)\n",
        "\n",
        "# Data Preprocessing\n",
        "scaler = StandardScaler().fit(X_train)\n",
        "X_train = scaler.transform(X_train)\n",
        "X_test = scaler.transform(X_test)\n",
        "\n",
        "# Perform PCA to reduce dimensionality\n",
        "pca = PCA(n_components=2)  # You can adjust the number of components as needed\n",
        "X_train_pca = pca.fit_transform(X_train)\n",
        "X_test_pca = pca.transform(X_test)\n",
        "\n",
        "# Train Classical SVM on reduced dataset\n",
        "classical_svm_pca = SVC(kernel='rbf', C=1.0, gamma='scale')\n",
        "start = time()\n",
        "classical_svm_pca.fit(X_train_pca, y_train)\n",
        "end = time()\n",
        "classical_svm_predictions_pca = classical_svm_pca.predict(X_test_pca)\n",
        "print(\"Performance Metrics for Classical SVM with PCA:\")\n",
        "print(classification_report(y_test, classical_svm_predictions_pca))\n",
        "print(f\"Classical SVM training time with PCA: {end - start} seconds\")\n",
        "\n",
        "# Define a list of feature maps and their parameters to tune for QSVM\n",
        "feature_maps = [\n",
        "    {'name': 'ZZFeatureMap', 'feature_map': ZZFeatureMap(feature_dimension=2, reps=2, entanglement='full')},\n",
        "    {'name': 'PauliFeatureMap_XY', 'feature_map': PauliFeatureMap(feature_dimension=2, reps=2, paulis=['X', 'Y'], entanglement='full')},\n",
        "    {'name': 'PauliFeatureMap_ZZ', 'feature_map': PauliFeatureMap(feature_dimension=2, reps=2, paulis=['Z', 'ZZ'], entanglement='full')},\n",
        "    {'name': 'PauliFeatureMap_XYZ', 'feature_map': PauliFeatureMap(feature_dimension=2, reps=2, paulis=['X', 'Y', 'Z'], entanglement='full')},\n",
        "    {'name': 'PauliFeatureMap_YZ', 'feature_map': PauliFeatureMap(feature_dimension=2, reps=2, paulis=['Y', 'Z'], entanglement='full')},\n",
        "    {'name': 'PauliFeatureMap_Y', 'feature_map': PauliFeatureMap(feature_dimension=2, reps=2, paulis=['Y'], entanglement='full')},\n",
        "    {'name': 'PauliFeatureMap_XYZYY', 'feature_map': PauliFeatureMap(feature_dimension=2, reps=2, paulis=['X', 'Y', 'Z', 'YY'], entanglement='full')},\n",
        "    # Add more feature maps and their parameters to explore\n",
        "]\n",
        "\n",
        "# Define a list of optimizer parameters to tune for QSVM\n",
        "optimizers = [\n",
        "    {'name': 'SPSA', 'optimizer': SPSA(maxiter=50)},\n",
        "    {'name': 'COBYLA', 'optimizer': COBYLA(maxiter=100)},\n",
        "    {'name': 'L_BFGS_B', 'optimizer': L_BFGS_B(maxfun=100, maxiter=100)},\n",
        "    {'name': 'SLSQP', 'optimizer': SLSQP(maxiter=100)},\n",
        "    # Add more optimizers and their parameters to explore\n",
        "]\n",
        "\n",
        "\n",
        "best_score = 0\n",
        "best_params = {}\n",
        "\n",
        "for feature_map_params in feature_maps:\n",
        "    feature_map_name = feature_map_params['name']\n",
        "    feature_map = feature_map_params['feature_map']\n",
        "\n",
        "    for optimizer_params in optimizers:\n",
        "        optimizer_name = optimizer_params['name']\n",
        "        optimizer = optimizer_params['optimizer']\n",
        "\n",
        "        # Create a sampler for the AerSimulator\n",
        "        sampler = Sampler()\n",
        "\n",
        "        # Create an instance of the AerSimulator\n",
        "        simulator = AerSimulator()\n",
        "\n",
        "        # Train QSVM with the current feature map and optimizer using the sampler\n",
        "        vqc = VQC(feature_map=feature_map, ansatz=None, optimizer=optimizer, quantum_instance=simulator)\n",
        "\n",
        "        start = time()\n",
        "        vqc.fit(X_train_pca, y_train)\n",
        "        end = time()\n",
        "\n",
        "        result_quantum = vqc.predict(X_test_pca)\n",
        "        score = accuracy_score(y_test, result_quantum)\n",
        "\n",
        "        # Print performance metrics and runtime for the current configuration\n",
        "        print(f\"Performance Metrics for Quantum SVM ({feature_map_name}, {optimizer_name}) with PCA:\")\n",
        "        print(classification_report(y_test, result_quantum))\n",
        "        print(f\"Quantum SVM training time ({feature_map_name}, {optimizer_name}) with PCA: {end - start} seconds\")\n",
        "\n",
        "        # Check if the current configuration is the best\n",
        "        if score > best_score:\n",
        "            best_score = score\n",
        "            best_params = {'feature_map': feature_map_name, 'optimizer': optimizer_name}\n",
        "\n",
        "# Print the best configuration found\n",
        "print(f\"Best Configuration with PCA: Feature Map - {best_params['feature_map']}, Optimizer - {best_params['optimizer']}\")"
      ],
      "metadata": {
        "id": "wxoMm-jr2PvE",
        "colab": {
          "base_uri": "https://localhost:8080/"
        },
        "outputId": "b36aca95-e994-4f10-a5af-daa7d520f351"
      },
      "execution_count": 13,
      "outputs": [
        {
          "output_type": "stream",
          "name": "stdout",
          "text": [
            "Performance Metrics for Classical SVM with PCA:\n",
            "              precision    recall  f1-score   support\n",
            "\n",
            "           0       0.53      0.20      0.29        40\n",
            "           1       0.57      0.86      0.69        50\n",
            "\n",
            "    accuracy                           0.57        90\n",
            "   macro avg       0.55      0.53      0.49        90\n",
            "weighted avg       0.56      0.57      0.51        90\n",
            "\n",
            "Classical SVM training time with PCA: 0.002827882766723633 seconds\n"
          ]
        },
        {
          "output_type": "stream",
          "name": "stderr",
          "text": [
            "/usr/local/lib/python3.10/dist-packages/sklearn/preprocessing/_encoders.py:868: FutureWarning: `sparse` was renamed to `sparse_output` in version 1.2 and will be removed in 1.4. `sparse_output` is ignored unless you leave `sparse` to its default value.\n",
            "  warnings.warn(\n"
          ]
        },
        {
          "output_type": "stream",
          "name": "stdout",
          "text": [
            "Performance Metrics for Quantum SVM (ZZFeatureMap, SPSA) with PCA:\n",
            "              precision    recall  f1-score   support\n",
            "\n",
            "           0       0.47      0.47      0.48        40\n",
            "           1       0.58      0.58      0.58        50\n",
            "\n",
            "    accuracy                           0.53        90\n",
            "   macro avg       0.53      0.53      0.53        90\n",
            "weighted avg       0.53      0.53      0.53        90\n",
            "\n",
            "Quantum SVM training time (ZZFeatureMap, SPSA) with PCA: 104.59419655799866 seconds\n"
          ]
        },
        {
          "output_type": "stream",
          "name": "stderr",
          "text": [
            "/usr/local/lib/python3.10/dist-packages/sklearn/preprocessing/_encoders.py:868: FutureWarning: `sparse` was renamed to `sparse_output` in version 1.2 and will be removed in 1.4. `sparse_output` is ignored unless you leave `sparse` to its default value.\n",
            "  warnings.warn(\n"
          ]
        },
        {
          "output_type": "stream",
          "name": "stdout",
          "text": [
            "Performance Metrics for Quantum SVM (ZZFeatureMap, COBYLA) with PCA:\n",
            "              precision    recall  f1-score   support\n",
            "\n",
            "           0       0.50      0.38      0.43        40\n",
            "           1       0.58      0.70      0.64        50\n",
            "\n",
            "    accuracy                           0.56        90\n",
            "   macro avg       0.54      0.54      0.53        90\n",
            "weighted avg       0.55      0.56      0.54        90\n",
            "\n",
            "Quantum SVM training time (ZZFeatureMap, COBYLA) with PCA: 67.50405812263489 seconds\n"
          ]
        },
        {
          "output_type": "stream",
          "name": "stderr",
          "text": [
            "/usr/local/lib/python3.10/dist-packages/sklearn/preprocessing/_encoders.py:868: FutureWarning: `sparse` was renamed to `sparse_output` in version 1.2 and will be removed in 1.4. `sparse_output` is ignored unless you leave `sparse` to its default value.\n",
            "  warnings.warn(\n"
          ]
        },
        {
          "output_type": "stream",
          "name": "stdout",
          "text": [
            "Performance Metrics for Quantum SVM (ZZFeatureMap, L_BFGS_B) with PCA:\n",
            "              precision    recall  f1-score   support\n",
            "\n",
            "           0       0.47      0.45      0.46        40\n",
            "           1       0.58      0.60      0.59        50\n",
            "\n",
            "    accuracy                           0.53        90\n",
            "   macro avg       0.53      0.53      0.52        90\n",
            "weighted avg       0.53      0.53      0.53        90\n",
            "\n",
            "Quantum SVM training time (ZZFeatureMap, L_BFGS_B) with PCA: 135.09611058235168 seconds\n"
          ]
        },
        {
          "output_type": "stream",
          "name": "stderr",
          "text": [
            "/usr/local/lib/python3.10/dist-packages/sklearn/preprocessing/_encoders.py:868: FutureWarning: `sparse` was renamed to `sparse_output` in version 1.2 and will be removed in 1.4. `sparse_output` is ignored unless you leave `sparse` to its default value.\n",
            "  warnings.warn(\n"
          ]
        },
        {
          "output_type": "stream",
          "name": "stdout",
          "text": [
            "Performance Metrics for Quantum SVM (ZZFeatureMap, SLSQP) with PCA:\n",
            "              precision    recall  f1-score   support\n",
            "\n",
            "           0       0.43      0.38      0.40        40\n",
            "           1       0.55      0.60      0.57        50\n",
            "\n",
            "    accuracy                           0.50        90\n",
            "   macro avg       0.49      0.49      0.49        90\n",
            "weighted avg       0.49      0.50      0.50        90\n",
            "\n",
            "Quantum SVM training time (ZZFeatureMap, SLSQP) with PCA: 81.38636207580566 seconds\n"
          ]
        },
        {
          "output_type": "stream",
          "name": "stderr",
          "text": [
            "/usr/local/lib/python3.10/dist-packages/sklearn/preprocessing/_encoders.py:868: FutureWarning: `sparse` was renamed to `sparse_output` in version 1.2 and will be removed in 1.4. `sparse_output` is ignored unless you leave `sparse` to its default value.\n",
            "  warnings.warn(\n"
          ]
        },
        {
          "output_type": "stream",
          "name": "stdout",
          "text": [
            "Performance Metrics for Quantum SVM (PauliFeatureMap_XY, SPSA) with PCA:\n",
            "              precision    recall  f1-score   support\n",
            "\n",
            "           0       0.38      0.15      0.21        40\n",
            "           1       0.54      0.80      0.65        50\n",
            "\n",
            "    accuracy                           0.51        90\n",
            "   macro avg       0.46      0.48      0.43        90\n",
            "weighted avg       0.47      0.51      0.45        90\n",
            "\n",
            "Quantum SVM training time (PauliFeatureMap_XY, SPSA) with PCA: 105.24684858322144 seconds\n"
          ]
        },
        {
          "output_type": "stream",
          "name": "stderr",
          "text": [
            "/usr/local/lib/python3.10/dist-packages/sklearn/preprocessing/_encoders.py:868: FutureWarning: `sparse` was renamed to `sparse_output` in version 1.2 and will be removed in 1.4. `sparse_output` is ignored unless you leave `sparse` to its default value.\n",
            "  warnings.warn(\n"
          ]
        },
        {
          "output_type": "stream",
          "name": "stdout",
          "text": [
            "Performance Metrics for Quantum SVM (PauliFeatureMap_XY, COBYLA) with PCA:\n",
            "              precision    recall  f1-score   support\n",
            "\n",
            "           0       0.53      0.40      0.46        40\n",
            "           1       0.60      0.72      0.65        50\n",
            "\n",
            "    accuracy                           0.58        90\n",
            "   macro avg       0.57      0.56      0.56        90\n",
            "weighted avg       0.57      0.58      0.57        90\n",
            "\n",
            "Quantum SVM training time (PauliFeatureMap_XY, COBYLA) with PCA: 60.654568910598755 seconds\n"
          ]
        },
        {
          "output_type": "stream",
          "name": "stderr",
          "text": [
            "/usr/local/lib/python3.10/dist-packages/sklearn/preprocessing/_encoders.py:868: FutureWarning: `sparse` was renamed to `sparse_output` in version 1.2 and will be removed in 1.4. `sparse_output` is ignored unless you leave `sparse` to its default value.\n",
            "  warnings.warn(\n"
          ]
        },
        {
          "output_type": "stream",
          "name": "stdout",
          "text": [
            "Performance Metrics for Quantum SVM (PauliFeatureMap_XY, L_BFGS_B) with PCA:\n",
            "              precision    recall  f1-score   support\n",
            "\n",
            "           0       0.47      0.40      0.43        40\n",
            "           1       0.57      0.64      0.60        50\n",
            "\n",
            "    accuracy                           0.53        90\n",
            "   macro avg       0.52      0.52      0.52        90\n",
            "weighted avg       0.53      0.53      0.53        90\n",
            "\n",
            "Quantum SVM training time (PauliFeatureMap_XY, L_BFGS_B) with PCA: 234.74409317970276 seconds\n"
          ]
        },
        {
          "output_type": "stream",
          "name": "stderr",
          "text": [
            "/usr/local/lib/python3.10/dist-packages/sklearn/preprocessing/_encoders.py:868: FutureWarning: `sparse` was renamed to `sparse_output` in version 1.2 and will be removed in 1.4. `sparse_output` is ignored unless you leave `sparse` to its default value.\n",
            "  warnings.warn(\n"
          ]
        },
        {
          "output_type": "stream",
          "name": "stdout",
          "text": [
            "Performance Metrics for Quantum SVM (PauliFeatureMap_XY, SLSQP) with PCA:\n",
            "              precision    recall  f1-score   support\n",
            "\n",
            "           0       0.55      0.45      0.49        40\n",
            "           1       0.61      0.70      0.65        50\n",
            "\n",
            "    accuracy                           0.59        90\n",
            "   macro avg       0.58      0.57      0.57        90\n",
            "weighted avg       0.58      0.59      0.58        90\n",
            "\n",
            "Quantum SVM training time (PauliFeatureMap_XY, SLSQP) with PCA: 64.86103200912476 seconds\n"
          ]
        },
        {
          "output_type": "stream",
          "name": "stderr",
          "text": [
            "/usr/local/lib/python3.10/dist-packages/sklearn/preprocessing/_encoders.py:868: FutureWarning: `sparse` was renamed to `sparse_output` in version 1.2 and will be removed in 1.4. `sparse_output` is ignored unless you leave `sparse` to its default value.\n",
            "  warnings.warn(\n"
          ]
        },
        {
          "output_type": "stream",
          "name": "stdout",
          "text": [
            "Performance Metrics for Quantum SVM (PauliFeatureMap_ZZ, SPSA) with PCA:\n",
            "              precision    recall  f1-score   support\n",
            "\n",
            "           0       0.50      0.42      0.46        40\n",
            "           1       0.59      0.66      0.62        50\n",
            "\n",
            "    accuracy                           0.56        90\n",
            "   macro avg       0.54      0.54      0.54        90\n",
            "weighted avg       0.55      0.56      0.55        90\n",
            "\n",
            "Quantum SVM training time (PauliFeatureMap_ZZ, SPSA) with PCA: 105.95848083496094 seconds\n"
          ]
        },
        {
          "output_type": "stream",
          "name": "stderr",
          "text": [
            "/usr/local/lib/python3.10/dist-packages/sklearn/preprocessing/_encoders.py:868: FutureWarning: `sparse` was renamed to `sparse_output` in version 1.2 and will be removed in 1.4. `sparse_output` is ignored unless you leave `sparse` to its default value.\n",
            "  warnings.warn(\n"
          ]
        },
        {
          "output_type": "stream",
          "name": "stdout",
          "text": [
            "Performance Metrics for Quantum SVM (PauliFeatureMap_ZZ, COBYLA) with PCA:\n",
            "              precision    recall  f1-score   support\n",
            "\n",
            "           0       0.52      0.40      0.45        40\n",
            "           1       0.59      0.70      0.64        50\n",
            "\n",
            "    accuracy                           0.57        90\n",
            "   macro avg       0.55      0.55      0.55        90\n",
            "weighted avg       0.56      0.57      0.56        90\n",
            "\n",
            "Quantum SVM training time (PauliFeatureMap_ZZ, COBYLA) with PCA: 59.79513931274414 seconds\n"
          ]
        },
        {
          "output_type": "stream",
          "name": "stderr",
          "text": [
            "/usr/local/lib/python3.10/dist-packages/sklearn/preprocessing/_encoders.py:868: FutureWarning: `sparse` was renamed to `sparse_output` in version 1.2 and will be removed in 1.4. `sparse_output` is ignored unless you leave `sparse` to its default value.\n",
            "  warnings.warn(\n"
          ]
        },
        {
          "output_type": "stream",
          "name": "stdout",
          "text": [
            "Performance Metrics for Quantum SVM (PauliFeatureMap_ZZ, L_BFGS_B) with PCA:\n",
            "              precision    recall  f1-score   support\n",
            "\n",
            "           0       0.46      0.33      0.38        40\n",
            "           1       0.56      0.70      0.62        50\n",
            "\n",
            "    accuracy                           0.53        90\n",
            "   macro avg       0.51      0.51      0.50        90\n",
            "weighted avg       0.52      0.53      0.52        90\n",
            "\n",
            "Quantum SVM training time (PauliFeatureMap_ZZ, L_BFGS_B) with PCA: 135.3717234134674 seconds\n"
          ]
        },
        {
          "output_type": "stream",
          "name": "stderr",
          "text": [
            "/usr/local/lib/python3.10/dist-packages/sklearn/preprocessing/_encoders.py:868: FutureWarning: `sparse` was renamed to `sparse_output` in version 1.2 and will be removed in 1.4. `sparse_output` is ignored unless you leave `sparse` to its default value.\n",
            "  warnings.warn(\n"
          ]
        },
        {
          "output_type": "stream",
          "name": "stdout",
          "text": [
            "Performance Metrics for Quantum SVM (PauliFeatureMap_ZZ, SLSQP) with PCA:\n",
            "              precision    recall  f1-score   support\n",
            "\n",
            "           0       0.53      0.47      0.50        40\n",
            "           1       0.61      0.66      0.63        50\n",
            "\n",
            "    accuracy                           0.58        90\n",
            "   macro avg       0.57      0.57      0.57        90\n",
            "weighted avg       0.57      0.58      0.57        90\n",
            "\n",
            "Quantum SVM training time (PauliFeatureMap_ZZ, SLSQP) with PCA: 110.16146779060364 seconds\n"
          ]
        },
        {
          "output_type": "stream",
          "name": "stderr",
          "text": [
            "/usr/local/lib/python3.10/dist-packages/sklearn/preprocessing/_encoders.py:868: FutureWarning: `sparse` was renamed to `sparse_output` in version 1.2 and will be removed in 1.4. `sparse_output` is ignored unless you leave `sparse` to its default value.\n",
            "  warnings.warn(\n"
          ]
        },
        {
          "output_type": "stream",
          "name": "stdout",
          "text": [
            "Performance Metrics for Quantum SVM (PauliFeatureMap_XYZ, SPSA) with PCA:\n",
            "              precision    recall  f1-score   support\n",
            "\n",
            "           0       0.35      0.17      0.23        40\n",
            "           1       0.53      0.74      0.62        50\n",
            "\n",
            "    accuracy                           0.49        90\n",
            "   macro avg       0.44      0.46      0.42        90\n",
            "weighted avg       0.45      0.49      0.45        90\n",
            "\n",
            "Quantum SVM training time (PauliFeatureMap_XYZ, SPSA) with PCA: 112.03703689575195 seconds\n"
          ]
        },
        {
          "output_type": "stream",
          "name": "stderr",
          "text": [
            "/usr/local/lib/python3.10/dist-packages/sklearn/preprocessing/_encoders.py:868: FutureWarning: `sparse` was renamed to `sparse_output` in version 1.2 and will be removed in 1.4. `sparse_output` is ignored unless you leave `sparse` to its default value.\n",
            "  warnings.warn(\n"
          ]
        },
        {
          "output_type": "stream",
          "name": "stdout",
          "text": [
            "Performance Metrics for Quantum SVM (PauliFeatureMap_XYZ, COBYLA) with PCA:\n",
            "              precision    recall  f1-score   support\n",
            "\n",
            "           0       0.49      0.42      0.45        40\n",
            "           1       0.58      0.64      0.61        50\n",
            "\n",
            "    accuracy                           0.54        90\n",
            "   macro avg       0.53      0.53      0.53        90\n",
            "weighted avg       0.54      0.54      0.54        90\n",
            "\n",
            "Quantum SVM training time (PauliFeatureMap_XYZ, COBYLA) with PCA: 56.706316232681274 seconds\n"
          ]
        },
        {
          "output_type": "stream",
          "name": "stderr",
          "text": [
            "/usr/local/lib/python3.10/dist-packages/sklearn/preprocessing/_encoders.py:868: FutureWarning: `sparse` was renamed to `sparse_output` in version 1.2 and will be removed in 1.4. `sparse_output` is ignored unless you leave `sparse` to its default value.\n",
            "  warnings.warn(\n"
          ]
        },
        {
          "output_type": "stream",
          "name": "stdout",
          "text": [
            "Performance Metrics for Quantum SVM (PauliFeatureMap_XYZ, L_BFGS_B) with PCA:\n",
            "              precision    recall  f1-score   support\n",
            "\n",
            "           0       0.18      0.05      0.08        40\n",
            "           1       0.52      0.82      0.64        50\n",
            "\n",
            "    accuracy                           0.48        90\n",
            "   macro avg       0.35      0.43      0.36        90\n",
            "weighted avg       0.37      0.48      0.39        90\n",
            "\n",
            "Quantum SVM training time (PauliFeatureMap_XYZ, L_BFGS_B) with PCA: 267.15962052345276 seconds\n"
          ]
        },
        {
          "output_type": "stream",
          "name": "stderr",
          "text": [
            "/usr/local/lib/python3.10/dist-packages/sklearn/preprocessing/_encoders.py:868: FutureWarning: `sparse` was renamed to `sparse_output` in version 1.2 and will be removed in 1.4. `sparse_output` is ignored unless you leave `sparse` to its default value.\n",
            "  warnings.warn(\n"
          ]
        },
        {
          "output_type": "stream",
          "name": "stdout",
          "text": [
            "Performance Metrics for Quantum SVM (PauliFeatureMap_XYZ, SLSQP) with PCA:\n",
            "              precision    recall  f1-score   support\n",
            "\n",
            "           0       0.36      0.10      0.16        40\n",
            "           1       0.54      0.86      0.67        50\n",
            "\n",
            "    accuracy                           0.52        90\n",
            "   macro avg       0.45      0.48      0.41        90\n",
            "weighted avg       0.46      0.52      0.44        90\n",
            "\n",
            "Quantum SVM training time (PauliFeatureMap_XYZ, SLSQP) with PCA: 193.11478233337402 seconds\n"
          ]
        },
        {
          "output_type": "stream",
          "name": "stderr",
          "text": [
            "/usr/local/lib/python3.10/dist-packages/sklearn/preprocessing/_encoders.py:868: FutureWarning: `sparse` was renamed to `sparse_output` in version 1.2 and will be removed in 1.4. `sparse_output` is ignored unless you leave `sparse` to its default value.\n",
            "  warnings.warn(\n"
          ]
        },
        {
          "output_type": "stream",
          "name": "stdout",
          "text": [
            "Performance Metrics for Quantum SVM (PauliFeatureMap_YZ, SPSA) with PCA:\n",
            "              precision    recall  f1-score   support\n",
            "\n",
            "           0       0.38      0.20      0.26        40\n",
            "           1       0.54      0.74      0.62        50\n",
            "\n",
            "    accuracy                           0.50        90\n",
            "   macro avg       0.46      0.47      0.44        90\n",
            "weighted avg       0.47      0.50      0.46        90\n",
            "\n",
            "Quantum SVM training time (PauliFeatureMap_YZ, SPSA) with PCA: 105.50051188468933 seconds\n"
          ]
        },
        {
          "output_type": "stream",
          "name": "stderr",
          "text": [
            "/usr/local/lib/python3.10/dist-packages/sklearn/preprocessing/_encoders.py:868: FutureWarning: `sparse` was renamed to `sparse_output` in version 1.2 and will be removed in 1.4. `sparse_output` is ignored unless you leave `sparse` to its default value.\n",
            "  warnings.warn(\n"
          ]
        },
        {
          "output_type": "stream",
          "name": "stdout",
          "text": [
            "Performance Metrics for Quantum SVM (PauliFeatureMap_YZ, COBYLA) with PCA:\n",
            "              precision    recall  f1-score   support\n",
            "\n",
            "           0       0.42      0.33      0.37        40\n",
            "           1       0.54      0.64      0.59        50\n",
            "\n",
            "    accuracy                           0.50        90\n",
            "   macro avg       0.48      0.48      0.48        90\n",
            "weighted avg       0.49      0.50      0.49        90\n",
            "\n",
            "Quantum SVM training time (PauliFeatureMap_YZ, COBYLA) with PCA: 57.593585729599 seconds\n"
          ]
        },
        {
          "output_type": "stream",
          "name": "stderr",
          "text": [
            "/usr/local/lib/python3.10/dist-packages/sklearn/preprocessing/_encoders.py:868: FutureWarning: `sparse` was renamed to `sparse_output` in version 1.2 and will be removed in 1.4. `sparse_output` is ignored unless you leave `sparse` to its default value.\n",
            "  warnings.warn(\n"
          ]
        },
        {
          "output_type": "stream",
          "name": "stdout",
          "text": [
            "Performance Metrics for Quantum SVM (PauliFeatureMap_YZ, L_BFGS_B) with PCA:\n",
            "              precision    recall  f1-score   support\n",
            "\n",
            "           0       0.40      0.20      0.27        40\n",
            "           1       0.54      0.76      0.63        50\n",
            "\n",
            "    accuracy                           0.51        90\n",
            "   macro avg       0.47      0.48      0.45        90\n",
            "weighted avg       0.48      0.51      0.47        90\n",
            "\n",
            "Quantum SVM training time (PauliFeatureMap_YZ, L_BFGS_B) with PCA: 279.9985418319702 seconds\n"
          ]
        },
        {
          "output_type": "stream",
          "name": "stderr",
          "text": [
            "/usr/local/lib/python3.10/dist-packages/sklearn/preprocessing/_encoders.py:868: FutureWarning: `sparse` was renamed to `sparse_output` in version 1.2 and will be removed in 1.4. `sparse_output` is ignored unless you leave `sparse` to its default value.\n",
            "  warnings.warn(\n"
          ]
        },
        {
          "output_type": "stream",
          "name": "stdout",
          "text": [
            "Performance Metrics for Quantum SVM (PauliFeatureMap_YZ, SLSQP) with PCA:\n",
            "              precision    recall  f1-score   support\n",
            "\n",
            "           0       0.45      0.65      0.53        40\n",
            "           1       0.56      0.36      0.44        50\n",
            "\n",
            "    accuracy                           0.49        90\n",
            "   macro avg       0.51      0.51      0.48        90\n",
            "weighted avg       0.51      0.49      0.48        90\n",
            "\n",
            "Quantum SVM training time (PauliFeatureMap_YZ, SLSQP) with PCA: 93.67751049995422 seconds\n"
          ]
        },
        {
          "output_type": "stream",
          "name": "stderr",
          "text": [
            "/usr/local/lib/python3.10/dist-packages/sklearn/preprocessing/_encoders.py:868: FutureWarning: `sparse` was renamed to `sparse_output` in version 1.2 and will be removed in 1.4. `sparse_output` is ignored unless you leave `sparse` to its default value.\n",
            "  warnings.warn(\n"
          ]
        },
        {
          "output_type": "stream",
          "name": "stdout",
          "text": [
            "Performance Metrics for Quantum SVM (PauliFeatureMap_Y, SPSA) with PCA:\n",
            "              precision    recall  f1-score   support\n",
            "\n",
            "           0       0.00      0.00      0.00        40\n",
            "           1       0.56      1.00      0.71        50\n",
            "\n",
            "    accuracy                           0.56        90\n",
            "   macro avg       0.28      0.50      0.36        90\n",
            "weighted avg       0.31      0.56      0.40        90\n",
            "\n",
            "Quantum SVM training time (PauliFeatureMap_Y, SPSA) with PCA: 97.38106393814087 seconds\n"
          ]
        },
        {
          "output_type": "stream",
          "name": "stderr",
          "text": [
            "/usr/local/lib/python3.10/dist-packages/sklearn/metrics/_classification.py:1344: UndefinedMetricWarning: Precision and F-score are ill-defined and being set to 0.0 in labels with no predicted samples. Use `zero_division` parameter to control this behavior.\n",
            "  _warn_prf(average, modifier, msg_start, len(result))\n",
            "/usr/local/lib/python3.10/dist-packages/sklearn/metrics/_classification.py:1344: UndefinedMetricWarning: Precision and F-score are ill-defined and being set to 0.0 in labels with no predicted samples. Use `zero_division` parameter to control this behavior.\n",
            "  _warn_prf(average, modifier, msg_start, len(result))\n",
            "/usr/local/lib/python3.10/dist-packages/sklearn/metrics/_classification.py:1344: UndefinedMetricWarning: Precision and F-score are ill-defined and being set to 0.0 in labels with no predicted samples. Use `zero_division` parameter to control this behavior.\n",
            "  _warn_prf(average, modifier, msg_start, len(result))\n",
            "/usr/local/lib/python3.10/dist-packages/sklearn/preprocessing/_encoders.py:868: FutureWarning: `sparse` was renamed to `sparse_output` in version 1.2 and will be removed in 1.4. `sparse_output` is ignored unless you leave `sparse` to its default value.\n",
            "  warnings.warn(\n"
          ]
        },
        {
          "output_type": "stream",
          "name": "stdout",
          "text": [
            "Performance Metrics for Quantum SVM (PauliFeatureMap_Y, COBYLA) with PCA:\n",
            "              precision    recall  f1-score   support\n",
            "\n",
            "           0       0.00      0.00      0.00        40\n",
            "           1       0.56      1.00      0.71        50\n",
            "\n",
            "    accuracy                           0.56        90\n",
            "   macro avg       0.28      0.50      0.36        90\n",
            "weighted avg       0.31      0.56      0.40        90\n",
            "\n",
            "Quantum SVM training time (PauliFeatureMap_Y, COBYLA) with PCA: 53.55165338516235 seconds\n"
          ]
        },
        {
          "output_type": "stream",
          "name": "stderr",
          "text": [
            "/usr/local/lib/python3.10/dist-packages/sklearn/metrics/_classification.py:1344: UndefinedMetricWarning: Precision and F-score are ill-defined and being set to 0.0 in labels with no predicted samples. Use `zero_division` parameter to control this behavior.\n",
            "  _warn_prf(average, modifier, msg_start, len(result))\n",
            "/usr/local/lib/python3.10/dist-packages/sklearn/metrics/_classification.py:1344: UndefinedMetricWarning: Precision and F-score are ill-defined and being set to 0.0 in labels with no predicted samples. Use `zero_division` parameter to control this behavior.\n",
            "  _warn_prf(average, modifier, msg_start, len(result))\n",
            "/usr/local/lib/python3.10/dist-packages/sklearn/metrics/_classification.py:1344: UndefinedMetricWarning: Precision and F-score are ill-defined and being set to 0.0 in labels with no predicted samples. Use `zero_division` parameter to control this behavior.\n",
            "  _warn_prf(average, modifier, msg_start, len(result))\n",
            "/usr/local/lib/python3.10/dist-packages/sklearn/preprocessing/_encoders.py:868: FutureWarning: `sparse` was renamed to `sparse_output` in version 1.2 and will be removed in 1.4. `sparse_output` is ignored unless you leave `sparse` to its default value.\n",
            "  warnings.warn(\n"
          ]
        },
        {
          "output_type": "stream",
          "name": "stdout",
          "text": [
            "Performance Metrics for Quantum SVM (PauliFeatureMap_Y, L_BFGS_B) with PCA:\n",
            "              precision    recall  f1-score   support\n",
            "\n",
            "           0       0.00      0.00      0.00        40\n",
            "           1       0.56      1.00      0.71        50\n",
            "\n",
            "    accuracy                           0.56        90\n",
            "   macro avg       0.28      0.50      0.36        90\n",
            "weighted avg       0.31      0.56      0.40        90\n",
            "\n",
            "Quantum SVM training time (PauliFeatureMap_Y, L_BFGS_B) with PCA: 179.1551477909088 seconds\n"
          ]
        },
        {
          "output_type": "stream",
          "name": "stderr",
          "text": [
            "/usr/local/lib/python3.10/dist-packages/sklearn/metrics/_classification.py:1344: UndefinedMetricWarning: Precision and F-score are ill-defined and being set to 0.0 in labels with no predicted samples. Use `zero_division` parameter to control this behavior.\n",
            "  _warn_prf(average, modifier, msg_start, len(result))\n",
            "/usr/local/lib/python3.10/dist-packages/sklearn/metrics/_classification.py:1344: UndefinedMetricWarning: Precision and F-score are ill-defined and being set to 0.0 in labels with no predicted samples. Use `zero_division` parameter to control this behavior.\n",
            "  _warn_prf(average, modifier, msg_start, len(result))\n",
            "/usr/local/lib/python3.10/dist-packages/sklearn/metrics/_classification.py:1344: UndefinedMetricWarning: Precision and F-score are ill-defined and being set to 0.0 in labels with no predicted samples. Use `zero_division` parameter to control this behavior.\n",
            "  _warn_prf(average, modifier, msg_start, len(result))\n",
            "/usr/local/lib/python3.10/dist-packages/sklearn/preprocessing/_encoders.py:868: FutureWarning: `sparse` was renamed to `sparse_output` in version 1.2 and will be removed in 1.4. `sparse_output` is ignored unless you leave `sparse` to its default value.\n",
            "  warnings.warn(\n"
          ]
        },
        {
          "output_type": "stream",
          "name": "stdout",
          "text": [
            "Performance Metrics for Quantum SVM (PauliFeatureMap_Y, SLSQP) with PCA:\n",
            "              precision    recall  f1-score   support\n",
            "\n",
            "           0       0.00      0.00      0.00        40\n",
            "           1       0.56      1.00      0.71        50\n",
            "\n",
            "    accuracy                           0.56        90\n",
            "   macro avg       0.28      0.50      0.36        90\n",
            "weighted avg       0.31      0.56      0.40        90\n",
            "\n",
            "Quantum SVM training time (PauliFeatureMap_Y, SLSQP) with PCA: 73.3595016002655 seconds\n"
          ]
        },
        {
          "output_type": "stream",
          "name": "stderr",
          "text": [
            "/usr/local/lib/python3.10/dist-packages/sklearn/metrics/_classification.py:1344: UndefinedMetricWarning: Precision and F-score are ill-defined and being set to 0.0 in labels with no predicted samples. Use `zero_division` parameter to control this behavior.\n",
            "  _warn_prf(average, modifier, msg_start, len(result))\n",
            "/usr/local/lib/python3.10/dist-packages/sklearn/metrics/_classification.py:1344: UndefinedMetricWarning: Precision and F-score are ill-defined and being set to 0.0 in labels with no predicted samples. Use `zero_division` parameter to control this behavior.\n",
            "  _warn_prf(average, modifier, msg_start, len(result))\n",
            "/usr/local/lib/python3.10/dist-packages/sklearn/metrics/_classification.py:1344: UndefinedMetricWarning: Precision and F-score are ill-defined and being set to 0.0 in labels with no predicted samples. Use `zero_division` parameter to control this behavior.\n",
            "  _warn_prf(average, modifier, msg_start, len(result))\n",
            "/usr/local/lib/python3.10/dist-packages/sklearn/preprocessing/_encoders.py:868: FutureWarning: `sparse` was renamed to `sparse_output` in version 1.2 and will be removed in 1.4. `sparse_output` is ignored unless you leave `sparse` to its default value.\n",
            "  warnings.warn(\n"
          ]
        },
        {
          "output_type": "stream",
          "name": "stdout",
          "text": [
            "Performance Metrics for Quantum SVM (PauliFeatureMap_XYZYY, SPSA) with PCA:\n",
            "              precision    recall  f1-score   support\n",
            "\n",
            "           0       0.55      0.30      0.39        40\n",
            "           1       0.59      0.80      0.68        50\n",
            "\n",
            "    accuracy                           0.58        90\n",
            "   macro avg       0.57      0.55      0.53        90\n",
            "weighted avg       0.57      0.58      0.55        90\n",
            "\n",
            "Quantum SVM training time (PauliFeatureMap_XYZYY, SPSA) with PCA: 132.07268238067627 seconds\n"
          ]
        },
        {
          "output_type": "stream",
          "name": "stderr",
          "text": [
            "/usr/local/lib/python3.10/dist-packages/sklearn/preprocessing/_encoders.py:868: FutureWarning: `sparse` was renamed to `sparse_output` in version 1.2 and will be removed in 1.4. `sparse_output` is ignored unless you leave `sparse` to its default value.\n",
            "  warnings.warn(\n"
          ]
        },
        {
          "output_type": "stream",
          "name": "stdout",
          "text": [
            "Performance Metrics for Quantum SVM (PauliFeatureMap_XYZYY, COBYLA) with PCA:\n",
            "              precision    recall  f1-score   support\n",
            "\n",
            "           0       0.46      0.15      0.23        40\n",
            "           1       0.56      0.86      0.68        50\n",
            "\n",
            "    accuracy                           0.54        90\n",
            "   macro avg       0.51      0.51      0.45        90\n",
            "weighted avg       0.52      0.54      0.48        90\n",
            "\n",
            "Quantum SVM training time (PauliFeatureMap_XYZYY, COBYLA) with PCA: 71.87928318977356 seconds\n"
          ]
        },
        {
          "output_type": "stream",
          "name": "stderr",
          "text": [
            "/usr/local/lib/python3.10/dist-packages/sklearn/preprocessing/_encoders.py:868: FutureWarning: `sparse` was renamed to `sparse_output` in version 1.2 and will be removed in 1.4. `sparse_output` is ignored unless you leave `sparse` to its default value.\n",
            "  warnings.warn(\n"
          ]
        },
        {
          "output_type": "stream",
          "name": "stdout",
          "text": [
            "Performance Metrics for Quantum SVM (PauliFeatureMap_XYZYY, L_BFGS_B) with PCA:\n",
            "              precision    recall  f1-score   support\n",
            "\n",
            "           0       0.54      0.33      0.41        40\n",
            "           1       0.59      0.78      0.67        50\n",
            "\n",
            "    accuracy                           0.58        90\n",
            "   macro avg       0.57      0.55      0.54        90\n",
            "weighted avg       0.57      0.58      0.55        90\n",
            "\n",
            "Quantum SVM training time (PauliFeatureMap_XYZYY, L_BFGS_B) with PCA: 265.486453294754 seconds\n"
          ]
        },
        {
          "output_type": "stream",
          "name": "stderr",
          "text": [
            "/usr/local/lib/python3.10/dist-packages/sklearn/preprocessing/_encoders.py:868: FutureWarning: `sparse` was renamed to `sparse_output` in version 1.2 and will be removed in 1.4. `sparse_output` is ignored unless you leave `sparse` to its default value.\n",
            "  warnings.warn(\n"
          ]
        },
        {
          "output_type": "stream",
          "name": "stdout",
          "text": [
            "Performance Metrics for Quantum SVM (PauliFeatureMap_XYZYY, SLSQP) with PCA:\n",
            "              precision    recall  f1-score   support\n",
            "\n",
            "           0       0.58      0.38      0.45        40\n",
            "           1       0.61      0.78      0.68        50\n",
            "\n",
            "    accuracy                           0.60        90\n",
            "   macro avg       0.59      0.58      0.57        90\n",
            "weighted avg       0.59      0.60      0.58        90\n",
            "\n",
            "Quantum SVM training time (PauliFeatureMap_XYZYY, SLSQP) with PCA: 40.84387540817261 seconds\n",
            "Best Configuration with PCA: Feature Map - PauliFeatureMap_XYZYY, Optimizer - SLSQP\n"
          ]
        }
      ]
    },
    {
      "cell_type": "code",
      "source": [
        "import numpy as np\n",
        "from sklearn.decomposition import PCA\n",
        "import matplotlib.pyplot as plt\n",
        "from sklearn.model_selection import train_test_split\n",
        "from sklearn.preprocessing import StandardScaler\n",
        "from sklearn.svm import SVC\n",
        "from sklearn.metrics import classification_report, accuracy_score\n",
        "from qiskit import Aer\n",
        "from qiskit.circuit.library import PauliFeatureMap\n",
        "from qiskit.circuit.library import ZZFeatureMap\n",
        "from qiskit_machine_learning.algorithms.classifiers import VQC\n",
        "from qiskit.utils import QuantumInstance\n",
        "from qiskit.algorithms.optimizers import SPSA, COBYLA, L_BFGS_B, SLSQP, ADAM\n",
        "from time import time\n",
        "\n",
        "np.random.seed(0)\n",
        "\n",
        "# Define the number of samples and features\n",
        "num_samples = 300\n",
        "num_features = 10  # You can increase this number to create a higher-dimensional dataset\n",
        "\n",
        "# Generate random data with strong correlations in the first few features\n",
        "mean = np.zeros(num_features)\n",
        "cov = np.eye(num_features)\n",
        "for i in range(5):\n",
        "    cov[i, i] = 0.5  # Increase the variance for the first 5 features to make them important\n",
        "\n",
        "data = np.random.multivariate_normal(mean, cov, num_samples)\n",
        "\n",
        "# Split the data into training and testing sets\n",
        "X_train, X_test, y_train, y_test = train_test_split(data, np.random.choice([0, 1], size=num_samples), test_size=0.3, random_state=42)\n",
        "\n",
        "# Data Preprocessing\n",
        "scaler = StandardScaler().fit(X_train)\n",
        "X_train = scaler.transform(X_train)\n",
        "X_test = scaler.transform(X_test)\n",
        "\n",
        "# Perform PCA to reduce dimensionality\n",
        "pca = PCA(n_components=2)  # You can adjust the number of components as needed\n",
        "X_train_pca = pca.fit_transform(X_train)\n",
        "X_test_pca = pca.transform(X_test)\n",
        "\n",
        "# Train Classical SVM on reduced dataset\n",
        "classical_svm_pca = SVC(kernel='rbf', C=1.0, gamma='scale')\n",
        "start = time()\n",
        "classical_svm_pca.fit(X_train_pca, y_train)\n",
        "end = time()\n",
        "classical_svm_predictions_pca = classical_svm_pca.predict(X_test_pca)\n",
        "print(\"Performance Metrics for Classical SVM with PCA:\")\n",
        "print(classification_report(y_test, classical_svm_predictions_pca))\n",
        "print(f\"Classical SVM training time with PCA: {end - start} seconds\")\n",
        "\n",
        "# Define a list of feature maps and their parameters to tune for QSVM\n",
        "feature_maps = [\n",
        "    {'name': 'ZZFeatureMap', 'feature_map': ZZFeatureMap(feature_dimension=2, reps=2, entanglement='full')},\n",
        "    {'name': 'PauliFeatureMap_XY', 'feature_map': PauliFeatureMap(feature_dimension=2, reps=2, paulis=['X', 'Y'], entanglement='full')},\n",
        "    {'name': 'PauliFeatureMap_ZZ', 'feature_map': PauliFeatureMap(feature_dimension=2, reps=2, paulis=['Z', 'ZZ'], entanglement='full')},\n",
        "    {'name': 'PauliFeatureMap_XYZ', 'feature_map': PauliFeatureMap(feature_dimension=2, reps=2, paulis=['X', 'Y', 'Z'], entanglement='full')},\n",
        "    {'name': 'PauliFeatureMap_YZ', 'feature_map': PauliFeatureMap(feature_dimension=2, reps=2, paulis=['Y', 'Z'], entanglement='full')},\n",
        "    {'name': 'PauliFeatureMap_Y', 'feature_map': PauliFeatureMap(feature_dimension=2, reps=2, paulis=['Y'], entanglement='full')},\n",
        "    {'name': 'PauliFeatureMap_XYZYY', 'feature_map': PauliFeatureMap(feature_dimension=2, reps=2, paulis=['X', 'Y', 'Z', 'YY'], entanglement='full')},\n",
        "    # Add more feature maps and their parameters to explore\n",
        "]\n",
        "\n",
        "# Define a list of optimizer parameters to tune for QSVM\n",
        "optimizers = [\n",
        "    {'name': 'SPSA', 'optimizer': SPSA(maxiter=50)},\n",
        "    {'name': 'COBYLA', 'optimizer': COBYLA(maxiter=100)},\n",
        "    {'name': 'L_BFGS_B', 'optimizer': L_BFGS_B(maxfun=100, maxiter=100)},\n",
        "    {'name': 'SLSQP', 'optimizer': SLSQP(maxiter=100)},\n",
        "    # Add more optimizers and their parameters to explore\n",
        "]\n",
        "\n",
        "\n",
        "best_score = 0\n",
        "best_params = {}\n",
        "\n",
        "for feature_map_params in feature_maps:\n",
        "    feature_map_name = feature_map_params['name']\n",
        "    feature_map = feature_map_params['feature_map']\n",
        "\n",
        "    for optimizer_params in optimizers:\n",
        "        optimizer_name = optimizer_params['name']\n",
        "        optimizer = optimizer_params['optimizer']\n",
        "\n",
        "        # Create a sampler for the AerSimulator\n",
        "        sampler = Sampler()\n",
        "\n",
        "        # Create an instance of the AerSimulator\n",
        "        simulator = AerSimulator()\n",
        "\n",
        "        # Train QSVM with the current feature map and optimizer using the sampler\n",
        "        vqc = VQC(feature_map=feature_map, ansatz=None, optimizer=optimizer, quantum_instance=simulator)\n",
        "\n",
        "        start = time()\n",
        "        vqc.fit(X_train_pca, y_train)\n",
        "        end = time()\n",
        "\n",
        "        result_quantum = vqc.predict(X_test_pca)\n",
        "        score = accuracy_score(y_test, result_quantum)\n",
        "\n",
        "        # Print performance metrics and runtime for the current configuration\n",
        "        print(f\"Performance Metrics for Quantum SVM ({feature_map_name}, {optimizer_name}) with PCA:\")\n",
        "        print(classification_report(y_test, result_quantum))\n",
        "        print(f\"Quantum SVM training time ({feature_map_name}, {optimizer_name}) with PCA: {end - start} seconds\")\n",
        "\n",
        "        # Check if the current configuration is the best\n",
        "        if score > best_score:\n",
        "            best_score = score\n",
        "            best_params = {'feature_map': feature_map_name, 'optimizer': optimizer_name}\n",
        "\n",
        "# Print the best configuration found\n",
        "print(f\"Best Configuration with PCA: Feature Map - {best_params['feature_map']}, Optimizer - {best_params['optimizer']}\")"
      ],
      "metadata": {
        "id": "bfPzERSq2Src",
        "colab": {
          "base_uri": "https://localhost:8080/"
        },
        "outputId": "d1f4643a-735f-4515-94ea-75cbcb647529"
      },
      "execution_count": 14,
      "outputs": [
        {
          "output_type": "stream",
          "name": "stdout",
          "text": [
            "Performance Metrics for Classical SVM with PCA:\n",
            "              precision    recall  f1-score   support\n",
            "\n",
            "           0       0.31      0.12      0.18        40\n",
            "           1       0.53      0.78      0.63        50\n",
            "\n",
            "    accuracy                           0.49        90\n",
            "   macro avg       0.42      0.45      0.40        90\n",
            "weighted avg       0.43      0.49      0.43        90\n",
            "\n",
            "Classical SVM training time with PCA: 0.0029010772705078125 seconds\n"
          ]
        },
        {
          "output_type": "stream",
          "name": "stderr",
          "text": [
            "/usr/local/lib/python3.10/dist-packages/sklearn/preprocessing/_encoders.py:868: FutureWarning: `sparse` was renamed to `sparse_output` in version 1.2 and will be removed in 1.4. `sparse_output` is ignored unless you leave `sparse` to its default value.\n",
            "  warnings.warn(\n"
          ]
        },
        {
          "output_type": "stream",
          "name": "stdout",
          "text": [
            "Performance Metrics for Quantum SVM (ZZFeatureMap, SPSA) with PCA:\n",
            "              precision    recall  f1-score   support\n",
            "\n",
            "           0       0.44      0.47      0.46        40\n",
            "           1       0.55      0.52      0.54        50\n",
            "\n",
            "    accuracy                           0.50        90\n",
            "   macro avg       0.50      0.50      0.50        90\n",
            "weighted avg       0.50      0.50      0.50        90\n",
            "\n",
            "Quantum SVM training time (ZZFeatureMap, SPSA) with PCA: 104.54405069351196 seconds\n"
          ]
        },
        {
          "output_type": "stream",
          "name": "stderr",
          "text": [
            "/usr/local/lib/python3.10/dist-packages/sklearn/preprocessing/_encoders.py:868: FutureWarning: `sparse` was renamed to `sparse_output` in version 1.2 and will be removed in 1.4. `sparse_output` is ignored unless you leave `sparse` to its default value.\n",
            "  warnings.warn(\n"
          ]
        },
        {
          "output_type": "stream",
          "name": "stdout",
          "text": [
            "Performance Metrics for Quantum SVM (ZZFeatureMap, COBYLA) with PCA:\n",
            "              precision    recall  f1-score   support\n",
            "\n",
            "           0       0.52      0.35      0.42        40\n",
            "           1       0.59      0.74      0.65        50\n",
            "\n",
            "    accuracy                           0.57        90\n",
            "   macro avg       0.55      0.54      0.54        90\n",
            "weighted avg       0.56      0.57      0.55        90\n",
            "\n",
            "Quantum SVM training time (ZZFeatureMap, COBYLA) with PCA: 57.84174346923828 seconds\n"
          ]
        },
        {
          "output_type": "stream",
          "name": "stderr",
          "text": [
            "/usr/local/lib/python3.10/dist-packages/sklearn/preprocessing/_encoders.py:868: FutureWarning: `sparse` was renamed to `sparse_output` in version 1.2 and will be removed in 1.4. `sparse_output` is ignored unless you leave `sparse` to its default value.\n",
            "  warnings.warn(\n"
          ]
        },
        {
          "output_type": "stream",
          "name": "stdout",
          "text": [
            "Performance Metrics for Quantum SVM (ZZFeatureMap, L_BFGS_B) with PCA:\n",
            "              precision    recall  f1-score   support\n",
            "\n",
            "           0       0.58      0.38      0.45        40\n",
            "           1       0.61      0.78      0.68        50\n",
            "\n",
            "    accuracy                           0.60        90\n",
            "   macro avg       0.59      0.58      0.57        90\n",
            "weighted avg       0.59      0.60      0.58        90\n",
            "\n",
            "Quantum SVM training time (ZZFeatureMap, L_BFGS_B) with PCA: 189.8248417377472 seconds\n"
          ]
        },
        {
          "output_type": "stream",
          "name": "stderr",
          "text": [
            "/usr/local/lib/python3.10/dist-packages/sklearn/preprocessing/_encoders.py:868: FutureWarning: `sparse` was renamed to `sparse_output` in version 1.2 and will be removed in 1.4. `sparse_output` is ignored unless you leave `sparse` to its default value.\n",
            "  warnings.warn(\n"
          ]
        },
        {
          "output_type": "stream",
          "name": "stdout",
          "text": [
            "Performance Metrics for Quantum SVM (ZZFeatureMap, SLSQP) with PCA:\n",
            "              precision    recall  f1-score   support\n",
            "\n",
            "           0       0.47      0.38      0.42        40\n",
            "           1       0.57      0.66      0.61        50\n",
            "\n",
            "    accuracy                           0.53        90\n",
            "   macro avg       0.52      0.52      0.51        90\n",
            "weighted avg       0.52      0.53      0.52        90\n",
            "\n",
            "Quantum SVM training time (ZZFeatureMap, SLSQP) with PCA: 124.50709295272827 seconds\n"
          ]
        },
        {
          "output_type": "stream",
          "name": "stderr",
          "text": [
            "/usr/local/lib/python3.10/dist-packages/sklearn/preprocessing/_encoders.py:868: FutureWarning: `sparse` was renamed to `sparse_output` in version 1.2 and will be removed in 1.4. `sparse_output` is ignored unless you leave `sparse` to its default value.\n",
            "  warnings.warn(\n"
          ]
        },
        {
          "output_type": "stream",
          "name": "stdout",
          "text": [
            "Performance Metrics for Quantum SVM (PauliFeatureMap_XY, SPSA) with PCA:\n",
            "              precision    recall  f1-score   support\n",
            "\n",
            "           0       0.51      0.47      0.49        40\n",
            "           1       0.60      0.64      0.62        50\n",
            "\n",
            "    accuracy                           0.57        90\n",
            "   macro avg       0.56      0.56      0.56        90\n",
            "weighted avg       0.56      0.57      0.56        90\n",
            "\n",
            "Quantum SVM training time (PauliFeatureMap_XY, SPSA) with PCA: 107.63186597824097 seconds\n"
          ]
        },
        {
          "output_type": "stream",
          "name": "stderr",
          "text": [
            "/usr/local/lib/python3.10/dist-packages/sklearn/preprocessing/_encoders.py:868: FutureWarning: `sparse` was renamed to `sparse_output` in version 1.2 and will be removed in 1.4. `sparse_output` is ignored unless you leave `sparse` to its default value.\n",
            "  warnings.warn(\n"
          ]
        },
        {
          "output_type": "stream",
          "name": "stdout",
          "text": [
            "Performance Metrics for Quantum SVM (PauliFeatureMap_XY, COBYLA) with PCA:\n",
            "              precision    recall  f1-score   support\n",
            "\n",
            "           0       0.45      0.45      0.45        40\n",
            "           1       0.56      0.56      0.56        50\n",
            "\n",
            "    accuracy                           0.51        90\n",
            "   macro avg       0.51      0.51      0.51        90\n",
            "weighted avg       0.51      0.51      0.51        90\n",
            "\n",
            "Quantum SVM training time (PauliFeatureMap_XY, COBYLA) with PCA: 65.31784749031067 seconds\n"
          ]
        },
        {
          "output_type": "stream",
          "name": "stderr",
          "text": [
            "/usr/local/lib/python3.10/dist-packages/sklearn/preprocessing/_encoders.py:868: FutureWarning: `sparse` was renamed to `sparse_output` in version 1.2 and will be removed in 1.4. `sparse_output` is ignored unless you leave `sparse` to its default value.\n",
            "  warnings.warn(\n"
          ]
        },
        {
          "output_type": "stream",
          "name": "stdout",
          "text": [
            "Performance Metrics for Quantum SVM (PauliFeatureMap_XY, L_BFGS_B) with PCA:\n",
            "              precision    recall  f1-score   support\n",
            "\n",
            "           0       0.50      0.33      0.39        40\n",
            "           1       0.58      0.74      0.65        50\n",
            "\n",
            "    accuracy                           0.56        90\n",
            "   macro avg       0.54      0.53      0.52        90\n",
            "weighted avg       0.54      0.56      0.54        90\n",
            "\n",
            "Quantum SVM training time (PauliFeatureMap_XY, L_BFGS_B) with PCA: 205.94527745246887 seconds\n"
          ]
        },
        {
          "output_type": "stream",
          "name": "stderr",
          "text": [
            "/usr/local/lib/python3.10/dist-packages/sklearn/preprocessing/_encoders.py:868: FutureWarning: `sparse` was renamed to `sparse_output` in version 1.2 and will be removed in 1.4. `sparse_output` is ignored unless you leave `sparse` to its default value.\n",
            "  warnings.warn(\n"
          ]
        },
        {
          "output_type": "stream",
          "name": "stdout",
          "text": [
            "Performance Metrics for Quantum SVM (PauliFeatureMap_XY, SLSQP) with PCA:\n",
            "              precision    recall  f1-score   support\n",
            "\n",
            "           0       0.43      0.23      0.30        40\n",
            "           1       0.55      0.76      0.64        50\n",
            "\n",
            "    accuracy                           0.52        90\n",
            "   macro avg       0.49      0.49      0.47        90\n",
            "weighted avg       0.50      0.52      0.49        90\n",
            "\n",
            "Quantum SVM training time (PauliFeatureMap_XY, SLSQP) with PCA: 162.30551052093506 seconds\n"
          ]
        },
        {
          "output_type": "stream",
          "name": "stderr",
          "text": [
            "/usr/local/lib/python3.10/dist-packages/sklearn/preprocessing/_encoders.py:868: FutureWarning: `sparse` was renamed to `sparse_output` in version 1.2 and will be removed in 1.4. `sparse_output` is ignored unless you leave `sparse` to its default value.\n",
            "  warnings.warn(\n"
          ]
        },
        {
          "output_type": "stream",
          "name": "stdout",
          "text": [
            "Performance Metrics for Quantum SVM (PauliFeatureMap_ZZ, SPSA) with PCA:\n",
            "              precision    recall  f1-score   support\n",
            "\n",
            "           0       0.56      0.38      0.45        40\n",
            "           1       0.60      0.76      0.67        50\n",
            "\n",
            "    accuracy                           0.59        90\n",
            "   macro avg       0.58      0.57      0.56        90\n",
            "weighted avg       0.58      0.59      0.57        90\n",
            "\n",
            "Quantum SVM training time (PauliFeatureMap_ZZ, SPSA) with PCA: 104.56604790687561 seconds\n"
          ]
        },
        {
          "output_type": "stream",
          "name": "stderr",
          "text": [
            "/usr/local/lib/python3.10/dist-packages/sklearn/preprocessing/_encoders.py:868: FutureWarning: `sparse` was renamed to `sparse_output` in version 1.2 and will be removed in 1.4. `sparse_output` is ignored unless you leave `sparse` to its default value.\n",
            "  warnings.warn(\n"
          ]
        },
        {
          "output_type": "stream",
          "name": "stdout",
          "text": [
            "Performance Metrics for Quantum SVM (PauliFeatureMap_ZZ, COBYLA) with PCA:\n",
            "              precision    recall  f1-score   support\n",
            "\n",
            "           0       0.52      0.33      0.40        40\n",
            "           1       0.58      0.76      0.66        50\n",
            "\n",
            "    accuracy                           0.57        90\n",
            "   macro avg       0.55      0.54      0.53        90\n",
            "weighted avg       0.56      0.57      0.54        90\n",
            "\n",
            "Quantum SVM training time (PauliFeatureMap_ZZ, COBYLA) with PCA: 57.270143032073975 seconds\n"
          ]
        },
        {
          "output_type": "stream",
          "name": "stderr",
          "text": [
            "/usr/local/lib/python3.10/dist-packages/sklearn/preprocessing/_encoders.py:868: FutureWarning: `sparse` was renamed to `sparse_output` in version 1.2 and will be removed in 1.4. `sparse_output` is ignored unless you leave `sparse` to its default value.\n",
            "  warnings.warn(\n"
          ]
        },
        {
          "output_type": "stream",
          "name": "stdout",
          "text": [
            "Performance Metrics for Quantum SVM (PauliFeatureMap_ZZ, L_BFGS_B) with PCA:\n",
            "              precision    recall  f1-score   support\n",
            "\n",
            "           0       0.56      0.38      0.45        40\n",
            "           1       0.60      0.76      0.67        50\n",
            "\n",
            "    accuracy                           0.59        90\n",
            "   macro avg       0.58      0.57      0.56        90\n",
            "weighted avg       0.58      0.59      0.57        90\n",
            "\n",
            "Quantum SVM training time (PauliFeatureMap_ZZ, L_BFGS_B) with PCA: 161.30514192581177 seconds\n"
          ]
        },
        {
          "output_type": "stream",
          "name": "stderr",
          "text": [
            "/usr/local/lib/python3.10/dist-packages/sklearn/preprocessing/_encoders.py:868: FutureWarning: `sparse` was renamed to `sparse_output` in version 1.2 and will be removed in 1.4. `sparse_output` is ignored unless you leave `sparse` to its default value.\n",
            "  warnings.warn(\n"
          ]
        },
        {
          "output_type": "stream",
          "name": "stdout",
          "text": [
            "Performance Metrics for Quantum SVM (PauliFeatureMap_ZZ, SLSQP) with PCA:\n",
            "              precision    recall  f1-score   support\n",
            "\n",
            "           0       0.50      0.35      0.41        40\n",
            "           1       0.58      0.72      0.64        50\n",
            "\n",
            "    accuracy                           0.56        90\n",
            "   macro avg       0.54      0.53      0.53        90\n",
            "weighted avg       0.54      0.56      0.54        90\n",
            "\n",
            "Quantum SVM training time (PauliFeatureMap_ZZ, SLSQP) with PCA: 152.04003620147705 seconds\n"
          ]
        },
        {
          "output_type": "stream",
          "name": "stderr",
          "text": [
            "/usr/local/lib/python3.10/dist-packages/sklearn/preprocessing/_encoders.py:868: FutureWarning: `sparse` was renamed to `sparse_output` in version 1.2 and will be removed in 1.4. `sparse_output` is ignored unless you leave `sparse` to its default value.\n",
            "  warnings.warn(\n"
          ]
        },
        {
          "output_type": "stream",
          "name": "stdout",
          "text": [
            "Performance Metrics for Quantum SVM (PauliFeatureMap_XYZ, SPSA) with PCA:\n",
            "              precision    recall  f1-score   support\n",
            "\n",
            "           0       0.50      0.10      0.17        40\n",
            "           1       0.56      0.92      0.70        50\n",
            "\n",
            "    accuracy                           0.56        90\n",
            "   macro avg       0.53      0.51      0.43        90\n",
            "weighted avg       0.53      0.56      0.46        90\n",
            "\n",
            "Quantum SVM training time (PauliFeatureMap_XYZ, SPSA) with PCA: 113.09425234794617 seconds\n"
          ]
        },
        {
          "output_type": "stream",
          "name": "stderr",
          "text": [
            "/usr/local/lib/python3.10/dist-packages/sklearn/preprocessing/_encoders.py:868: FutureWarning: `sparse` was renamed to `sparse_output` in version 1.2 and will be removed in 1.4. `sparse_output` is ignored unless you leave `sparse` to its default value.\n",
            "  warnings.warn(\n"
          ]
        },
        {
          "output_type": "stream",
          "name": "stdout",
          "text": [
            "Performance Metrics for Quantum SVM (PauliFeatureMap_XYZ, COBYLA) with PCA:\n",
            "              precision    recall  f1-score   support\n",
            "\n",
            "           0       0.38      0.23      0.28        40\n",
            "           1       0.53      0.70      0.60        50\n",
            "\n",
            "    accuracy                           0.49        90\n",
            "   macro avg       0.45      0.46      0.44        90\n",
            "weighted avg       0.46      0.49      0.46        90\n",
            "\n",
            "Quantum SVM training time (PauliFeatureMap_XYZ, COBYLA) with PCA: 60.51293206214905 seconds\n"
          ]
        },
        {
          "output_type": "stream",
          "name": "stderr",
          "text": [
            "/usr/local/lib/python3.10/dist-packages/sklearn/preprocessing/_encoders.py:868: FutureWarning: `sparse` was renamed to `sparse_output` in version 1.2 and will be removed in 1.4. `sparse_output` is ignored unless you leave `sparse` to its default value.\n",
            "  warnings.warn(\n"
          ]
        },
        {
          "output_type": "stream",
          "name": "stdout",
          "text": [
            "Performance Metrics for Quantum SVM (PauliFeatureMap_XYZ, L_BFGS_B) with PCA:\n",
            "              precision    recall  f1-score   support\n",
            "\n",
            "           0       0.44      0.30      0.36        40\n",
            "           1       0.56      0.70      0.62        50\n",
            "\n",
            "    accuracy                           0.52        90\n",
            "   macro avg       0.50      0.50      0.49        90\n",
            "weighted avg       0.51      0.52      0.50        90\n",
            "\n",
            "Quantum SVM training time (PauliFeatureMap_XYZ, L_BFGS_B) with PCA: 298.50512647628784 seconds\n"
          ]
        },
        {
          "output_type": "stream",
          "name": "stderr",
          "text": [
            "/usr/local/lib/python3.10/dist-packages/sklearn/preprocessing/_encoders.py:868: FutureWarning: `sparse` was renamed to `sparse_output` in version 1.2 and will be removed in 1.4. `sparse_output` is ignored unless you leave `sparse` to its default value.\n",
            "  warnings.warn(\n"
          ]
        },
        {
          "output_type": "stream",
          "name": "stdout",
          "text": [
            "Performance Metrics for Quantum SVM (PauliFeatureMap_XYZ, SLSQP) with PCA:\n",
            "              precision    recall  f1-score   support\n",
            "\n",
            "           0       0.50      0.17      0.26        40\n",
            "           1       0.57      0.86      0.68        50\n",
            "\n",
            "    accuracy                           0.56        90\n",
            "   macro avg       0.53      0.52      0.47        90\n",
            "weighted avg       0.54      0.56      0.49        90\n",
            "\n",
            "Quantum SVM training time (PauliFeatureMap_XYZ, SLSQP) with PCA: 232.62940311431885 seconds\n"
          ]
        },
        {
          "output_type": "stream",
          "name": "stderr",
          "text": [
            "/usr/local/lib/python3.10/dist-packages/sklearn/preprocessing/_encoders.py:868: FutureWarning: `sparse` was renamed to `sparse_output` in version 1.2 and will be removed in 1.4. `sparse_output` is ignored unless you leave `sparse` to its default value.\n",
            "  warnings.warn(\n"
          ]
        },
        {
          "output_type": "stream",
          "name": "stdout",
          "text": [
            "Performance Metrics for Quantum SVM (PauliFeatureMap_YZ, SPSA) with PCA:\n",
            "              precision    recall  f1-score   support\n",
            "\n",
            "           0       0.58      0.35      0.44        40\n",
            "           1       0.61      0.80      0.69        50\n",
            "\n",
            "    accuracy                           0.60        90\n",
            "   macro avg       0.59      0.57      0.56        90\n",
            "weighted avg       0.60      0.60      0.58        90\n",
            "\n",
            "Quantum SVM training time (PauliFeatureMap_YZ, SPSA) with PCA: 107.47199010848999 seconds\n"
          ]
        },
        {
          "output_type": "stream",
          "name": "stderr",
          "text": [
            "/usr/local/lib/python3.10/dist-packages/sklearn/preprocessing/_encoders.py:868: FutureWarning: `sparse` was renamed to `sparse_output` in version 1.2 and will be removed in 1.4. `sparse_output` is ignored unless you leave `sparse` to its default value.\n",
            "  warnings.warn(\n"
          ]
        },
        {
          "output_type": "stream",
          "name": "stdout",
          "text": [
            "Performance Metrics for Quantum SVM (PauliFeatureMap_YZ, COBYLA) with PCA:\n",
            "              precision    recall  f1-score   support\n",
            "\n",
            "           0       0.36      0.20      0.26        40\n",
            "           1       0.53      0.72      0.61        50\n",
            "\n",
            "    accuracy                           0.49        90\n",
            "   macro avg       0.45      0.46      0.43        90\n",
            "weighted avg       0.46      0.49      0.45        90\n",
            "\n",
            "Quantum SVM training time (PauliFeatureMap_YZ, COBYLA) with PCA: 66.08049464225769 seconds\n"
          ]
        },
        {
          "output_type": "stream",
          "name": "stderr",
          "text": [
            "/usr/local/lib/python3.10/dist-packages/sklearn/preprocessing/_encoders.py:868: FutureWarning: `sparse` was renamed to `sparse_output` in version 1.2 and will be removed in 1.4. `sparse_output` is ignored unless you leave `sparse` to its default value.\n",
            "  warnings.warn(\n"
          ]
        },
        {
          "output_type": "stream",
          "name": "stdout",
          "text": [
            "Performance Metrics for Quantum SVM (PauliFeatureMap_YZ, L_BFGS_B) with PCA:\n",
            "              precision    recall  f1-score   support\n",
            "\n",
            "           0       0.61      0.35      0.44        40\n",
            "           1       0.61      0.82      0.70        50\n",
            "\n",
            "    accuracy                           0.61        90\n",
            "   macro avg       0.61      0.58      0.57        90\n",
            "weighted avg       0.61      0.61      0.59        90\n",
            "\n",
            "Quantum SVM training time (PauliFeatureMap_YZ, L_BFGS_B) with PCA: 307.9023005962372 seconds\n"
          ]
        },
        {
          "output_type": "stream",
          "name": "stderr",
          "text": [
            "/usr/local/lib/python3.10/dist-packages/sklearn/preprocessing/_encoders.py:868: FutureWarning: `sparse` was renamed to `sparse_output` in version 1.2 and will be removed in 1.4. `sparse_output` is ignored unless you leave `sparse` to its default value.\n",
            "  warnings.warn(\n"
          ]
        },
        {
          "output_type": "stream",
          "name": "stdout",
          "text": [
            "Performance Metrics for Quantum SVM (PauliFeatureMap_YZ, SLSQP) with PCA:\n",
            "              precision    recall  f1-score   support\n",
            "\n",
            "           0       0.58      0.35      0.44        40\n",
            "           1       0.61      0.80      0.69        50\n",
            "\n",
            "    accuracy                           0.60        90\n",
            "   macro avg       0.59      0.57      0.56        90\n",
            "weighted avg       0.60      0.60      0.58        90\n",
            "\n",
            "Quantum SVM training time (PauliFeatureMap_YZ, SLSQP) with PCA: 290.87547540664673 seconds\n"
          ]
        },
        {
          "output_type": "stream",
          "name": "stderr",
          "text": [
            "/usr/local/lib/python3.10/dist-packages/sklearn/preprocessing/_encoders.py:868: FutureWarning: `sparse` was renamed to `sparse_output` in version 1.2 and will be removed in 1.4. `sparse_output` is ignored unless you leave `sparse` to its default value.\n",
            "  warnings.warn(\n"
          ]
        },
        {
          "output_type": "stream",
          "name": "stdout",
          "text": [
            "Performance Metrics for Quantum SVM (PauliFeatureMap_Y, SPSA) with PCA:\n",
            "              precision    recall  f1-score   support\n",
            "\n",
            "           0       0.00      0.00      0.00        40\n",
            "           1       0.56      1.00      0.71        50\n",
            "\n",
            "    accuracy                           0.56        90\n",
            "   macro avg       0.28      0.50      0.36        90\n",
            "weighted avg       0.31      0.56      0.40        90\n",
            "\n",
            "Quantum SVM training time (PauliFeatureMap_Y, SPSA) with PCA: 97.3698742389679 seconds\n"
          ]
        },
        {
          "output_type": "stream",
          "name": "stderr",
          "text": [
            "/usr/local/lib/python3.10/dist-packages/sklearn/metrics/_classification.py:1344: UndefinedMetricWarning: Precision and F-score are ill-defined and being set to 0.0 in labels with no predicted samples. Use `zero_division` parameter to control this behavior.\n",
            "  _warn_prf(average, modifier, msg_start, len(result))\n",
            "/usr/local/lib/python3.10/dist-packages/sklearn/metrics/_classification.py:1344: UndefinedMetricWarning: Precision and F-score are ill-defined and being set to 0.0 in labels with no predicted samples. Use `zero_division` parameter to control this behavior.\n",
            "  _warn_prf(average, modifier, msg_start, len(result))\n",
            "/usr/local/lib/python3.10/dist-packages/sklearn/metrics/_classification.py:1344: UndefinedMetricWarning: Precision and F-score are ill-defined and being set to 0.0 in labels with no predicted samples. Use `zero_division` parameter to control this behavior.\n",
            "  _warn_prf(average, modifier, msg_start, len(result))\n",
            "/usr/local/lib/python3.10/dist-packages/sklearn/preprocessing/_encoders.py:868: FutureWarning: `sparse` was renamed to `sparse_output` in version 1.2 and will be removed in 1.4. `sparse_output` is ignored unless you leave `sparse` to its default value.\n",
            "  warnings.warn(\n"
          ]
        },
        {
          "output_type": "stream",
          "name": "stdout",
          "text": [
            "Performance Metrics for Quantum SVM (PauliFeatureMap_Y, COBYLA) with PCA:\n",
            "              precision    recall  f1-score   support\n",
            "\n",
            "           0       0.00      0.00      0.00        40\n",
            "           1       0.56      1.00      0.71        50\n",
            "\n",
            "    accuracy                           0.56        90\n",
            "   macro avg       0.28      0.50      0.36        90\n",
            "weighted avg       0.31      0.56      0.40        90\n",
            "\n",
            "Quantum SVM training time (PauliFeatureMap_Y, COBYLA) with PCA: 49.75538468360901 seconds\n"
          ]
        },
        {
          "output_type": "stream",
          "name": "stderr",
          "text": [
            "/usr/local/lib/python3.10/dist-packages/sklearn/metrics/_classification.py:1344: UndefinedMetricWarning: Precision and F-score are ill-defined and being set to 0.0 in labels with no predicted samples. Use `zero_division` parameter to control this behavior.\n",
            "  _warn_prf(average, modifier, msg_start, len(result))\n",
            "/usr/local/lib/python3.10/dist-packages/sklearn/metrics/_classification.py:1344: UndefinedMetricWarning: Precision and F-score are ill-defined and being set to 0.0 in labels with no predicted samples. Use `zero_division` parameter to control this behavior.\n",
            "  _warn_prf(average, modifier, msg_start, len(result))\n",
            "/usr/local/lib/python3.10/dist-packages/sklearn/metrics/_classification.py:1344: UndefinedMetricWarning: Precision and F-score are ill-defined and being set to 0.0 in labels with no predicted samples. Use `zero_division` parameter to control this behavior.\n",
            "  _warn_prf(average, modifier, msg_start, len(result))\n",
            "/usr/local/lib/python3.10/dist-packages/sklearn/preprocessing/_encoders.py:868: FutureWarning: `sparse` was renamed to `sparse_output` in version 1.2 and will be removed in 1.4. `sparse_output` is ignored unless you leave `sparse` to its default value.\n",
            "  warnings.warn(\n"
          ]
        },
        {
          "output_type": "stream",
          "name": "stdout",
          "text": [
            "Performance Metrics for Quantum SVM (PauliFeatureMap_Y, L_BFGS_B) with PCA:\n",
            "              precision    recall  f1-score   support\n",
            "\n",
            "           0       0.00      0.00      0.00        40\n",
            "           1       0.56      1.00      0.71        50\n",
            "\n",
            "    accuracy                           0.56        90\n",
            "   macro avg       0.28      0.50      0.36        90\n",
            "weighted avg       0.31      0.56      0.40        90\n",
            "\n",
            "Quantum SVM training time (PauliFeatureMap_Y, L_BFGS_B) with PCA: 181.96962308883667 seconds\n"
          ]
        },
        {
          "output_type": "stream",
          "name": "stderr",
          "text": [
            "/usr/local/lib/python3.10/dist-packages/sklearn/metrics/_classification.py:1344: UndefinedMetricWarning: Precision and F-score are ill-defined and being set to 0.0 in labels with no predicted samples. Use `zero_division` parameter to control this behavior.\n",
            "  _warn_prf(average, modifier, msg_start, len(result))\n",
            "/usr/local/lib/python3.10/dist-packages/sklearn/metrics/_classification.py:1344: UndefinedMetricWarning: Precision and F-score are ill-defined and being set to 0.0 in labels with no predicted samples. Use `zero_division` parameter to control this behavior.\n",
            "  _warn_prf(average, modifier, msg_start, len(result))\n",
            "/usr/local/lib/python3.10/dist-packages/sklearn/metrics/_classification.py:1344: UndefinedMetricWarning: Precision and F-score are ill-defined and being set to 0.0 in labels with no predicted samples. Use `zero_division` parameter to control this behavior.\n",
            "  _warn_prf(average, modifier, msg_start, len(result))\n",
            "/usr/local/lib/python3.10/dist-packages/sklearn/preprocessing/_encoders.py:868: FutureWarning: `sparse` was renamed to `sparse_output` in version 1.2 and will be removed in 1.4. `sparse_output` is ignored unless you leave `sparse` to its default value.\n",
            "  warnings.warn(\n"
          ]
        },
        {
          "output_type": "stream",
          "name": "stdout",
          "text": [
            "Performance Metrics for Quantum SVM (PauliFeatureMap_Y, SLSQP) with PCA:\n",
            "              precision    recall  f1-score   support\n",
            "\n",
            "           0       0.00      0.00      0.00        40\n",
            "           1       0.56      1.00      0.71        50\n",
            "\n",
            "    accuracy                           0.56        90\n",
            "   macro avg       0.28      0.50      0.36        90\n",
            "weighted avg       0.31      0.56      0.40        90\n",
            "\n",
            "Quantum SVM training time (PauliFeatureMap_Y, SLSQP) with PCA: 119.50098872184753 seconds\n"
          ]
        },
        {
          "output_type": "stream",
          "name": "stderr",
          "text": [
            "/usr/local/lib/python3.10/dist-packages/sklearn/metrics/_classification.py:1344: UndefinedMetricWarning: Precision and F-score are ill-defined and being set to 0.0 in labels with no predicted samples. Use `zero_division` parameter to control this behavior.\n",
            "  _warn_prf(average, modifier, msg_start, len(result))\n",
            "/usr/local/lib/python3.10/dist-packages/sklearn/metrics/_classification.py:1344: UndefinedMetricWarning: Precision and F-score are ill-defined and being set to 0.0 in labels with no predicted samples. Use `zero_division` parameter to control this behavior.\n",
            "  _warn_prf(average, modifier, msg_start, len(result))\n",
            "/usr/local/lib/python3.10/dist-packages/sklearn/metrics/_classification.py:1344: UndefinedMetricWarning: Precision and F-score are ill-defined and being set to 0.0 in labels with no predicted samples. Use `zero_division` parameter to control this behavior.\n",
            "  _warn_prf(average, modifier, msg_start, len(result))\n",
            "/usr/local/lib/python3.10/dist-packages/sklearn/preprocessing/_encoders.py:868: FutureWarning: `sparse` was renamed to `sparse_output` in version 1.2 and will be removed in 1.4. `sparse_output` is ignored unless you leave `sparse` to its default value.\n",
            "  warnings.warn(\n"
          ]
        },
        {
          "output_type": "stream",
          "name": "stdout",
          "text": [
            "Performance Metrics for Quantum SVM (PauliFeatureMap_XYZYY, SPSA) with PCA:\n",
            "              precision    recall  f1-score   support\n",
            "\n",
            "           0       0.33      0.12      0.18        40\n",
            "           1       0.53      0.80      0.64        50\n",
            "\n",
            "    accuracy                           0.50        90\n",
            "   macro avg       0.43      0.46      0.41        90\n",
            "weighted avg       0.44      0.50      0.44        90\n",
            "\n",
            "Quantum SVM training time (PauliFeatureMap_XYZYY, SPSA) with PCA: 131.32045459747314 seconds\n"
          ]
        },
        {
          "output_type": "stream",
          "name": "stderr",
          "text": [
            "/usr/local/lib/python3.10/dist-packages/sklearn/preprocessing/_encoders.py:868: FutureWarning: `sparse` was renamed to `sparse_output` in version 1.2 and will be removed in 1.4. `sparse_output` is ignored unless you leave `sparse` to its default value.\n",
            "  warnings.warn(\n"
          ]
        },
        {
          "output_type": "stream",
          "name": "stdout",
          "text": [
            "Performance Metrics for Quantum SVM (PauliFeatureMap_XYZYY, COBYLA) with PCA:\n",
            "              precision    recall  f1-score   support\n",
            "\n",
            "           0       0.38      0.23      0.28        40\n",
            "           1       0.53      0.70      0.60        50\n",
            "\n",
            "    accuracy                           0.49        90\n",
            "   macro avg       0.45      0.46      0.44        90\n",
            "weighted avg       0.46      0.49      0.46        90\n",
            "\n",
            "Quantum SVM training time (PauliFeatureMap_XYZYY, COBYLA) with PCA: 72.86744737625122 seconds\n"
          ]
        },
        {
          "output_type": "stream",
          "name": "stderr",
          "text": [
            "/usr/local/lib/python3.10/dist-packages/sklearn/preprocessing/_encoders.py:868: FutureWarning: `sparse` was renamed to `sparse_output` in version 1.2 and will be removed in 1.4. `sparse_output` is ignored unless you leave `sparse` to its default value.\n",
            "  warnings.warn(\n"
          ]
        },
        {
          "output_type": "stream",
          "name": "stdout",
          "text": [
            "Performance Metrics for Quantum SVM (PauliFeatureMap_XYZYY, L_BFGS_B) with PCA:\n",
            "              precision    recall  f1-score   support\n",
            "\n",
            "           0       0.46      0.30      0.36        40\n",
            "           1       0.56      0.72      0.63        50\n",
            "\n",
            "    accuracy                           0.53        90\n",
            "   macro avg       0.51      0.51      0.50        90\n",
            "weighted avg       0.52      0.53      0.51        90\n",
            "\n",
            "Quantum SVM training time (PauliFeatureMap_XYZYY, L_BFGS_B) with PCA: 423.3273310661316 seconds\n"
          ]
        },
        {
          "output_type": "stream",
          "name": "stderr",
          "text": [
            "/usr/local/lib/python3.10/dist-packages/sklearn/preprocessing/_encoders.py:868: FutureWarning: `sparse` was renamed to `sparse_output` in version 1.2 and will be removed in 1.4. `sparse_output` is ignored unless you leave `sparse` to its default value.\n",
            "  warnings.warn(\n"
          ]
        },
        {
          "output_type": "stream",
          "name": "stdout",
          "text": [
            "Performance Metrics for Quantum SVM (PauliFeatureMap_XYZYY, SLSQP) with PCA:\n",
            "              precision    recall  f1-score   support\n",
            "\n",
            "           0       0.35      0.17      0.23        40\n",
            "           1       0.53      0.74      0.62        50\n",
            "\n",
            "    accuracy                           0.49        90\n",
            "   macro avg       0.44      0.46      0.42        90\n",
            "weighted avg       0.45      0.49      0.45        90\n",
            "\n",
            "Quantum SVM training time (PauliFeatureMap_XYZYY, SLSQP) with PCA: 278.1522305011749 seconds\n",
            "Best Configuration with PCA: Feature Map - PauliFeatureMap_YZ, Optimizer - L_BFGS_B\n"
          ]
        }
      ]
    },
    {
      "cell_type": "code",
      "source": [
        "import numpy as np\n",
        "from sklearn.decomposition import PCA\n",
        "import matplotlib.pyplot as plt\n",
        "from sklearn.model_selection import train_test_split\n",
        "from sklearn.preprocessing import StandardScaler\n",
        "from sklearn.svm import SVC\n",
        "from sklearn.metrics import classification_report, accuracy_score\n",
        "from qiskit import Aer\n",
        "from qiskit.circuit.library import PauliFeatureMap\n",
        "from qiskit.circuit.library import ZZFeatureMap\n",
        "from qiskit_machine_learning.algorithms.classifiers import VQC\n",
        "from qiskit.utils import QuantumInstance\n",
        "from qiskit.algorithms.optimizers import SPSA, COBYLA, L_BFGS_B, SLSQP, ADAM\n",
        "from time import time\n",
        "\n",
        "np.random.seed(0)\n",
        "\n",
        "# Define the number of samples and features\n",
        "num_samples = 300\n",
        "num_features = 10  # You can increase this number to create a higher-dimensional dataset\n",
        "\n",
        "# Generate random data with strong correlations in the first few features\n",
        "mean = np.zeros(num_features)\n",
        "cov = np.eye(num_features)\n",
        "for i in range(5):\n",
        "    cov[i, i] = 2.0  # Increase the variance for the first 5 features to make them important\n",
        "\n",
        "data = np.random.multivariate_normal(mean, cov, num_samples)\n",
        "\n",
        "# Split the data into training and testing sets\n",
        "X_train, X_test, y_train, y_test = train_test_split(data, np.random.choice([0, 1], size=num_samples), test_size=0.3, random_state=42)\n",
        "\n",
        "# Data Preprocessing\n",
        "scaler = StandardScaler().fit(X_train)\n",
        "X_train = scaler.transform(X_train)\n",
        "X_test = scaler.transform(X_test)\n",
        "\n",
        "# Perform PCA to reduce dimensionality\n",
        "pca = PCA(n_components=2)  # You can adjust the number of components as needed\n",
        "X_train_pca = pca.fit_transform(X_train)\n",
        "X_test_pca = pca.transform(X_test)\n",
        "\n",
        "# Train Classical SVM on reduced dataset\n",
        "classical_svm_pca = SVC(kernel='rbf', C=1.0, gamma='scale')\n",
        "start = time()\n",
        "classical_svm_pca.fit(X_train_pca, y_train)\n",
        "end = time()\n",
        "classical_svm_predictions_pca = classical_svm_pca.predict(X_test_pca)\n",
        "print(\"Performance Metrics for Classical SVM with PCA:\")\n",
        "print(classification_report(y_test, classical_svm_predictions_pca))\n",
        "print(f\"Classical SVM training time with PCA: {end - start} seconds\")\n",
        "\n",
        "# Define a list of feature maps and their parameters to tune for QSVM\n",
        "feature_maps = [\n",
        "    {'name': 'ZZFeatureMap', 'feature_map': ZZFeatureMap(feature_dimension=2, reps=2, entanglement='full')},\n",
        "    {'name': 'PauliFeatureMap_XY', 'feature_map': PauliFeatureMap(feature_dimension=2, reps=2, paulis=['X', 'Y'], entanglement='full')},\n",
        "    {'name': 'PauliFeatureMap_ZZ', 'feature_map': PauliFeatureMap(feature_dimension=2, reps=2, paulis=['Z', 'ZZ'], entanglement='full')},\n",
        "    {'name': 'PauliFeatureMap_XYZ', 'feature_map': PauliFeatureMap(feature_dimension=2, reps=2, paulis=['X', 'Y', 'Z'], entanglement='full')},\n",
        "    {'name': 'PauliFeatureMap_YZ', 'feature_map': PauliFeatureMap(feature_dimension=2, reps=2, paulis=['Y', 'Z'], entanglement='full')},\n",
        "    {'name': 'PauliFeatureMap_Y', 'feature_map': PauliFeatureMap(feature_dimension=2, reps=2, paulis=['Y'], entanglement='full')},\n",
        "    {'name': 'PauliFeatureMap_XYZYY', 'feature_map': PauliFeatureMap(feature_dimension=2, reps=2, paulis=['X', 'Y', 'Z', 'YY'], entanglement='full')},\n",
        "    # Add more feature maps and their parameters to explore\n",
        "]\n",
        "\n",
        "# Define a list of optimizer parameters to tune for QSVM\n",
        "optimizers = [\n",
        "    {'name': 'SPSA', 'optimizer': SPSA(maxiter=50)},\n",
        "    {'name': 'COBYLA', 'optimizer': COBYLA(maxiter=100)},\n",
        "    {'name': 'L_BFGS_B', 'optimizer': L_BFGS_B(maxfun=100, maxiter=100)},\n",
        "    {'name': 'SLSQP', 'optimizer': SLSQP(maxiter=100)},\n",
        "    # Add more optimizers and their parameters to explore\n",
        "]\n",
        "\n",
        "\n",
        "best_score = 0\n",
        "best_params = {}\n",
        "\n",
        "for feature_map_params in feature_maps:\n",
        "    feature_map_name = feature_map_params['name']\n",
        "    feature_map = feature_map_params['feature_map']\n",
        "\n",
        "    for optimizer_params in optimizers:\n",
        "        optimizer_name = optimizer_params['name']\n",
        "        optimizer = optimizer_params['optimizer']\n",
        "\n",
        "        # Create a sampler for the AerSimulator\n",
        "        sampler = Sampler()\n",
        "\n",
        "        # Create an instance of the AerSimulator\n",
        "        simulator = AerSimulator()\n",
        "\n",
        "        # Train QSVM with the current feature map and optimizer using the sampler\n",
        "        vqc = VQC(feature_map=feature_map, ansatz=None, optimizer=optimizer, quantum_instance=simulator)\n",
        "\n",
        "        start = time()\n",
        "        vqc.fit(X_train_pca, y_train)\n",
        "        end = time()\n",
        "\n",
        "        result_quantum = vqc.predict(X_test_pca)\n",
        "        score = accuracy_score(y_test, result_quantum)\n",
        "\n",
        "        # Print performance metrics and runtime for the current configuration\n",
        "        print(f\"Performance Metrics for Quantum SVM ({feature_map_name}, {optimizer_name}) with PCA:\")\n",
        "        print(classification_report(y_test, result_quantum))\n",
        "        print(f\"Quantum SVM training time ({feature_map_name}, {optimizer_name}) with PCA: {end - start} seconds\")\n",
        "\n",
        "        # Check if the current configuration is the best\n",
        "        if score > best_score:\n",
        "            best_score = score\n",
        "            best_params = {'feature_map': feature_map_name, 'optimizer': optimizer_name}\n",
        "\n",
        "# Print the best configuration found\n",
        "print(f\"Best Configuration with PCA: Feature Map - {best_params['feature_map']}, Optimizer - {best_params['optimizer']}\")"
      ],
      "metadata": {
        "id": "uli_ab812U6o",
        "colab": {
          "base_uri": "https://localhost:8080/"
        },
        "outputId": "41fa92e5-a33e-4836-e118-e544aadb5a4f"
      },
      "execution_count": 15,
      "outputs": [
        {
          "output_type": "stream",
          "name": "stdout",
          "text": [
            "Performance Metrics for Classical SVM with PCA:\n",
            "              precision    recall  f1-score   support\n",
            "\n",
            "           0       0.31      0.12      0.18        40\n",
            "           1       0.53      0.78      0.63        50\n",
            "\n",
            "    accuracy                           0.49        90\n",
            "   macro avg       0.42      0.45      0.40        90\n",
            "weighted avg       0.43      0.49      0.43        90\n",
            "\n",
            "Classical SVM training time with PCA: 0.0029981136322021484 seconds\n"
          ]
        },
        {
          "output_type": "stream",
          "name": "stderr",
          "text": [
            "/usr/local/lib/python3.10/dist-packages/sklearn/preprocessing/_encoders.py:868: FutureWarning: `sparse` was renamed to `sparse_output` in version 1.2 and will be removed in 1.4. `sparse_output` is ignored unless you leave `sparse` to its default value.\n",
            "  warnings.warn(\n"
          ]
        },
        {
          "output_type": "stream",
          "name": "stdout",
          "text": [
            "Performance Metrics for Quantum SVM (ZZFeatureMap, SPSA) with PCA:\n",
            "              precision    recall  f1-score   support\n",
            "\n",
            "           0       0.47      0.55      0.51        40\n",
            "           1       0.58      0.50      0.54        50\n",
            "\n",
            "    accuracy                           0.52        90\n",
            "   macro avg       0.52      0.53      0.52        90\n",
            "weighted avg       0.53      0.52      0.52        90\n",
            "\n",
            "Quantum SVM training time (ZZFeatureMap, SPSA) with PCA: 105.23830771446228 seconds\n"
          ]
        },
        {
          "output_type": "stream",
          "name": "stderr",
          "text": [
            "/usr/local/lib/python3.10/dist-packages/sklearn/preprocessing/_encoders.py:868: FutureWarning: `sparse` was renamed to `sparse_output` in version 1.2 and will be removed in 1.4. `sparse_output` is ignored unless you leave `sparse` to its default value.\n",
            "  warnings.warn(\n"
          ]
        },
        {
          "output_type": "stream",
          "name": "stdout",
          "text": [
            "Performance Metrics for Quantum SVM (ZZFeatureMap, COBYLA) with PCA:\n",
            "              precision    recall  f1-score   support\n",
            "\n",
            "           0       0.52      0.33      0.40        40\n",
            "           1       0.58      0.76      0.66        50\n",
            "\n",
            "    accuracy                           0.57        90\n",
            "   macro avg       0.55      0.54      0.53        90\n",
            "weighted avg       0.56      0.57      0.54        90\n",
            "\n",
            "Quantum SVM training time (ZZFeatureMap, COBYLA) with PCA: 50.61063480377197 seconds\n"
          ]
        },
        {
          "output_type": "stream",
          "name": "stderr",
          "text": [
            "/usr/local/lib/python3.10/dist-packages/sklearn/preprocessing/_encoders.py:868: FutureWarning: `sparse` was renamed to `sparse_output` in version 1.2 and will be removed in 1.4. `sparse_output` is ignored unless you leave `sparse` to its default value.\n",
            "  warnings.warn(\n"
          ]
        },
        {
          "output_type": "stream",
          "name": "stdout",
          "text": [
            "Performance Metrics for Quantum SVM (ZZFeatureMap, L_BFGS_B) with PCA:\n",
            "              precision    recall  f1-score   support\n",
            "\n",
            "           0       0.54      0.35      0.42        40\n",
            "           1       0.59      0.76      0.67        50\n",
            "\n",
            "    accuracy                           0.58        90\n",
            "   macro avg       0.57      0.55      0.55        90\n",
            "weighted avg       0.57      0.58      0.56        90\n",
            "\n",
            "Quantum SVM training time (ZZFeatureMap, L_BFGS_B) with PCA: 223.33900570869446 seconds\n"
          ]
        },
        {
          "output_type": "stream",
          "name": "stderr",
          "text": [
            "/usr/local/lib/python3.10/dist-packages/sklearn/preprocessing/_encoders.py:868: FutureWarning: `sparse` was renamed to `sparse_output` in version 1.2 and will be removed in 1.4. `sparse_output` is ignored unless you leave `sparse` to its default value.\n",
            "  warnings.warn(\n"
          ]
        },
        {
          "output_type": "stream",
          "name": "stdout",
          "text": [
            "Performance Metrics for Quantum SVM (ZZFeatureMap, SLSQP) with PCA:\n",
            "              precision    recall  f1-score   support\n",
            "\n",
            "           0       0.47      0.35      0.40        40\n",
            "           1       0.57      0.68      0.62        50\n",
            "\n",
            "    accuracy                           0.53        90\n",
            "   macro avg       0.52      0.52      0.51        90\n",
            "weighted avg       0.52      0.53      0.52        90\n",
            "\n",
            "Quantum SVM training time (ZZFeatureMap, SLSQP) with PCA: 19.420281887054443 seconds\n"
          ]
        },
        {
          "output_type": "stream",
          "name": "stderr",
          "text": [
            "/usr/local/lib/python3.10/dist-packages/sklearn/preprocessing/_encoders.py:868: FutureWarning: `sparse` was renamed to `sparse_output` in version 1.2 and will be removed in 1.4. `sparse_output` is ignored unless you leave `sparse` to its default value.\n",
            "  warnings.warn(\n"
          ]
        },
        {
          "output_type": "stream",
          "name": "stdout",
          "text": [
            "Performance Metrics for Quantum SVM (PauliFeatureMap_XY, SPSA) with PCA:\n",
            "              precision    recall  f1-score   support\n",
            "\n",
            "           0       0.50      0.38      0.43        40\n",
            "           1       0.58      0.70      0.64        50\n",
            "\n",
            "    accuracy                           0.56        90\n",
            "   macro avg       0.54      0.54      0.53        90\n",
            "weighted avg       0.55      0.56      0.54        90\n",
            "\n",
            "Quantum SVM training time (PauliFeatureMap_XY, SPSA) with PCA: 105.2098274230957 seconds\n"
          ]
        },
        {
          "output_type": "stream",
          "name": "stderr",
          "text": [
            "/usr/local/lib/python3.10/dist-packages/sklearn/preprocessing/_encoders.py:868: FutureWarning: `sparse` was renamed to `sparse_output` in version 1.2 and will be removed in 1.4. `sparse_output` is ignored unless you leave `sparse` to its default value.\n",
            "  warnings.warn(\n"
          ]
        },
        {
          "output_type": "stream",
          "name": "stdout",
          "text": [
            "Performance Metrics for Quantum SVM (PauliFeatureMap_XY, COBYLA) with PCA:\n",
            "              precision    recall  f1-score   support\n",
            "\n",
            "           0       0.52      0.28      0.36        40\n",
            "           1       0.58      0.80      0.67        50\n",
            "\n",
            "    accuracy                           0.57        90\n",
            "   macro avg       0.55      0.54      0.52        90\n",
            "weighted avg       0.55      0.57      0.53        90\n",
            "\n",
            "Quantum SVM training time (PauliFeatureMap_XY, COBYLA) with PCA: 60.89067196846008 seconds\n"
          ]
        },
        {
          "output_type": "stream",
          "name": "stderr",
          "text": [
            "/usr/local/lib/python3.10/dist-packages/sklearn/preprocessing/_encoders.py:868: FutureWarning: `sparse` was renamed to `sparse_output` in version 1.2 and will be removed in 1.4. `sparse_output` is ignored unless you leave `sparse` to its default value.\n",
            "  warnings.warn(\n"
          ]
        },
        {
          "output_type": "stream",
          "name": "stdout",
          "text": [
            "Performance Metrics for Quantum SVM (PauliFeatureMap_XY, L_BFGS_B) with PCA:\n",
            "              precision    recall  f1-score   support\n",
            "\n",
            "           0       0.43      0.25      0.32        40\n",
            "           1       0.55      0.74      0.63        50\n",
            "\n",
            "    accuracy                           0.52        90\n",
            "   macro avg       0.49      0.49      0.47        90\n",
            "weighted avg       0.50      0.52      0.49        90\n",
            "\n",
            "Quantum SVM training time (PauliFeatureMap_XY, L_BFGS_B) with PCA: 204.79055523872375 seconds\n"
          ]
        },
        {
          "output_type": "stream",
          "name": "stderr",
          "text": [
            "/usr/local/lib/python3.10/dist-packages/sklearn/preprocessing/_encoders.py:868: FutureWarning: `sparse` was renamed to `sparse_output` in version 1.2 and will be removed in 1.4. `sparse_output` is ignored unless you leave `sparse` to its default value.\n",
            "  warnings.warn(\n"
          ]
        },
        {
          "output_type": "stream",
          "name": "stdout",
          "text": [
            "Performance Metrics for Quantum SVM (PauliFeatureMap_XY, SLSQP) with PCA:\n",
            "              precision    recall  f1-score   support\n",
            "\n",
            "           0       0.47      0.38      0.42        40\n",
            "           1       0.57      0.66      0.61        50\n",
            "\n",
            "    accuracy                           0.53        90\n",
            "   macro avg       0.52      0.52      0.51        90\n",
            "weighted avg       0.52      0.53      0.52        90\n",
            "\n",
            "Quantum SVM training time (PauliFeatureMap_XY, SLSQP) with PCA: 127.30528426170349 seconds\n"
          ]
        },
        {
          "output_type": "stream",
          "name": "stderr",
          "text": [
            "/usr/local/lib/python3.10/dist-packages/sklearn/preprocessing/_encoders.py:868: FutureWarning: `sparse` was renamed to `sparse_output` in version 1.2 and will be removed in 1.4. `sparse_output` is ignored unless you leave `sparse` to its default value.\n",
            "  warnings.warn(\n"
          ]
        },
        {
          "output_type": "stream",
          "name": "stdout",
          "text": [
            "Performance Metrics for Quantum SVM (PauliFeatureMap_ZZ, SPSA) with PCA:\n",
            "              precision    recall  f1-score   support\n",
            "\n",
            "           0       0.48      0.35      0.41        40\n",
            "           1       0.57      0.70      0.63        50\n",
            "\n",
            "    accuracy                           0.54        90\n",
            "   macro avg       0.53      0.52      0.52        90\n",
            "weighted avg       0.53      0.54      0.53        90\n",
            "\n",
            "Quantum SVM training time (PauliFeatureMap_ZZ, SPSA) with PCA: 104.80058979988098 seconds\n"
          ]
        },
        {
          "output_type": "stream",
          "name": "stderr",
          "text": [
            "/usr/local/lib/python3.10/dist-packages/sklearn/preprocessing/_encoders.py:868: FutureWarning: `sparse` was renamed to `sparse_output` in version 1.2 and will be removed in 1.4. `sparse_output` is ignored unless you leave `sparse` to its default value.\n",
            "  warnings.warn(\n"
          ]
        },
        {
          "output_type": "stream",
          "name": "stdout",
          "text": [
            "Performance Metrics for Quantum SVM (PauliFeatureMap_ZZ, COBYLA) with PCA:\n",
            "              precision    recall  f1-score   support\n",
            "\n",
            "           0       0.46      0.45      0.46        40\n",
            "           1       0.57      0.58      0.57        50\n",
            "\n",
            "    accuracy                           0.52        90\n",
            "   macro avg       0.52      0.52      0.51        90\n",
            "weighted avg       0.52      0.52      0.52        90\n",
            "\n",
            "Quantum SVM training time (PauliFeatureMap_ZZ, COBYLA) with PCA: 67.442941904068 seconds\n"
          ]
        },
        {
          "output_type": "stream",
          "name": "stderr",
          "text": [
            "/usr/local/lib/python3.10/dist-packages/sklearn/preprocessing/_encoders.py:868: FutureWarning: `sparse` was renamed to `sparse_output` in version 1.2 and will be removed in 1.4. `sparse_output` is ignored unless you leave `sparse` to its default value.\n",
            "  warnings.warn(\n"
          ]
        },
        {
          "output_type": "stream",
          "name": "stdout",
          "text": [
            "Performance Metrics for Quantum SVM (PauliFeatureMap_ZZ, L_BFGS_B) with PCA:\n",
            "              precision    recall  f1-score   support\n",
            "\n",
            "           0       0.46      0.33      0.38        40\n",
            "           1       0.56      0.70      0.62        50\n",
            "\n",
            "    accuracy                           0.53        90\n",
            "   macro avg       0.51      0.51      0.50        90\n",
            "weighted avg       0.52      0.53      0.52        90\n",
            "\n",
            "Quantum SVM training time (PauliFeatureMap_ZZ, L_BFGS_B) with PCA: 237.76994013786316 seconds\n"
          ]
        },
        {
          "output_type": "stream",
          "name": "stderr",
          "text": [
            "/usr/local/lib/python3.10/dist-packages/sklearn/preprocessing/_encoders.py:868: FutureWarning: `sparse` was renamed to `sparse_output` in version 1.2 and will be removed in 1.4. `sparse_output` is ignored unless you leave `sparse` to its default value.\n",
            "  warnings.warn(\n"
          ]
        },
        {
          "output_type": "stream",
          "name": "stdout",
          "text": [
            "Performance Metrics for Quantum SVM (PauliFeatureMap_ZZ, SLSQP) with PCA:\n",
            "              precision    recall  f1-score   support\n",
            "\n",
            "           0       0.55      0.45      0.49        40\n",
            "           1       0.61      0.70      0.65        50\n",
            "\n",
            "    accuracy                           0.59        90\n",
            "   macro avg       0.58      0.57      0.57        90\n",
            "weighted avg       0.58      0.59      0.58        90\n",
            "\n",
            "Quantum SVM training time (PauliFeatureMap_ZZ, SLSQP) with PCA: 65.46609783172607 seconds\n"
          ]
        },
        {
          "output_type": "stream",
          "name": "stderr",
          "text": [
            "/usr/local/lib/python3.10/dist-packages/sklearn/preprocessing/_encoders.py:868: FutureWarning: `sparse` was renamed to `sparse_output` in version 1.2 and will be removed in 1.4. `sparse_output` is ignored unless you leave `sparse` to its default value.\n",
            "  warnings.warn(\n"
          ]
        },
        {
          "output_type": "stream",
          "name": "stdout",
          "text": [
            "Performance Metrics for Quantum SVM (PauliFeatureMap_XYZ, SPSA) with PCA:\n",
            "              precision    recall  f1-score   support\n",
            "\n",
            "           0       0.50      0.20      0.29        40\n",
            "           1       0.57      0.84      0.68        50\n",
            "\n",
            "    accuracy                           0.56        90\n",
            "   macro avg       0.53      0.52      0.48        90\n",
            "weighted avg       0.54      0.56      0.50        90\n",
            "\n",
            "Quantum SVM training time (PauliFeatureMap_XYZ, SPSA) with PCA: 112.31155204772949 seconds\n"
          ]
        },
        {
          "output_type": "stream",
          "name": "stderr",
          "text": [
            "/usr/local/lib/python3.10/dist-packages/sklearn/preprocessing/_encoders.py:868: FutureWarning: `sparse` was renamed to `sparse_output` in version 1.2 and will be removed in 1.4. `sparse_output` is ignored unless you leave `sparse` to its default value.\n",
            "  warnings.warn(\n"
          ]
        },
        {
          "output_type": "stream",
          "name": "stdout",
          "text": [
            "Performance Metrics for Quantum SVM (PauliFeatureMap_XYZ, COBYLA) with PCA:\n",
            "              precision    recall  f1-score   support\n",
            "\n",
            "           0       0.50      0.40      0.44        40\n",
            "           1       0.59      0.68      0.63        50\n",
            "\n",
            "    accuracy                           0.56        90\n",
            "   macro avg       0.54      0.54      0.54        90\n",
            "weighted avg       0.55      0.56      0.55        90\n",
            "\n",
            "Quantum SVM training time (PauliFeatureMap_XYZ, COBYLA) with PCA: 66.87222480773926 seconds\n"
          ]
        },
        {
          "output_type": "stream",
          "name": "stderr",
          "text": [
            "/usr/local/lib/python3.10/dist-packages/sklearn/preprocessing/_encoders.py:868: FutureWarning: `sparse` was renamed to `sparse_output` in version 1.2 and will be removed in 1.4. `sparse_output` is ignored unless you leave `sparse` to its default value.\n",
            "  warnings.warn(\n"
          ]
        },
        {
          "output_type": "stream",
          "name": "stdout",
          "text": [
            "Performance Metrics for Quantum SVM (PauliFeatureMap_XYZ, L_BFGS_B) with PCA:\n",
            "              precision    recall  f1-score   support\n",
            "\n",
            "           0       0.39      0.42      0.40        40\n",
            "           1       0.50      0.46      0.48        50\n",
            "\n",
            "    accuracy                           0.44        90\n",
            "   macro avg       0.44      0.44      0.44        90\n",
            "weighted avg       0.45      0.44      0.45        90\n",
            "\n",
            "Quantum SVM training time (PauliFeatureMap_XYZ, L_BFGS_B) with PCA: 282.9487466812134 seconds\n"
          ]
        },
        {
          "output_type": "stream",
          "name": "stderr",
          "text": [
            "/usr/local/lib/python3.10/dist-packages/sklearn/preprocessing/_encoders.py:868: FutureWarning: `sparse` was renamed to `sparse_output` in version 1.2 and will be removed in 1.4. `sparse_output` is ignored unless you leave `sparse` to its default value.\n",
            "  warnings.warn(\n"
          ]
        },
        {
          "output_type": "stream",
          "name": "stdout",
          "text": [
            "Performance Metrics for Quantum SVM (PauliFeatureMap_XYZ, SLSQP) with PCA:\n",
            "              precision    recall  f1-score   support\n",
            "\n",
            "           0       0.38      0.28      0.32        40\n",
            "           1       0.52      0.64      0.58        50\n",
            "\n",
            "    accuracy                           0.48        90\n",
            "   macro avg       0.45      0.46      0.45        90\n",
            "weighted avg       0.46      0.48      0.46        90\n",
            "\n",
            "Quantum SVM training time (PauliFeatureMap_XYZ, SLSQP) with PCA: 69.78213119506836 seconds\n"
          ]
        },
        {
          "output_type": "stream",
          "name": "stderr",
          "text": [
            "/usr/local/lib/python3.10/dist-packages/sklearn/preprocessing/_encoders.py:868: FutureWarning: `sparse` was renamed to `sparse_output` in version 1.2 and will be removed in 1.4. `sparse_output` is ignored unless you leave `sparse` to its default value.\n",
            "  warnings.warn(\n"
          ]
        },
        {
          "output_type": "stream",
          "name": "stdout",
          "text": [
            "Performance Metrics for Quantum SVM (PauliFeatureMap_YZ, SPSA) with PCA:\n",
            "              precision    recall  f1-score   support\n",
            "\n",
            "           0       0.57      0.30      0.39        40\n",
            "           1       0.59      0.82      0.69        50\n",
            "\n",
            "    accuracy                           0.59        90\n",
            "   macro avg       0.58      0.56      0.54        90\n",
            "weighted avg       0.58      0.59      0.56        90\n",
            "\n",
            "Quantum SVM training time (PauliFeatureMap_YZ, SPSA) with PCA: 104.96414351463318 seconds\n"
          ]
        },
        {
          "output_type": "stream",
          "name": "stderr",
          "text": [
            "/usr/local/lib/python3.10/dist-packages/sklearn/preprocessing/_encoders.py:868: FutureWarning: `sparse` was renamed to `sparse_output` in version 1.2 and will be removed in 1.4. `sparse_output` is ignored unless you leave `sparse` to its default value.\n",
            "  warnings.warn(\n"
          ]
        },
        {
          "output_type": "stream",
          "name": "stdout",
          "text": [
            "Performance Metrics for Quantum SVM (PauliFeatureMap_YZ, COBYLA) with PCA:\n",
            "              precision    recall  f1-score   support\n",
            "\n",
            "           0       0.54      0.50      0.52        40\n",
            "           1       0.62      0.66      0.64        50\n",
            "\n",
            "    accuracy                           0.59        90\n",
            "   macro avg       0.58      0.58      0.58        90\n",
            "weighted avg       0.59      0.59      0.59        90\n",
            "\n",
            "Quantum SVM training time (PauliFeatureMap_YZ, COBYLA) with PCA: 68.71250224113464 seconds\n"
          ]
        },
        {
          "output_type": "stream",
          "name": "stderr",
          "text": [
            "/usr/local/lib/python3.10/dist-packages/sklearn/preprocessing/_encoders.py:868: FutureWarning: `sparse` was renamed to `sparse_output` in version 1.2 and will be removed in 1.4. `sparse_output` is ignored unless you leave `sparse` to its default value.\n",
            "  warnings.warn(\n"
          ]
        },
        {
          "output_type": "stream",
          "name": "stdout",
          "text": [
            "Performance Metrics for Quantum SVM (PauliFeatureMap_YZ, L_BFGS_B) with PCA:\n",
            "              precision    recall  f1-score   support\n",
            "\n",
            "           0       0.56      0.35      0.43        40\n",
            "           1       0.60      0.78      0.68        50\n",
            "\n",
            "    accuracy                           0.59        90\n",
            "   macro avg       0.58      0.56      0.55        90\n",
            "weighted avg       0.58      0.59      0.57        90\n",
            "\n",
            "Quantum SVM training time (PauliFeatureMap_YZ, L_BFGS_B) with PCA: 215.01855373382568 seconds\n"
          ]
        },
        {
          "output_type": "stream",
          "name": "stderr",
          "text": [
            "/usr/local/lib/python3.10/dist-packages/sklearn/preprocessing/_encoders.py:868: FutureWarning: `sparse` was renamed to `sparse_output` in version 1.2 and will be removed in 1.4. `sparse_output` is ignored unless you leave `sparse` to its default value.\n",
            "  warnings.warn(\n"
          ]
        },
        {
          "output_type": "stream",
          "name": "stdout",
          "text": [
            "Performance Metrics for Quantum SVM (PauliFeatureMap_YZ, SLSQP) with PCA:\n",
            "              precision    recall  f1-score   support\n",
            "\n",
            "           0       0.54      0.35      0.42        40\n",
            "           1       0.59      0.76      0.67        50\n",
            "\n",
            "    accuracy                           0.58        90\n",
            "   macro avg       0.57      0.55      0.55        90\n",
            "weighted avg       0.57      0.58      0.56        90\n",
            "\n",
            "Quantum SVM training time (PauliFeatureMap_YZ, SLSQP) with PCA: 157.93549299240112 seconds\n"
          ]
        },
        {
          "output_type": "stream",
          "name": "stderr",
          "text": [
            "/usr/local/lib/python3.10/dist-packages/sklearn/preprocessing/_encoders.py:868: FutureWarning: `sparse` was renamed to `sparse_output` in version 1.2 and will be removed in 1.4. `sparse_output` is ignored unless you leave `sparse` to its default value.\n",
            "  warnings.warn(\n"
          ]
        },
        {
          "output_type": "stream",
          "name": "stdout",
          "text": [
            "Performance Metrics for Quantum SVM (PauliFeatureMap_Y, SPSA) with PCA:\n",
            "              precision    recall  f1-score   support\n",
            "\n",
            "           0       0.44      1.00      0.62        40\n",
            "           1       0.00      0.00      0.00        50\n",
            "\n",
            "    accuracy                           0.44        90\n",
            "   macro avg       0.22      0.50      0.31        90\n",
            "weighted avg       0.20      0.44      0.27        90\n",
            "\n",
            "Quantum SVM training time (PauliFeatureMap_Y, SPSA) with PCA: 101.16900992393494 seconds\n"
          ]
        },
        {
          "output_type": "stream",
          "name": "stderr",
          "text": [
            "/usr/local/lib/python3.10/dist-packages/sklearn/metrics/_classification.py:1344: UndefinedMetricWarning: Precision and F-score are ill-defined and being set to 0.0 in labels with no predicted samples. Use `zero_division` parameter to control this behavior.\n",
            "  _warn_prf(average, modifier, msg_start, len(result))\n",
            "/usr/local/lib/python3.10/dist-packages/sklearn/metrics/_classification.py:1344: UndefinedMetricWarning: Precision and F-score are ill-defined and being set to 0.0 in labels with no predicted samples. Use `zero_division` parameter to control this behavior.\n",
            "  _warn_prf(average, modifier, msg_start, len(result))\n",
            "/usr/local/lib/python3.10/dist-packages/sklearn/metrics/_classification.py:1344: UndefinedMetricWarning: Precision and F-score are ill-defined and being set to 0.0 in labels with no predicted samples. Use `zero_division` parameter to control this behavior.\n",
            "  _warn_prf(average, modifier, msg_start, len(result))\n",
            "/usr/local/lib/python3.10/dist-packages/sklearn/preprocessing/_encoders.py:868: FutureWarning: `sparse` was renamed to `sparse_output` in version 1.2 and will be removed in 1.4. `sparse_output` is ignored unless you leave `sparse` to its default value.\n",
            "  warnings.warn(\n"
          ]
        },
        {
          "output_type": "stream",
          "name": "stdout",
          "text": [
            "Performance Metrics for Quantum SVM (PauliFeatureMap_Y, COBYLA) with PCA:\n",
            "              precision    recall  f1-score   support\n",
            "\n",
            "           0       0.00      0.00      0.00        40\n",
            "           1       0.56      1.00      0.71        50\n",
            "\n",
            "    accuracy                           0.56        90\n",
            "   macro avg       0.28      0.50      0.36        90\n",
            "weighted avg       0.31      0.56      0.40        90\n",
            "\n",
            "Quantum SVM training time (PauliFeatureMap_Y, COBYLA) with PCA: 59.642303228378296 seconds\n"
          ]
        },
        {
          "output_type": "stream",
          "name": "stderr",
          "text": [
            "/usr/local/lib/python3.10/dist-packages/sklearn/metrics/_classification.py:1344: UndefinedMetricWarning: Precision and F-score are ill-defined and being set to 0.0 in labels with no predicted samples. Use `zero_division` parameter to control this behavior.\n",
            "  _warn_prf(average, modifier, msg_start, len(result))\n",
            "/usr/local/lib/python3.10/dist-packages/sklearn/metrics/_classification.py:1344: UndefinedMetricWarning: Precision and F-score are ill-defined and being set to 0.0 in labels with no predicted samples. Use `zero_division` parameter to control this behavior.\n",
            "  _warn_prf(average, modifier, msg_start, len(result))\n",
            "/usr/local/lib/python3.10/dist-packages/sklearn/metrics/_classification.py:1344: UndefinedMetricWarning: Precision and F-score are ill-defined and being set to 0.0 in labels with no predicted samples. Use `zero_division` parameter to control this behavior.\n",
            "  _warn_prf(average, modifier, msg_start, len(result))\n",
            "/usr/local/lib/python3.10/dist-packages/sklearn/preprocessing/_encoders.py:868: FutureWarning: `sparse` was renamed to `sparse_output` in version 1.2 and will be removed in 1.4. `sparse_output` is ignored unless you leave `sparse` to its default value.\n",
            "  warnings.warn(\n"
          ]
        },
        {
          "output_type": "stream",
          "name": "stdout",
          "text": [
            "Performance Metrics for Quantum SVM (PauliFeatureMap_Y, L_BFGS_B) with PCA:\n",
            "              precision    recall  f1-score   support\n",
            "\n",
            "           0       0.00      0.00      0.00        40\n",
            "           1       0.56      1.00      0.71        50\n",
            "\n",
            "    accuracy                           0.56        90\n",
            "   macro avg       0.28      0.50      0.36        90\n",
            "weighted avg       0.31      0.56      0.40        90\n",
            "\n",
            "Quantum SVM training time (PauliFeatureMap_Y, L_BFGS_B) with PCA: 87.52006196975708 seconds\n"
          ]
        },
        {
          "output_type": "stream",
          "name": "stderr",
          "text": [
            "/usr/local/lib/python3.10/dist-packages/sklearn/metrics/_classification.py:1344: UndefinedMetricWarning: Precision and F-score are ill-defined and being set to 0.0 in labels with no predicted samples. Use `zero_division` parameter to control this behavior.\n",
            "  _warn_prf(average, modifier, msg_start, len(result))\n",
            "/usr/local/lib/python3.10/dist-packages/sklearn/metrics/_classification.py:1344: UndefinedMetricWarning: Precision and F-score are ill-defined and being set to 0.0 in labels with no predicted samples. Use `zero_division` parameter to control this behavior.\n",
            "  _warn_prf(average, modifier, msg_start, len(result))\n",
            "/usr/local/lib/python3.10/dist-packages/sklearn/metrics/_classification.py:1344: UndefinedMetricWarning: Precision and F-score are ill-defined and being set to 0.0 in labels with no predicted samples. Use `zero_division` parameter to control this behavior.\n",
            "  _warn_prf(average, modifier, msg_start, len(result))\n",
            "/usr/local/lib/python3.10/dist-packages/sklearn/preprocessing/_encoders.py:868: FutureWarning: `sparse` was renamed to `sparse_output` in version 1.2 and will be removed in 1.4. `sparse_output` is ignored unless you leave `sparse` to its default value.\n",
            "  warnings.warn(\n"
          ]
        },
        {
          "output_type": "stream",
          "name": "stdout",
          "text": [
            "Performance Metrics for Quantum SVM (PauliFeatureMap_Y, SLSQP) with PCA:\n",
            "              precision    recall  f1-score   support\n",
            "\n",
            "           0       0.50      0.10      0.17        40\n",
            "           1       0.56      0.92      0.70        50\n",
            "\n",
            "    accuracy                           0.56        90\n",
            "   macro avg       0.53      0.51      0.43        90\n",
            "weighted avg       0.53      0.56      0.46        90\n",
            "\n",
            "Quantum SVM training time (PauliFeatureMap_Y, SLSQP) with PCA: 67.33607745170593 seconds\n"
          ]
        },
        {
          "output_type": "stream",
          "name": "stderr",
          "text": [
            "/usr/local/lib/python3.10/dist-packages/sklearn/preprocessing/_encoders.py:868: FutureWarning: `sparse` was renamed to `sparse_output` in version 1.2 and will be removed in 1.4. `sparse_output` is ignored unless you leave `sparse` to its default value.\n",
            "  warnings.warn(\n"
          ]
        },
        {
          "output_type": "stream",
          "name": "stdout",
          "text": [
            "Performance Metrics for Quantum SVM (PauliFeatureMap_XYZYY, SPSA) with PCA:\n",
            "              precision    recall  f1-score   support\n",
            "\n",
            "           0       0.38      0.23      0.28        40\n",
            "           1       0.53      0.70      0.60        50\n",
            "\n",
            "    accuracy                           0.49        90\n",
            "   macro avg       0.45      0.46      0.44        90\n",
            "weighted avg       0.46      0.49      0.46        90\n",
            "\n",
            "Quantum SVM training time (PauliFeatureMap_XYZYY, SPSA) with PCA: 131.07027626037598 seconds\n"
          ]
        },
        {
          "output_type": "stream",
          "name": "stderr",
          "text": [
            "/usr/local/lib/python3.10/dist-packages/sklearn/preprocessing/_encoders.py:868: FutureWarning: `sparse` was renamed to `sparse_output` in version 1.2 and will be removed in 1.4. `sparse_output` is ignored unless you leave `sparse` to its default value.\n",
            "  warnings.warn(\n"
          ]
        },
        {
          "output_type": "stream",
          "name": "stdout",
          "text": [
            "Performance Metrics for Quantum SVM (PauliFeatureMap_XYZYY, COBYLA) with PCA:\n",
            "              precision    recall  f1-score   support\n",
            "\n",
            "           0       0.50      0.25      0.33        40\n",
            "           1       0.57      0.80      0.67        50\n",
            "\n",
            "    accuracy                           0.56        90\n",
            "   macro avg       0.54      0.53      0.50        90\n",
            "weighted avg       0.54      0.56      0.52        90\n",
            "\n",
            "Quantum SVM training time (PauliFeatureMap_XYZYY, COBYLA) with PCA: 69.8808023929596 seconds\n"
          ]
        },
        {
          "output_type": "stream",
          "name": "stderr",
          "text": [
            "/usr/local/lib/python3.10/dist-packages/sklearn/preprocessing/_encoders.py:868: FutureWarning: `sparse` was renamed to `sparse_output` in version 1.2 and will be removed in 1.4. `sparse_output` is ignored unless you leave `sparse` to its default value.\n",
            "  warnings.warn(\n"
          ]
        },
        {
          "output_type": "stream",
          "name": "stdout",
          "text": [
            "Performance Metrics for Quantum SVM (PauliFeatureMap_XYZYY, L_BFGS_B) with PCA:\n",
            "              precision    recall  f1-score   support\n",
            "\n",
            "           0       0.22      0.05      0.08        40\n",
            "           1       0.53      0.86      0.66        50\n",
            "\n",
            "    accuracy                           0.50        90\n",
            "   macro avg       0.38      0.46      0.37        90\n",
            "weighted avg       0.39      0.50      0.40        90\n",
            "\n",
            "Quantum SVM training time (PauliFeatureMap_XYZYY, L_BFGS_B) with PCA: 245.54665207862854 seconds\n"
          ]
        },
        {
          "output_type": "stream",
          "name": "stderr",
          "text": [
            "/usr/local/lib/python3.10/dist-packages/sklearn/preprocessing/_encoders.py:868: FutureWarning: `sparse` was renamed to `sparse_output` in version 1.2 and will be removed in 1.4. `sparse_output` is ignored unless you leave `sparse` to its default value.\n",
            "  warnings.warn(\n"
          ]
        },
        {
          "output_type": "stream",
          "name": "stdout",
          "text": [
            "Performance Metrics for Quantum SVM (PauliFeatureMap_XYZYY, SLSQP) with PCA:\n",
            "              precision    recall  f1-score   support\n",
            "\n",
            "           0       0.43      0.33      0.37        40\n",
            "           1       0.55      0.66      0.60        50\n",
            "\n",
            "    accuracy                           0.51        90\n",
            "   macro avg       0.49      0.49      0.49        90\n",
            "weighted avg       0.50      0.51      0.50        90\n",
            "\n",
            "Quantum SVM training time (PauliFeatureMap_XYZYY, SLSQP) with PCA: 188.2168848514557 seconds\n",
            "Best Configuration with PCA: Feature Map - PauliFeatureMap_ZZ, Optimizer - SLSQP\n"
          ]
        }
      ]
    },
    {
      "cell_type": "code",
      "source": [
        "import numpy as np\n",
        "from sklearn.decomposition import PCA\n",
        "import matplotlib.pyplot as plt\n",
        "from sklearn.model_selection import train_test_split\n",
        "from sklearn.preprocessing import StandardScaler\n",
        "from sklearn.svm import SVC\n",
        "from sklearn.metrics import classification_report, accuracy_score\n",
        "from qiskit import Aer\n",
        "from qiskit.circuit.library import PauliFeatureMap\n",
        "from qiskit.circuit.library import ZZFeatureMap\n",
        "from qiskit_machine_learning.algorithms.classifiers import VQC\n",
        "from qiskit.utils import QuantumInstance\n",
        "from qiskit.algorithms.optimizers import SPSA, COBYLA, L_BFGS_B, SLSQP, ADAM\n",
        "from time import time\n",
        "\n",
        "np.random.seed(0)\n",
        "\n",
        "# Define the number of samples and features\n",
        "num_samples = 300\n",
        "num_features = 10  # You can increase this number to create a higher-dimensional dataset\n",
        "\n",
        "# Generate random data with strong correlations in the first few features\n",
        "mean = np.zeros(num_features)\n",
        "cov = np.eye(num_features)\n",
        "for i in range(5):\n",
        "    cov[i, i] = 10.0  # Increase the variance for the first 5 features to make them important\n",
        "\n",
        "data = np.random.multivariate_normal(mean, cov, num_samples)\n",
        "\n",
        "# Split the data into training and testing sets\n",
        "X_train, X_test, y_train, y_test = train_test_split(data, np.random.choice([0, 1], size=num_samples), test_size=0.3, random_state=42)\n",
        "\n",
        "# Data Preprocessing\n",
        "scaler = StandardScaler().fit(X_train)\n",
        "X_train = scaler.transform(X_train)\n",
        "X_test = scaler.transform(X_test)\n",
        "\n",
        "# Perform PCA to reduce dimensionality\n",
        "pca = PCA(n_components=2)  # You can adjust the number of components as needed\n",
        "X_train_pca = pca.fit_transform(X_train)\n",
        "X_test_pca = pca.transform(X_test)\n",
        "\n",
        "# Train Classical SVM on reduced dataset\n",
        "classical_svm_pca = SVC(kernel='rbf', C=1.0, gamma='scale')\n",
        "start = time()\n",
        "classical_svm_pca.fit(X_train_pca, y_train)\n",
        "end = time()\n",
        "classical_svm_predictions_pca = classical_svm_pca.predict(X_test_pca)\n",
        "print(\"Performance Metrics for Classical SVM with PCA:\")\n",
        "print(classification_report(y_test, classical_svm_predictions_pca))\n",
        "print(f\"Classical SVM training time with PCA: {end - start} seconds\")\n",
        "\n",
        "# Define a list of feature maps and their parameters to tune for QSVM\n",
        "feature_maps = [\n",
        "    {'name': 'ZZFeatureMap', 'feature_map': ZZFeatureMap(feature_dimension=2, reps=2, entanglement='full')},\n",
        "    {'name': 'PauliFeatureMap_XY', 'feature_map': PauliFeatureMap(feature_dimension=2, reps=2, paulis=['X', 'Y'], entanglement='full')},\n",
        "    {'name': 'PauliFeatureMap_ZZ', 'feature_map': PauliFeatureMap(feature_dimension=2, reps=2, paulis=['Z', 'ZZ'], entanglement='full')},\n",
        "    {'name': 'PauliFeatureMap_XYZ', 'feature_map': PauliFeatureMap(feature_dimension=2, reps=2, paulis=['X', 'Y', 'Z'], entanglement='full')},\n",
        "    {'name': 'PauliFeatureMap_YZ', 'feature_map': PauliFeatureMap(feature_dimension=2, reps=2, paulis=['Y', 'Z'], entanglement='full')},\n",
        "    {'name': 'PauliFeatureMap_Y', 'feature_map': PauliFeatureMap(feature_dimension=2, reps=2, paulis=['Y'], entanglement='full')},\n",
        "    {'name': 'PauliFeatureMap_XYZYY', 'feature_map': PauliFeatureMap(feature_dimension=2, reps=2, paulis=['X', 'Y', 'Z', 'YY'], entanglement='full')},\n",
        "    # Add more feature maps and their parameters to explore\n",
        "]\n",
        "\n",
        "# Define a list of optimizer parameters to tune for QSVM\n",
        "optimizers = [\n",
        "    {'name': 'SPSA', 'optimizer': SPSA(maxiter=50)},\n",
        "    {'name': 'COBYLA', 'optimizer': COBYLA(maxiter=100)},\n",
        "    {'name': 'L_BFGS_B', 'optimizer': L_BFGS_B(maxfun=100, maxiter=100)},\n",
        "    {'name': 'SLSQP', 'optimizer': SLSQP(maxiter=100)},\n",
        "    # Add more optimizers and their parameters to explore\n",
        "]\n",
        "\n",
        "\n",
        "best_score = 0\n",
        "best_params = {}\n",
        "\n",
        "for feature_map_params in feature_maps:\n",
        "    feature_map_name = feature_map_params['name']\n",
        "    feature_map = feature_map_params['feature_map']\n",
        "\n",
        "    for optimizer_params in optimizers:\n",
        "        optimizer_name = optimizer_params['name']\n",
        "        optimizer = optimizer_params['optimizer']\n",
        "\n",
        "        # Create a sampler for the AerSimulator\n",
        "        sampler = Sampler()\n",
        "\n",
        "        # Create an instance of the AerSimulator\n",
        "        simulator = AerSimulator()\n",
        "\n",
        "        # Train QSVM with the current feature map and optimizer using the sampler\n",
        "        vqc = VQC(feature_map=feature_map, ansatz=None, optimizer=optimizer, quantum_instance=simulator)\n",
        "\n",
        "        start = time()\n",
        "        vqc.fit(X_train_pca, y_train)\n",
        "        end = time()\n",
        "\n",
        "        result_quantum = vqc.predict(X_test_pca)\n",
        "        score = accuracy_score(y_test, result_quantum)\n",
        "\n",
        "        # Print performance metrics and runtime for the current configuration\n",
        "        print(f\"Performance Metrics for Quantum SVM ({feature_map_name}, {optimizer_name}) with PCA:\")\n",
        "        print(classification_report(y_test, result_quantum))\n",
        "        print(f\"Quantum SVM training time ({feature_map_name}, {optimizer_name}) with PCA: {end - start} seconds\")\n",
        "\n",
        "        # Check if the current configuration is the best\n",
        "        if score > best_score:\n",
        "            best_score = score\n",
        "            best_params = {'feature_map': feature_map_name, 'optimizer': optimizer_name}\n",
        "\n",
        "# Print the best configuration found\n",
        "print(f\"Best Configuration with PCA: Feature Map - {best_params['feature_map']}, Optimizer - {best_params['optimizer']}\")"
      ],
      "metadata": {
        "id": "SsbCXpu-2XZZ",
        "colab": {
          "base_uri": "https://localhost:8080/"
        },
        "outputId": "3f1455cc-9f9e-4c30-fb4b-a55cedaad86c"
      },
      "execution_count": 16,
      "outputs": [
        {
          "output_type": "stream",
          "name": "stdout",
          "text": [
            "Performance Metrics for Classical SVM with PCA:\n",
            "              precision    recall  f1-score   support\n",
            "\n",
            "           0       0.31      0.12      0.18        40\n",
            "           1       0.53      0.78      0.63        50\n",
            "\n",
            "    accuracy                           0.49        90\n",
            "   macro avg       0.42      0.45      0.40        90\n",
            "weighted avg       0.43      0.49      0.43        90\n",
            "\n",
            "Classical SVM training time with PCA: 0.0030121803283691406 seconds\n"
          ]
        },
        {
          "output_type": "stream",
          "name": "stderr",
          "text": [
            "/usr/local/lib/python3.10/dist-packages/sklearn/preprocessing/_encoders.py:868: FutureWarning: `sparse` was renamed to `sparse_output` in version 1.2 and will be removed in 1.4. `sparse_output` is ignored unless you leave `sparse` to its default value.\n",
            "  warnings.warn(\n"
          ]
        },
        {
          "output_type": "stream",
          "name": "stdout",
          "text": [
            "Performance Metrics for Quantum SVM (ZZFeatureMap, SPSA) with PCA:\n",
            "              precision    recall  f1-score   support\n",
            "\n",
            "           0       0.47      0.35      0.40        40\n",
            "           1       0.57      0.68      0.62        50\n",
            "\n",
            "    accuracy                           0.53        90\n",
            "   macro avg       0.52      0.52      0.51        90\n",
            "weighted avg       0.52      0.53      0.52        90\n",
            "\n",
            "Quantum SVM training time (ZZFeatureMap, SPSA) with PCA: 104.94379925727844 seconds\n"
          ]
        },
        {
          "output_type": "stream",
          "name": "stderr",
          "text": [
            "/usr/local/lib/python3.10/dist-packages/sklearn/preprocessing/_encoders.py:868: FutureWarning: `sparse` was renamed to `sparse_output` in version 1.2 and will be removed in 1.4. `sparse_output` is ignored unless you leave `sparse` to its default value.\n",
            "  warnings.warn(\n"
          ]
        },
        {
          "output_type": "stream",
          "name": "stdout",
          "text": [
            "Performance Metrics for Quantum SVM (ZZFeatureMap, COBYLA) with PCA:\n",
            "              precision    recall  f1-score   support\n",
            "\n",
            "           0       0.50      0.38      0.43        40\n",
            "           1       0.58      0.70      0.64        50\n",
            "\n",
            "    accuracy                           0.56        90\n",
            "   macro avg       0.54      0.54      0.53        90\n",
            "weighted avg       0.55      0.56      0.54        90\n",
            "\n",
            "Quantum SVM training time (ZZFeatureMap, COBYLA) with PCA: 51.52410817146301 seconds\n"
          ]
        },
        {
          "output_type": "stream",
          "name": "stderr",
          "text": [
            "/usr/local/lib/python3.10/dist-packages/sklearn/preprocessing/_encoders.py:868: FutureWarning: `sparse` was renamed to `sparse_output` in version 1.2 and will be removed in 1.4. `sparse_output` is ignored unless you leave `sparse` to its default value.\n",
            "  warnings.warn(\n"
          ]
        },
        {
          "output_type": "stream",
          "name": "stdout",
          "text": [
            "Performance Metrics for Quantum SVM (ZZFeatureMap, L_BFGS_B) with PCA:\n",
            "              precision    recall  f1-score   support\n",
            "\n",
            "           0       0.56      0.38      0.45        40\n",
            "           1       0.60      0.76      0.67        50\n",
            "\n",
            "    accuracy                           0.59        90\n",
            "   macro avg       0.58      0.57      0.56        90\n",
            "weighted avg       0.58      0.59      0.57        90\n",
            "\n",
            "Quantum SVM training time (ZZFeatureMap, L_BFGS_B) with PCA: 192.35469961166382 seconds\n"
          ]
        },
        {
          "output_type": "stream",
          "name": "stderr",
          "text": [
            "/usr/local/lib/python3.10/dist-packages/sklearn/preprocessing/_encoders.py:868: FutureWarning: `sparse` was renamed to `sparse_output` in version 1.2 and will be removed in 1.4. `sparse_output` is ignored unless you leave `sparse` to its default value.\n",
            "  warnings.warn(\n"
          ]
        },
        {
          "output_type": "stream",
          "name": "stdout",
          "text": [
            "Performance Metrics for Quantum SVM (ZZFeatureMap, SLSQP) with PCA:\n",
            "              precision    recall  f1-score   support\n",
            "\n",
            "           0       0.54      0.35      0.42        40\n",
            "           1       0.59      0.76      0.67        50\n",
            "\n",
            "    accuracy                           0.58        90\n",
            "   macro avg       0.57      0.55      0.55        90\n",
            "weighted avg       0.57      0.58      0.56        90\n",
            "\n",
            "Quantum SVM training time (ZZFeatureMap, SLSQP) with PCA: 127.62434339523315 seconds\n"
          ]
        },
        {
          "output_type": "stream",
          "name": "stderr",
          "text": [
            "/usr/local/lib/python3.10/dist-packages/sklearn/preprocessing/_encoders.py:868: FutureWarning: `sparse` was renamed to `sparse_output` in version 1.2 and will be removed in 1.4. `sparse_output` is ignored unless you leave `sparse` to its default value.\n",
            "  warnings.warn(\n"
          ]
        },
        {
          "output_type": "stream",
          "name": "stdout",
          "text": [
            "Performance Metrics for Quantum SVM (PauliFeatureMap_XY, SPSA) with PCA:\n",
            "              precision    recall  f1-score   support\n",
            "\n",
            "           0       0.49      0.45      0.47        40\n",
            "           1       0.58      0.62      0.60        50\n",
            "\n",
            "    accuracy                           0.54        90\n",
            "   macro avg       0.54      0.54      0.53        90\n",
            "weighted avg       0.54      0.54      0.54        90\n",
            "\n",
            "Quantum SVM training time (PauliFeatureMap_XY, SPSA) with PCA: 107.36078476905823 seconds\n"
          ]
        },
        {
          "output_type": "stream",
          "name": "stderr",
          "text": [
            "/usr/local/lib/python3.10/dist-packages/sklearn/preprocessing/_encoders.py:868: FutureWarning: `sparse` was renamed to `sparse_output` in version 1.2 and will be removed in 1.4. `sparse_output` is ignored unless you leave `sparse` to its default value.\n",
            "  warnings.warn(\n"
          ]
        },
        {
          "output_type": "stream",
          "name": "stdout",
          "text": [
            "Performance Metrics for Quantum SVM (PauliFeatureMap_XY, COBYLA) with PCA:\n",
            "              precision    recall  f1-score   support\n",
            "\n",
            "           0       0.55      0.45      0.49        40\n",
            "           1       0.61      0.70      0.65        50\n",
            "\n",
            "    accuracy                           0.59        90\n",
            "   macro avg       0.58      0.57      0.57        90\n",
            "weighted avg       0.58      0.59      0.58        90\n",
            "\n",
            "Quantum SVM training time (PauliFeatureMap_XY, COBYLA) with PCA: 59.16807460784912 seconds\n"
          ]
        },
        {
          "output_type": "stream",
          "name": "stderr",
          "text": [
            "/usr/local/lib/python3.10/dist-packages/sklearn/preprocessing/_encoders.py:868: FutureWarning: `sparse` was renamed to `sparse_output` in version 1.2 and will be removed in 1.4. `sparse_output` is ignored unless you leave `sparse` to its default value.\n",
            "  warnings.warn(\n"
          ]
        },
        {
          "output_type": "stream",
          "name": "stdout",
          "text": [
            "Performance Metrics for Quantum SVM (PauliFeatureMap_XY, L_BFGS_B) with PCA:\n",
            "              precision    recall  f1-score   support\n",
            "\n",
            "           0       0.52      0.38      0.43        40\n",
            "           1       0.59      0.72      0.65        50\n",
            "\n",
            "    accuracy                           0.57        90\n",
            "   macro avg       0.55      0.55      0.54        90\n",
            "weighted avg       0.56      0.57      0.55        90\n",
            "\n",
            "Quantum SVM training time (PauliFeatureMap_XY, L_BFGS_B) with PCA: 253.58844876289368 seconds\n"
          ]
        },
        {
          "output_type": "stream",
          "name": "stderr",
          "text": [
            "/usr/local/lib/python3.10/dist-packages/sklearn/preprocessing/_encoders.py:868: FutureWarning: `sparse` was renamed to `sparse_output` in version 1.2 and will be removed in 1.4. `sparse_output` is ignored unless you leave `sparse` to its default value.\n",
            "  warnings.warn(\n"
          ]
        },
        {
          "output_type": "stream",
          "name": "stdout",
          "text": [
            "Performance Metrics for Quantum SVM (PauliFeatureMap_XY, SLSQP) with PCA:\n",
            "              precision    recall  f1-score   support\n",
            "\n",
            "           0       0.45      0.35      0.39        40\n",
            "           1       0.56      0.66      0.61        50\n",
            "\n",
            "    accuracy                           0.52        90\n",
            "   macro avg       0.51      0.51      0.50        90\n",
            "weighted avg       0.51      0.52      0.51        90\n",
            "\n",
            "Quantum SVM training time (PauliFeatureMap_XY, SLSQP) with PCA: 83.57965135574341 seconds\n"
          ]
        },
        {
          "output_type": "stream",
          "name": "stderr",
          "text": [
            "/usr/local/lib/python3.10/dist-packages/sklearn/preprocessing/_encoders.py:868: FutureWarning: `sparse` was renamed to `sparse_output` in version 1.2 and will be removed in 1.4. `sparse_output` is ignored unless you leave `sparse` to its default value.\n",
            "  warnings.warn(\n"
          ]
        },
        {
          "output_type": "stream",
          "name": "stdout",
          "text": [
            "Performance Metrics for Quantum SVM (PauliFeatureMap_ZZ, SPSA) with PCA:\n",
            "              precision    recall  f1-score   support\n",
            "\n",
            "           0       0.48      0.35      0.41        40\n",
            "           1       0.57      0.70      0.63        50\n",
            "\n",
            "    accuracy                           0.54        90\n",
            "   macro avg       0.53      0.52      0.52        90\n",
            "weighted avg       0.53      0.54      0.53        90\n",
            "\n",
            "Quantum SVM training time (PauliFeatureMap_ZZ, SPSA) with PCA: 106.43484044075012 seconds\n"
          ]
        },
        {
          "output_type": "stream",
          "name": "stderr",
          "text": [
            "/usr/local/lib/python3.10/dist-packages/sklearn/preprocessing/_encoders.py:868: FutureWarning: `sparse` was renamed to `sparse_output` in version 1.2 and will be removed in 1.4. `sparse_output` is ignored unless you leave `sparse` to its default value.\n",
            "  warnings.warn(\n"
          ]
        },
        {
          "output_type": "stream",
          "name": "stdout",
          "text": [
            "Performance Metrics for Quantum SVM (PauliFeatureMap_ZZ, COBYLA) with PCA:\n",
            "              precision    recall  f1-score   support\n",
            "\n",
            "           0       0.54      0.38      0.44        40\n",
            "           1       0.60      0.74      0.66        50\n",
            "\n",
            "    accuracy                           0.58        90\n",
            "   macro avg       0.57      0.56      0.55        90\n",
            "weighted avg       0.57      0.58      0.56        90\n",
            "\n",
            "Quantum SVM training time (PauliFeatureMap_ZZ, COBYLA) with PCA: 66.80680823326111 seconds\n"
          ]
        },
        {
          "output_type": "stream",
          "name": "stderr",
          "text": [
            "/usr/local/lib/python3.10/dist-packages/sklearn/preprocessing/_encoders.py:868: FutureWarning: `sparse` was renamed to `sparse_output` in version 1.2 and will be removed in 1.4. `sparse_output` is ignored unless you leave `sparse` to its default value.\n",
            "  warnings.warn(\n"
          ]
        },
        {
          "output_type": "stream",
          "name": "stdout",
          "text": [
            "Performance Metrics for Quantum SVM (PauliFeatureMap_ZZ, L_BFGS_B) with PCA:\n",
            "              precision    recall  f1-score   support\n",
            "\n",
            "           0       0.56      0.38      0.45        40\n",
            "           1       0.60      0.76      0.67        50\n",
            "\n",
            "    accuracy                           0.59        90\n",
            "   macro avg       0.58      0.57      0.56        90\n",
            "weighted avg       0.58      0.59      0.57        90\n",
            "\n",
            "Quantum SVM training time (PauliFeatureMap_ZZ, L_BFGS_B) with PCA: 187.75346040725708 seconds\n"
          ]
        },
        {
          "output_type": "stream",
          "name": "stderr",
          "text": [
            "/usr/local/lib/python3.10/dist-packages/sklearn/preprocessing/_encoders.py:868: FutureWarning: `sparse` was renamed to `sparse_output` in version 1.2 and will be removed in 1.4. `sparse_output` is ignored unless you leave `sparse` to its default value.\n",
            "  warnings.warn(\n"
          ]
        },
        {
          "output_type": "stream",
          "name": "stdout",
          "text": [
            "Performance Metrics for Quantum SVM (PauliFeatureMap_ZZ, SLSQP) with PCA:\n",
            "              precision    recall  f1-score   support\n",
            "\n",
            "           0       0.44      0.38      0.41        40\n",
            "           1       0.55      0.62      0.58        50\n",
            "\n",
            "    accuracy                           0.51        90\n",
            "   macro avg       0.50      0.50      0.50        90\n",
            "weighted avg       0.50      0.51      0.51        90\n",
            "\n",
            "Quantum SVM training time (PauliFeatureMap_ZZ, SLSQP) with PCA: 19.13004755973816 seconds\n"
          ]
        },
        {
          "output_type": "stream",
          "name": "stderr",
          "text": [
            "/usr/local/lib/python3.10/dist-packages/sklearn/preprocessing/_encoders.py:868: FutureWarning: `sparse` was renamed to `sparse_output` in version 1.2 and will be removed in 1.4. `sparse_output` is ignored unless you leave `sparse` to its default value.\n",
            "  warnings.warn(\n"
          ]
        },
        {
          "output_type": "stream",
          "name": "stdout",
          "text": [
            "Performance Metrics for Quantum SVM (PauliFeatureMap_XYZ, SPSA) with PCA:\n",
            "              precision    recall  f1-score   support\n",
            "\n",
            "           0       0.47      0.20      0.28        40\n",
            "           1       0.56      0.82      0.67        50\n",
            "\n",
            "    accuracy                           0.54        90\n",
            "   macro avg       0.52      0.51      0.47        90\n",
            "weighted avg       0.52      0.54      0.50        90\n",
            "\n",
            "Quantum SVM training time (PauliFeatureMap_XYZ, SPSA) with PCA: 112.50037240982056 seconds\n"
          ]
        },
        {
          "output_type": "stream",
          "name": "stderr",
          "text": [
            "/usr/local/lib/python3.10/dist-packages/sklearn/preprocessing/_encoders.py:868: FutureWarning: `sparse` was renamed to `sparse_output` in version 1.2 and will be removed in 1.4. `sparse_output` is ignored unless you leave `sparse` to its default value.\n",
            "  warnings.warn(\n"
          ]
        },
        {
          "output_type": "stream",
          "name": "stdout",
          "text": [
            "Performance Metrics for Quantum SVM (PauliFeatureMap_XYZ, COBYLA) with PCA:\n",
            "              precision    recall  f1-score   support\n",
            "\n",
            "           0       0.36      0.30      0.33        40\n",
            "           1       0.51      0.58      0.54        50\n",
            "\n",
            "    accuracy                           0.46        90\n",
            "   macro avg       0.44      0.44      0.44        90\n",
            "weighted avg       0.44      0.46      0.45        90\n",
            "\n",
            "Quantum SVM training time (PauliFeatureMap_XYZ, COBYLA) with PCA: 68.73231077194214 seconds\n"
          ]
        },
        {
          "output_type": "stream",
          "name": "stderr",
          "text": [
            "/usr/local/lib/python3.10/dist-packages/sklearn/preprocessing/_encoders.py:868: FutureWarning: `sparse` was renamed to `sparse_output` in version 1.2 and will be removed in 1.4. `sparse_output` is ignored unless you leave `sparse` to its default value.\n",
            "  warnings.warn(\n"
          ]
        },
        {
          "output_type": "stream",
          "name": "stdout",
          "text": [
            "Performance Metrics for Quantum SVM (PauliFeatureMap_XYZ, L_BFGS_B) with PCA:\n",
            "              precision    recall  f1-score   support\n",
            "\n",
            "           0       0.42      0.45      0.43        40\n",
            "           1       0.53      0.50      0.52        50\n",
            "\n",
            "    accuracy                           0.48        90\n",
            "   macro avg       0.48      0.47      0.47        90\n",
            "weighted avg       0.48      0.48      0.48        90\n",
            "\n",
            "Quantum SVM training time (PauliFeatureMap_XYZ, L_BFGS_B) with PCA: 188.08235692977905 seconds\n"
          ]
        },
        {
          "output_type": "stream",
          "name": "stderr",
          "text": [
            "/usr/local/lib/python3.10/dist-packages/sklearn/preprocessing/_encoders.py:868: FutureWarning: `sparse` was renamed to `sparse_output` in version 1.2 and will be removed in 1.4. `sparse_output` is ignored unless you leave `sparse` to its default value.\n",
            "  warnings.warn(\n"
          ]
        },
        {
          "output_type": "stream",
          "name": "stdout",
          "text": [
            "Performance Metrics for Quantum SVM (PauliFeatureMap_XYZ, SLSQP) with PCA:\n",
            "              precision    recall  f1-score   support\n",
            "\n",
            "           0       0.56      0.12      0.20        40\n",
            "           1       0.57      0.92      0.70        50\n",
            "\n",
            "    accuracy                           0.57        90\n",
            "   macro avg       0.56      0.52      0.45        90\n",
            "weighted avg       0.56      0.57      0.48        90\n",
            "\n",
            "Quantum SVM training time (PauliFeatureMap_XYZ, SLSQP) with PCA: 165.15730953216553 seconds\n"
          ]
        },
        {
          "output_type": "stream",
          "name": "stderr",
          "text": [
            "/usr/local/lib/python3.10/dist-packages/sklearn/preprocessing/_encoders.py:868: FutureWarning: `sparse` was renamed to `sparse_output` in version 1.2 and will be removed in 1.4. `sparse_output` is ignored unless you leave `sparse` to its default value.\n",
            "  warnings.warn(\n"
          ]
        },
        {
          "output_type": "stream",
          "name": "stdout",
          "text": [
            "Performance Metrics for Quantum SVM (PauliFeatureMap_YZ, SPSA) with PCA:\n",
            "              precision    recall  f1-score   support\n",
            "\n",
            "           0       0.57      0.33      0.41        40\n",
            "           1       0.60      0.80      0.68        50\n",
            "\n",
            "    accuracy                           0.59        90\n",
            "   macro avg       0.58      0.56      0.55        90\n",
            "weighted avg       0.58      0.59      0.56        90\n",
            "\n",
            "Quantum SVM training time (PauliFeatureMap_YZ, SPSA) with PCA: 107.65039730072021 seconds\n"
          ]
        },
        {
          "output_type": "stream",
          "name": "stderr",
          "text": [
            "/usr/local/lib/python3.10/dist-packages/sklearn/preprocessing/_encoders.py:868: FutureWarning: `sparse` was renamed to `sparse_output` in version 1.2 and will be removed in 1.4. `sparse_output` is ignored unless you leave `sparse` to its default value.\n",
            "  warnings.warn(\n"
          ]
        },
        {
          "output_type": "stream",
          "name": "stdout",
          "text": [
            "Performance Metrics for Quantum SVM (PauliFeatureMap_YZ, COBYLA) with PCA:\n",
            "              precision    recall  f1-score   support\n",
            "\n",
            "           0       0.38      0.23      0.28        40\n",
            "           1       0.53      0.70      0.60        50\n",
            "\n",
            "    accuracy                           0.49        90\n",
            "   macro avg       0.45      0.46      0.44        90\n",
            "weighted avg       0.46      0.49      0.46        90\n",
            "\n",
            "Quantum SVM training time (PauliFeatureMap_YZ, COBYLA) with PCA: 70.20317888259888 seconds\n"
          ]
        },
        {
          "output_type": "stream",
          "name": "stderr",
          "text": [
            "/usr/local/lib/python3.10/dist-packages/sklearn/preprocessing/_encoders.py:868: FutureWarning: `sparse` was renamed to `sparse_output` in version 1.2 and will be removed in 1.4. `sparse_output` is ignored unless you leave `sparse` to its default value.\n",
            "  warnings.warn(\n"
          ]
        },
        {
          "output_type": "stream",
          "name": "stdout",
          "text": [
            "Performance Metrics for Quantum SVM (PauliFeatureMap_YZ, L_BFGS_B) with PCA:\n",
            "              precision    recall  f1-score   support\n",
            "\n",
            "           0       0.57      0.30      0.39        40\n",
            "           1       0.59      0.82      0.69        50\n",
            "\n",
            "    accuracy                           0.59        90\n",
            "   macro avg       0.58      0.56      0.54        90\n",
            "weighted avg       0.58      0.59      0.56        90\n",
            "\n",
            "Quantum SVM training time (PauliFeatureMap_YZ, L_BFGS_B) with PCA: 254.55178427696228 seconds\n"
          ]
        },
        {
          "output_type": "stream",
          "name": "stderr",
          "text": [
            "/usr/local/lib/python3.10/dist-packages/sklearn/preprocessing/_encoders.py:868: FutureWarning: `sparse` was renamed to `sparse_output` in version 1.2 and will be removed in 1.4. `sparse_output` is ignored unless you leave `sparse` to its default value.\n",
            "  warnings.warn(\n"
          ]
        },
        {
          "output_type": "stream",
          "name": "stdout",
          "text": [
            "Performance Metrics for Quantum SVM (PauliFeatureMap_YZ, SLSQP) with PCA:\n",
            "              precision    recall  f1-score   support\n",
            "\n",
            "           0       0.62      0.40      0.48        40\n",
            "           1       0.62      0.80      0.70        50\n",
            "\n",
            "    accuracy                           0.62        90\n",
            "   macro avg       0.62      0.60      0.59        90\n",
            "weighted avg       0.62      0.62      0.61        90\n",
            "\n",
            "Quantum SVM training time (PauliFeatureMap_YZ, SLSQP) with PCA: 111.77485585212708 seconds\n"
          ]
        },
        {
          "output_type": "stream",
          "name": "stderr",
          "text": [
            "/usr/local/lib/python3.10/dist-packages/sklearn/preprocessing/_encoders.py:868: FutureWarning: `sparse` was renamed to `sparse_output` in version 1.2 and will be removed in 1.4. `sparse_output` is ignored unless you leave `sparse` to its default value.\n",
            "  warnings.warn(\n"
          ]
        },
        {
          "output_type": "stream",
          "name": "stdout",
          "text": [
            "Performance Metrics for Quantum SVM (PauliFeatureMap_Y, SPSA) with PCA:\n",
            "              precision    recall  f1-score   support\n",
            "\n",
            "           0       0.00      0.00      0.00        40\n",
            "           1       0.56      1.00      0.71        50\n",
            "\n",
            "    accuracy                           0.56        90\n",
            "   macro avg       0.28      0.50      0.36        90\n",
            "weighted avg       0.31      0.56      0.40        90\n",
            "\n",
            "Quantum SVM training time (PauliFeatureMap_Y, SPSA) with PCA: 97.63376927375793 seconds\n"
          ]
        },
        {
          "output_type": "stream",
          "name": "stderr",
          "text": [
            "/usr/local/lib/python3.10/dist-packages/sklearn/metrics/_classification.py:1344: UndefinedMetricWarning: Precision and F-score are ill-defined and being set to 0.0 in labels with no predicted samples. Use `zero_division` parameter to control this behavior.\n",
            "  _warn_prf(average, modifier, msg_start, len(result))\n",
            "/usr/local/lib/python3.10/dist-packages/sklearn/metrics/_classification.py:1344: UndefinedMetricWarning: Precision and F-score are ill-defined and being set to 0.0 in labels with no predicted samples. Use `zero_division` parameter to control this behavior.\n",
            "  _warn_prf(average, modifier, msg_start, len(result))\n",
            "/usr/local/lib/python3.10/dist-packages/sklearn/metrics/_classification.py:1344: UndefinedMetricWarning: Precision and F-score are ill-defined and being set to 0.0 in labels with no predicted samples. Use `zero_division` parameter to control this behavior.\n",
            "  _warn_prf(average, modifier, msg_start, len(result))\n",
            "/usr/local/lib/python3.10/dist-packages/sklearn/preprocessing/_encoders.py:868: FutureWarning: `sparse` was renamed to `sparse_output` in version 1.2 and will be removed in 1.4. `sparse_output` is ignored unless you leave `sparse` to its default value.\n",
            "  warnings.warn(\n"
          ]
        },
        {
          "output_type": "stream",
          "name": "stdout",
          "text": [
            "Performance Metrics for Quantum SVM (PauliFeatureMap_Y, COBYLA) with PCA:\n",
            "              precision    recall  f1-score   support\n",
            "\n",
            "           0       0.00      0.00      0.00        40\n",
            "           1       0.56      1.00      0.71        50\n",
            "\n",
            "    accuracy                           0.56        90\n",
            "   macro avg       0.28      0.50      0.36        90\n",
            "weighted avg       0.31      0.56      0.40        90\n",
            "\n",
            "Quantum SVM training time (PauliFeatureMap_Y, COBYLA) with PCA: 48.79950404167175 seconds\n"
          ]
        },
        {
          "output_type": "stream",
          "name": "stderr",
          "text": [
            "/usr/local/lib/python3.10/dist-packages/sklearn/metrics/_classification.py:1344: UndefinedMetricWarning: Precision and F-score are ill-defined and being set to 0.0 in labels with no predicted samples. Use `zero_division` parameter to control this behavior.\n",
            "  _warn_prf(average, modifier, msg_start, len(result))\n",
            "/usr/local/lib/python3.10/dist-packages/sklearn/metrics/_classification.py:1344: UndefinedMetricWarning: Precision and F-score are ill-defined and being set to 0.0 in labels with no predicted samples. Use `zero_division` parameter to control this behavior.\n",
            "  _warn_prf(average, modifier, msg_start, len(result))\n",
            "/usr/local/lib/python3.10/dist-packages/sklearn/metrics/_classification.py:1344: UndefinedMetricWarning: Precision and F-score are ill-defined and being set to 0.0 in labels with no predicted samples. Use `zero_division` parameter to control this behavior.\n",
            "  _warn_prf(average, modifier, msg_start, len(result))\n",
            "/usr/local/lib/python3.10/dist-packages/sklearn/preprocessing/_encoders.py:868: FutureWarning: `sparse` was renamed to `sparse_output` in version 1.2 and will be removed in 1.4. `sparse_output` is ignored unless you leave `sparse` to its default value.\n",
            "  warnings.warn(\n"
          ]
        },
        {
          "output_type": "stream",
          "name": "stdout",
          "text": [
            "Performance Metrics for Quantum SVM (PauliFeatureMap_Y, L_BFGS_B) with PCA:\n",
            "              precision    recall  f1-score   support\n",
            "\n",
            "           0       0.00      0.00      0.00        40\n",
            "           1       0.56      1.00      0.71        50\n",
            "\n",
            "    accuracy                           0.56        90\n",
            "   macro avg       0.28      0.50      0.36        90\n",
            "weighted avg       0.31      0.56      0.40        90\n",
            "\n",
            "Quantum SVM training time (PauliFeatureMap_Y, L_BFGS_B) with PCA: 140.19460082054138 seconds\n"
          ]
        },
        {
          "output_type": "stream",
          "name": "stderr",
          "text": [
            "/usr/local/lib/python3.10/dist-packages/sklearn/metrics/_classification.py:1344: UndefinedMetricWarning: Precision and F-score are ill-defined and being set to 0.0 in labels with no predicted samples. Use `zero_division` parameter to control this behavior.\n",
            "  _warn_prf(average, modifier, msg_start, len(result))\n",
            "/usr/local/lib/python3.10/dist-packages/sklearn/metrics/_classification.py:1344: UndefinedMetricWarning: Precision and F-score are ill-defined and being set to 0.0 in labels with no predicted samples. Use `zero_division` parameter to control this behavior.\n",
            "  _warn_prf(average, modifier, msg_start, len(result))\n",
            "/usr/local/lib/python3.10/dist-packages/sklearn/metrics/_classification.py:1344: UndefinedMetricWarning: Precision and F-score are ill-defined and being set to 0.0 in labels with no predicted samples. Use `zero_division` parameter to control this behavior.\n",
            "  _warn_prf(average, modifier, msg_start, len(result))\n",
            "/usr/local/lib/python3.10/dist-packages/sklearn/preprocessing/_encoders.py:868: FutureWarning: `sparse` was renamed to `sparse_output` in version 1.2 and will be removed in 1.4. `sparse_output` is ignored unless you leave `sparse` to its default value.\n",
            "  warnings.warn(\n"
          ]
        },
        {
          "output_type": "stream",
          "name": "stdout",
          "text": [
            "Performance Metrics for Quantum SVM (PauliFeatureMap_Y, SLSQP) with PCA:\n",
            "              precision    recall  f1-score   support\n",
            "\n",
            "           0       0.00      0.00      0.00        40\n",
            "           1       0.56      1.00      0.71        50\n",
            "\n",
            "    accuracy                           0.56        90\n",
            "   macro avg       0.28      0.50      0.36        90\n",
            "weighted avg       0.31      0.56      0.40        90\n",
            "\n",
            "Quantum SVM training time (PauliFeatureMap_Y, SLSQP) with PCA: 46.261871576309204 seconds\n"
          ]
        },
        {
          "output_type": "stream",
          "name": "stderr",
          "text": [
            "/usr/local/lib/python3.10/dist-packages/sklearn/metrics/_classification.py:1344: UndefinedMetricWarning: Precision and F-score are ill-defined and being set to 0.0 in labels with no predicted samples. Use `zero_division` parameter to control this behavior.\n",
            "  _warn_prf(average, modifier, msg_start, len(result))\n",
            "/usr/local/lib/python3.10/dist-packages/sklearn/metrics/_classification.py:1344: UndefinedMetricWarning: Precision and F-score are ill-defined and being set to 0.0 in labels with no predicted samples. Use `zero_division` parameter to control this behavior.\n",
            "  _warn_prf(average, modifier, msg_start, len(result))\n",
            "/usr/local/lib/python3.10/dist-packages/sklearn/metrics/_classification.py:1344: UndefinedMetricWarning: Precision and F-score are ill-defined and being set to 0.0 in labels with no predicted samples. Use `zero_division` parameter to control this behavior.\n",
            "  _warn_prf(average, modifier, msg_start, len(result))\n",
            "/usr/local/lib/python3.10/dist-packages/sklearn/preprocessing/_encoders.py:868: FutureWarning: `sparse` was renamed to `sparse_output` in version 1.2 and will be removed in 1.4. `sparse_output` is ignored unless you leave `sparse` to its default value.\n",
            "  warnings.warn(\n"
          ]
        },
        {
          "output_type": "stream",
          "name": "stdout",
          "text": [
            "Performance Metrics for Quantum SVM (PauliFeatureMap_XYZYY, SPSA) with PCA:\n",
            "              precision    recall  f1-score   support\n",
            "\n",
            "           0       0.41      0.23      0.29        40\n",
            "           1       0.54      0.74      0.63        50\n",
            "\n",
            "    accuracy                           0.51        90\n",
            "   macro avg       0.48      0.48      0.46        90\n",
            "weighted avg       0.48      0.51      0.48        90\n",
            "\n",
            "Quantum SVM training time (PauliFeatureMap_XYZYY, SPSA) with PCA: 131.5057668685913 seconds\n"
          ]
        },
        {
          "output_type": "stream",
          "name": "stderr",
          "text": [
            "/usr/local/lib/python3.10/dist-packages/sklearn/preprocessing/_encoders.py:868: FutureWarning: `sparse` was renamed to `sparse_output` in version 1.2 and will be removed in 1.4. `sparse_output` is ignored unless you leave `sparse` to its default value.\n",
            "  warnings.warn(\n"
          ]
        },
        {
          "output_type": "stream",
          "name": "stdout",
          "text": [
            "Performance Metrics for Quantum SVM (PauliFeatureMap_XYZYY, COBYLA) with PCA:\n",
            "              precision    recall  f1-score   support\n",
            "\n",
            "           0       0.37      0.17      0.24        40\n",
            "           1       0.54      0.76      0.63        50\n",
            "\n",
            "    accuracy                           0.50        90\n",
            "   macro avg       0.45      0.47      0.43        90\n",
            "weighted avg       0.46      0.50      0.45        90\n",
            "\n",
            "Quantum SVM training time (PauliFeatureMap_XYZYY, COBYLA) with PCA: 87.49781632423401 seconds\n"
          ]
        },
        {
          "output_type": "stream",
          "name": "stderr",
          "text": [
            "/usr/local/lib/python3.10/dist-packages/sklearn/preprocessing/_encoders.py:868: FutureWarning: `sparse` was renamed to `sparse_output` in version 1.2 and will be removed in 1.4. `sparse_output` is ignored unless you leave `sparse` to its default value.\n",
            "  warnings.warn(\n"
          ]
        },
        {
          "output_type": "stream",
          "name": "stdout",
          "text": [
            "Performance Metrics for Quantum SVM (PauliFeatureMap_XYZYY, L_BFGS_B) with PCA:\n",
            "              precision    recall  f1-score   support\n",
            "\n",
            "           0       0.38      0.23      0.28        40\n",
            "           1       0.53      0.70      0.60        50\n",
            "\n",
            "    accuracy                           0.49        90\n",
            "   macro avg       0.45      0.46      0.44        90\n",
            "weighted avg       0.46      0.49      0.46        90\n",
            "\n",
            "Quantum SVM training time (PauliFeatureMap_XYZYY, L_BFGS_B) with PCA: 440.58370780944824 seconds\n"
          ]
        },
        {
          "output_type": "stream",
          "name": "stderr",
          "text": [
            "/usr/local/lib/python3.10/dist-packages/sklearn/preprocessing/_encoders.py:868: FutureWarning: `sparse` was renamed to `sparse_output` in version 1.2 and will be removed in 1.4. `sparse_output` is ignored unless you leave `sparse` to its default value.\n",
            "  warnings.warn(\n"
          ]
        },
        {
          "output_type": "stream",
          "name": "stdout",
          "text": [
            "Performance Metrics for Quantum SVM (PauliFeatureMap_XYZYY, SLSQP) with PCA:\n",
            "              precision    recall  f1-score   support\n",
            "\n",
            "           0       0.36      0.20      0.26        40\n",
            "           1       0.53      0.72      0.61        50\n",
            "\n",
            "    accuracy                           0.49        90\n",
            "   macro avg       0.45      0.46      0.43        90\n",
            "weighted avg       0.46      0.49      0.45        90\n",
            "\n",
            "Quantum SVM training time (PauliFeatureMap_XYZYY, SLSQP) with PCA: 294.2910511493683 seconds\n",
            "Best Configuration with PCA: Feature Map - PauliFeatureMap_YZ, Optimizer - SLSQP\n"
          ]
        }
      ]
    }
  ]
}